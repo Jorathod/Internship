{
 "cells": [
  {
   "cell_type": "code",
   "execution_count": 90,
   "id": "874a0463-db58-41c6-a759-fc5795f2a437",
   "metadata": {},
   "outputs": [],
   "source": [
    "import selenium\n",
    "import pandas as pd\n",
    "from selenium import webdriver\n",
    "import warnings\n",
    "warnings.filterwarnings('ignore')\n",
    "from selenium.webdriver.common.by import By\n",
    "import time"
   ]
  },
  {
   "cell_type": "code",
   "execution_count": 209,
   "id": "af39e58e-9494-4f74-b3e4-6e8ace662025",
   "metadata": {},
   "outputs": [],
   "source": [
    "driver=webdriver.Chrome()"
   ]
  },
  {
   "cell_type": "code",
   "execution_count": 210,
   "id": "1715fce2-ac97-4206-a0df-4bfe412ced4c",
   "metadata": {},
   "outputs": [],
   "source": [
    "# opening naukri page on automated chrome browser\n",
    "driver.get(\"https://www.naukri.com/\")\n"
   ]
  },
  {
   "cell_type": "code",
   "execution_count": 211,
   "id": "fbf847b5-04ed-4d80-8a21-3a65ac2e6415",
   "metadata": {},
   "outputs": [],
   "source": [
    "gotit=driver.find_element(By.XPATH,'/html/body/div/div[6]/div/span')\n",
    "gotit.click()"
   ]
  },
  {
   "cell_type": "code",
   "execution_count": 215,
   "id": "d6aaba1b-2fca-4717-8d75-744996e7fe51",
   "metadata": {},
   "outputs": [],
   "source": [
    "product=driver.find_element(By.CLASS_NAME,\"suggestor-input \")\n",
    "product.send_keys(\"Data Scientist\")"
   ]
  },
  {
   "cell_type": "code",
   "execution_count": 216,
   "id": "1aa76d65-eec8-49c4-9ef2-207e63aec8d0",
   "metadata": {},
   "outputs": [],
   "source": [
    "psearch=driver.find_element(By.CLASS_NAME,\"qsbSubmit\")\n",
    "psearch.click()"
   ]
  },
  {
   "cell_type": "code",
   "execution_count": 214,
   "id": "4c3b7a43-d411-4caa-a7a5-6ceb2b0f5d0d",
   "metadata": {},
   "outputs": [
    {
     "ename": "NoSuchElementException",
     "evalue": "Message: no such element: Unable to locate element: {\"method\":\"xpath\",\"selector\":\"/html/body/div/div/main/div[1]/div[1]/div/div/div[2]/div[5]/div[2]/div[3]/label/p/span[1]\"}\n  (Session info: chrome=125.0.6422.142); For documentation on this error, please visit: https://www.selenium.dev/documentation/webdriver/troubleshooting/errors#no-such-element-exception\nStacktrace:\n\tGetHandleVerifier [0x00007FF6AC981F52+60322]\n\t(No symbol) [0x00007FF6AC8FCEC9]\n\t(No symbol) [0x00007FF6AC7B7EBA]\n\t(No symbol) [0x00007FF6AC807676]\n\t(No symbol) [0x00007FF6AC80773C]\n\t(No symbol) [0x00007FF6AC84E967]\n\t(No symbol) [0x00007FF6AC82C25F]\n\t(No symbol) [0x00007FF6AC84BC80]\n\t(No symbol) [0x00007FF6AC82BFC3]\n\t(No symbol) [0x00007FF6AC7F9617]\n\t(No symbol) [0x00007FF6AC7FA211]\n\tGetHandleVerifier [0x00007FF6ACC994AD+3301629]\n\tGetHandleVerifier [0x00007FF6ACCE36D3+3605283]\n\tGetHandleVerifier [0x00007FF6ACCD9450+3563680]\n\tGetHandleVerifier [0x00007FF6ACA34326+790390]\n\t(No symbol) [0x00007FF6AC90750F]\n\t(No symbol) [0x00007FF6AC903404]\n\t(No symbol) [0x00007FF6AC903592]\n\t(No symbol) [0x00007FF6AC8F2F9F]\n\tBaseThreadInitThunk [0x00007FFB98E7257D+29]\n\tRtlUserThreadStart [0x00007FFB999AAA48+40]\n",
     "output_type": "error",
     "traceback": [
      "\u001b[1;31m---------------------------------------------------------------------------\u001b[0m",
      "\u001b[1;31mNoSuchElementException\u001b[0m                    Traceback (most recent call last)",
      "Cell \u001b[1;32mIn[214], line 1\u001b[0m\n\u001b[1;32m----> 1\u001b[0m loc\u001b[38;5;241m=\u001b[39m\u001b[43mdriver\u001b[49m\u001b[38;5;241;43m.\u001b[39;49m\u001b[43mfind_element\u001b[49m\u001b[43m(\u001b[49m\u001b[43mBy\u001b[49m\u001b[38;5;241;43m.\u001b[39;49m\u001b[43mXPATH\u001b[49m\u001b[43m,\u001b[49m\u001b[38;5;124;43m\"\u001b[39;49m\u001b[38;5;124;43m/html/body/div/div/main/div[1]/div[1]/div/div/div[2]/div[5]/div[2]/div[3]/label/p/span[1]\u001b[39;49m\u001b[38;5;124;43m\"\u001b[39;49m\u001b[43m)\u001b[49m\n\u001b[0;32m      2\u001b[0m loc\u001b[38;5;241m.\u001b[39mclick()\n",
      "File \u001b[1;32m~\\AppData\\Local\\Programs\\Python\\Python312\\Lib\\site-packages\\selenium\\webdriver\\remote\\webdriver.py:741\u001b[0m, in \u001b[0;36mWebDriver.find_element\u001b[1;34m(self, by, value)\u001b[0m\n\u001b[0;32m    738\u001b[0m     by \u001b[38;5;241m=\u001b[39m By\u001b[38;5;241m.\u001b[39mCSS_SELECTOR\n\u001b[0;32m    739\u001b[0m     value \u001b[38;5;241m=\u001b[39m \u001b[38;5;124mf\u001b[39m\u001b[38;5;124m'\u001b[39m\u001b[38;5;124m[name=\u001b[39m\u001b[38;5;124m\"\u001b[39m\u001b[38;5;132;01m{\u001b[39;00mvalue\u001b[38;5;132;01m}\u001b[39;00m\u001b[38;5;124m\"\u001b[39m\u001b[38;5;124m]\u001b[39m\u001b[38;5;124m'\u001b[39m\n\u001b[1;32m--> 741\u001b[0m \u001b[38;5;28;01mreturn\u001b[39;00m \u001b[38;5;28;43mself\u001b[39;49m\u001b[38;5;241;43m.\u001b[39;49m\u001b[43mexecute\u001b[49m\u001b[43m(\u001b[49m\u001b[43mCommand\u001b[49m\u001b[38;5;241;43m.\u001b[39;49m\u001b[43mFIND_ELEMENT\u001b[49m\u001b[43m,\u001b[49m\u001b[43m \u001b[49m\u001b[43m{\u001b[49m\u001b[38;5;124;43m\"\u001b[39;49m\u001b[38;5;124;43musing\u001b[39;49m\u001b[38;5;124;43m\"\u001b[39;49m\u001b[43m:\u001b[49m\u001b[43m \u001b[49m\u001b[43mby\u001b[49m\u001b[43m,\u001b[49m\u001b[43m \u001b[49m\u001b[38;5;124;43m\"\u001b[39;49m\u001b[38;5;124;43mvalue\u001b[39;49m\u001b[38;5;124;43m\"\u001b[39;49m\u001b[43m:\u001b[49m\u001b[43m \u001b[49m\u001b[43mvalue\u001b[49m\u001b[43m}\u001b[49m\u001b[43m)\u001b[49m[\u001b[38;5;124m\"\u001b[39m\u001b[38;5;124mvalue\u001b[39m\u001b[38;5;124m\"\u001b[39m]\n",
      "File \u001b[1;32m~\\AppData\\Local\\Programs\\Python\\Python312\\Lib\\site-packages\\selenium\\webdriver\\remote\\webdriver.py:347\u001b[0m, in \u001b[0;36mWebDriver.execute\u001b[1;34m(self, driver_command, params)\u001b[0m\n\u001b[0;32m    345\u001b[0m response \u001b[38;5;241m=\u001b[39m \u001b[38;5;28mself\u001b[39m\u001b[38;5;241m.\u001b[39mcommand_executor\u001b[38;5;241m.\u001b[39mexecute(driver_command, params)\n\u001b[0;32m    346\u001b[0m \u001b[38;5;28;01mif\u001b[39;00m response:\n\u001b[1;32m--> 347\u001b[0m     \u001b[38;5;28;43mself\u001b[39;49m\u001b[38;5;241;43m.\u001b[39;49m\u001b[43merror_handler\u001b[49m\u001b[38;5;241;43m.\u001b[39;49m\u001b[43mcheck_response\u001b[49m\u001b[43m(\u001b[49m\u001b[43mresponse\u001b[49m\u001b[43m)\u001b[49m\n\u001b[0;32m    348\u001b[0m     response[\u001b[38;5;124m\"\u001b[39m\u001b[38;5;124mvalue\u001b[39m\u001b[38;5;124m\"\u001b[39m] \u001b[38;5;241m=\u001b[39m \u001b[38;5;28mself\u001b[39m\u001b[38;5;241m.\u001b[39m_unwrap_value(response\u001b[38;5;241m.\u001b[39mget(\u001b[38;5;124m\"\u001b[39m\u001b[38;5;124mvalue\u001b[39m\u001b[38;5;124m\"\u001b[39m, \u001b[38;5;28;01mNone\u001b[39;00m))\n\u001b[0;32m    349\u001b[0m     \u001b[38;5;28;01mreturn\u001b[39;00m response\n",
      "File \u001b[1;32m~\\AppData\\Local\\Programs\\Python\\Python312\\Lib\\site-packages\\selenium\\webdriver\\remote\\errorhandler.py:229\u001b[0m, in \u001b[0;36mErrorHandler.check_response\u001b[1;34m(self, response)\u001b[0m\n\u001b[0;32m    227\u001b[0m         alert_text \u001b[38;5;241m=\u001b[39m value[\u001b[38;5;124m\"\u001b[39m\u001b[38;5;124malert\u001b[39m\u001b[38;5;124m\"\u001b[39m]\u001b[38;5;241m.\u001b[39mget(\u001b[38;5;124m\"\u001b[39m\u001b[38;5;124mtext\u001b[39m\u001b[38;5;124m\"\u001b[39m)\n\u001b[0;32m    228\u001b[0m     \u001b[38;5;28;01mraise\u001b[39;00m exception_class(message, screen, stacktrace, alert_text)  \u001b[38;5;66;03m# type: ignore[call-arg]  # mypy is not smart enough here\u001b[39;00m\n\u001b[1;32m--> 229\u001b[0m \u001b[38;5;28;01mraise\u001b[39;00m exception_class(message, screen, stacktrace)\n",
      "\u001b[1;31mNoSuchElementException\u001b[0m: Message: no such element: Unable to locate element: {\"method\":\"xpath\",\"selector\":\"/html/body/div/div/main/div[1]/div[1]/div/div/div[2]/div[5]/div[2]/div[3]/label/p/span[1]\"}\n  (Session info: chrome=125.0.6422.142); For documentation on this error, please visit: https://www.selenium.dev/documentation/webdriver/troubleshooting/errors#no-such-element-exception\nStacktrace:\n\tGetHandleVerifier [0x00007FF6AC981F52+60322]\n\t(No symbol) [0x00007FF6AC8FCEC9]\n\t(No symbol) [0x00007FF6AC7B7EBA]\n\t(No symbol) [0x00007FF6AC807676]\n\t(No symbol) [0x00007FF6AC80773C]\n\t(No symbol) [0x00007FF6AC84E967]\n\t(No symbol) [0x00007FF6AC82C25F]\n\t(No symbol) [0x00007FF6AC84BC80]\n\t(No symbol) [0x00007FF6AC82BFC3]\n\t(No symbol) [0x00007FF6AC7F9617]\n\t(No symbol) [0x00007FF6AC7FA211]\n\tGetHandleVerifier [0x00007FF6ACC994AD+3301629]\n\tGetHandleVerifier [0x00007FF6ACCE36D3+3605283]\n\tGetHandleVerifier [0x00007FF6ACCD9450+3563680]\n\tGetHandleVerifier [0x00007FF6ACA34326+790390]\n\t(No symbol) [0x00007FF6AC90750F]\n\t(No symbol) [0x00007FF6AC903404]\n\t(No symbol) [0x00007FF6AC903592]\n\t(No symbol) [0x00007FF6AC8F2F9F]\n\tBaseThreadInitThunk [0x00007FFB98E7257D+29]\n\tRtlUserThreadStart [0x00007FFB999AAA48+40]\n"
     ]
    }
   ],
   "source": [
    "loc=driver.find_element(By.XPATH,\"/html/body/div/div/main/div[1]/div[1]/div/div/div[2]/div[5]/div[2]/div[3]/label/p/span[1]\")\n",
    "loc.click()"
   ]
  },
  {
   "cell_type": "code",
   "execution_count": 17,
   "id": "826d9b6c-b57d-49ce-8bdd-042982c365f0",
   "metadata": {},
   "outputs": [],
   "source": [
    "salary=driver.find_element(By.XPATH,\"/html/body/div/div/main/div[1]/div[1]/div/div/div[2]/div[6]/div[2]/div[2]/label/p/span[1]\")\n",
    "salary.click()"
   ]
  },
  {
   "cell_type": "code",
   "execution_count": 22,
   "id": "000294de-f7b1-4c77-aa0f-10d4098a5f68",
   "metadata": {},
   "outputs": [],
   "source": [
    "job_titles=[]\n",
    "job_locations=[]\n",
    "company_names=[]\n",
    "experience_req=[]\n",
    "title_tags=driver.find_elements(By.XPATH,'//div[@class=\"cust-job-tuple layout-wrapper lay-2 sjw__tuple \"]/div/a')\n",
    "for i in title_tags[0:10]:\n",
    "    title=i.text\n",
    "    job_titles.append(title)\n",
    "location_tags=driver.find_elements(By.XPATH,'//div[@class=\"job-details \"]/span[3]')\n",
    "for i in location_tags[0:10]:\n",
    "    location=i.text\n",
    "    job_locations.append(location)\n",
    "#scraping company's name from the page\n",
    "company_tags=driver.find_elements(By.XPATH,'//span[@class=\" comp-dtls-wrap\"]/a[1]')\n",
    "for i in company_tags[0:10]:\n",
    "    company=i.text\n",
    "    company_names.append(company)\n",
    "    \n",
    "#scraping experienced required from the page\n",
    "experience_tags=driver.find_elements(By.XPATH,'//span[@class=\"expwdth\"]')\n",
    "for i in experience_tags[0:10]:\n",
    "    experience=i.text\n",
    "    experience_req.append(experience)"
   ]
  },
  {
   "cell_type": "code",
   "execution_count": 23,
   "id": "80e13a96-cddd-43ea-aef2-be38edddbac1",
   "metadata": {},
   "outputs": [
    {
     "name": "stdout",
     "output_type": "stream",
     "text": [
      "10 10 10 10\n"
     ]
    }
   ],
   "source": [
    "print(len(job_titles),len(job_locations),len(company_names),len(experience_req))"
   ]
  },
  {
   "cell_type": "code",
   "execution_count": 27,
   "id": "ade2a6a5-36ee-403e-a446-7c0ab31a22ec",
   "metadata": {},
   "outputs": [
    {
     "name": "stdout",
     "output_type": "stream",
     "text": [
      "['Kolkata, Mumbai, New Delhi, Hyderabad, Pune, Chennai, Bengaluru', 'Noida', 'Mumbai, Gurugram', 'Gurugram', 'Noida', 'Kolkata, Mumbai, New Delhi, Hyderabad, Pune, Chennai, Bengaluru', 'Kolkata, Mumbai, New Delhi, Hyderabad, Pune, Chennai, Bengaluru', 'Kolkata, Mumbai, New Delhi, Hyderabad, Pune, Chennai, Bengaluru', 'Kolkata, Mumbai, New Delhi, Hyderabad, Pune, Chennai, Bengaluru', 'Kolkata, Mumbai, New Delhi, Hyderabad, Pune, Chennai, Bengaluru']\n"
     ]
    }
   ],
   "source": [
    "print( job_locations)"
   ]
  },
  {
   "cell_type": "code",
   "execution_count": 28,
   "id": "f5ecec35-5eec-42fe-a87a-cd253981fa3d",
   "metadata": {},
   "outputs": [
    {
     "data": {
      "text/html": [
       "<div>\n",
       "<style scoped>\n",
       "    .dataframe tbody tr th:only-of-type {\n",
       "        vertical-align: middle;\n",
       "    }\n",
       "\n",
       "    .dataframe tbody tr th {\n",
       "        vertical-align: top;\n",
       "    }\n",
       "\n",
       "    .dataframe thead th {\n",
       "        text-align: right;\n",
       "    }\n",
       "</style>\n",
       "<table border=\"1\" class=\"dataframe\">\n",
       "  <thead>\n",
       "    <tr style=\"text-align: right;\">\n",
       "      <th></th>\n",
       "      <th>Titles</th>\n",
       "      <th>Location</th>\n",
       "      <th>Company_name</th>\n",
       "      <th>Experience</th>\n",
       "    </tr>\n",
       "  </thead>\n",
       "  <tbody>\n",
       "    <tr>\n",
       "      <th>0</th>\n",
       "      <td>Data Scientist</td>\n",
       "      <td>Kolkata, Mumbai, New Delhi, Hyderabad, Pune, C...</td>\n",
       "      <td>Essenware</td>\n",
       "      <td>2-5 Yrs</td>\n",
       "    </tr>\n",
       "    <tr>\n",
       "      <th>1</th>\n",
       "      <td>Data Scientist</td>\n",
       "      <td>Noida</td>\n",
       "      <td>Ericsson</td>\n",
       "      <td>3-7 Yrs</td>\n",
       "    </tr>\n",
       "    <tr>\n",
       "      <th>2</th>\n",
       "      <td>Data Scientist (Credit Risk)</td>\n",
       "      <td>Mumbai, Gurugram</td>\n",
       "      <td>PayU</td>\n",
       "      <td>2-6 Yrs</td>\n",
       "    </tr>\n",
       "    <tr>\n",
       "      <th>3</th>\n",
       "      <td>Associate Data Scientist</td>\n",
       "      <td>Gurugram</td>\n",
       "      <td>Orange Business Services</td>\n",
       "      <td>1-5 Yrs</td>\n",
       "    </tr>\n",
       "    <tr>\n",
       "      <th>4</th>\n",
       "      <td>Data Scientist - NLP, Gen AI</td>\n",
       "      <td>Noida</td>\n",
       "      <td>R Systems International</td>\n",
       "      <td>5-8 Yrs</td>\n",
       "    </tr>\n",
       "    <tr>\n",
       "      <th>5</th>\n",
       "      <td>Python Data Scientist</td>\n",
       "      <td>Kolkata, Mumbai, New Delhi, Hyderabad, Pune, C...</td>\n",
       "      <td>Wizaltia Hr Solutions</td>\n",
       "      <td>2-7 Yrs</td>\n",
       "    </tr>\n",
       "    <tr>\n",
       "      <th>6</th>\n",
       "      <td>Data Scientist</td>\n",
       "      <td>Kolkata, Mumbai, New Delhi, Hyderabad, Pune, C...</td>\n",
       "      <td>Scienaptic Systems</td>\n",
       "      <td>2-7 Yrs</td>\n",
       "    </tr>\n",
       "    <tr>\n",
       "      <th>7</th>\n",
       "      <td>Data Scientist</td>\n",
       "      <td>Kolkata, Mumbai, New Delhi, Hyderabad, Pune, C...</td>\n",
       "      <td>Newwave Technologies</td>\n",
       "      <td>1-3 Yrs</td>\n",
       "    </tr>\n",
       "    <tr>\n",
       "      <th>8</th>\n",
       "      <td>Data Scientist</td>\n",
       "      <td>Kolkata, Mumbai, New Delhi, Hyderabad, Pune, C...</td>\n",
       "      <td>Digital Glyde</td>\n",
       "      <td>3-7 Yrs</td>\n",
       "    </tr>\n",
       "    <tr>\n",
       "      <th>9</th>\n",
       "      <td>Lead Data Scientist</td>\n",
       "      <td>Kolkata, Mumbai, New Delhi, Hyderabad, Pune, C...</td>\n",
       "      <td>Elitefit.ai</td>\n",
       "      <td>3-7 Yrs</td>\n",
       "    </tr>\n",
       "  </tbody>\n",
       "</table>\n",
       "</div>"
      ],
      "text/plain": [
       "                         Titles  \\\n",
       "0                Data Scientist   \n",
       "1                Data Scientist   \n",
       "2  Data Scientist (Credit Risk)   \n",
       "3      Associate Data Scientist   \n",
       "4  Data Scientist - NLP, Gen AI   \n",
       "5         Python Data Scientist   \n",
       "6                Data Scientist   \n",
       "7                Data Scientist   \n",
       "8                Data Scientist   \n",
       "9           Lead Data Scientist   \n",
       "\n",
       "                                            Location  \\\n",
       "0  Kolkata, Mumbai, New Delhi, Hyderabad, Pune, C...   \n",
       "1                                              Noida   \n",
       "2                                   Mumbai, Gurugram   \n",
       "3                                           Gurugram   \n",
       "4                                              Noida   \n",
       "5  Kolkata, Mumbai, New Delhi, Hyderabad, Pune, C...   \n",
       "6  Kolkata, Mumbai, New Delhi, Hyderabad, Pune, C...   \n",
       "7  Kolkata, Mumbai, New Delhi, Hyderabad, Pune, C...   \n",
       "8  Kolkata, Mumbai, New Delhi, Hyderabad, Pune, C...   \n",
       "9  Kolkata, Mumbai, New Delhi, Hyderabad, Pune, C...   \n",
       "\n",
       "               Company_name Experience  \n",
       "0                 Essenware    2-5 Yrs  \n",
       "1                  Ericsson    3-7 Yrs  \n",
       "2                      PayU    2-6 Yrs  \n",
       "3  Orange Business Services    1-5 Yrs  \n",
       "4   R Systems International    5-8 Yrs  \n",
       "5     Wizaltia Hr Solutions    2-7 Yrs  \n",
       "6        Scienaptic Systems    2-7 Yrs  \n",
       "7      Newwave Technologies    1-3 Yrs  \n",
       "8             Digital Glyde    3-7 Yrs  \n",
       "9               Elitefit.ai    3-7 Yrs  "
      ]
     },
     "execution_count": 28,
     "metadata": {},
     "output_type": "execute_result"
    }
   ],
   "source": [
    "import pandas as pd\n",
    "df=pd.DataFrame({'Titles':job_titles,'Location':job_locations,'Company_name':company_names,'Experience':experience_req})\n",
    "df"
   ]
  },
  {
   "cell_type": "code",
   "execution_count": null,
   "id": "3612eb48-d689-4543-b3bc-81fc14073d60",
   "metadata": {},
   "outputs": [],
   "source": []
  },
  {
   "cell_type": "code",
   "execution_count": 173,
   "id": "fd1f572a-55d9-4299-9129-bb1ab6429c6e",
   "metadata": {},
   "outputs": [],
   "source": [
    "driver=webdriver.Chrome()"
   ]
  },
  {
   "cell_type": "code",
   "execution_count": 174,
   "id": "36ee50b7-2778-427c-8ffa-0976cce67a0d",
   "metadata": {},
   "outputs": [],
   "source": [
    "# opening shine page on automated chrome browser\n",
    "driver.get(\"https://www.shine.com/\")"
   ]
  },
  {
   "cell_type": "code",
   "execution_count": 177,
   "id": "4922392f-c08f-4685-9622-62cf4181c8f5",
   "metadata": {},
   "outputs": [],
   "source": [
    "# entering designation and location as required in the question.\n",
    "designation=driver.find_element(By.CLASS_NAME,\"input\")\n",
    "designation.send_keys('Data Analyst')\n"
   ]
  },
  {
   "cell_type": "code",
   "execution_count": 179,
   "id": "6b406346-017a-4286-be36-3bb88fd4e6e0",
   "metadata": {},
   "outputs": [],
   "source": [
    "allow=driver.find_element(By.XPATH,\"/html/body/div/div[3]/div/div/button\")\n",
    "allow.click()"
   ]
  },
  {
   "cell_type": "code",
   "execution_count": 180,
   "id": "e882fbc6-bdc1-4d1a-9686-e6de7ce5577d",
   "metadata": {},
   "outputs": [],
   "source": [
    "search=driver.find_element(By.XPATH,\"/html/body/div/header/div[3]/div/div/div[1]/div/span/i\")\n",
    "search.click()"
   ]
  },
  {
   "cell_type": "code",
   "execution_count": 181,
   "id": "94ef3966-6160-489c-b822-901fc6516794",
   "metadata": {},
   "outputs": [],
   "source": [
    "gotit=driver.find_element(By.XPATH,\"/html/body/div/div[5]/button\")\n",
    "gotit.click()"
   ]
  },
  {
   "cell_type": "code",
   "execution_count": 189,
   "id": "fd1d1db2-cb33-4e06-9f46-7161539e6e36",
   "metadata": {},
   "outputs": [],
   "source": [
    "designation=driver.find_element(By.XPATH,'/html/body/div/div[4]/div/div[2]/div[2]/div/form/div/div[1]/ul/li[1]/div/input')\n",
    "designation.send_keys('Data Analyst')"
   ]
  },
  {
   "cell_type": "code",
   "execution_count": 182,
   "id": "13174114-db33-4c62-b3e8-2ef91b82ff72",
   "metadata": {},
   "outputs": [],
   "source": [
    "location=driver.find_element(By.XPATH,\"/html/body/div/div[4]/div/div[2]/div[2]/div/form/div/div[1]/ul/li[2]/div/input\")\n",
    "location.send_keys('Bangalore')"
   ]
  },
  {
   "cell_type": "code",
   "execution_count": 190,
   "id": "9e0ae820-7914-431d-adb0-59a446330baa",
   "metadata": {},
   "outputs": [],
   "source": [
    "search=driver.find_element(By.XPATH,\"/html/body/div/div[4]/div/div[2]/div[2]/div/form/div/div[2]/div/button\")\n",
    "search.click()"
   ]
  },
  {
   "cell_type": "code",
   "execution_count": 191,
   "id": "9cf1d707-691b-48dc-bee3-087b664c4ff3",
   "metadata": {},
   "outputs": [],
   "source": [
    "job_title=[]\n",
    "job_location=[]\n",
    "company_name=[]\n",
    "experience_required=[]"
   ]
  },
  {
   "cell_type": "code",
   "execution_count": 206,
   "id": "758541ef-cb96-4602-b7f9-45a4bb4584e1",
   "metadata": {},
   "outputs": [],
   "source": [
    "job_titles=[]\n",
    "job_locations=[]\n",
    "company_names=[]\n",
    "experience_req=[]\n",
    "title_tags=driver.find_elements(By.XPATH,'//strong[@class=\"jobCard_pReplaceH2__xWmHg\"]/h2/a')\n",
    "for i in title_tags[0:10]:\n",
    "    title=i.text\n",
    "    job_titles.append(title)\n",
    "location_tags=driver.find_elements(By.XPATH,'//div[@class=\"jobCard_jobCard_lists_item__YxRkV jobCard_locationIcon__zrWt2\"]')\n",
    "for i in location_tags[0:10]:\n",
    "    location=i.text\n",
    "    job_locations.append(location)\n",
    "#scraping company's name from the page\n",
    "company_tags=driver.find_elements(By.XPATH,'//div[@ class=\"jobCard_jobCard_cName__mYnow\"]/span')\n",
    "for i in company_tags[0:10]:\n",
    "    company=i.text\n",
    "    company_names.append(company)\n",
    "    \n",
    "#scraping experienced required from the page\n",
    "experience_tags=driver.find_elements(By.XPATH,'//div[@class=\" jobCard_jobCard_lists_item__YxRkV jobCard_jobIcon__3FB1t\"]')\n",
    "for i in experience_tags[0:10]:\n",
    "    experience=i.text\n",
    "    experience_req.append(experience)\n"
   ]
  },
  {
   "cell_type": "code",
   "execution_count": 207,
   "id": "92b5f53e-5208-4324-8cf0-cdbc180bad66",
   "metadata": {},
   "outputs": [
    {
     "name": "stdout",
     "output_type": "stream",
     "text": [
      "10 10 10 10\n",
      "['Data Analyst , Senior Data Analyst , Data Analyst - Tec ...', 'Data Analyst', 'Data Analyst', 'Clinical Data Analyst', 'Clinical Data Analyst', 'Data Analyst', 'Data Analyst', 'Lead Data Analyst', 'Clinical Data Analyst', 'Data Analyst'] ['Bangalore\\n+8', 'Bangalore', 'Bangalore', 'Bangalore\\n+6', 'Bangalore\\n+6', 'Bangalore', 'Bangalore\\n+18', 'Bangalore\\n+8', 'Bangalore\\n+6', 'Bangalore'] ['0 to 4 Yrs', '3 to 8 Yrs', '2 to 7 Yrs', '0 to 1 Yr', '0 to 1 Yr', '5 to 10 Yrs', '9 to 14 Yrs', '5 to 9 Yrs', '0 to 1 Yr', '2 to 4 Yrs']\n"
     ]
    }
   ],
   "source": [
    "print(len(job_titles),len(job_locations),len(company_names),len(experience_req))\n",
    "print(job_titles,job_locations,experience_req)"
   ]
  },
  {
   "cell_type": "code",
   "execution_count": 208,
   "id": "baf3e003-066a-444f-8f33-c0fb0502be76",
   "metadata": {},
   "outputs": [
    {
     "data": {
      "text/html": [
       "<div>\n",
       "<style scoped>\n",
       "    .dataframe tbody tr th:only-of-type {\n",
       "        vertical-align: middle;\n",
       "    }\n",
       "\n",
       "    .dataframe tbody tr th {\n",
       "        vertical-align: top;\n",
       "    }\n",
       "\n",
       "    .dataframe thead th {\n",
       "        text-align: right;\n",
       "    }\n",
       "</style>\n",
       "<table border=\"1\" class=\"dataframe\">\n",
       "  <thead>\n",
       "    <tr style=\"text-align: right;\">\n",
       "      <th></th>\n",
       "      <th>Titles</th>\n",
       "      <th>Location</th>\n",
       "      <th>Company_name</th>\n",
       "      <th>Experience</th>\n",
       "    </tr>\n",
       "  </thead>\n",
       "  <tbody>\n",
       "    <tr>\n",
       "      <th>0</th>\n",
       "      <td>Data Analyst , Senior Data Analyst , Data Anal...</td>\n",
       "      <td>Bangalore\\n+8</td>\n",
       "      <td>appsoft solutions</td>\n",
       "      <td>0 to 4 Yrs</td>\n",
       "    </tr>\n",
       "    <tr>\n",
       "      <th>1</th>\n",
       "      <td>Data Analyst</td>\n",
       "      <td>Bangalore</td>\n",
       "      <td>phoenix global re settlement servic...</td>\n",
       "      <td>3 to 8 Yrs</td>\n",
       "    </tr>\n",
       "    <tr>\n",
       "      <th>2</th>\n",
       "      <td>Data Analyst</td>\n",
       "      <td>Bangalore</td>\n",
       "      <td>subhadra jobs consultancy hiring fo...</td>\n",
       "      <td>2 to 7 Yrs</td>\n",
       "    </tr>\n",
       "    <tr>\n",
       "      <th>3</th>\n",
       "      <td>Clinical Data Analyst</td>\n",
       "      <td>Bangalore\\n+6</td>\n",
       "      <td>techno endura</td>\n",
       "      <td>0 to 1 Yr</td>\n",
       "    </tr>\n",
       "    <tr>\n",
       "      <th>4</th>\n",
       "      <td>Clinical Data Analyst</td>\n",
       "      <td>Bangalore\\n+6</td>\n",
       "      <td>techno endura</td>\n",
       "      <td>0 to 1 Yr</td>\n",
       "    </tr>\n",
       "    <tr>\n",
       "      <th>5</th>\n",
       "      <td>Data Analyst</td>\n",
       "      <td>Bangalore</td>\n",
       "      <td>ltimindtree limited</td>\n",
       "      <td>5 to 10 Yrs</td>\n",
       "    </tr>\n",
       "    <tr>\n",
       "      <th>6</th>\n",
       "      <td>Data Analyst</td>\n",
       "      <td>Bangalore\\n+18</td>\n",
       "      <td>neo impex stainless private limited</td>\n",
       "      <td>9 to 14 Yrs</td>\n",
       "    </tr>\n",
       "    <tr>\n",
       "      <th>7</th>\n",
       "      <td>Lead Data Analyst</td>\n",
       "      <td>Bangalore\\n+8</td>\n",
       "      <td>mackenzie modern it solutions priva...</td>\n",
       "      <td>5 to 9 Yrs</td>\n",
       "    </tr>\n",
       "    <tr>\n",
       "      <th>8</th>\n",
       "      <td>Clinical Data Analyst</td>\n",
       "      <td>Bangalore\\n+6</td>\n",
       "      <td>techno endura</td>\n",
       "      <td>0 to 1 Yr</td>\n",
       "    </tr>\n",
       "    <tr>\n",
       "      <th>9</th>\n",
       "      <td>Data Analyst</td>\n",
       "      <td>Bangalore</td>\n",
       "      <td>vision india services private limit...</td>\n",
       "      <td>2 to 4 Yrs</td>\n",
       "    </tr>\n",
       "  </tbody>\n",
       "</table>\n",
       "</div>"
      ],
      "text/plain": [
       "                                              Titles        Location  \\\n",
       "0  Data Analyst , Senior Data Analyst , Data Anal...   Bangalore\\n+8   \n",
       "1                                       Data Analyst       Bangalore   \n",
       "2                                       Data Analyst       Bangalore   \n",
       "3                              Clinical Data Analyst   Bangalore\\n+6   \n",
       "4                              Clinical Data Analyst   Bangalore\\n+6   \n",
       "5                                       Data Analyst       Bangalore   \n",
       "6                                       Data Analyst  Bangalore\\n+18   \n",
       "7                                  Lead Data Analyst   Bangalore\\n+8   \n",
       "8                              Clinical Data Analyst   Bangalore\\n+6   \n",
       "9                                       Data Analyst       Bangalore   \n",
       "\n",
       "                             Company_name   Experience  \n",
       "0                       appsoft solutions   0 to 4 Yrs  \n",
       "1  phoenix global re settlement servic...   3 to 8 Yrs  \n",
       "2  subhadra jobs consultancy hiring fo...   2 to 7 Yrs  \n",
       "3                           techno endura    0 to 1 Yr  \n",
       "4                           techno endura    0 to 1 Yr  \n",
       "5                     ltimindtree limited  5 to 10 Yrs  \n",
       "6     neo impex stainless private limited  9 to 14 Yrs  \n",
       "7  mackenzie modern it solutions priva...   5 to 9 Yrs  \n",
       "8                           techno endura    0 to 1 Yr  \n",
       "9  vision india services private limit...   2 to 4 Yrs  "
      ]
     },
     "execution_count": 208,
     "metadata": {},
     "output_type": "execute_result"
    }
   ],
   "source": [
    "import pandas as pd\n",
    "df=pd.DataFrame({'Titles':job_titles,'Location':job_locations,'Company_name':company_names,'Experience':experience_req})\n",
    "df"
   ]
  },
  {
   "cell_type": "code",
   "execution_count": 269,
   "id": "4de0c559-4980-449d-accd-3867a550b1da",
   "metadata": {},
   "outputs": [],
   "source": [
    "driver=webdriver.Chrome()"
   ]
  },
  {
   "cell_type": "code",
   "execution_count": 270,
   "id": "e7df3aeb-b797-4d23-a2e1-9ac1e61ac54a",
   "metadata": {},
   "outputs": [],
   "source": [
    "# opening flipkart page on automated chrome browser\n",
    "driver.get(\"https://www.flipkart.com/\")"
   ]
  },
  {
   "cell_type": "code",
   "execution_count": 271,
   "id": "e6f3593d-8c89-4bb8-bae6-8edeb8aa4193",
   "metadata": {},
   "outputs": [],
   "source": [
    "# entering product as required in the question.\n",
    "products=driver.find_element(By.XPATH,'/html/body/div[1]/div/div[1]/div/div/div/div/div[1]/div/div[1]/div/div[1]/div[1]/header/div[1]/div[2]/form/div/div/input')\n",
    "products.send_keys('Sneakers')"
   ]
  },
  {
   "cell_type": "code",
   "execution_count": 272,
   "id": "8223079c-aeb4-4f73-aaf1-01431791db0b",
   "metadata": {},
   "outputs": [],
   "source": [
    "search=driver.find_element(By.XPATH,'/html/body/div[1]/div/div[1]/div/div/div/div/div[1]/div/div[1]/div/div[1]/div[1]/header/div[1]/div[2]/form/div/button')\n",
    "search.click()"
   ]
  },
  {
   "cell_type": "code",
   "execution_count": 273,
   "id": "cef14ed1-45e0-41d4-98e2-c599be265675",
   "metadata": {},
   "outputs": [],
   "source": [
    "brand=[]\n",
    "product_desc=[]\n",
    "price=[]"
   ]
  },
  {
   "cell_type": "code",
   "execution_count": 274,
   "id": "621ac4aa-4b09-4485-b862-00a0b2f4ef7e",
   "metadata": {},
   "outputs": [
    {
     "name": "stdout",
     "output_type": "stream",
     "text": [
      "120\n"
     ]
    }
   ],
   "source": [
    "\n",
    "start=0\n",
    "end=3\n",
    "for page in range(start,end):\n",
    "    brand_tags=driver.find_elements(By.XPATH,'//div[@class=\"syl9yP\"]')\n",
    "    for i in brand_tags:\n",
    "        brands=i.text\n",
    "        brand.append(brands)\n",
    "next_button=driver.find_element(By.CLASS_NAME,\"_9QVEpD\")\n",
    "next_button.click()\n",
    "time.sleep(3)\n",
    "print(len(brand))"
   ]
  },
  {
   "cell_type": "code",
   "execution_count": 275,
   "id": "7a7ea22c-825f-4974-89e1-dd99f634a2f6",
   "metadata": {},
   "outputs": [
    {
     "name": "stdout",
     "output_type": "stream",
     "text": [
      "120\n"
     ]
    }
   ],
   "source": [
    "\n",
    "start=0\n",
    "end=3\n",
    "for page in range(start,end):\n",
    "    desc_tags=driver.find_elements(By.XPATH,'//div[@class=\"hCKiGj\"]/a[1]')\n",
    "    for i in  desc_tags:\n",
    "        desc=i.text\n",
    "        product_desc.append(desc)\n",
    "next_button=driver.find_element(By.CLASS_NAME,\"_9QVEpD\")\n",
    "next_button.click()\n",
    "time.sleep(3)\n",
    "print(len(product_desc))"
   ]
  },
  {
   "cell_type": "code",
   "execution_count": 276,
   "id": "e2f5c5a9-0a02-4473-a389-c289d2658946",
   "metadata": {},
   "outputs": [
    {
     "name": "stdout",
     "output_type": "stream",
     "text": [
      "120\n"
     ]
    }
   ],
   "source": [
    "\n",
    "start=0\n",
    "end=3\n",
    "for page in range(start,end):\n",
    "    price_tags=driver.find_elements(By.XPATH,'//div[@class=\"Nx9bqj\"]')\n",
    "    for i in price_tags:\n",
    "        prices=i.text\n",
    "        price.append(prices)\n",
    "next_button=driver.find_element(By.CLASS_NAME,\"_9QVEpD\")\n",
    "next_button.click()\n",
    "time.sleep(3)\n",
    "print(len(price))"
   ]
  },
  {
   "cell_type": "code",
   "execution_count": 277,
   "id": "5805fa00-c8f0-4ed6-9698-945365c2ea66",
   "metadata": {},
   "outputs": [
    {
     "data": {
      "text/html": [
       "<div>\n",
       "<style scoped>\n",
       "    .dataframe tbody tr th:only-of-type {\n",
       "        vertical-align: middle;\n",
       "    }\n",
       "\n",
       "    .dataframe tbody tr th {\n",
       "        vertical-align: top;\n",
       "    }\n",
       "\n",
       "    .dataframe thead th {\n",
       "        text-align: right;\n",
       "    }\n",
       "</style>\n",
       "<table border=\"1\" class=\"dataframe\">\n",
       "  <thead>\n",
       "    <tr style=\"text-align: right;\">\n",
       "      <th></th>\n",
       "      <th>Brand</th>\n",
       "      <th>Description</th>\n",
       "      <th>Price</th>\n",
       "    </tr>\n",
       "  </thead>\n",
       "  <tbody>\n",
       "    <tr>\n",
       "      <th>0</th>\n",
       "      <td>Ego by NS</td>\n",
       "      <td>Sneakers For Men</td>\n",
       "      <td>₹297</td>\n",
       "    </tr>\n",
       "    <tr>\n",
       "      <th>1</th>\n",
       "      <td>BRUTON</td>\n",
       "      <td>Combo Pack Of 2 Casual Shoes Sneakers For Men</td>\n",
       "      <td>₹608</td>\n",
       "    </tr>\n",
       "    <tr>\n",
       "      <th>2</th>\n",
       "      <td>URBANBOX</td>\n",
       "      <td>Trending Stylish Casual Outdoor Shoes Sneakers...</td>\n",
       "      <td>₹299</td>\n",
       "    </tr>\n",
       "    <tr>\n",
       "      <th>3</th>\n",
       "      <td>Red Tape</td>\n",
       "      <td>Casual Sneaker Shoes For Men | Stylish and Com...</td>\n",
       "      <td>₹1,119</td>\n",
       "    </tr>\n",
       "    <tr>\n",
       "      <th>4</th>\n",
       "      <td>Red Tape</td>\n",
       "      <td>Casual Sneakers Shoes for Men | Soft Cushioned...</td>\n",
       "      <td>₹1,179</td>\n",
       "    </tr>\n",
       "    <tr>\n",
       "      <th>...</th>\n",
       "      <td>...</td>\n",
       "      <td>...</td>\n",
       "      <td>...</td>\n",
       "    </tr>\n",
       "    <tr>\n",
       "      <th>115</th>\n",
       "      <td>Spykar</td>\n",
       "      <td>Men Black Solid Casual Lightweight Sneakers Fo...</td>\n",
       "      <td>₹899</td>\n",
       "    </tr>\n",
       "    <tr>\n",
       "      <th>116</th>\n",
       "      <td>BRUTON</td>\n",
       "      <td>Combo Pack Of 2 Casual Shoes Sneakers For Men</td>\n",
       "      <td>₹608</td>\n",
       "    </tr>\n",
       "    <tr>\n",
       "      <th>117</th>\n",
       "      <td>Robbie jones</td>\n",
       "      <td>Casual Canvas High Top Boots For Boys Sneakers...</td>\n",
       "      <td>₹449</td>\n",
       "    </tr>\n",
       "    <tr>\n",
       "      <th>118</th>\n",
       "      <td>ATOM</td>\n",
       "      <td>Sneakers For Women</td>\n",
       "      <td>₹399</td>\n",
       "    </tr>\n",
       "    <tr>\n",
       "      <th>119</th>\n",
       "      <td>Red Tape</td>\n",
       "      <td>Phantom Sneakers For Men</td>\n",
       "      <td>₹999</td>\n",
       "    </tr>\n",
       "  </tbody>\n",
       "</table>\n",
       "<p>120 rows × 3 columns</p>\n",
       "</div>"
      ],
      "text/plain": [
       "            Brand                                        Description   Price\n",
       "0       Ego by NS                                   Sneakers For Men    ₹297\n",
       "1          BRUTON      Combo Pack Of 2 Casual Shoes Sneakers For Men    ₹608\n",
       "2        URBANBOX  Trending Stylish Casual Outdoor Shoes Sneakers...    ₹299\n",
       "3        Red Tape  Casual Sneaker Shoes For Men | Stylish and Com...  ₹1,119\n",
       "4        Red Tape  Casual Sneakers Shoes for Men | Soft Cushioned...  ₹1,179\n",
       "..            ...                                                ...     ...\n",
       "115        Spykar  Men Black Solid Casual Lightweight Sneakers Fo...    ₹899\n",
       "116        BRUTON      Combo Pack Of 2 Casual Shoes Sneakers For Men    ₹608\n",
       "117  Robbie jones  Casual Canvas High Top Boots For Boys Sneakers...    ₹449\n",
       "118          ATOM                                 Sneakers For Women    ₹399\n",
       "119      Red Tape                           Phantom Sneakers For Men    ₹999\n",
       "\n",
       "[120 rows x 3 columns]"
      ]
     },
     "execution_count": 277,
     "metadata": {},
     "output_type": "execute_result"
    }
   ],
   "source": [
    "import pandas as pd\n",
    "df=pd.DataFrame({'Brand':brand,'Description':product_desc,'Price':price})\n",
    "df"
   ]
  },
  {
   "cell_type": "code",
   "execution_count": null,
   "id": "d2ac4c15-55b9-49d1-a321-297a446da54e",
   "metadata": {},
   "outputs": [],
   "source": []
  },
  {
   "cell_type": "code",
   "execution_count": 26,
   "id": "9c223054-1f27-4470-8468-abd38d89fb15",
   "metadata": {},
   "outputs": [],
   "source": [
    "driver=webdriver.Chrome()"
   ]
  },
  {
   "cell_type": "code",
   "execution_count": 27,
   "id": "a80804c6-260a-49ff-a6f9-8dc9b77ceed8",
   "metadata": {},
   "outputs": [],
   "source": [
    "# opening flipkart page on automated chrome browser\n",
    "driver.get(\"https://www.flipkart.com/apple-iphone-11-black-64-gb/product-reviews/itm4e5041ba101fd?pid=MOBFWQ6BXGJCEYNY&lid=LSTMOBFWQ6BXGJCEYNYZXSHRJ&marketplace=FLIPKART\")"
   ]
  },
  {
   "cell_type": "code",
   "execution_count": 28,
   "id": "6e851743-a600-41fe-bc96-46f3d852edbb",
   "metadata": {},
   "outputs": [],
   "source": [
    "ratings=[]\n",
    "review_summary=[]\n",
    "full_review=[]"
   ]
  },
  {
   "cell_type": "code",
   "execution_count": 29,
   "id": "d1308531-40fb-4c87-a33a-01ff2a64254c",
   "metadata": {},
   "outputs": [
    {
     "name": "stdout",
     "output_type": "stream",
     "text": [
      "100\n"
     ]
    }
   ],
   "source": [
    "star=0\n",
    "end=10\n",
    "for page in range (star,end):\n",
    "    rating_tags=driver.find_elements(By.XPATH,'//div[@class=\"XQDdHH Ga3i8K\"]')\n",
    "    for i in rating_tags:\n",
    "        rating=i.text\n",
    "        ratings.append(rating)\n",
    "print(len(ratings))"
   ]
  },
  {
   "cell_type": "code",
   "execution_count": 30,
   "id": "a9463196-5ec6-41db-8acc-ae136a402bc7",
   "metadata": {},
   "outputs": [
    {
     "name": "stdout",
     "output_type": "stream",
     "text": [
      "100\n"
     ]
    }
   ],
   "source": [
    "star=0\n",
    "end=10\n",
    "for page in range (star,end):\n",
    "    review_tags=driver.find_elements(By.XPATH,'//p[@class=\"z9E0IG\"]')\n",
    "    for i in review_tags:\n",
    "        review=i.text\n",
    "        review_summary.append(review)\n",
    "print(len(review_summary))"
   ]
  },
  {
   "cell_type": "code",
   "execution_count": 31,
   "id": "4530e8ed-eaa5-4098-939b-3f75089b0d1f",
   "metadata": {},
   "outputs": [
    {
     "name": "stdout",
     "output_type": "stream",
     "text": [
      "100\n"
     ]
    }
   ],
   "source": [
    "star=0\n",
    "end=10\n",
    "for page in range (star,end):\n",
    "    reviews_tags=driver.find_elements(By.XPATH,'//p[@class=\"z9E0IG\"]')\n",
    "    for i in reviews_tags:\n",
    "        reviews=i.text\n",
    "        full_review.append(reviews)\n",
    "print(len(full_review))"
   ]
  },
  {
   "cell_type": "code",
   "execution_count": 32,
   "id": "561d5928-cfdb-4f25-8ca1-e27f1333a02e",
   "metadata": {},
   "outputs": [
    {
     "data": {
      "text/html": [
       "<div>\n",
       "<style scoped>\n",
       "    .dataframe tbody tr th:only-of-type {\n",
       "        vertical-align: middle;\n",
       "    }\n",
       "\n",
       "    .dataframe tbody tr th {\n",
       "        vertical-align: top;\n",
       "    }\n",
       "\n",
       "    .dataframe thead th {\n",
       "        text-align: right;\n",
       "    }\n",
       "</style>\n",
       "<table border=\"1\" class=\"dataframe\">\n",
       "  <thead>\n",
       "    <tr style=\"text-align: right;\">\n",
       "      <th></th>\n",
       "      <th>RATINGS</th>\n",
       "      <th>REVIEW_SUMMARY</th>\n",
       "      <th>FULL_REVIEW</th>\n",
       "    </tr>\n",
       "  </thead>\n",
       "  <tbody>\n",
       "    <tr>\n",
       "      <th>0</th>\n",
       "      <td>5</td>\n",
       "      <td>Perfect product!</td>\n",
       "      <td>Perfect product!</td>\n",
       "    </tr>\n",
       "    <tr>\n",
       "      <th>1</th>\n",
       "      <td>5</td>\n",
       "      <td>Best in the market!</td>\n",
       "      <td>Best in the market!</td>\n",
       "    </tr>\n",
       "    <tr>\n",
       "      <th>2</th>\n",
       "      <td>5</td>\n",
       "      <td>Classy product</td>\n",
       "      <td>Classy product</td>\n",
       "    </tr>\n",
       "    <tr>\n",
       "      <th>3</th>\n",
       "      <td>5</td>\n",
       "      <td>Terrific purchase</td>\n",
       "      <td>Terrific purchase</td>\n",
       "    </tr>\n",
       "    <tr>\n",
       "      <th>4</th>\n",
       "      <td>5</td>\n",
       "      <td>Worth every penny</td>\n",
       "      <td>Worth every penny</td>\n",
       "    </tr>\n",
       "    <tr>\n",
       "      <th>...</th>\n",
       "      <td>...</td>\n",
       "      <td>...</td>\n",
       "      <td>...</td>\n",
       "    </tr>\n",
       "    <tr>\n",
       "      <th>95</th>\n",
       "      <td>5</td>\n",
       "      <td>Just wow!</td>\n",
       "      <td>Just wow!</td>\n",
       "    </tr>\n",
       "    <tr>\n",
       "      <th>96</th>\n",
       "      <td>5</td>\n",
       "      <td>Terrific</td>\n",
       "      <td>Terrific</td>\n",
       "    </tr>\n",
       "    <tr>\n",
       "      <th>97</th>\n",
       "      <td>5</td>\n",
       "      <td>Wonderful</td>\n",
       "      <td>Wonderful</td>\n",
       "    </tr>\n",
       "    <tr>\n",
       "      <th>98</th>\n",
       "      <td>5</td>\n",
       "      <td>Must buy!</td>\n",
       "      <td>Must buy!</td>\n",
       "    </tr>\n",
       "    <tr>\n",
       "      <th>99</th>\n",
       "      <td>5</td>\n",
       "      <td>Fabulous!</td>\n",
       "      <td>Fabulous!</td>\n",
       "    </tr>\n",
       "  </tbody>\n",
       "</table>\n",
       "<p>100 rows × 3 columns</p>\n",
       "</div>"
      ],
      "text/plain": [
       "   RATINGS       REVIEW_SUMMARY          FULL_REVIEW\n",
       "0        5     Perfect product!     Perfect product!\n",
       "1        5  Best in the market!  Best in the market!\n",
       "2        5       Classy product       Classy product\n",
       "3        5    Terrific purchase    Terrific purchase\n",
       "4        5    Worth every penny    Worth every penny\n",
       "..     ...                  ...                  ...\n",
       "95       5            Just wow!            Just wow!\n",
       "96       5             Terrific             Terrific\n",
       "97       5            Wonderful            Wonderful\n",
       "98       5            Must buy!            Must buy!\n",
       "99       5            Fabulous!            Fabulous!\n",
       "\n",
       "[100 rows x 3 columns]"
      ]
     },
     "execution_count": 32,
     "metadata": {},
     "output_type": "execute_result"
    }
   ],
   "source": [
    "df=pd.DataFrame({'RATINGS':ratings,'REVIEW_SUMMARY':review_summary,'FULL_REVIEW':full_review})\n",
    "df"
   ]
  },
  {
   "cell_type": "code",
   "execution_count": 137,
   "id": "9949c4a7-1505-4693-b01a-2f579b5ead4a",
   "metadata": {},
   "outputs": [],
   "source": [
    "driver=webdriver.Chrome()"
   ]
  },
  {
   "cell_type": "code",
   "execution_count": 138,
   "id": "83f60249-6f97-4161-b9d2-f2b318c30e5c",
   "metadata": {},
   "outputs": [],
   "source": [
    "# opening amazon page on automated chrome browser\n",
    "driver.get(\"https://www.amazon.in/\")"
   ]
  },
  {
   "cell_type": "code",
   "execution_count": 139,
   "id": "5ed0f8fb-4487-42aa-bc55-722b74c20511",
   "metadata": {},
   "outputs": [],
   "source": [
    "products=driver.find_element(By.XPATH,'/html/body/div[1]/header/div/div[1]/div[2]/div/form/div[2]/div[1]/input')\n",
    "products.send_keys('Laptop')"
   ]
  },
  {
   "cell_type": "code",
   "execution_count": 140,
   "id": "31451d60-f9ae-4429-9c66-5ed6005dc15f",
   "metadata": {},
   "outputs": [],
   "source": [
    "search=driver.find_element(By.XPATH,'/html/body/div[1]/header/div/div[1]/div[2]/div/form/div[3]/div/span/input')\n",
    "search.click()"
   ]
  },
  {
   "cell_type": "code",
   "execution_count": 144,
   "id": "a0c6e230-c0b3-4fed-aa7a-ccd2d6d5cec5",
   "metadata": {},
   "outputs": [],
   "source": [
    "cpu=driver.find_element(By.XPATH,'/html/body/div[1]/div[1]/div[1]/div[2]/div/div[3]/span/div[1]/div/div/div[6]/ul[18]/span/span[11]/li/span/a/div/label/i')\n",
    "cpu.click()"
   ]
  },
  {
   "cell_type": "code",
   "execution_count": 145,
   "id": "3c262383-4c69-4149-98ea-544b181120a8",
   "metadata": {},
   "outputs": [],
   "source": [
    "intel_title=[]\n",
    "intel_rating=[]\n",
    "intel_price=[]"
   ]
  },
  {
   "cell_type": "code",
   "execution_count": 146,
   "id": "e05c96e2-361b-450e-844a-a44ecbfdce14",
   "metadata": {},
   "outputs": [
    {
     "name": "stdout",
     "output_type": "stream",
     "text": [
      "10\n"
     ]
    }
   ],
   "source": [
    "intel_title_tags=driver.find_elements(By.XPATH,'//span[@class=\"a-size-medium a-color-base a-text-normal\"]')\n",
    "for i in intel_title_tags[0:10]:\n",
    "    title=i.text\n",
    "    intel_title.append(title)\n",
    "print(len(intel_title))"
   ]
  },
  {
   "cell_type": "code",
   "execution_count": 147,
   "id": "5c1b593a-8104-4281-a9e9-cb225f852cf6",
   "metadata": {},
   "outputs": [
    {
     "name": "stdout",
     "output_type": "stream",
     "text": [
      "10\n"
     ]
    }
   ],
   "source": [
    "intel_ratings_tags=driver.find_elements(By.XPATH,'//div[@class=\"a-row a-size-small\"]')\n",
    "for i in intel_ratings_tags[0:10]:\n",
    "    ratings=i.text\n",
    "    intel_rating.append(ratings)\n",
    "print(len(intel_rating))"
   ]
  },
  {
   "cell_type": "code",
   "execution_count": 148,
   "id": "fe7710ec-f0e9-4df9-a8fe-1457cfec7d98",
   "metadata": {},
   "outputs": [
    {
     "name": "stdout",
     "output_type": "stream",
     "text": [
      "10\n"
     ]
    }
   ],
   "source": [
    "intel_price_tags=driver.find_elements(By.XPATH,'//span[@class=\"a-price\"]')\n",
    "for i in intel_price_tags[0:10]:\n",
    "    price=i.text\n",
    "    intel_price.append(price)\n",
    "print(len(intel_price))"
   ]
  },
  {
   "cell_type": "code",
   "execution_count": 149,
   "id": "a6978732-e108-40f1-aedb-3d76e85dcd3e",
   "metadata": {},
   "outputs": [
    {
     "data": {
      "text/html": [
       "<div>\n",
       "<style scoped>\n",
       "    .dataframe tbody tr th:only-of-type {\n",
       "        vertical-align: middle;\n",
       "    }\n",
       "\n",
       "    .dataframe tbody tr th {\n",
       "        vertical-align: top;\n",
       "    }\n",
       "\n",
       "    .dataframe thead th {\n",
       "        text-align: right;\n",
       "    }\n",
       "</style>\n",
       "<table border=\"1\" class=\"dataframe\">\n",
       "  <thead>\n",
       "    <tr style=\"text-align: right;\">\n",
       "      <th></th>\n",
       "      <th>Title</th>\n",
       "      <th>Ratings</th>\n",
       "      <th>Price</th>\n",
       "    </tr>\n",
       "  </thead>\n",
       "  <tbody>\n",
       "    <tr>\n",
       "      <th>0</th>\n",
       "      <td>Acer Aspire Lite 12th Gen Intel Core i7-1255U ...</td>\n",
       "      <td>403</td>\n",
       "      <td>₹52,999</td>\n",
       "    </tr>\n",
       "    <tr>\n",
       "      <th>1</th>\n",
       "      <td>HP Pavilion 14 12th Gen Intel Core i7 16GB SDR...</td>\n",
       "      <td>705</td>\n",
       "      <td>₹78,990</td>\n",
       "    </tr>\n",
       "    <tr>\n",
       "      <th>2</th>\n",
       "      <td>Lenovo IdeaPad Slim 3 Intel Core i7 12th Gen 1...</td>\n",
       "      <td>507</td>\n",
       "      <td>₹62,933</td>\n",
       "    </tr>\n",
       "    <tr>\n",
       "      <th>3</th>\n",
       "      <td>MSI Modern 14, Intel 12th Gen. i7-1255U, 36CM ...</td>\n",
       "      <td>121</td>\n",
       "      <td>₹49,780</td>\n",
       "    </tr>\n",
       "    <tr>\n",
       "      <th>4</th>\n",
       "      <td>Dell Inspiron 3530 Laptop, 13th Generation Int...</td>\n",
       "      <td>10</td>\n",
       "      <td>₹70,890</td>\n",
       "    </tr>\n",
       "    <tr>\n",
       "      <th>5</th>\n",
       "      <td>HP Laptop 15s, 12th Gen Intel Core i7-1255U, 1...</td>\n",
       "      <td>62</td>\n",
       "      <td>₹64,490</td>\n",
       "    </tr>\n",
       "    <tr>\n",
       "      <th>6</th>\n",
       "      <td>ASUS [Smartchoice] Vivobook 15, Intel Core i7-...</td>\n",
       "      <td>259</td>\n",
       "      <td>₹61,990</td>\n",
       "    </tr>\n",
       "    <tr>\n",
       "      <th>7</th>\n",
       "      <td>Samsung Galaxy Book3 Core i7 13th Gen 1355U - ...</td>\n",
       "      <td>114</td>\n",
       "      <td>₹70,990</td>\n",
       "    </tr>\n",
       "    <tr>\n",
       "      <th>8</th>\n",
       "      <td>Lenovo IdeaPad Slim 5 Intel Core i7 13700H 16\"...</td>\n",
       "      <td>20</td>\n",
       "      <td>₹86,190</td>\n",
       "    </tr>\n",
       "    <tr>\n",
       "      <th>9</th>\n",
       "      <td>Dell Latitude 7480 14in FHD Laptop PC - Intel ...</td>\n",
       "      <td>668</td>\n",
       "      <td>₹27,990</td>\n",
       "    </tr>\n",
       "  </tbody>\n",
       "</table>\n",
       "</div>"
      ],
      "text/plain": [
       "                                               Title Ratings    Price\n",
       "0  Acer Aspire Lite 12th Gen Intel Core i7-1255U ...     403  ₹52,999\n",
       "1  HP Pavilion 14 12th Gen Intel Core i7 16GB SDR...     705  ₹78,990\n",
       "2  Lenovo IdeaPad Slim 3 Intel Core i7 12th Gen 1...     507  ₹62,933\n",
       "3  MSI Modern 14, Intel 12th Gen. i7-1255U, 36CM ...     121  ₹49,780\n",
       "4  Dell Inspiron 3530 Laptop, 13th Generation Int...      10  ₹70,890\n",
       "5  HP Laptop 15s, 12th Gen Intel Core i7-1255U, 1...      62  ₹64,490\n",
       "6  ASUS [Smartchoice] Vivobook 15, Intel Core i7-...     259  ₹61,990\n",
       "7  Samsung Galaxy Book3 Core i7 13th Gen 1355U - ...     114  ₹70,990\n",
       "8  Lenovo IdeaPad Slim 5 Intel Core i7 13700H 16\"...      20  ₹86,190\n",
       "9  Dell Latitude 7480 14in FHD Laptop PC - Intel ...     668  ₹27,990"
      ]
     },
     "execution_count": 149,
     "metadata": {},
     "output_type": "execute_result"
    }
   ],
   "source": [
    "import pandas as pd\n",
    "df=pd.DataFrame({'Title':intel_title,'Ratings':intel_rating,'Price':intel_price})\n",
    "df"
   ]
  },
  {
   "cell_type": "code",
   "execution_count": 52,
   "id": "f307798c-ab11-43c8-80b7-e8cf059146c4",
   "metadata": {},
   "outputs": [],
   "source": [
    "driver=webdriver.Chrome()"
   ]
  },
  {
   "cell_type": "code",
   "execution_count": 53,
   "id": "c72f08c8-4d92-4a9e-b6a1-2c34e9dc00bf",
   "metadata": {},
   "outputs": [],
   "source": [
    "# opening azquotes page on automated chrome browser\n",
    "driver.get(\"https://www.azquotes.com/\")"
   ]
  },
  {
   "cell_type": "code",
   "execution_count": 56,
   "id": "c89fe45c-3cf3-46f4-b9b5-10e17686f7d7",
   "metadata": {},
   "outputs": [],
   "source": [
    "ok=driver.find_element(By.XPATH,'/html/body/div[1]/div[1]/button')\n",
    "ok.click()"
   ]
  },
  {
   "cell_type": "code",
   "execution_count": 54,
   "id": "8d40cca9-21a2-436c-8de5-782efe37e58e",
   "metadata": {},
   "outputs": [],
   "source": [
    "top_quote=driver.find_element(By.XPATH,'/html/body/div[1]/div[2]/div[1]/div/div[3]/ul/li[5]/a')\n",
    "top_quote.click()"
   ]
  },
  {
   "cell_type": "code",
   "execution_count": 55,
   "id": "b613a669-1053-4d97-82c6-d42c2b770bcc",
   "metadata": {},
   "outputs": [],
   "source": [
    "quotes=[]\n",
    "authors=[]\n",
    "Quote_type=[]"
   ]
  },
  {
   "cell_type": "code",
   "execution_count": 63,
   "id": "be092ba9-c31a-467f-8d41-bcff765f44b6",
   "metadata": {},
   "outputs": [
    {
     "name": "stdout",
     "output_type": "stream",
     "text": [
      "['The essence of strategy is choosing what not to do.', 'One cannot and must not try to erase the past merely because it does not fit the present.', 'Patriotism means to stand by the country. It does not mean to stand by the president.', 'Death is something inevitable. When a man has done what he considers to be his duty to his people and his country, he can rest in peace. I believe I have made that effort and that is, therefore, why I will sleep for the eternity.', 'You have to love a nation that celebrates its independence every July 4, not with a parade of guns, tanks, and soldiers who file by the White House in a show of strength and muscle, but with family picnics where kids throw Frisbees, the potato salad gets iffy, and the flies die from happiness. You may think you have overeaten, but it is patriotism.', 'Be more concerned with your character than your reputation, because your character is what you really are, while your reputation is merely what others think you are.', 'Weak people revenge. Strong people forgive. Intelligent People Ignore.', \"A mind is like a parachute. It doesn't work if it is not open.\", 'Never be afraid to raise your voice for honesty and truth and compassion against injustice and lying and greed. If people all over the world...would do this, it would change the earth.', 'There are three kinds of men. The one that learns by reading. The few who learn by observation. The rest of them have to pee on the electric fence for themselves.', \"A strong nation, like a strong person, can afford to be gentle, firm, thoughtful, and restrained. It can afford to extend a helping hand to others. It's a weak nation, like a weak person, that must behave with bluster and boasting and rashness and other signs of insecurity.\", 'The difference between stupidity and genius is that genius has its limits.', 'We the people are the rightful masters of both Congress and the courts, not to overthrow the Constitution but to overthrow the men who pervert the Constitution.', 'With or without religion, you would have good people doing good things and evil people doing evil things. But for good people to do evil things, that takes religion.', 'Human kindness has never weakened the stamina or softened the fiber of a free people. A nation does not have to be cruel to be tough.', 'A person who never made a mistake never tried anything new.', 'My mission in life is not merely to survive, but to thrive; and to do so with some passion, some compassion, some humor, and some style', 'Life is short, Break the Rules. Forgive quickly, Kiss slowly. Love truly. Laugh uncontrollably And never regret ANYTHING That makes you smile.', 'This country will not be a good place for any of us to live in unless we make it a good place for all of us to live in.', 'In a world filled with hate, we must still dare to hope. In a world filled with anger, we must still dare to comfort. In a world filled with despair, we must still dare to dream. And in a world filled with distrust, we must still dare to believe.', 'Darkness cannot drive out darkness; only light can do that. Hate cannot drive out hate; only love can do that.', 'To be a Christian means to forgive the inexcusable because God has forgiven the inexcusable in you.', 'A man who is good enough to shed his blood for the country is good enough to be given a square deal afterwards.', 'Kindness is the language which the deaf can hear and the blind can see.', 'Most folks are as happy as they make up their minds to be.', 'A happy marriage is the union of two good forgivers.', 'I believe in Christianity as I believe that the sun has risen: not only because I see it, but because by it I see everything else.', 'Politics is the art of looking for trouble, finding it everywhere, diagnosing it incorrectly and applying the wrong remedies.', \"I believe in everything until it's disproved. So I believe in fairies, the myths, dragons. It all exists, even if it's in your mind. Who's to say that dreams and nightmares aren't as real as the here and now?\", 'At the end of your life, you will never regret not having passed one more test, not winning one more verdict or not closing one more deal. You will regret time not spent with a husband, a friend, a child, or a parent.', 'I never think of the future - it comes soon enough.', \"Our greatest fear should not be of failure but of succeeding at things in life that don't really matter.\", 'Failure is simply the opportunity to begin again, this time more intelligently.', 'Music expresses that which cannot be put into words.', 'Good actions are a guard against the blows of adversity.', 'Positive thinking will let you do everything better than negative thinking will.', \"You have enemies? Good. That means you've stood up for something, sometime in your life.\", \"You don't have to be great to start, but you have to start to be great\", 'Let every nation know, whether it wishes us well or ill, that we shall pay any price, bear any burden, meet any hardship, support any friend, oppose any foe to assure the survival and the success of liberty.', \"If you want total security, go to prison. There you're fed, clothed, given medical care and so on. The only thing lacking... is freedom.\", 'Socialism is a philosophy of failure, the creed of ignorance, and the gospel of envy, its inherent virtue is the equal sharing of misery.', 'It is the supreme art of the teacher to awaken joy in creative expression and knowledge.', \"Once you replace negative thoughts with positive ones, you'll start having positive results.\", \"You build on failure. You use it as a stepping stone. Close the door on the past. You don't try to forget the mistakes, but you don't dwell on it. You don't let it have any of your energy, or any of your time, or any of your space.\", 'All my life through, the new sights of Nature made me rejoice like a child.', \"I've learned that people will forget what you said, people will forget what you did, but people will never forget how you made them feel.\", 'Marriage is not a ritual or an end. It is a long, intricate, intimate dance together and nothing matters more than your own sense of balance and your choice of partner.', 'When obstacles arise, you change your direction to reach your goal; you do not change your decision to get there.', 'Time you enjoy wasting, was not wasted.', 'The next time some academics tell you how important diversity is, ask how many Republicans there are in their sociology department.', 'Faith is not the belief that God will do what you want. It is the belief that God will do what is right.', \"If you can't fly then run, if you can't run then walk, if you can't walk then crawl, but whatever you do you have to keep moving forward.\", 'It is hard to imagine a more stupid or more dangerous way of making decisions than by putting those decisions in the hands of people who pay no price for being wrong.', 'I say that the most liberating thing about beauty is realizing that you are the beholder.', 'The ultimate measure of a man is not where he stands in moments of comfort and convenience, but where he stands at times of challenge and controversy.', 'The soldier, above all other people, prays for peace, for he must suffer and bear the deepest wounds and scars of war.', 'A true leader has the confidence to stand alone, the courage to make tough decisions, and the compassion to listen to the needs of others. He does not set out to be a leader, but becomes one by the equality of his actions and the integrity of his intent.', 'I am a Soldier, I fight where I am told, and I win where I fight.', \"Trying to do the Lord's work in your own strength is the most confusing, exhausting, and tedious of all work. But when you are filled with the Holy Spirit, then the ministry of Jesus just flows out of you.\", \"Sports for me is when a guy walks off the court, and you really can't tell whether he won or lost, when he carries himself with pride either way.\", 'Expect the best. Prepare for the worst. Capitalize on what comes.', 'I became insane, with long intervals of horrible sanity.', 'Failure is a detour, not a dead-end street.', 'I am not a product of my circumstances. I am a product of my decisions.', 'You can cut all the flowers but you cannot keep spring from coming.', \"Life doesn't run away from nobody. Life runs at people.\", 'In order to succeed, your desire for success should be greater than your fear of failure.', \"It's difficult to think anything but pleasant thoughts while eating a homegrown tomato.\", 'Too many of us are not living our dreams because we are living our fears.', 'If the only prayer you ever say in your entire life is thank you, it will be enough.', \"It's just a job. Grass grows, birds fly, waves pound the sand. I beat people up.\", 'A man must be big enough to admit his mistakes, smart enough to profit from them, and strong enough to correct them.', 'Our greatest weakness lies in giving up. The most certain way to succeed is always to try just one more time.', \"It has been said, 'time heals all wounds.' I do not agree. The wounds remain. In time, the mind, protecting its sanity, covers them with scar tissue and the pain lessens. But it is never gone.\", 'This is one small step for a man, one giant leap for mankind.', \"I have held many things in my hands, and I have lost them all; but whatever I have placed in God's hands, that I still possess.\", \"Welfare's purpose should be to eliminate, as far as possible, the need for its own existence.\", 'Each time, before you intercede, be quiet first, and worship God in His glory. Think of what He can do, and how He delights to hear the prayers of His redeemed people. Think of your place and privilege in Christ, and expect great things!', \"Failure is not the opposite of success; it's part of success.\", 'No one has ever become poor by giving.', 'It is not my ability, but my response to God’s ability, that counts.', 'No one is born hating another person because of the color of his skin, or his background, or his religion. People must learn to hate, and if they can learn to hate, they can be taught to love, for love comes more naturally to the human heart than its opposite.', 'No matter what people tell you, words and ideas can change the world.', 'A man should never neglect his family for business.', 'Those who dare to fail miserably can achieve greatly.', 'The two most important days in your life are the day you are born and the day you find out why.', 'We must be global Christians with a global vision because our God is a global God.', 'With everything that has happened to you, you can either feel sorry for yourself or treat what has happened as a gift. Everything is either an opportunity to grow or an obstacle to keep you from growing. You get to choose.', 'Don’t let the noise of others’ opinions drown out your own inner voice.', 'History, despite its wrenching pain, cannot be unlived, but if faced with courage, need not be lived again.', \"How old would you be if you didn't know how old you are?\", 'Leadership is a privilege to better the lives of others. It is not an opportunity to satisfy personal greed.', 'If you have good thoughts they will shine out of your face like sunbeams and you will always look lovely.', 'Never cut a tree down in the wintertime. Never make a negative decision in the low time. Never make your most important decisions when you are in your worst moods. Wait. Be patient. The storm will pass. The spring will come.', 'An optimist stays up until midnight to see the new year in. A pessimist stays up to make sure the old year leaves.', 'When the going gets weird, the weird turn pro.', \"When a train goes through a tunnel and it gets dark, you don't throw away the ticket and jump off. You sit still and trust the engineer.\", 'If you think you are too small to make a difference, try sleeping with a mosquito.', \"God doesn't require us to succeed, he only requires that you try.\", 'Change your thoughts and you change your world.', 'The essence of strategy is choosing what not to do.', 'One cannot and must not try to erase the past merely because it does not fit the present.', 'Patriotism means to stand by the country. It does not mean to stand by the president.', 'Death is something inevitable. When a man has done what he considers to be his duty to his people and his country, he can rest in peace. I believe I have made that effort and that is, therefore, why I will sleep for the eternity.', 'You have to love a nation that celebrates its independence every July 4, not with a parade of guns, tanks, and soldiers who file by the White House in a show of strength and muscle, but with family picnics where kids throw Frisbees, the potato salad gets iffy, and the flies die from happiness. You may think you have overeaten, but it is patriotism.', 'Be more concerned with your character than your reputation, because your character is what you really are, while your reputation is merely what others think you are.', 'Weak people revenge. Strong people forgive. Intelligent People Ignore.', \"A mind is like a parachute. It doesn't work if it is not open.\", 'Never be afraid to raise your voice for honesty and truth and compassion against injustice and lying and greed. If people all over the world...would do this, it would change the earth.', 'There are three kinds of men. The one that learns by reading. The few who learn by observation. The rest of them have to pee on the electric fence for themselves.', \"A strong nation, like a strong person, can afford to be gentle, firm, thoughtful, and restrained. It can afford to extend a helping hand to others. It's a weak nation, like a weak person, that must behave with bluster and boasting and rashness and other signs of insecurity.\", 'The difference between stupidity and genius is that genius has its limits.', 'We the people are the rightful masters of both Congress and the courts, not to overthrow the Constitution but to overthrow the men who pervert the Constitution.', 'With or without religion, you would have good people doing good things and evil people doing evil things. But for good people to do evil things, that takes religion.', 'Human kindness has never weakened the stamina or softened the fiber of a free people. A nation does not have to be cruel to be tough.', 'A person who never made a mistake never tried anything new.', 'My mission in life is not merely to survive, but to thrive; and to do so with some passion, some compassion, some humor, and some style', 'Life is short, Break the Rules. Forgive quickly, Kiss slowly. Love truly. Laugh uncontrollably And never regret ANYTHING That makes you smile.', 'This country will not be a good place for any of us to live in unless we make it a good place for all of us to live in.', 'In a world filled with hate, we must still dare to hope. In a world filled with anger, we must still dare to comfort. In a world filled with despair, we must still dare to dream. And in a world filled with distrust, we must still dare to believe.', 'Darkness cannot drive out darkness; only light can do that. Hate cannot drive out hate; only love can do that.', 'To be a Christian means to forgive the inexcusable because God has forgiven the inexcusable in you.', 'A man who is good enough to shed his blood for the country is good enough to be given a square deal afterwards.', 'Kindness is the language which the deaf can hear and the blind can see.', 'Most folks are as happy as they make up their minds to be.', 'A happy marriage is the union of two good forgivers.', 'I believe in Christianity as I believe that the sun has risen: not only because I see it, but because by it I see everything else.', 'Politics is the art of looking for trouble, finding it everywhere, diagnosing it incorrectly and applying the wrong remedies.', \"I believe in everything until it's disproved. So I believe in fairies, the myths, dragons. It all exists, even if it's in your mind. Who's to say that dreams and nightmares aren't as real as the here and now?\", 'At the end of your life, you will never regret not having passed one more test, not winning one more verdict or not closing one more deal. You will regret time not spent with a husband, a friend, a child, or a parent.', 'I never think of the future - it comes soon enough.', \"Our greatest fear should not be of failure but of succeeding at things in life that don't really matter.\", 'Failure is simply the opportunity to begin again, this time more intelligently.', 'Music expresses that which cannot be put into words.', 'Good actions are a guard against the blows of adversity.', 'Positive thinking will let you do everything better than negative thinking will.', \"You have enemies? Good. That means you've stood up for something, sometime in your life.\", \"You don't have to be great to start, but you have to start to be great\", 'Let every nation know, whether it wishes us well or ill, that we shall pay any price, bear any burden, meet any hardship, support any friend, oppose any foe to assure the survival and the success of liberty.', \"If you want total security, go to prison. There you're fed, clothed, given medical care and so on. The only thing lacking... is freedom.\", 'Socialism is a philosophy of failure, the creed of ignorance, and the gospel of envy, its inherent virtue is the equal sharing of misery.', 'It is the supreme art of the teacher to awaken joy in creative expression and knowledge.', \"Once you replace negative thoughts with positive ones, you'll start having positive results.\", \"You build on failure. You use it as a stepping stone. Close the door on the past. You don't try to forget the mistakes, but you don't dwell on it. You don't let it have any of your energy, or any of your time, or any of your space.\", 'All my life through, the new sights of Nature made me rejoice like a child.', \"I've learned that people will forget what you said, people will forget what you did, but people will never forget how you made them feel.\", 'Marriage is not a ritual or an end. It is a long, intricate, intimate dance together and nothing matters more than your own sense of balance and your choice of partner.', 'When obstacles arise, you change your direction to reach your goal; you do not change your decision to get there.', 'Time you enjoy wasting, was not wasted.', 'The next time some academics tell you how important diversity is, ask how many Republicans there are in their sociology department.', 'Faith is not the belief that God will do what you want. It is the belief that God will do what is right.', \"If you can't fly then run, if you can't run then walk, if you can't walk then crawl, but whatever you do you have to keep moving forward.\", 'It is hard to imagine a more stupid or more dangerous way of making decisions than by putting those decisions in the hands of people who pay no price for being wrong.', 'I say that the most liberating thing about beauty is realizing that you are the beholder.', 'The ultimate measure of a man is not where he stands in moments of comfort and convenience, but where he stands at times of challenge and controversy.', 'The soldier, above all other people, prays for peace, for he must suffer and bear the deepest wounds and scars of war.', 'A true leader has the confidence to stand alone, the courage to make tough decisions, and the compassion to listen to the needs of others. He does not set out to be a leader, but becomes one by the equality of his actions and the integrity of his intent.', 'I am a Soldier, I fight where I am told, and I win where I fight.', \"Trying to do the Lord's work in your own strength is the most confusing, exhausting, and tedious of all work. But when you are filled with the Holy Spirit, then the ministry of Jesus just flows out of you.\", \"Sports for me is when a guy walks off the court, and you really can't tell whether he won or lost, when he carries himself with pride either way.\", 'Expect the best. Prepare for the worst. Capitalize on what comes.', 'I became insane, with long intervals of horrible sanity.', 'Failure is a detour, not a dead-end street.', 'I am not a product of my circumstances. I am a product of my decisions.', 'You can cut all the flowers but you cannot keep spring from coming.', \"Life doesn't run away from nobody. Life runs at people.\", 'In order to succeed, your desire for success should be greater than your fear of failure.', \"It's difficult to think anything but pleasant thoughts while eating a homegrown tomato.\", 'Too many of us are not living our dreams because we are living our fears.', 'If the only prayer you ever say in your entire life is thank you, it will be enough.', \"It's just a job. Grass grows, birds fly, waves pound the sand. I beat people up.\", 'A man must be big enough to admit his mistakes, smart enough to profit from them, and strong enough to correct them.', 'Our greatest weakness lies in giving up. The most certain way to succeed is always to try just one more time.', \"It has been said, 'time heals all wounds.' I do not agree. The wounds remain. In time, the mind, protecting its sanity, covers them with scar tissue and the pain lessens. But it is never gone.\", 'This is one small step for a man, one giant leap for mankind.', \"I have held many things in my hands, and I have lost them all; but whatever I have placed in God's hands, that I still possess.\", \"Welfare's purpose should be to eliminate, as far as possible, the need for its own existence.\", 'Each time, before you intercede, be quiet first, and worship God in His glory. Think of what He can do, and how He delights to hear the prayers of His redeemed people. Think of your place and privilege in Christ, and expect great things!', \"Failure is not the opposite of success; it's part of success.\", 'No one has ever become poor by giving.', 'It is not my ability, but my response to God’s ability, that counts.', 'No one is born hating another person because of the color of his skin, or his background, or his religion. People must learn to hate, and if they can learn to hate, they can be taught to love, for love comes more naturally to the human heart than its opposite.', 'No matter what people tell you, words and ideas can change the world.', 'A man should never neglect his family for business.', 'Those who dare to fail miserably can achieve greatly.', 'The two most important days in your life are the day you are born and the day you find out why.', 'We must be global Christians with a global vision because our God is a global God.', 'With everything that has happened to you, you can either feel sorry for yourself or treat what has happened as a gift. Everything is either an opportunity to grow or an obstacle to keep you from growing. You get to choose.', 'Don’t let the noise of others’ opinions drown out your own inner voice.', 'History, despite its wrenching pain, cannot be unlived, but if faced with courage, need not be lived again.', \"How old would you be if you didn't know how old you are?\", 'Leadership is a privilege to better the lives of others. It is not an opportunity to satisfy personal greed.', 'If you have good thoughts they will shine out of your face like sunbeams and you will always look lovely.', 'Never cut a tree down in the wintertime. Never make a negative decision in the low time. Never make your most important decisions when you are in your worst moods. Wait. Be patient. The storm will pass. The spring will come.', 'An optimist stays up until midnight to see the new year in. A pessimist stays up to make sure the old year leaves.', 'When the going gets weird, the weird turn pro.', \"When a train goes through a tunnel and it gets dark, you don't throw away the ticket and jump off. You sit still and trust the engineer.\", 'If you think you are too small to make a difference, try sleeping with a mosquito.', \"God doesn't require us to succeed, he only requires that you try.\", 'Change your thoughts and you change your world.', 'The essence of strategy is choosing what not to do.', 'One cannot and must not try to erase the past merely because it does not fit the present.', 'Patriotism means to stand by the country. It does not mean to stand by the president.', 'Death is something inevitable. When a man has done what he considers to be his duty to his people and his country, he can rest in peace. I believe I have made that effort and that is, therefore, why I will sleep for the eternity.', 'You have to love a nation that celebrates its independence every July 4, not with a parade of guns, tanks, and soldiers who file by the White House in a show of strength and muscle, but with family picnics where kids throw Frisbees, the potato salad gets iffy, and the flies die from happiness. You may think you have overeaten, but it is patriotism.', 'Be more concerned with your character than your reputation, because your character is what you really are, while your reputation is merely what others think you are.', 'Weak people revenge. Strong people forgive. Intelligent People Ignore.', \"A mind is like a parachute. It doesn't work if it is not open.\", 'Never be afraid to raise your voice for honesty and truth and compassion against injustice and lying and greed. If people all over the world...would do this, it would change the earth.', 'There are three kinds of men. The one that learns by reading. The few who learn by observation. The rest of them have to pee on the electric fence for themselves.', \"A strong nation, like a strong person, can afford to be gentle, firm, thoughtful, and restrained. It can afford to extend a helping hand to others. It's a weak nation, like a weak person, that must behave with bluster and boasting and rashness and other signs of insecurity.\", 'The difference between stupidity and genius is that genius has its limits.', 'We the people are the rightful masters of both Congress and the courts, not to overthrow the Constitution but to overthrow the men who pervert the Constitution.', 'With or without religion, you would have good people doing good things and evil people doing evil things. But for good people to do evil things, that takes religion.', 'Human kindness has never weakened the stamina or softened the fiber of a free people. A nation does not have to be cruel to be tough.', 'A person who never made a mistake never tried anything new.', 'My mission in life is not merely to survive, but to thrive; and to do so with some passion, some compassion, some humor, and some style', 'Life is short, Break the Rules. Forgive quickly, Kiss slowly. Love truly. Laugh uncontrollably And never regret ANYTHING That makes you smile.', 'This country will not be a good place for any of us to live in unless we make it a good place for all of us to live in.', 'In a world filled with hate, we must still dare to hope. In a world filled with anger, we must still dare to comfort. In a world filled with despair, we must still dare to dream. And in a world filled with distrust, we must still dare to believe.', 'Darkness cannot drive out darkness; only light can do that. Hate cannot drive out hate; only love can do that.', 'To be a Christian means to forgive the inexcusable because God has forgiven the inexcusable in you.', 'A man who is good enough to shed his blood for the country is good enough to be given a square deal afterwards.', 'Kindness is the language which the deaf can hear and the blind can see.', 'Most folks are as happy as they make up their minds to be.', 'A happy marriage is the union of two good forgivers.', 'I believe in Christianity as I believe that the sun has risen: not only because I see it, but because by it I see everything else.', 'Politics is the art of looking for trouble, finding it everywhere, diagnosing it incorrectly and applying the wrong remedies.', \"I believe in everything until it's disproved. So I believe in fairies, the myths, dragons. It all exists, even if it's in your mind. Who's to say that dreams and nightmares aren't as real as the here and now?\", 'At the end of your life, you will never regret not having passed one more test, not winning one more verdict or not closing one more deal. You will regret time not spent with a husband, a friend, a child, or a parent.', 'I never think of the future - it comes soon enough.', \"Our greatest fear should not be of failure but of succeeding at things in life that don't really matter.\", 'Failure is simply the opportunity to begin again, this time more intelligently.', 'Music expresses that which cannot be put into words.', 'Good actions are a guard against the blows of adversity.', 'Positive thinking will let you do everything better than negative thinking will.', \"You have enemies? Good. That means you've stood up for something, sometime in your life.\", \"You don't have to be great to start, but you have to start to be great\", 'Let every nation know, whether it wishes us well or ill, that we shall pay any price, bear any burden, meet any hardship, support any friend, oppose any foe to assure the survival and the success of liberty.', \"If you want total security, go to prison. There you're fed, clothed, given medical care and so on. The only thing lacking... is freedom.\", 'Socialism is a philosophy of failure, the creed of ignorance, and the gospel of envy, its inherent virtue is the equal sharing of misery.', 'It is the supreme art of the teacher to awaken joy in creative expression and knowledge.', \"Once you replace negative thoughts with positive ones, you'll start having positive results.\", \"You build on failure. You use it as a stepping stone. Close the door on the past. You don't try to forget the mistakes, but you don't dwell on it. You don't let it have any of your energy, or any of your time, or any of your space.\", 'All my life through, the new sights of Nature made me rejoice like a child.', \"I've learned that people will forget what you said, people will forget what you did, but people will never forget how you made them feel.\", 'Marriage is not a ritual or an end. It is a long, intricate, intimate dance together and nothing matters more than your own sense of balance and your choice of partner.', 'When obstacles arise, you change your direction to reach your goal; you do not change your decision to get there.', 'Time you enjoy wasting, was not wasted.', 'The next time some academics tell you how important diversity is, ask how many Republicans there are in their sociology department.', 'Faith is not the belief that God will do what you want. It is the belief that God will do what is right.', \"If you can't fly then run, if you can't run then walk, if you can't walk then crawl, but whatever you do you have to keep moving forward.\", 'It is hard to imagine a more stupid or more dangerous way of making decisions than by putting those decisions in the hands of people who pay no price for being wrong.', 'I say that the most liberating thing about beauty is realizing that you are the beholder.', 'The ultimate measure of a man is not where he stands in moments of comfort and convenience, but where he stands at times of challenge and controversy.', 'The soldier, above all other people, prays for peace, for he must suffer and bear the deepest wounds and scars of war.', 'A true leader has the confidence to stand alone, the courage to make tough decisions, and the compassion to listen to the needs of others. He does not set out to be a leader, but becomes one by the equality of his actions and the integrity of his intent.', 'I am a Soldier, I fight where I am told, and I win where I fight.', \"Trying to do the Lord's work in your own strength is the most confusing, exhausting, and tedious of all work. But when you are filled with the Holy Spirit, then the ministry of Jesus just flows out of you.\", \"Sports for me is when a guy walks off the court, and you really can't tell whether he won or lost, when he carries himself with pride either way.\", 'Expect the best. Prepare for the worst. Capitalize on what comes.', 'I became insane, with long intervals of horrible sanity.', 'Failure is a detour, not a dead-end street.', 'I am not a product of my circumstances. I am a product of my decisions.', 'You can cut all the flowers but you cannot keep spring from coming.', \"Life doesn't run away from nobody. Life runs at people.\", 'In order to succeed, your desire for success should be greater than your fear of failure.', \"It's difficult to think anything but pleasant thoughts while eating a homegrown tomato.\", 'Too many of us are not living our dreams because we are living our fears.', 'If the only prayer you ever say in your entire life is thank you, it will be enough.', \"It's just a job. Grass grows, birds fly, waves pound the sand. I beat people up.\", 'A man must be big enough to admit his mistakes, smart enough to profit from them, and strong enough to correct them.', 'Our greatest weakness lies in giving up. The most certain way to succeed is always to try just one more time.', \"It has been said, 'time heals all wounds.' I do not agree. The wounds remain. In time, the mind, protecting its sanity, covers them with scar tissue and the pain lessens. But it is never gone.\", 'This is one small step for a man, one giant leap for mankind.', \"I have held many things in my hands, and I have lost them all; but whatever I have placed in God's hands, that I still possess.\", \"Welfare's purpose should be to eliminate, as far as possible, the need for its own existence.\", 'Each time, before you intercede, be quiet first, and worship God in His glory. Think of what He can do, and how He delights to hear the prayers of His redeemed people. Think of your place and privilege in Christ, and expect great things!', \"Failure is not the opposite of success; it's part of success.\", 'No one has ever become poor by giving.', 'It is not my ability, but my response to God’s ability, that counts.', 'No one is born hating another person because of the color of his skin, or his background, or his religion. People must learn to hate, and if they can learn to hate, they can be taught to love, for love comes more naturally to the human heart than its opposite.', 'No matter what people tell you, words and ideas can change the world.', 'A man should never neglect his family for business.', 'Those who dare to fail miserably can achieve greatly.', 'The two most important days in your life are the day you are born and the day you find out why.', 'We must be global Christians with a global vision because our God is a global God.', 'With everything that has happened to you, you can either feel sorry for yourself or treat what has happened as a gift. Everything is either an opportunity to grow or an obstacle to keep you from growing. You get to choose.', 'Don’t let the noise of others’ opinions drown out your own inner voice.', 'History, despite its wrenching pain, cannot be unlived, but if faced with courage, need not be lived again.', \"How old would you be if you didn't know how old you are?\", 'Leadership is a privilege to better the lives of others. It is not an opportunity to satisfy personal greed.', 'If you have good thoughts they will shine out of your face like sunbeams and you will always look lovely.', 'Never cut a tree down in the wintertime. Never make a negative decision in the low time. Never make your most important decisions when you are in your worst moods. Wait. Be patient. The storm will pass. The spring will come.', 'An optimist stays up until midnight to see the new year in. A pessimist stays up to make sure the old year leaves.', 'When the going gets weird, the weird turn pro.', \"When a train goes through a tunnel and it gets dark, you don't throw away the ticket and jump off. You sit still and trust the engineer.\", 'If you think you are too small to make a difference, try sleeping with a mosquito.', \"God doesn't require us to succeed, he only requires that you try.\", 'Change your thoughts and you change your world.', 'The essence of strategy is choosing what not to do.', 'One cannot and must not try to erase the past merely because it does not fit the present.', 'Patriotism means to stand by the country. It does not mean to stand by the president.', 'Death is something inevitable. When a man has done what he considers to be his duty to his people and his country, he can rest in peace. I believe I have made that effort and that is, therefore, why I will sleep for the eternity.', 'You have to love a nation that celebrates its independence every July 4, not with a parade of guns, tanks, and soldiers who file by the White House in a show of strength and muscle, but with family picnics where kids throw Frisbees, the potato salad gets iffy, and the flies die from happiness. You may think you have overeaten, but it is patriotism.', 'Be more concerned with your character than your reputation, because your character is what you really are, while your reputation is merely what others think you are.', 'Weak people revenge. Strong people forgive. Intelligent People Ignore.', \"A mind is like a parachute. It doesn't work if it is not open.\", 'Never be afraid to raise your voice for honesty and truth and compassion against injustice and lying and greed. If people all over the world...would do this, it would change the earth.', 'There are three kinds of men. The one that learns by reading. The few who learn by observation. The rest of them have to pee on the electric fence for themselves.', \"A strong nation, like a strong person, can afford to be gentle, firm, thoughtful, and restrained. It can afford to extend a helping hand to others. It's a weak nation, like a weak person, that must behave with bluster and boasting and rashness and other signs of insecurity.\", 'The difference between stupidity and genius is that genius has its limits.', 'We the people are the rightful masters of both Congress and the courts, not to overthrow the Constitution but to overthrow the men who pervert the Constitution.', 'With or without religion, you would have good people doing good things and evil people doing evil things. But for good people to do evil things, that takes religion.', 'Human kindness has never weakened the stamina or softened the fiber of a free people. A nation does not have to be cruel to be tough.', 'A person who never made a mistake never tried anything new.', 'My mission in life is not merely to survive, but to thrive; and to do so with some passion, some compassion, some humor, and some style', 'Life is short, Break the Rules. Forgive quickly, Kiss slowly. Love truly. Laugh uncontrollably And never regret ANYTHING That makes you smile.', 'This country will not be a good place for any of us to live in unless we make it a good place for all of us to live in.', 'In a world filled with hate, we must still dare to hope. In a world filled with anger, we must still dare to comfort. In a world filled with despair, we must still dare to dream. And in a world filled with distrust, we must still dare to believe.', 'Darkness cannot drive out darkness; only light can do that. Hate cannot drive out hate; only love can do that.', 'To be a Christian means to forgive the inexcusable because God has forgiven the inexcusable in you.', 'A man who is good enough to shed his blood for the country is good enough to be given a square deal afterwards.', 'Kindness is the language which the deaf can hear and the blind can see.', 'Most folks are as happy as they make up their minds to be.', 'A happy marriage is the union of two good forgivers.', 'I believe in Christianity as I believe that the sun has risen: not only because I see it, but because by it I see everything else.', 'Politics is the art of looking for trouble, finding it everywhere, diagnosing it incorrectly and applying the wrong remedies.', \"I believe in everything until it's disproved. So I believe in fairies, the myths, dragons. It all exists, even if it's in your mind. Who's to say that dreams and nightmares aren't as real as the here and now?\", 'At the end of your life, you will never regret not having passed one more test, not winning one more verdict or not closing one more deal. You will regret time not spent with a husband, a friend, a child, or a parent.', 'I never think of the future - it comes soon enough.', \"Our greatest fear should not be of failure but of succeeding at things in life that don't really matter.\", 'Failure is simply the opportunity to begin again, this time more intelligently.', 'Music expresses that which cannot be put into words.', 'Good actions are a guard against the blows of adversity.', 'Positive thinking will let you do everything better than negative thinking will.', \"You have enemies? Good. That means you've stood up for something, sometime in your life.\", \"You don't have to be great to start, but you have to start to be great\", 'Let every nation know, whether it wishes us well or ill, that we shall pay any price, bear any burden, meet any hardship, support any friend, oppose any foe to assure the survival and the success of liberty.', \"If you want total security, go to prison. There you're fed, clothed, given medical care and so on. The only thing lacking... is freedom.\", 'Socialism is a philosophy of failure, the creed of ignorance, and the gospel of envy, its inherent virtue is the equal sharing of misery.', 'It is the supreme art of the teacher to awaken joy in creative expression and knowledge.', \"Once you replace negative thoughts with positive ones, you'll start having positive results.\", \"You build on failure. You use it as a stepping stone. Close the door on the past. You don't try to forget the mistakes, but you don't dwell on it. You don't let it have any of your energy, or any of your time, or any of your space.\", 'All my life through, the new sights of Nature made me rejoice like a child.', \"I've learned that people will forget what you said, people will forget what you did, but people will never forget how you made them feel.\", 'Marriage is not a ritual or an end. It is a long, intricate, intimate dance together and nothing matters more than your own sense of balance and your choice of partner.', 'When obstacles arise, you change your direction to reach your goal; you do not change your decision to get there.', 'Time you enjoy wasting, was not wasted.', 'The next time some academics tell you how important diversity is, ask how many Republicans there are in their sociology department.', 'Faith is not the belief that God will do what you want. It is the belief that God will do what is right.', \"If you can't fly then run, if you can't run then walk, if you can't walk then crawl, but whatever you do you have to keep moving forward.\", 'It is hard to imagine a more stupid or more dangerous way of making decisions than by putting those decisions in the hands of people who pay no price for being wrong.', 'I say that the most liberating thing about beauty is realizing that you are the beholder.', 'The ultimate measure of a man is not where he stands in moments of comfort and convenience, but where he stands at times of challenge and controversy.', 'The soldier, above all other people, prays for peace, for he must suffer and bear the deepest wounds and scars of war.', 'A true leader has the confidence to stand alone, the courage to make tough decisions, and the compassion to listen to the needs of others. He does not set out to be a leader, but becomes one by the equality of his actions and the integrity of his intent.', 'I am a Soldier, I fight where I am told, and I win where I fight.', \"Trying to do the Lord's work in your own strength is the most confusing, exhausting, and tedious of all work. But when you are filled with the Holy Spirit, then the ministry of Jesus just flows out of you.\", \"Sports for me is when a guy walks off the court, and you really can't tell whether he won or lost, when he carries himself with pride either way.\", 'Expect the best. Prepare for the worst. Capitalize on what comes.', 'I became insane, with long intervals of horrible sanity.', 'Failure is a detour, not a dead-end street.', 'I am not a product of my circumstances. I am a product of my decisions.', 'You can cut all the flowers but you cannot keep spring from coming.', \"Life doesn't run away from nobody. Life runs at people.\", 'In order to succeed, your desire for success should be greater than your fear of failure.', \"It's difficult to think anything but pleasant thoughts while eating a homegrown tomato.\", 'Too many of us are not living our dreams because we are living our fears.', 'If the only prayer you ever say in your entire life is thank you, it will be enough.', \"It's just a job. Grass grows, birds fly, waves pound the sand. I beat people up.\", 'A man must be big enough to admit his mistakes, smart enough to profit from them, and strong enough to correct them.', 'Our greatest weakness lies in giving up. The most certain way to succeed is always to try just one more time.', \"It has been said, 'time heals all wounds.' I do not agree. The wounds remain. In time, the mind, protecting its sanity, covers them with scar tissue and the pain lessens. But it is never gone.\", 'This is one small step for a man, one giant leap for mankind.', \"I have held many things in my hands, and I have lost them all; but whatever I have placed in God's hands, that I still possess.\", \"Welfare's purpose should be to eliminate, as far as possible, the need for its own existence.\", 'Each time, before you intercede, be quiet first, and worship God in His glory. Think of what He can do, and how He delights to hear the prayers of His redeemed people. Think of your place and privilege in Christ, and expect great things!', \"Failure is not the opposite of success; it's part of success.\", 'No one has ever become poor by giving.', 'It is not my ability, but my response to God’s ability, that counts.', 'No one is born hating another person because of the color of his skin, or his background, or his religion. People must learn to hate, and if they can learn to hate, they can be taught to love, for love comes more naturally to the human heart than its opposite.', 'No matter what people tell you, words and ideas can change the world.', 'A man should never neglect his family for business.', 'Those who dare to fail miserably can achieve greatly.', 'The two most important days in your life are the day you are born and the day you find out why.', 'We must be global Christians with a global vision because our God is a global God.', 'With everything that has happened to you, you can either feel sorry for yourself or treat what has happened as a gift. Everything is either an opportunity to grow or an obstacle to keep you from growing. You get to choose.', 'Don’t let the noise of others’ opinions drown out your own inner voice.', 'History, despite its wrenching pain, cannot be unlived, but if faced with courage, need not be lived again.', \"How old would you be if you didn't know how old you are?\", 'Leadership is a privilege to better the lives of others. It is not an opportunity to satisfy personal greed.', 'If you have good thoughts they will shine out of your face like sunbeams and you will always look lovely.', 'Never cut a tree down in the wintertime. Never make a negative decision in the low time. Never make your most important decisions when you are in your worst moods. Wait. Be patient. The storm will pass. The spring will come.', 'An optimist stays up until midnight to see the new year in. A pessimist stays up to make sure the old year leaves.', 'When the going gets weird, the weird turn pro.', \"When a train goes through a tunnel and it gets dark, you don't throw away the ticket and jump off. You sit still and trust the engineer.\", 'If you think you are too small to make a difference, try sleeping with a mosquito.', \"God doesn't require us to succeed, he only requires that you try.\", 'Change your thoughts and you change your world.', 'The essence of strategy is choosing what not to do.', 'One cannot and must not try to erase the past merely because it does not fit the present.', 'Patriotism means to stand by the country. It does not mean to stand by the president.', 'Death is something inevitable. When a man has done what he considers to be his duty to his people and his country, he can rest in peace. I believe I have made that effort and that is, therefore, why I will sleep for the eternity.', 'You have to love a nation that celebrates its independence every July 4, not with a parade of guns, tanks, and soldiers who file by the White House in a show of strength and muscle, but with family picnics where kids throw Frisbees, the potato salad gets iffy, and the flies die from happiness. You may think you have overeaten, but it is patriotism.', 'Be more concerned with your character than your reputation, because your character is what you really are, while your reputation is merely what others think you are.', 'Weak people revenge. Strong people forgive. Intelligent People Ignore.', \"A mind is like a parachute. It doesn't work if it is not open.\", 'Never be afraid to raise your voice for honesty and truth and compassion against injustice and lying and greed. If people all over the world...would do this, it would change the earth.', 'There are three kinds of men. The one that learns by reading. The few who learn by observation. The rest of them have to pee on the electric fence for themselves.', \"A strong nation, like a strong person, can afford to be gentle, firm, thoughtful, and restrained. It can afford to extend a helping hand to others. It's a weak nation, like a weak person, that must behave with bluster and boasting and rashness and other signs of insecurity.\", 'The difference between stupidity and genius is that genius has its limits.', 'We the people are the rightful masters of both Congress and the courts, not to overthrow the Constitution but to overthrow the men who pervert the Constitution.', 'With or without religion, you would have good people doing good things and evil people doing evil things. But for good people to do evil things, that takes religion.', 'Human kindness has never weakened the stamina or softened the fiber of a free people. A nation does not have to be cruel to be tough.', 'A person who never made a mistake never tried anything new.', 'My mission in life is not merely to survive, but to thrive; and to do so with some passion, some compassion, some humor, and some style', 'Life is short, Break the Rules. Forgive quickly, Kiss slowly. Love truly. Laugh uncontrollably And never regret ANYTHING That makes you smile.', 'This country will not be a good place for any of us to live in unless we make it a good place for all of us to live in.', 'In a world filled with hate, we must still dare to hope. In a world filled with anger, we must still dare to comfort. In a world filled with despair, we must still dare to dream. And in a world filled with distrust, we must still dare to believe.', 'Darkness cannot drive out darkness; only light can do that. Hate cannot drive out hate; only love can do that.', 'To be a Christian means to forgive the inexcusable because God has forgiven the inexcusable in you.', 'A man who is good enough to shed his blood for the country is good enough to be given a square deal afterwards.', 'Kindness is the language which the deaf can hear and the blind can see.', 'Most folks are as happy as they make up their minds to be.', 'A happy marriage is the union of two good forgivers.', 'I believe in Christianity as I believe that the sun has risen: not only because I see it, but because by it I see everything else.', 'Politics is the art of looking for trouble, finding it everywhere, diagnosing it incorrectly and applying the wrong remedies.', \"I believe in everything until it's disproved. So I believe in fairies, the myths, dragons. It all exists, even if it's in your mind. Who's to say that dreams and nightmares aren't as real as the here and now?\", 'At the end of your life, you will never regret not having passed one more test, not winning one more verdict or not closing one more deal. You will regret time not spent with a husband, a friend, a child, or a parent.', 'I never think of the future - it comes soon enough.', \"Our greatest fear should not be of failure but of succeeding at things in life that don't really matter.\", 'Failure is simply the opportunity to begin again, this time more intelligently.', 'Music expresses that which cannot be put into words.', 'Good actions are a guard against the blows of adversity.', 'Positive thinking will let you do everything better than negative thinking will.', \"You have enemies? Good. That means you've stood up for something, sometime in your life.\", \"You don't have to be great to start, but you have to start to be great\", 'Let every nation know, whether it wishes us well or ill, that we shall pay any price, bear any burden, meet any hardship, support any friend, oppose any foe to assure the survival and the success of liberty.', \"If you want total security, go to prison. There you're fed, clothed, given medical care and so on. The only thing lacking... is freedom.\", 'Socialism is a philosophy of failure, the creed of ignorance, and the gospel of envy, its inherent virtue is the equal sharing of misery.', 'It is the supreme art of the teacher to awaken joy in creative expression and knowledge.', \"Once you replace negative thoughts with positive ones, you'll start having positive results.\", \"You build on failure. You use it as a stepping stone. Close the door on the past. You don't try to forget the mistakes, but you don't dwell on it. You don't let it have any of your energy, or any of your time, or any of your space.\", 'All my life through, the new sights of Nature made me rejoice like a child.', \"I've learned that people will forget what you said, people will forget what you did, but people will never forget how you made them feel.\", 'Marriage is not a ritual or an end. It is a long, intricate, intimate dance together and nothing matters more than your own sense of balance and your choice of partner.', 'When obstacles arise, you change your direction to reach your goal; you do not change your decision to get there.', 'Time you enjoy wasting, was not wasted.', 'The next time some academics tell you how important diversity is, ask how many Republicans there are in their sociology department.', 'Faith is not the belief that God will do what you want. It is the belief that God will do what is right.', \"If you can't fly then run, if you can't run then walk, if you can't walk then crawl, but whatever you do you have to keep moving forward.\", 'It is hard to imagine a more stupid or more dangerous way of making decisions than by putting those decisions in the hands of people who pay no price for being wrong.', 'I say that the most liberating thing about beauty is realizing that you are the beholder.', 'The ultimate measure of a man is not where he stands in moments of comfort and convenience, but where he stands at times of challenge and controversy.', 'The soldier, above all other people, prays for peace, for he must suffer and bear the deepest wounds and scars of war.', 'A true leader has the confidence to stand alone, the courage to make tough decisions, and the compassion to listen to the needs of others. He does not set out to be a leader, but becomes one by the equality of his actions and the integrity of his intent.', 'I am a Soldier, I fight where I am told, and I win where I fight.', \"Trying to do the Lord's work in your own strength is the most confusing, exhausting, and tedious of all work. But when you are filled with the Holy Spirit, then the ministry of Jesus just flows out of you.\", \"Sports for me is when a guy walks off the court, and you really can't tell whether he won or lost, when he carries himself with pride either way.\", 'Expect the best. Prepare for the worst. Capitalize on what comes.', 'I became insane, with long intervals of horrible sanity.', 'Failure is a detour, not a dead-end street.', 'I am not a product of my circumstances. I am a product of my decisions.', 'You can cut all the flowers but you cannot keep spring from coming.', \"Life doesn't run away from nobody. Life runs at people.\", 'In order to succeed, your desire for success should be greater than your fear of failure.', \"It's difficult to think anything but pleasant thoughts while eating a homegrown tomato.\", 'Too many of us are not living our dreams because we are living our fears.', 'If the only prayer you ever say in your entire life is thank you, it will be enough.', \"It's just a job. Grass grows, birds fly, waves pound the sand. I beat people up.\", 'A man must be big enough to admit his mistakes, smart enough to profit from them, and strong enough to correct them.', 'Our greatest weakness lies in giving up. The most certain way to succeed is always to try just one more time.', \"It has been said, 'time heals all wounds.' I do not agree. The wounds remain. In time, the mind, protecting its sanity, covers them with scar tissue and the pain lessens. But it is never gone.\", 'This is one small step for a man, one giant leap for mankind.', \"I have held many things in my hands, and I have lost them all; but whatever I have placed in God's hands, that I still possess.\", \"Welfare's purpose should be to eliminate, as far as possible, the need for its own existence.\", 'Each time, before you intercede, be quiet first, and worship God in His glory. Think of what He can do, and how He delights to hear the prayers of His redeemed people. Think of your place and privilege in Christ, and expect great things!', \"Failure is not the opposite of success; it's part of success.\", 'No one has ever become poor by giving.', 'It is not my ability, but my response to God’s ability, that counts.', 'No one is born hating another person because of the color of his skin, or his background, or his religion. People must learn to hate, and if they can learn to hate, they can be taught to love, for love comes more naturally to the human heart than its opposite.', 'No matter what people tell you, words and ideas can change the world.', 'A man should never neglect his family for business.', 'Those who dare to fail miserably can achieve greatly.', 'The two most important days in your life are the day you are born and the day you find out why.', 'We must be global Christians with a global vision because our God is a global God.', 'With everything that has happened to you, you can either feel sorry for yourself or treat what has happened as a gift. Everything is either an opportunity to grow or an obstacle to keep you from growing. You get to choose.', 'Don’t let the noise of others’ opinions drown out your own inner voice.', 'History, despite its wrenching pain, cannot be unlived, but if faced with courage, need not be lived again.', \"How old would you be if you didn't know how old you are?\", 'Leadership is a privilege to better the lives of others. It is not an opportunity to satisfy personal greed.', 'If you have good thoughts they will shine out of your face like sunbeams and you will always look lovely.', 'Never cut a tree down in the wintertime. Never make a negative decision in the low time. Never make your most important decisions when you are in your worst moods. Wait. Be patient. The storm will pass. The spring will come.', 'An optimist stays up until midnight to see the new year in. A pessimist stays up to make sure the old year leaves.', 'When the going gets weird, the weird turn pro.', \"When a train goes through a tunnel and it gets dark, you don't throw away the ticket and jump off. You sit still and trust the engineer.\", 'If you think you are too small to make a difference, try sleeping with a mosquito.', \"God doesn't require us to succeed, he only requires that you try.\", 'Change your thoughts and you change your world.', 'The essence of strategy is choosing what not to do.', 'One cannot and must not try to erase the past merely because it does not fit the present.', 'Patriotism means to stand by the country. It does not mean to stand by the president.', 'Death is something inevitable. When a man has done what he considers to be his duty to his people and his country, he can rest in peace. I believe I have made that effort and that is, therefore, why I will sleep for the eternity.', 'You have to love a nation that celebrates its independence every July 4, not with a parade of guns, tanks, and soldiers who file by the White House in a show of strength and muscle, but with family picnics where kids throw Frisbees, the potato salad gets iffy, and the flies die from happiness. You may think you have overeaten, but it is patriotism.', 'Be more concerned with your character than your reputation, because your character is what you really are, while your reputation is merely what others think you are.', 'Weak people revenge. Strong people forgive. Intelligent People Ignore.', \"A mind is like a parachute. It doesn't work if it is not open.\", 'Never be afraid to raise your voice for honesty and truth and compassion against injustice and lying and greed. If people all over the world...would do this, it would change the earth.', 'There are three kinds of men. The one that learns by reading. The few who learn by observation. The rest of them have to pee on the electric fence for themselves.', \"A strong nation, like a strong person, can afford to be gentle, firm, thoughtful, and restrained. It can afford to extend a helping hand to others. It's a weak nation, like a weak person, that must behave with bluster and boasting and rashness and other signs of insecurity.\", 'The difference between stupidity and genius is that genius has its limits.', 'We the people are the rightful masters of both Congress and the courts, not to overthrow the Constitution but to overthrow the men who pervert the Constitution.', 'With or without religion, you would have good people doing good things and evil people doing evil things. But for good people to do evil things, that takes religion.', 'Human kindness has never weakened the stamina or softened the fiber of a free people. A nation does not have to be cruel to be tough.', 'A person who never made a mistake never tried anything new.', 'My mission in life is not merely to survive, but to thrive; and to do so with some passion, some compassion, some humor, and some style', 'Life is short, Break the Rules. Forgive quickly, Kiss slowly. Love truly. Laugh uncontrollably And never regret ANYTHING That makes you smile.', 'This country will not be a good place for any of us to live in unless we make it a good place for all of us to live in.', 'In a world filled with hate, we must still dare to hope. In a world filled with anger, we must still dare to comfort. In a world filled with despair, we must still dare to dream. And in a world filled with distrust, we must still dare to believe.', 'Darkness cannot drive out darkness; only light can do that. Hate cannot drive out hate; only love can do that.', 'To be a Christian means to forgive the inexcusable because God has forgiven the inexcusable in you.', 'A man who is good enough to shed his blood for the country is good enough to be given a square deal afterwards.', 'Kindness is the language which the deaf can hear and the blind can see.', 'Most folks are as happy as they make up their minds to be.', 'A happy marriage is the union of two good forgivers.', 'I believe in Christianity as I believe that the sun has risen: not only because I see it, but because by it I see everything else.', 'Politics is the art of looking for trouble, finding it everywhere, diagnosing it incorrectly and applying the wrong remedies.', \"I believe in everything until it's disproved. So I believe in fairies, the myths, dragons. It all exists, even if it's in your mind. Who's to say that dreams and nightmares aren't as real as the here and now?\", 'At the end of your life, you will never regret not having passed one more test, not winning one more verdict or not closing one more deal. You will regret time not spent with a husband, a friend, a child, or a parent.', 'I never think of the future - it comes soon enough.', \"Our greatest fear should not be of failure but of succeeding at things in life that don't really matter.\", 'Failure is simply the opportunity to begin again, this time more intelligently.', 'Music expresses that which cannot be put into words.', 'Good actions are a guard against the blows of adversity.', 'Positive thinking will let you do everything better than negative thinking will.', \"You have enemies? Good. That means you've stood up for something, sometime in your life.\", \"You don't have to be great to start, but you have to start to be great\", 'Let every nation know, whether it wishes us well or ill, that we shall pay any price, bear any burden, meet any hardship, support any friend, oppose any foe to assure the survival and the success of liberty.', \"If you want total security, go to prison. There you're fed, clothed, given medical care and so on. The only thing lacking... is freedom.\", 'Socialism is a philosophy of failure, the creed of ignorance, and the gospel of envy, its inherent virtue is the equal sharing of misery.', 'It is the supreme art of the teacher to awaken joy in creative expression and knowledge.', \"Once you replace negative thoughts with positive ones, you'll start having positive results.\", \"You build on failure. You use it as a stepping stone. Close the door on the past. You don't try to forget the mistakes, but you don't dwell on it. You don't let it have any of your energy, or any of your time, or any of your space.\", 'All my life through, the new sights of Nature made me rejoice like a child.', \"I've learned that people will forget what you said, people will forget what you did, but people will never forget how you made them feel.\", 'Marriage is not a ritual or an end. It is a long, intricate, intimate dance together and nothing matters more than your own sense of balance and your choice of partner.', 'When obstacles arise, you change your direction to reach your goal; you do not change your decision to get there.', 'Time you enjoy wasting, was not wasted.', 'The next time some academics tell you how important diversity is, ask how many Republicans there are in their sociology department.', 'Faith is not the belief that God will do what you want. It is the belief that God will do what is right.', \"If you can't fly then run, if you can't run then walk, if you can't walk then crawl, but whatever you do you have to keep moving forward.\", 'It is hard to imagine a more stupid or more dangerous way of making decisions than by putting those decisions in the hands of people who pay no price for being wrong.', 'I say that the most liberating thing about beauty is realizing that you are the beholder.', 'The ultimate measure of a man is not where he stands in moments of comfort and convenience, but where he stands at times of challenge and controversy.', 'The soldier, above all other people, prays for peace, for he must suffer and bear the deepest wounds and scars of war.', 'A true leader has the confidence to stand alone, the courage to make tough decisions, and the compassion to listen to the needs of others. He does not set out to be a leader, but becomes one by the equality of his actions and the integrity of his intent.', 'I am a Soldier, I fight where I am told, and I win where I fight.', \"Trying to do the Lord's work in your own strength is the most confusing, exhausting, and tedious of all work. But when you are filled with the Holy Spirit, then the ministry of Jesus just flows out of you.\", \"Sports for me is when a guy walks off the court, and you really can't tell whether he won or lost, when he carries himself with pride either way.\", 'Expect the best. Prepare for the worst. Capitalize on what comes.', 'I became insane, with long intervals of horrible sanity.', 'Failure is a detour, not a dead-end street.', 'I am not a product of my circumstances. I am a product of my decisions.', 'You can cut all the flowers but you cannot keep spring from coming.', \"Life doesn't run away from nobody. Life runs at people.\", 'In order to succeed, your desire for success should be greater than your fear of failure.', \"It's difficult to think anything but pleasant thoughts while eating a homegrown tomato.\", 'Too many of us are not living our dreams because we are living our fears.', 'If the only prayer you ever say in your entire life is thank you, it will be enough.', \"It's just a job. Grass grows, birds fly, waves pound the sand. I beat people up.\", 'A man must be big enough to admit his mistakes, smart enough to profit from them, and strong enough to correct them.', 'Our greatest weakness lies in giving up. The most certain way to succeed is always to try just one more time.', \"It has been said, 'time heals all wounds.' I do not agree. The wounds remain. In time, the mind, protecting its sanity, covers them with scar tissue and the pain lessens. But it is never gone.\", 'This is one small step for a man, one giant leap for mankind.', \"I have held many things in my hands, and I have lost them all; but whatever I have placed in God's hands, that I still possess.\", \"Welfare's purpose should be to eliminate, as far as possible, the need for its own existence.\", 'Each time, before you intercede, be quiet first, and worship God in His glory. Think of what He can do, and how He delights to hear the prayers of His redeemed people. Think of your place and privilege in Christ, and expect great things!', \"Failure is not the opposite of success; it's part of success.\", 'No one has ever become poor by giving.', 'It is not my ability, but my response to God’s ability, that counts.', 'No one is born hating another person because of the color of his skin, or his background, or his religion. People must learn to hate, and if they can learn to hate, they can be taught to love, for love comes more naturally to the human heart than its opposite.', 'No matter what people tell you, words and ideas can change the world.', 'A man should never neglect his family for business.', 'Those who dare to fail miserably can achieve greatly.', 'The two most important days in your life are the day you are born and the day you find out why.', 'We must be global Christians with a global vision because our God is a global God.', 'With everything that has happened to you, you can either feel sorry for yourself or treat what has happened as a gift. Everything is either an opportunity to grow or an obstacle to keep you from growing. You get to choose.', 'Don’t let the noise of others’ opinions drown out your own inner voice.', 'History, despite its wrenching pain, cannot be unlived, but if faced with courage, need not be lived again.', \"How old would you be if you didn't know how old you are?\", 'Leadership is a privilege to better the lives of others. It is not an opportunity to satisfy personal greed.', 'If you have good thoughts they will shine out of your face like sunbeams and you will always look lovely.', 'Never cut a tree down in the wintertime. Never make a negative decision in the low time. Never make your most important decisions when you are in your worst moods. Wait. Be patient. The storm will pass. The spring will come.', 'An optimist stays up until midnight to see the new year in. A pessimist stays up to make sure the old year leaves.', 'When the going gets weird, the weird turn pro.', \"When a train goes through a tunnel and it gets dark, you don't throw away the ticket and jump off. You sit still and trust the engineer.\", 'If you think you are too small to make a difference, try sleeping with a mosquito.', \"God doesn't require us to succeed, he only requires that you try.\", 'Change your thoughts and you change your world.', 'The essence of strategy is choosing what not to do.', 'One cannot and must not try to erase the past merely because it does not fit the present.', 'Patriotism means to stand by the country. It does not mean to stand by the president.', 'Death is something inevitable. When a man has done what he considers to be his duty to his people and his country, he can rest in peace. I believe I have made that effort and that is, therefore, why I will sleep for the eternity.', 'You have to love a nation that celebrates its independence every July 4, not with a parade of guns, tanks, and soldiers who file by the White House in a show of strength and muscle, but with family picnics where kids throw Frisbees, the potato salad gets iffy, and the flies die from happiness. You may think you have overeaten, but it is patriotism.', 'Be more concerned with your character than your reputation, because your character is what you really are, while your reputation is merely what others think you are.', 'Weak people revenge. Strong people forgive. Intelligent People Ignore.', \"A mind is like a parachute. It doesn't work if it is not open.\", 'Never be afraid to raise your voice for honesty and truth and compassion against injustice and lying and greed. If people all over the world...would do this, it would change the earth.', 'There are three kinds of men. The one that learns by reading. The few who learn by observation. The rest of them have to pee on the electric fence for themselves.', \"A strong nation, like a strong person, can afford to be gentle, firm, thoughtful, and restrained. It can afford to extend a helping hand to others. It's a weak nation, like a weak person, that must behave with bluster and boasting and rashness and other signs of insecurity.\", 'The difference between stupidity and genius is that genius has its limits.', 'We the people are the rightful masters of both Congress and the courts, not to overthrow the Constitution but to overthrow the men who pervert the Constitution.', 'With or without religion, you would have good people doing good things and evil people doing evil things. But for good people to do evil things, that takes religion.', 'Human kindness has never weakened the stamina or softened the fiber of a free people. A nation does not have to be cruel to be tough.', 'A person who never made a mistake never tried anything new.', 'My mission in life is not merely to survive, but to thrive; and to do so with some passion, some compassion, some humor, and some style', 'Life is short, Break the Rules. Forgive quickly, Kiss slowly. Love truly. Laugh uncontrollably And never regret ANYTHING That makes you smile.', 'This country will not be a good place for any of us to live in unless we make it a good place for all of us to live in.', 'In a world filled with hate, we must still dare to hope. In a world filled with anger, we must still dare to comfort. In a world filled with despair, we must still dare to dream. And in a world filled with distrust, we must still dare to believe.', 'Darkness cannot drive out darkness; only light can do that. Hate cannot drive out hate; only love can do that.', 'To be a Christian means to forgive the inexcusable because God has forgiven the inexcusable in you.', 'A man who is good enough to shed his blood for the country is good enough to be given a square deal afterwards.', 'Kindness is the language which the deaf can hear and the blind can see.', 'Most folks are as happy as they make up their minds to be.', 'A happy marriage is the union of two good forgivers.', 'I believe in Christianity as I believe that the sun has risen: not only because I see it, but because by it I see everything else.', 'Politics is the art of looking for trouble, finding it everywhere, diagnosing it incorrectly and applying the wrong remedies.', \"I believe in everything until it's disproved. So I believe in fairies, the myths, dragons. It all exists, even if it's in your mind. Who's to say that dreams and nightmares aren't as real as the here and now?\", 'At the end of your life, you will never regret not having passed one more test, not winning one more verdict or not closing one more deal. You will regret time not spent with a husband, a friend, a child, or a parent.', 'I never think of the future - it comes soon enough.', \"Our greatest fear should not be of failure but of succeeding at things in life that don't really matter.\", 'Failure is simply the opportunity to begin again, this time more intelligently.', 'Music expresses that which cannot be put into words.', 'Good actions are a guard against the blows of adversity.', 'Positive thinking will let you do everything better than negative thinking will.', \"You have enemies? Good. That means you've stood up for something, sometime in your life.\", \"You don't have to be great to start, but you have to start to be great\", 'Let every nation know, whether it wishes us well or ill, that we shall pay any price, bear any burden, meet any hardship, support any friend, oppose any foe to assure the survival and the success of liberty.', \"If you want total security, go to prison. There you're fed, clothed, given medical care and so on. The only thing lacking... is freedom.\", 'Socialism is a philosophy of failure, the creed of ignorance, and the gospel of envy, its inherent virtue is the equal sharing of misery.', 'It is the supreme art of the teacher to awaken joy in creative expression and knowledge.', \"Once you replace negative thoughts with positive ones, you'll start having positive results.\", \"You build on failure. You use it as a stepping stone. Close the door on the past. You don't try to forget the mistakes, but you don't dwell on it. You don't let it have any of your energy, or any of your time, or any of your space.\", 'All my life through, the new sights of Nature made me rejoice like a child.', \"I've learned that people will forget what you said, people will forget what you did, but people will never forget how you made them feel.\", 'Marriage is not a ritual or an end. It is a long, intricate, intimate dance together and nothing matters more than your own sense of balance and your choice of partner.', 'When obstacles arise, you change your direction to reach your goal; you do not change your decision to get there.', 'Time you enjoy wasting, was not wasted.', 'The next time some academics tell you how important diversity is, ask how many Republicans there are in their sociology department.', 'Faith is not the belief that God will do what you want. It is the belief that God will do what is right.', \"If you can't fly then run, if you can't run then walk, if you can't walk then crawl, but whatever you do you have to keep moving forward.\", 'It is hard to imagine a more stupid or more dangerous way of making decisions than by putting those decisions in the hands of people who pay no price for being wrong.', 'I say that the most liberating thing about beauty is realizing that you are the beholder.', 'The ultimate measure of a man is not where he stands in moments of comfort and convenience, but where he stands at times of challenge and controversy.', 'The soldier, above all other people, prays for peace, for he must suffer and bear the deepest wounds and scars of war.', 'A true leader has the confidence to stand alone, the courage to make tough decisions, and the compassion to listen to the needs of others. He does not set out to be a leader, but becomes one by the equality of his actions and the integrity of his intent.', 'I am a Soldier, I fight where I am told, and I win where I fight.', \"Trying to do the Lord's work in your own strength is the most confusing, exhausting, and tedious of all work. But when you are filled with the Holy Spirit, then the ministry of Jesus just flows out of you.\", \"Sports for me is when a guy walks off the court, and you really can't tell whether he won or lost, when he carries himself with pride either way.\", 'Expect the best. Prepare for the worst. Capitalize on what comes.', 'I became insane, with long intervals of horrible sanity.', 'Failure is a detour, not a dead-end street.', 'I am not a product of my circumstances. I am a product of my decisions.', 'You can cut all the flowers but you cannot keep spring from coming.', \"Life doesn't run away from nobody. Life runs at people.\", 'In order to succeed, your desire for success should be greater than your fear of failure.', \"It's difficult to think anything but pleasant thoughts while eating a homegrown tomato.\", 'Too many of us are not living our dreams because we are living our fears.', 'If the only prayer you ever say in your entire life is thank you, it will be enough.', \"It's just a job. Grass grows, birds fly, waves pound the sand. I beat people up.\", 'A man must be big enough to admit his mistakes, smart enough to profit from them, and strong enough to correct them.', 'Our greatest weakness lies in giving up. The most certain way to succeed is always to try just one more time.', \"It has been said, 'time heals all wounds.' I do not agree. The wounds remain. In time, the mind, protecting its sanity, covers them with scar tissue and the pain lessens. But it is never gone.\", 'This is one small step for a man, one giant leap for mankind.', \"I have held many things in my hands, and I have lost them all; but whatever I have placed in God's hands, that I still possess.\", \"Welfare's purpose should be to eliminate, as far as possible, the need for its own existence.\", 'Each time, before you intercede, be quiet first, and worship God in His glory. Think of what He can do, and how He delights to hear the prayers of His redeemed people. Think of your place and privilege in Christ, and expect great things!', \"Failure is not the opposite of success; it's part of success.\", 'No one has ever become poor by giving.', 'It is not my ability, but my response to God’s ability, that counts.', 'No one is born hating another person because of the color of his skin, or his background, or his religion. People must learn to hate, and if they can learn to hate, they can be taught to love, for love comes more naturally to the human heart than its opposite.', 'No matter what people tell you, words and ideas can change the world.', 'A man should never neglect his family for business.', 'Those who dare to fail miserably can achieve greatly.', 'The two most important days in your life are the day you are born and the day you find out why.', 'We must be global Christians with a global vision because our God is a global God.', 'With everything that has happened to you, you can either feel sorry for yourself or treat what has happened as a gift. Everything is either an opportunity to grow or an obstacle to keep you from growing. You get to choose.', 'Don’t let the noise of others’ opinions drown out your own inner voice.', 'History, despite its wrenching pain, cannot be unlived, but if faced with courage, need not be lived again.', \"How old would you be if you didn't know how old you are?\", 'Leadership is a privilege to better the lives of others. It is not an opportunity to satisfy personal greed.', 'If you have good thoughts they will shine out of your face like sunbeams and you will always look lovely.', 'Never cut a tree down in the wintertime. Never make a negative decision in the low time. Never make your most important decisions when you are in your worst moods. Wait. Be patient. The storm will pass. The spring will come.', 'An optimist stays up until midnight to see the new year in. A pessimist stays up to make sure the old year leaves.', 'When the going gets weird, the weird turn pro.', \"When a train goes through a tunnel and it gets dark, you don't throw away the ticket and jump off. You sit still and trust the engineer.\", 'If you think you are too small to make a difference, try sleeping with a mosquito.', \"God doesn't require us to succeed, he only requires that you try.\", 'Change your thoughts and you change your world.', 'The essence of strategy is choosing what not to do.', 'One cannot and must not try to erase the past merely because it does not fit the present.', 'Patriotism means to stand by the country. It does not mean to stand by the president.', 'Death is something inevitable. When a man has done what he considers to be his duty to his people and his country, he can rest in peace. I believe I have made that effort and that is, therefore, why I will sleep for the eternity.', 'You have to love a nation that celebrates its independence every July 4, not with a parade of guns, tanks, and soldiers who file by the White House in a show of strength and muscle, but with family picnics where kids throw Frisbees, the potato salad gets iffy, and the flies die from happiness. You may think you have overeaten, but it is patriotism.', 'Be more concerned with your character than your reputation, because your character is what you really are, while your reputation is merely what others think you are.', 'Weak people revenge. Strong people forgive. Intelligent People Ignore.', \"A mind is like a parachute. It doesn't work if it is not open.\", 'Never be afraid to raise your voice for honesty and truth and compassion against injustice and lying and greed. If people all over the world...would do this, it would change the earth.', 'There are three kinds of men. The one that learns by reading. The few who learn by observation. The rest of them have to pee on the electric fence for themselves.', \"A strong nation, like a strong person, can afford to be gentle, firm, thoughtful, and restrained. It can afford to extend a helping hand to others. It's a weak nation, like a weak person, that must behave with bluster and boasting and rashness and other signs of insecurity.\", 'The difference between stupidity and genius is that genius has its limits.', 'We the people are the rightful masters of both Congress and the courts, not to overthrow the Constitution but to overthrow the men who pervert the Constitution.', 'With or without religion, you would have good people doing good things and evil people doing evil things. But for good people to do evil things, that takes religion.', 'Human kindness has never weakened the stamina or softened the fiber of a free people. A nation does not have to be cruel to be tough.', 'A person who never made a mistake never tried anything new.', 'My mission in life is not merely to survive, but to thrive; and to do so with some passion, some compassion, some humor, and some style', 'Life is short, Break the Rules. Forgive quickly, Kiss slowly. Love truly. Laugh uncontrollably And never regret ANYTHING That makes you smile.', 'This country will not be a good place for any of us to live in unless we make it a good place for all of us to live in.', 'In a world filled with hate, we must still dare to hope. In a world filled with anger, we must still dare to comfort. In a world filled with despair, we must still dare to dream. And in a world filled with distrust, we must still dare to believe.', 'Darkness cannot drive out darkness; only light can do that. Hate cannot drive out hate; only love can do that.', 'To be a Christian means to forgive the inexcusable because God has forgiven the inexcusable in you.', 'A man who is good enough to shed his blood for the country is good enough to be given a square deal afterwards.', 'Kindness is the language which the deaf can hear and the blind can see.', 'Most folks are as happy as they make up their minds to be.', 'A happy marriage is the union of two good forgivers.', 'I believe in Christianity as I believe that the sun has risen: not only because I see it, but because by it I see everything else.', 'Politics is the art of looking for trouble, finding it everywhere, diagnosing it incorrectly and applying the wrong remedies.', \"I believe in everything until it's disproved. So I believe in fairies, the myths, dragons. It all exists, even if it's in your mind. Who's to say that dreams and nightmares aren't as real as the here and now?\", 'At the end of your life, you will never regret not having passed one more test, not winning one more verdict or not closing one more deal. You will regret time not spent with a husband, a friend, a child, or a parent.', 'I never think of the future - it comes soon enough.', \"Our greatest fear should not be of failure but of succeeding at things in life that don't really matter.\", 'Failure is simply the opportunity to begin again, this time more intelligently.', 'Music expresses that which cannot be put into words.', 'Good actions are a guard against the blows of adversity.', 'Positive thinking will let you do everything better than negative thinking will.', \"You have enemies? Good. That means you've stood up for something, sometime in your life.\", \"You don't have to be great to start, but you have to start to be great\", 'Let every nation know, whether it wishes us well or ill, that we shall pay any price, bear any burden, meet any hardship, support any friend, oppose any foe to assure the survival and the success of liberty.', \"If you want total security, go to prison. There you're fed, clothed, given medical care and so on. The only thing lacking... is freedom.\", 'Socialism is a philosophy of failure, the creed of ignorance, and the gospel of envy, its inherent virtue is the equal sharing of misery.', 'It is the supreme art of the teacher to awaken joy in creative expression and knowledge.', \"Once you replace negative thoughts with positive ones, you'll start having positive results.\", \"You build on failure. You use it as a stepping stone. Close the door on the past. You don't try to forget the mistakes, but you don't dwell on it. You don't let it have any of your energy, or any of your time, or any of your space.\", 'All my life through, the new sights of Nature made me rejoice like a child.', \"I've learned that people will forget what you said, people will forget what you did, but people will never forget how you made them feel.\", 'Marriage is not a ritual or an end. It is a long, intricate, intimate dance together and nothing matters more than your own sense of balance and your choice of partner.', 'When obstacles arise, you change your direction to reach your goal; you do not change your decision to get there.', 'Time you enjoy wasting, was not wasted.', 'The next time some academics tell you how important diversity is, ask how many Republicans there are in their sociology department.', 'Faith is not the belief that God will do what you want. It is the belief that God will do what is right.', \"If you can't fly then run, if you can't run then walk, if you can't walk then crawl, but whatever you do you have to keep moving forward.\", 'It is hard to imagine a more stupid or more dangerous way of making decisions than by putting those decisions in the hands of people who pay no price for being wrong.', 'I say that the most liberating thing about beauty is realizing that you are the beholder.', 'The ultimate measure of a man is not where he stands in moments of comfort and convenience, but where he stands at times of challenge and controversy.', 'The soldier, above all other people, prays for peace, for he must suffer and bear the deepest wounds and scars of war.', 'A true leader has the confidence to stand alone, the courage to make tough decisions, and the compassion to listen to the needs of others. He does not set out to be a leader, but becomes one by the equality of his actions and the integrity of his intent.', 'I am a Soldier, I fight where I am told, and I win where I fight.', \"Trying to do the Lord's work in your own strength is the most confusing, exhausting, and tedious of all work. But when you are filled with the Holy Spirit, then the ministry of Jesus just flows out of you.\", \"Sports for me is when a guy walks off the court, and you really can't tell whether he won or lost, when he carries himself with pride either way.\", 'Expect the best. Prepare for the worst. Capitalize on what comes.', 'I became insane, with long intervals of horrible sanity.', 'Failure is a detour, not a dead-end street.', 'I am not a product of my circumstances. I am a product of my decisions.', 'You can cut all the flowers but you cannot keep spring from coming.', \"Life doesn't run away from nobody. Life runs at people.\", 'In order to succeed, your desire for success should be greater than your fear of failure.', \"It's difficult to think anything but pleasant thoughts while eating a homegrown tomato.\", 'Too many of us are not living our dreams because we are living our fears.', 'If the only prayer you ever say in your entire life is thank you, it will be enough.', \"It's just a job. Grass grows, birds fly, waves pound the sand. I beat people up.\", 'A man must be big enough to admit his mistakes, smart enough to profit from them, and strong enough to correct them.', 'Our greatest weakness lies in giving up. The most certain way to succeed is always to try just one more time.', \"It has been said, 'time heals all wounds.' I do not agree. The wounds remain. In time, the mind, protecting its sanity, covers them with scar tissue and the pain lessens. But it is never gone.\", 'This is one small step for a man, one giant leap for mankind.', \"I have held many things in my hands, and I have lost them all; but whatever I have placed in God's hands, that I still possess.\", \"Welfare's purpose should be to eliminate, as far as possible, the need for its own existence.\", 'Each time, before you intercede, be quiet first, and worship God in His glory. Think of what He can do, and how He delights to hear the prayers of His redeemed people. Think of your place and privilege in Christ, and expect great things!', \"Failure is not the opposite of success; it's part of success.\", 'No one has ever become poor by giving.', 'It is not my ability, but my response to God’s ability, that counts.', 'No one is born hating another person because of the color of his skin, or his background, or his religion. People must learn to hate, and if they can learn to hate, they can be taught to love, for love comes more naturally to the human heart than its opposite.', 'No matter what people tell you, words and ideas can change the world.', 'A man should never neglect his family for business.', 'Those who dare to fail miserably can achieve greatly.', 'The two most important days in your life are the day you are born and the day you find out why.', 'We must be global Christians with a global vision because our God is a global God.', 'With everything that has happened to you, you can either feel sorry for yourself or treat what has happened as a gift. Everything is either an opportunity to grow or an obstacle to keep you from growing. You get to choose.', 'Don’t let the noise of others’ opinions drown out your own inner voice.', 'History, despite its wrenching pain, cannot be unlived, but if faced with courage, need not be lived again.', \"How old would you be if you didn't know how old you are?\", 'Leadership is a privilege to better the lives of others. It is not an opportunity to satisfy personal greed.', 'If you have good thoughts they will shine out of your face like sunbeams and you will always look lovely.', 'Never cut a tree down in the wintertime. Never make a negative decision in the low time. Never make your most important decisions when you are in your worst moods. Wait. Be patient. The storm will pass. The spring will come.', 'An optimist stays up until midnight to see the new year in. A pessimist stays up to make sure the old year leaves.', 'When the going gets weird, the weird turn pro.', \"When a train goes through a tunnel and it gets dark, you don't throw away the ticket and jump off. You sit still and trust the engineer.\", 'If you think you are too small to make a difference, try sleeping with a mosquito.', \"God doesn't require us to succeed, he only requires that you try.\", 'Change your thoughts and you change your world.', 'The essence of strategy is choosing what not to do.', 'One cannot and must not try to erase the past merely because it does not fit the present.', 'Patriotism means to stand by the country. It does not mean to stand by the president.', 'Death is something inevitable. When a man has done what he considers to be his duty to his people and his country, he can rest in peace. I believe I have made that effort and that is, therefore, why I will sleep for the eternity.', 'You have to love a nation that celebrates its independence every July 4, not with a parade of guns, tanks, and soldiers who file by the White House in a show of strength and muscle, but with family picnics where kids throw Frisbees, the potato salad gets iffy, and the flies die from happiness. You may think you have overeaten, but it is patriotism.', 'Be more concerned with your character than your reputation, because your character is what you really are, while your reputation is merely what others think you are.', 'Weak people revenge. Strong people forgive. Intelligent People Ignore.', \"A mind is like a parachute. It doesn't work if it is not open.\", 'Never be afraid to raise your voice for honesty and truth and compassion against injustice and lying and greed. If people all over the world...would do this, it would change the earth.', 'There are three kinds of men. The one that learns by reading. The few who learn by observation. The rest of them have to pee on the electric fence for themselves.', \"A strong nation, like a strong person, can afford to be gentle, firm, thoughtful, and restrained. It can afford to extend a helping hand to others. It's a weak nation, like a weak person, that must behave with bluster and boasting and rashness and other signs of insecurity.\", 'The difference between stupidity and genius is that genius has its limits.', 'We the people are the rightful masters of both Congress and the courts, not to overthrow the Constitution but to overthrow the men who pervert the Constitution.', 'With or without religion, you would have good people doing good things and evil people doing evil things. But for good people to do evil things, that takes religion.', 'Human kindness has never weakened the stamina or softened the fiber of a free people. A nation does not have to be cruel to be tough.', 'A person who never made a mistake never tried anything new.', 'My mission in life is not merely to survive, but to thrive; and to do so with some passion, some compassion, some humor, and some style', 'Life is short, Break the Rules. Forgive quickly, Kiss slowly. Love truly. Laugh uncontrollably And never regret ANYTHING That makes you smile.', 'This country will not be a good place for any of us to live in unless we make it a good place for all of us to live in.', 'In a world filled with hate, we must still dare to hope. In a world filled with anger, we must still dare to comfort. In a world filled with despair, we must still dare to dream. And in a world filled with distrust, we must still dare to believe.', 'Darkness cannot drive out darkness; only light can do that. Hate cannot drive out hate; only love can do that.', 'To be a Christian means to forgive the inexcusable because God has forgiven the inexcusable in you.', 'A man who is good enough to shed his blood for the country is good enough to be given a square deal afterwards.', 'Kindness is the language which the deaf can hear and the blind can see.', 'Most folks are as happy as they make up their minds to be.', 'A happy marriage is the union of two good forgivers.', 'I believe in Christianity as I believe that the sun has risen: not only because I see it, but because by it I see everything else.', 'Politics is the art of looking for trouble, finding it everywhere, diagnosing it incorrectly and applying the wrong remedies.', \"I believe in everything until it's disproved. So I believe in fairies, the myths, dragons. It all exists, even if it's in your mind. Who's to say that dreams and nightmares aren't as real as the here and now?\", 'At the end of your life, you will never regret not having passed one more test, not winning one more verdict or not closing one more deal. You will regret time not spent with a husband, a friend, a child, or a parent.', 'I never think of the future - it comes soon enough.', \"Our greatest fear should not be of failure but of succeeding at things in life that don't really matter.\", 'Failure is simply the opportunity to begin again, this time more intelligently.', 'Music expresses that which cannot be put into words.', 'Good actions are a guard against the blows of adversity.', 'Positive thinking will let you do everything better than negative thinking will.', \"You have enemies? Good. That means you've stood up for something, sometime in your life.\", \"You don't have to be great to start, but you have to start to be great\", 'Let every nation know, whether it wishes us well or ill, that we shall pay any price, bear any burden, meet any hardship, support any friend, oppose any foe to assure the survival and the success of liberty.', \"If you want total security, go to prison. There you're fed, clothed, given medical care and so on. The only thing lacking... is freedom.\", 'Socialism is a philosophy of failure, the creed of ignorance, and the gospel of envy, its inherent virtue is the equal sharing of misery.', 'It is the supreme art of the teacher to awaken joy in creative expression and knowledge.', \"Once you replace negative thoughts with positive ones, you'll start having positive results.\", \"You build on failure. You use it as a stepping stone. Close the door on the past. You don't try to forget the mistakes, but you don't dwell on it. You don't let it have any of your energy, or any of your time, or any of your space.\", 'All my life through, the new sights of Nature made me rejoice like a child.', \"I've learned that people will forget what you said, people will forget what you did, but people will never forget how you made them feel.\", 'Marriage is not a ritual or an end. It is a long, intricate, intimate dance together and nothing matters more than your own sense of balance and your choice of partner.', 'When obstacles arise, you change your direction to reach your goal; you do not change your decision to get there.', 'Time you enjoy wasting, was not wasted.', 'The next time some academics tell you how important diversity is, ask how many Republicans there are in their sociology department.', 'Faith is not the belief that God will do what you want. It is the belief that God will do what is right.', \"If you can't fly then run, if you can't run then walk, if you can't walk then crawl, but whatever you do you have to keep moving forward.\", 'It is hard to imagine a more stupid or more dangerous way of making decisions than by putting those decisions in the hands of people who pay no price for being wrong.', 'I say that the most liberating thing about beauty is realizing that you are the beholder.', 'The ultimate measure of a man is not where he stands in moments of comfort and convenience, but where he stands at times of challenge and controversy.', 'The soldier, above all other people, prays for peace, for he must suffer and bear the deepest wounds and scars of war.', 'A true leader has the confidence to stand alone, the courage to make tough decisions, and the compassion to listen to the needs of others. He does not set out to be a leader, but becomes one by the equality of his actions and the integrity of his intent.', 'I am a Soldier, I fight where I am told, and I win where I fight.', \"Trying to do the Lord's work in your own strength is the most confusing, exhausting, and tedious of all work. But when you are filled with the Holy Spirit, then the ministry of Jesus just flows out of you.\", \"Sports for me is when a guy walks off the court, and you really can't tell whether he won or lost, when he carries himself with pride either way.\", 'Expect the best. Prepare for the worst. Capitalize on what comes.', 'I became insane, with long intervals of horrible sanity.', 'Failure is a detour, not a dead-end street.', 'I am not a product of my circumstances. I am a product of my decisions.', 'You can cut all the flowers but you cannot keep spring from coming.', \"Life doesn't run away from nobody. Life runs at people.\", 'In order to succeed, your desire for success should be greater than your fear of failure.', \"It's difficult to think anything but pleasant thoughts while eating a homegrown tomato.\", 'Too many of us are not living our dreams because we are living our fears.', 'If the only prayer you ever say in your entire life is thank you, it will be enough.', \"It's just a job. Grass grows, birds fly, waves pound the sand. I beat people up.\", 'A man must be big enough to admit his mistakes, smart enough to profit from them, and strong enough to correct them.', 'Our greatest weakness lies in giving up. The most certain way to succeed is always to try just one more time.', \"It has been said, 'time heals all wounds.' I do not agree. The wounds remain. In time, the mind, protecting its sanity, covers them with scar tissue and the pain lessens. But it is never gone.\", 'This is one small step for a man, one giant leap for mankind.', \"I have held many things in my hands, and I have lost them all; but whatever I have placed in God's hands, that I still possess.\", \"Welfare's purpose should be to eliminate, as far as possible, the need for its own existence.\", 'Each time, before you intercede, be quiet first, and worship God in His glory. Think of what He can do, and how He delights to hear the prayers of His redeemed people. Think of your place and privilege in Christ, and expect great things!', \"Failure is not the opposite of success; it's part of success.\", 'No one has ever become poor by giving.', 'It is not my ability, but my response to God’s ability, that counts.', 'No one is born hating another person because of the color of his skin, or his background, or his religion. People must learn to hate, and if they can learn to hate, they can be taught to love, for love comes more naturally to the human heart than its opposite.', 'No matter what people tell you, words and ideas can change the world.', 'A man should never neglect his family for business.', 'Those who dare to fail miserably can achieve greatly.', 'The two most important days in your life are the day you are born and the day you find out why.', 'We must be global Christians with a global vision because our God is a global God.', 'With everything that has happened to you, you can either feel sorry for yourself or treat what has happened as a gift. Everything is either an opportunity to grow or an obstacle to keep you from growing. You get to choose.', 'Don’t let the noise of others’ opinions drown out your own inner voice.', 'History, despite its wrenching pain, cannot be unlived, but if faced with courage, need not be lived again.', \"How old would you be if you didn't know how old you are?\", 'Leadership is a privilege to better the lives of others. It is not an opportunity to satisfy personal greed.', 'If you have good thoughts they will shine out of your face like sunbeams and you will always look lovely.', 'Never cut a tree down in the wintertime. Never make a negative decision in the low time. Never make your most important decisions when you are in your worst moods. Wait. Be patient. The storm will pass. The spring will come.', 'An optimist stays up until midnight to see the new year in. A pessimist stays up to make sure the old year leaves.', 'When the going gets weird, the weird turn pro.', \"When a train goes through a tunnel and it gets dark, you don't throw away the ticket and jump off. You sit still and trust the engineer.\", 'If you think you are too small to make a difference, try sleeping with a mosquito.', \"God doesn't require us to succeed, he only requires that you try.\", 'Change your thoughts and you change your world.', 'The essence of strategy is choosing what not to do.', 'One cannot and must not try to erase the past merely because it does not fit the present.', 'Patriotism means to stand by the country. It does not mean to stand by the president.', 'Death is something inevitable. When a man has done what he considers to be his duty to his people and his country, he can rest in peace. I believe I have made that effort and that is, therefore, why I will sleep for the eternity.', 'You have to love a nation that celebrates its independence every July 4, not with a parade of guns, tanks, and soldiers who file by the White House in a show of strength and muscle, but with family picnics where kids throw Frisbees, the potato salad gets iffy, and the flies die from happiness. You may think you have overeaten, but it is patriotism.', 'Be more concerned with your character than your reputation, because your character is what you really are, while your reputation is merely what others think you are.', 'Weak people revenge. Strong people forgive. Intelligent People Ignore.', \"A mind is like a parachute. It doesn't work if it is not open.\", 'Never be afraid to raise your voice for honesty and truth and compassion against injustice and lying and greed. If people all over the world...would do this, it would change the earth.', 'There are three kinds of men. The one that learns by reading. The few who learn by observation. The rest of them have to pee on the electric fence for themselves.', \"A strong nation, like a strong person, can afford to be gentle, firm, thoughtful, and restrained. It can afford to extend a helping hand to others. It's a weak nation, like a weak person, that must behave with bluster and boasting and rashness and other signs of insecurity.\", 'The difference between stupidity and genius is that genius has its limits.', 'We the people are the rightful masters of both Congress and the courts, not to overthrow the Constitution but to overthrow the men who pervert the Constitution.', 'With or without religion, you would have good people doing good things and evil people doing evil things. But for good people to do evil things, that takes religion.', 'Human kindness has never weakened the stamina or softened the fiber of a free people. A nation does not have to be cruel to be tough.', 'A person who never made a mistake never tried anything new.', 'My mission in life is not merely to survive, but to thrive; and to do so with some passion, some compassion, some humor, and some style', 'Life is short, Break the Rules. Forgive quickly, Kiss slowly. Love truly. Laugh uncontrollably And never regret ANYTHING That makes you smile.', 'This country will not be a good place for any of us to live in unless we make it a good place for all of us to live in.', 'In a world filled with hate, we must still dare to hope. In a world filled with anger, we must still dare to comfort. In a world filled with despair, we must still dare to dream. And in a world filled with distrust, we must still dare to believe.', 'Darkness cannot drive out darkness; only light can do that. Hate cannot drive out hate; only love can do that.', 'To be a Christian means to forgive the inexcusable because God has forgiven the inexcusable in you.', 'A man who is good enough to shed his blood for the country is good enough to be given a square deal afterwards.', 'Kindness is the language which the deaf can hear and the blind can see.', 'Most folks are as happy as they make up their minds to be.', 'A happy marriage is the union of two good forgivers.', 'I believe in Christianity as I believe that the sun has risen: not only because I see it, but because by it I see everything else.', 'Politics is the art of looking for trouble, finding it everywhere, diagnosing it incorrectly and applying the wrong remedies.', \"I believe in everything until it's disproved. So I believe in fairies, the myths, dragons. It all exists, even if it's in your mind. Who's to say that dreams and nightmares aren't as real as the here and now?\", 'At the end of your life, you will never regret not having passed one more test, not winning one more verdict or not closing one more deal. You will regret time not spent with a husband, a friend, a child, or a parent.', 'I never think of the future - it comes soon enough.', \"Our greatest fear should not be of failure but of succeeding at things in life that don't really matter.\", 'Failure is simply the opportunity to begin again, this time more intelligently.', 'Music expresses that which cannot be put into words.', 'Good actions are a guard against the blows of adversity.', 'Positive thinking will let you do everything better than negative thinking will.', \"You have enemies? Good. That means you've stood up for something, sometime in your life.\", \"You don't have to be great to start, but you have to start to be great\", 'Let every nation know, whether it wishes us well or ill, that we shall pay any price, bear any burden, meet any hardship, support any friend, oppose any foe to assure the survival and the success of liberty.', \"If you want total security, go to prison. There you're fed, clothed, given medical care and so on. The only thing lacking... is freedom.\", 'Socialism is a philosophy of failure, the creed of ignorance, and the gospel of envy, its inherent virtue is the equal sharing of misery.', 'It is the supreme art of the teacher to awaken joy in creative expression and knowledge.', \"Once you replace negative thoughts with positive ones, you'll start having positive results.\", \"You build on failure. You use it as a stepping stone. Close the door on the past. You don't try to forget the mistakes, but you don't dwell on it. You don't let it have any of your energy, or any of your time, or any of your space.\", 'All my life through, the new sights of Nature made me rejoice like a child.', \"I've learned that people will forget what you said, people will forget what you did, but people will never forget how you made them feel.\", 'Marriage is not a ritual or an end. It is a long, intricate, intimate dance together and nothing matters more than your own sense of balance and your choice of partner.', 'When obstacles arise, you change your direction to reach your goal; you do not change your decision to get there.', 'Time you enjoy wasting, was not wasted.', 'The next time some academics tell you how important diversity is, ask how many Republicans there are in their sociology department.', 'Faith is not the belief that God will do what you want. It is the belief that God will do what is right.', \"If you can't fly then run, if you can't run then walk, if you can't walk then crawl, but whatever you do you have to keep moving forward.\", 'It is hard to imagine a more stupid or more dangerous way of making decisions than by putting those decisions in the hands of people who pay no price for being wrong.', 'I say that the most liberating thing about beauty is realizing that you are the beholder.', 'The ultimate measure of a man is not where he stands in moments of comfort and convenience, but where he stands at times of challenge and controversy.', 'The soldier, above all other people, prays for peace, for he must suffer and bear the deepest wounds and scars of war.', 'A true leader has the confidence to stand alone, the courage to make tough decisions, and the compassion to listen to the needs of others. He does not set out to be a leader, but becomes one by the equality of his actions and the integrity of his intent.', 'I am a Soldier, I fight where I am told, and I win where I fight.', \"Trying to do the Lord's work in your own strength is the most confusing, exhausting, and tedious of all work. But when you are filled with the Holy Spirit, then the ministry of Jesus just flows out of you.\", \"Sports for me is when a guy walks off the court, and you really can't tell whether he won or lost, when he carries himself with pride either way.\", 'Expect the best. Prepare for the worst. Capitalize on what comes.', 'I became insane, with long intervals of horrible sanity.', 'Failure is a detour, not a dead-end street.', 'I am not a product of my circumstances. I am a product of my decisions.', 'You can cut all the flowers but you cannot keep spring from coming.', \"Life doesn't run away from nobody. Life runs at people.\", 'In order to succeed, your desire for success should be greater than your fear of failure.', \"It's difficult to think anything but pleasant thoughts while eating a homegrown tomato.\", 'Too many of us are not living our dreams because we are living our fears.', 'If the only prayer you ever say in your entire life is thank you, it will be enough.', \"It's just a job. Grass grows, birds fly, waves pound the sand. I beat people up.\", 'A man must be big enough to admit his mistakes, smart enough to profit from them, and strong enough to correct them.', 'Our greatest weakness lies in giving up. The most certain way to succeed is always to try just one more time.', \"It has been said, 'time heals all wounds.' I do not agree. The wounds remain. In time, the mind, protecting its sanity, covers them with scar tissue and the pain lessens. But it is never gone.\", 'This is one small step for a man, one giant leap for mankind.', \"I have held many things in my hands, and I have lost them all; but whatever I have placed in God's hands, that I still possess.\", \"Welfare's purpose should be to eliminate, as far as possible, the need for its own existence.\", 'Each time, before you intercede, be quiet first, and worship God in His glory. Think of what He can do, and how He delights to hear the prayers of His redeemed people. Think of your place and privilege in Christ, and expect great things!', \"Failure is not the opposite of success; it's part of success.\", 'No one has ever become poor by giving.', 'It is not my ability, but my response to God’s ability, that counts.', 'No one is born hating another person because of the color of his skin, or his background, or his religion. People must learn to hate, and if they can learn to hate, they can be taught to love, for love comes more naturally to the human heart than its opposite.', 'No matter what people tell you, words and ideas can change the world.', 'A man should never neglect his family for business.', 'Those who dare to fail miserably can achieve greatly.', 'The two most important days in your life are the day you are born and the day you find out why.', 'We must be global Christians with a global vision because our God is a global God.', 'With everything that has happened to you, you can either feel sorry for yourself or treat what has happened as a gift. Everything is either an opportunity to grow or an obstacle to keep you from growing. You get to choose.', 'Don’t let the noise of others’ opinions drown out your own inner voice.', 'History, despite its wrenching pain, cannot be unlived, but if faced with courage, need not be lived again.', \"How old would you be if you didn't know how old you are?\", 'Leadership is a privilege to better the lives of others. It is not an opportunity to satisfy personal greed.', 'If you have good thoughts they will shine out of your face like sunbeams and you will always look lovely.', 'Never cut a tree down in the wintertime. Never make a negative decision in the low time. Never make your most important decisions when you are in your worst moods. Wait. Be patient. The storm will pass. The spring will come.', 'An optimist stays up until midnight to see the new year in. A pessimist stays up to make sure the old year leaves.', 'When the going gets weird, the weird turn pro.', \"When a train goes through a tunnel and it gets dark, you don't throw away the ticket and jump off. You sit still and trust the engineer.\", 'If you think you are too small to make a difference, try sleeping with a mosquito.', \"God doesn't require us to succeed, he only requires that you try.\", 'Change your thoughts and you change your world.']\n"
     ]
    }
   ],
   "source": [
    "\n",
    "start=0\n",
    "end=10\n",
    "for page in range(start,end):\n",
    "    quote_tags=driver.find_elements(By.XPATH,'//div[@class=\"wrap-block\"]/p/a[2]')\n",
    "    for i in quote_tags:\n",
    "        quote=i.text\n",
    "        quotes.append(quote)\n",
    "next_button=driver.find_element(By.XPATH,'//li[@class=\"next\"]')\n",
    "next_button.click()\n",
    "time.sleep(3)\n",
    "print(quotes)"
   ]
  },
  {
   "cell_type": "code",
   "execution_count": 57,
   "id": "743cd84f-9ca5-4668-ac90-7f19eda22b63",
   "metadata": {},
   "outputs": [
    {
     "name": "stdout",
     "output_type": "stream",
     "text": [
      "['Michael Porter', 'Golda Meir', 'Theodore Roosevelt', 'Nelson Mandela', 'Erma Bombeck', 'John Wooden', 'Albert Einstein', 'Frank Zappa', 'William Faulkner', 'Will Rogers', 'Jimmy Carter', 'Albert Einstein', 'Abraham Lincoln', 'Steven Weinberg', 'Franklin D. Roosevelt', 'Albert Einstein', 'Maya Angelou', 'Mark Twain', 'Theodore Roosevelt', 'Michael Jackson', 'Martin Luther King, Jr.', 'C. S. Lewis', 'Theodore Roosevelt', 'Mark Twain', 'Abraham Lincoln', 'Ruth Graham', 'C. S. Lewis', 'Groucho Marx', 'John Lennon', 'Barbara Bush', 'Albert Einstein', 'Francis Chan', 'Henry Ford', 'Victor Hugo', 'Abu Bakr', 'Zig Ziglar', 'Winston Churchill', 'Zig Ziglar', 'John F. Kennedy', 'Dwight D. Eisenhower', 'Winston Churchill', 'Albert Einstein', 'Willie Nelson', 'Johnny Cash', 'Marie Curie', 'Maya Angelou', 'Amy Bloom', 'Zig Ziglar', 'John Lennon', 'Thomas Sowell', 'Max Lucado', 'Martin Luther King, Jr.', 'Thomas Sowell', 'Salma Hayek', 'Martin Luther King, Jr.', 'Douglas MacArthur', 'Douglas MacArthur', 'George S. Patton', 'Corrie Ten Boom', 'Jim Courier', 'Zig Ziglar', 'Edgar Allan Poe', 'Zig Ziglar', 'Stephen Covey', 'Pablo Neruda', 'Joe Frazier', 'Bill Cosby', 'Lewis Grizzard', 'Les Brown', 'Meister Eckhart', 'Muhammad Ali', 'John C. Maxwell', 'Thomas A. Edison', 'Rose Kennedy', 'Neil Armstrong', 'Martin Luther', 'Ronald Reagan', 'Andrew Murray', 'Arianna Huffington', 'Anne Frank', 'Corrie Ten Boom', 'Nelson Mandela', 'Robin Williams', 'Walt Disney', 'John F. Kennedy', 'Mark Twain', 'John Stott', 'Wayne Dyer', 'Steve Jobs', 'Maya Angelou', 'Satchel Paige', 'Mwai Kibaki', 'Roald Dahl', 'Robert H. Schuller', 'Bill Vaughan', 'Hunter S. Thompson', 'Corrie Ten Boom', 'Dalai Lama', 'Mother Teresa', 'Norman Vincent Peale', 'Michael Porter', 'Golda Meir', 'Theodore Roosevelt', 'Nelson Mandela', 'Erma Bombeck', 'John Wooden', 'Albert Einstein', 'Frank Zappa', 'William Faulkner', 'Will Rogers', 'Jimmy Carter', 'Albert Einstein', 'Abraham Lincoln', 'Steven Weinberg', 'Franklin D. Roosevelt', 'Albert Einstein', 'Maya Angelou', 'Mark Twain', 'Theodore Roosevelt', 'Michael Jackson', 'Martin Luther King, Jr.', 'C. S. Lewis', 'Theodore Roosevelt', 'Mark Twain', 'Abraham Lincoln', 'Ruth Graham', 'C. S. Lewis', 'Groucho Marx', 'John Lennon', 'Barbara Bush', 'Albert Einstein', 'Francis Chan', 'Henry Ford', 'Victor Hugo', 'Abu Bakr', 'Zig Ziglar', 'Winston Churchill', 'Zig Ziglar', 'John F. Kennedy', 'Dwight D. Eisenhower', 'Winston Churchill', 'Albert Einstein', 'Willie Nelson', 'Johnny Cash', 'Marie Curie', 'Maya Angelou', 'Amy Bloom', 'Zig Ziglar', 'John Lennon', 'Thomas Sowell', 'Max Lucado', 'Martin Luther King, Jr.', 'Thomas Sowell', 'Salma Hayek', 'Martin Luther King, Jr.', 'Douglas MacArthur', 'Douglas MacArthur', 'George S. Patton', 'Corrie Ten Boom', 'Jim Courier', 'Zig Ziglar', 'Edgar Allan Poe', 'Zig Ziglar', 'Stephen Covey', 'Pablo Neruda', 'Joe Frazier', 'Bill Cosby', 'Lewis Grizzard', 'Les Brown', 'Meister Eckhart', 'Muhammad Ali', 'John C. Maxwell', 'Thomas A. Edison', 'Rose Kennedy', 'Neil Armstrong', 'Martin Luther', 'Ronald Reagan', 'Andrew Murray', 'Arianna Huffington', 'Anne Frank', 'Corrie Ten Boom', 'Nelson Mandela', 'Robin Williams', 'Walt Disney', 'John F. Kennedy', 'Mark Twain', 'John Stott', 'Wayne Dyer', 'Steve Jobs', 'Maya Angelou', 'Satchel Paige', 'Mwai Kibaki', 'Roald Dahl', 'Robert H. Schuller', 'Bill Vaughan', 'Hunter S. Thompson', 'Corrie Ten Boom', 'Dalai Lama', 'Mother Teresa', 'Norman Vincent Peale', 'Michael Porter', 'Golda Meir', 'Theodore Roosevelt', 'Nelson Mandela', 'Erma Bombeck', 'John Wooden', 'Albert Einstein', 'Frank Zappa', 'William Faulkner', 'Will Rogers', 'Jimmy Carter', 'Albert Einstein', 'Abraham Lincoln', 'Steven Weinberg', 'Franklin D. Roosevelt', 'Albert Einstein', 'Maya Angelou', 'Mark Twain', 'Theodore Roosevelt', 'Michael Jackson', 'Martin Luther King, Jr.', 'C. S. Lewis', 'Theodore Roosevelt', 'Mark Twain', 'Abraham Lincoln', 'Ruth Graham', 'C. S. Lewis', 'Groucho Marx', 'John Lennon', 'Barbara Bush', 'Albert Einstein', 'Francis Chan', 'Henry Ford', 'Victor Hugo', 'Abu Bakr', 'Zig Ziglar', 'Winston Churchill', 'Zig Ziglar', 'John F. Kennedy', 'Dwight D. Eisenhower', 'Winston Churchill', 'Albert Einstein', 'Willie Nelson', 'Johnny Cash', 'Marie Curie', 'Maya Angelou', 'Amy Bloom', 'Zig Ziglar', 'John Lennon', 'Thomas Sowell', 'Max Lucado', 'Martin Luther King, Jr.', 'Thomas Sowell', 'Salma Hayek', 'Martin Luther King, Jr.', 'Douglas MacArthur', 'Douglas MacArthur', 'George S. Patton', 'Corrie Ten Boom', 'Jim Courier', 'Zig Ziglar', 'Edgar Allan Poe', 'Zig Ziglar', 'Stephen Covey', 'Pablo Neruda', 'Joe Frazier', 'Bill Cosby', 'Lewis Grizzard', 'Les Brown', 'Meister Eckhart', 'Muhammad Ali', 'John C. Maxwell', 'Thomas A. Edison', 'Rose Kennedy', 'Neil Armstrong', 'Martin Luther', 'Ronald Reagan', 'Andrew Murray', 'Arianna Huffington', 'Anne Frank', 'Corrie Ten Boom', 'Nelson Mandela', 'Robin Williams', 'Walt Disney', 'John F. Kennedy', 'Mark Twain', 'John Stott', 'Wayne Dyer', 'Steve Jobs', 'Maya Angelou', 'Satchel Paige', 'Mwai Kibaki', 'Roald Dahl', 'Robert H. Schuller', 'Bill Vaughan', 'Hunter S. Thompson', 'Corrie Ten Boom', 'Dalai Lama', 'Mother Teresa', 'Norman Vincent Peale', 'Michael Porter', 'Golda Meir', 'Theodore Roosevelt', 'Nelson Mandela', 'Erma Bombeck', 'John Wooden', 'Albert Einstein', 'Frank Zappa', 'William Faulkner', 'Will Rogers', 'Jimmy Carter', 'Albert Einstein', 'Abraham Lincoln', 'Steven Weinberg', 'Franklin D. Roosevelt', 'Albert Einstein', 'Maya Angelou', 'Mark Twain', 'Theodore Roosevelt', 'Michael Jackson', 'Martin Luther King, Jr.', 'C. S. Lewis', 'Theodore Roosevelt', 'Mark Twain', 'Abraham Lincoln', 'Ruth Graham', 'C. S. Lewis', 'Groucho Marx', 'John Lennon', 'Barbara Bush', 'Albert Einstein', 'Francis Chan', 'Henry Ford', 'Victor Hugo', 'Abu Bakr', 'Zig Ziglar', 'Winston Churchill', 'Zig Ziglar', 'John F. Kennedy', 'Dwight D. Eisenhower', 'Winston Churchill', 'Albert Einstein', 'Willie Nelson', 'Johnny Cash', 'Marie Curie', 'Maya Angelou', 'Amy Bloom', 'Zig Ziglar', 'John Lennon', 'Thomas Sowell', 'Max Lucado', 'Martin Luther King, Jr.', 'Thomas Sowell', 'Salma Hayek', 'Martin Luther King, Jr.', 'Douglas MacArthur', 'Douglas MacArthur', 'George S. Patton', 'Corrie Ten Boom', 'Jim Courier', 'Zig Ziglar', 'Edgar Allan Poe', 'Zig Ziglar', 'Stephen Covey', 'Pablo Neruda', 'Joe Frazier', 'Bill Cosby', 'Lewis Grizzard', 'Les Brown', 'Meister Eckhart', 'Muhammad Ali', 'John C. Maxwell', 'Thomas A. Edison', 'Rose Kennedy', 'Neil Armstrong', 'Martin Luther', 'Ronald Reagan', 'Andrew Murray', 'Arianna Huffington', 'Anne Frank', 'Corrie Ten Boom', 'Nelson Mandela', 'Robin Williams', 'Walt Disney', 'John F. Kennedy', 'Mark Twain', 'John Stott', 'Wayne Dyer', 'Steve Jobs', 'Maya Angelou', 'Satchel Paige', 'Mwai Kibaki', 'Roald Dahl', 'Robert H. Schuller', 'Bill Vaughan', 'Hunter S. Thompson', 'Corrie Ten Boom', 'Dalai Lama', 'Mother Teresa', 'Norman Vincent Peale', 'Michael Porter', 'Golda Meir', 'Theodore Roosevelt', 'Nelson Mandela', 'Erma Bombeck', 'John Wooden', 'Albert Einstein', 'Frank Zappa', 'William Faulkner', 'Will Rogers', 'Jimmy Carter', 'Albert Einstein', 'Abraham Lincoln', 'Steven Weinberg', 'Franklin D. Roosevelt', 'Albert Einstein', 'Maya Angelou', 'Mark Twain', 'Theodore Roosevelt', 'Michael Jackson', 'Martin Luther King, Jr.', 'C. S. Lewis', 'Theodore Roosevelt', 'Mark Twain', 'Abraham Lincoln', 'Ruth Graham', 'C. S. Lewis', 'Groucho Marx', 'John Lennon', 'Barbara Bush', 'Albert Einstein', 'Francis Chan', 'Henry Ford', 'Victor Hugo', 'Abu Bakr', 'Zig Ziglar', 'Winston Churchill', 'Zig Ziglar', 'John F. Kennedy', 'Dwight D. Eisenhower', 'Winston Churchill', 'Albert Einstein', 'Willie Nelson', 'Johnny Cash', 'Marie Curie', 'Maya Angelou', 'Amy Bloom', 'Zig Ziglar', 'John Lennon', 'Thomas Sowell', 'Max Lucado', 'Martin Luther King, Jr.', 'Thomas Sowell', 'Salma Hayek', 'Martin Luther King, Jr.', 'Douglas MacArthur', 'Douglas MacArthur', 'George S. Patton', 'Corrie Ten Boom', 'Jim Courier', 'Zig Ziglar', 'Edgar Allan Poe', 'Zig Ziglar', 'Stephen Covey', 'Pablo Neruda', 'Joe Frazier', 'Bill Cosby', 'Lewis Grizzard', 'Les Brown', 'Meister Eckhart', 'Muhammad Ali', 'John C. Maxwell', 'Thomas A. Edison', 'Rose Kennedy', 'Neil Armstrong', 'Martin Luther', 'Ronald Reagan', 'Andrew Murray', 'Arianna Huffington', 'Anne Frank', 'Corrie Ten Boom', 'Nelson Mandela', 'Robin Williams', 'Walt Disney', 'John F. Kennedy', 'Mark Twain', 'John Stott', 'Wayne Dyer', 'Steve Jobs', 'Maya Angelou', 'Satchel Paige', 'Mwai Kibaki', 'Roald Dahl', 'Robert H. Schuller', 'Bill Vaughan', 'Hunter S. Thompson', 'Corrie Ten Boom', 'Dalai Lama', 'Mother Teresa', 'Norman Vincent Peale', 'Michael Porter', 'Golda Meir', 'Theodore Roosevelt', 'Nelson Mandela', 'Erma Bombeck', 'John Wooden', 'Albert Einstein', 'Frank Zappa', 'William Faulkner', 'Will Rogers', 'Jimmy Carter', 'Albert Einstein', 'Abraham Lincoln', 'Steven Weinberg', 'Franklin D. Roosevelt', 'Albert Einstein', 'Maya Angelou', 'Mark Twain', 'Theodore Roosevelt', 'Michael Jackson', 'Martin Luther King, Jr.', 'C. S. Lewis', 'Theodore Roosevelt', 'Mark Twain', 'Abraham Lincoln', 'Ruth Graham', 'C. S. Lewis', 'Groucho Marx', 'John Lennon', 'Barbara Bush', 'Albert Einstein', 'Francis Chan', 'Henry Ford', 'Victor Hugo', 'Abu Bakr', 'Zig Ziglar', 'Winston Churchill', 'Zig Ziglar', 'John F. Kennedy', 'Dwight D. Eisenhower', 'Winston Churchill', 'Albert Einstein', 'Willie Nelson', 'Johnny Cash', 'Marie Curie', 'Maya Angelou', 'Amy Bloom', 'Zig Ziglar', 'John Lennon', 'Thomas Sowell', 'Max Lucado', 'Martin Luther King, Jr.', 'Thomas Sowell', 'Salma Hayek', 'Martin Luther King, Jr.', 'Douglas MacArthur', 'Douglas MacArthur', 'George S. Patton', 'Corrie Ten Boom', 'Jim Courier', 'Zig Ziglar', 'Edgar Allan Poe', 'Zig Ziglar', 'Stephen Covey', 'Pablo Neruda', 'Joe Frazier', 'Bill Cosby', 'Lewis Grizzard', 'Les Brown', 'Meister Eckhart', 'Muhammad Ali', 'John C. Maxwell', 'Thomas A. Edison', 'Rose Kennedy', 'Neil Armstrong', 'Martin Luther', 'Ronald Reagan', 'Andrew Murray', 'Arianna Huffington', 'Anne Frank', 'Corrie Ten Boom', 'Nelson Mandela', 'Robin Williams', 'Walt Disney', 'John F. Kennedy', 'Mark Twain', 'John Stott', 'Wayne Dyer', 'Steve Jobs', 'Maya Angelou', 'Satchel Paige', 'Mwai Kibaki', 'Roald Dahl', 'Robert H. Schuller', 'Bill Vaughan', 'Hunter S. Thompson', 'Corrie Ten Boom', 'Dalai Lama', 'Mother Teresa', 'Norman Vincent Peale', 'Michael Porter', 'Golda Meir', 'Theodore Roosevelt', 'Nelson Mandela', 'Erma Bombeck', 'John Wooden', 'Albert Einstein', 'Frank Zappa', 'William Faulkner', 'Will Rogers', 'Jimmy Carter', 'Albert Einstein', 'Abraham Lincoln', 'Steven Weinberg', 'Franklin D. Roosevelt', 'Albert Einstein', 'Maya Angelou', 'Mark Twain', 'Theodore Roosevelt', 'Michael Jackson', 'Martin Luther King, Jr.', 'C. S. Lewis', 'Theodore Roosevelt', 'Mark Twain', 'Abraham Lincoln', 'Ruth Graham', 'C. S. Lewis', 'Groucho Marx', 'John Lennon', 'Barbara Bush', 'Albert Einstein', 'Francis Chan', 'Henry Ford', 'Victor Hugo', 'Abu Bakr', 'Zig Ziglar', 'Winston Churchill', 'Zig Ziglar', 'John F. Kennedy', 'Dwight D. Eisenhower', 'Winston Churchill', 'Albert Einstein', 'Willie Nelson', 'Johnny Cash', 'Marie Curie', 'Maya Angelou', 'Amy Bloom', 'Zig Ziglar', 'John Lennon', 'Thomas Sowell', 'Max Lucado', 'Martin Luther King, Jr.', 'Thomas Sowell', 'Salma Hayek', 'Martin Luther King, Jr.', 'Douglas MacArthur', 'Douglas MacArthur', 'George S. Patton', 'Corrie Ten Boom', 'Jim Courier', 'Zig Ziglar', 'Edgar Allan Poe', 'Zig Ziglar', 'Stephen Covey', 'Pablo Neruda', 'Joe Frazier', 'Bill Cosby', 'Lewis Grizzard', 'Les Brown', 'Meister Eckhart', 'Muhammad Ali', 'John C. Maxwell', 'Thomas A. Edison', 'Rose Kennedy', 'Neil Armstrong', 'Martin Luther', 'Ronald Reagan', 'Andrew Murray', 'Arianna Huffington', 'Anne Frank', 'Corrie Ten Boom', 'Nelson Mandela', 'Robin Williams', 'Walt Disney', 'John F. Kennedy', 'Mark Twain', 'John Stott', 'Wayne Dyer', 'Steve Jobs', 'Maya Angelou', 'Satchel Paige', 'Mwai Kibaki', 'Roald Dahl', 'Robert H. Schuller', 'Bill Vaughan', 'Hunter S. Thompson', 'Corrie Ten Boom', 'Dalai Lama', 'Mother Teresa', 'Norman Vincent Peale', 'Michael Porter', 'Golda Meir', 'Theodore Roosevelt', 'Nelson Mandela', 'Erma Bombeck', 'John Wooden', 'Albert Einstein', 'Frank Zappa', 'William Faulkner', 'Will Rogers', 'Jimmy Carter', 'Albert Einstein', 'Abraham Lincoln', 'Steven Weinberg', 'Franklin D. Roosevelt', 'Albert Einstein', 'Maya Angelou', 'Mark Twain', 'Theodore Roosevelt', 'Michael Jackson', 'Martin Luther King, Jr.', 'C. S. Lewis', 'Theodore Roosevelt', 'Mark Twain', 'Abraham Lincoln', 'Ruth Graham', 'C. S. Lewis', 'Groucho Marx', 'John Lennon', 'Barbara Bush', 'Albert Einstein', 'Francis Chan', 'Henry Ford', 'Victor Hugo', 'Abu Bakr', 'Zig Ziglar', 'Winston Churchill', 'Zig Ziglar', 'John F. Kennedy', 'Dwight D. Eisenhower', 'Winston Churchill', 'Albert Einstein', 'Willie Nelson', 'Johnny Cash', 'Marie Curie', 'Maya Angelou', 'Amy Bloom', 'Zig Ziglar', 'John Lennon', 'Thomas Sowell', 'Max Lucado', 'Martin Luther King, Jr.', 'Thomas Sowell', 'Salma Hayek', 'Martin Luther King, Jr.', 'Douglas MacArthur', 'Douglas MacArthur', 'George S. Patton', 'Corrie Ten Boom', 'Jim Courier', 'Zig Ziglar', 'Edgar Allan Poe', 'Zig Ziglar', 'Stephen Covey', 'Pablo Neruda', 'Joe Frazier', 'Bill Cosby', 'Lewis Grizzard', 'Les Brown', 'Meister Eckhart', 'Muhammad Ali', 'John C. Maxwell', 'Thomas A. Edison', 'Rose Kennedy', 'Neil Armstrong', 'Martin Luther', 'Ronald Reagan', 'Andrew Murray', 'Arianna Huffington', 'Anne Frank', 'Corrie Ten Boom', 'Nelson Mandela', 'Robin Williams', 'Walt Disney', 'John F. Kennedy', 'Mark Twain', 'John Stott', 'Wayne Dyer', 'Steve Jobs', 'Maya Angelou', 'Satchel Paige', 'Mwai Kibaki', 'Roald Dahl', 'Robert H. Schuller', 'Bill Vaughan', 'Hunter S. Thompson', 'Corrie Ten Boom', 'Dalai Lama', 'Mother Teresa', 'Norman Vincent Peale', 'Michael Porter', 'Golda Meir', 'Theodore Roosevelt', 'Nelson Mandela', 'Erma Bombeck', 'John Wooden', 'Albert Einstein', 'Frank Zappa', 'William Faulkner', 'Will Rogers', 'Jimmy Carter', 'Albert Einstein', 'Abraham Lincoln', 'Steven Weinberg', 'Franklin D. Roosevelt', 'Albert Einstein', 'Maya Angelou', 'Mark Twain', 'Theodore Roosevelt', 'Michael Jackson', 'Martin Luther King, Jr.', 'C. S. Lewis', 'Theodore Roosevelt', 'Mark Twain', 'Abraham Lincoln', 'Ruth Graham', 'C. S. Lewis', 'Groucho Marx', 'John Lennon', 'Barbara Bush', 'Albert Einstein', 'Francis Chan', 'Henry Ford', 'Victor Hugo', 'Abu Bakr', 'Zig Ziglar', 'Winston Churchill', 'Zig Ziglar', 'John F. Kennedy', 'Dwight D. Eisenhower', 'Winston Churchill', 'Albert Einstein', 'Willie Nelson', 'Johnny Cash', 'Marie Curie', 'Maya Angelou', 'Amy Bloom', 'Zig Ziglar', 'John Lennon', 'Thomas Sowell', 'Max Lucado', 'Martin Luther King, Jr.', 'Thomas Sowell', 'Salma Hayek', 'Martin Luther King, Jr.', 'Douglas MacArthur', 'Douglas MacArthur', 'George S. Patton', 'Corrie Ten Boom', 'Jim Courier', 'Zig Ziglar', 'Edgar Allan Poe', 'Zig Ziglar', 'Stephen Covey', 'Pablo Neruda', 'Joe Frazier', 'Bill Cosby', 'Lewis Grizzard', 'Les Brown', 'Meister Eckhart', 'Muhammad Ali', 'John C. Maxwell', 'Thomas A. Edison', 'Rose Kennedy', 'Neil Armstrong', 'Martin Luther', 'Ronald Reagan', 'Andrew Murray', 'Arianna Huffington', 'Anne Frank', 'Corrie Ten Boom', 'Nelson Mandela', 'Robin Williams', 'Walt Disney', 'John F. Kennedy', 'Mark Twain', 'John Stott', 'Wayne Dyer', 'Steve Jobs', 'Maya Angelou', 'Satchel Paige', 'Mwai Kibaki', 'Roald Dahl', 'Robert H. Schuller', 'Bill Vaughan', 'Hunter S. Thompson', 'Corrie Ten Boom', 'Dalai Lama', 'Mother Teresa', 'Norman Vincent Peale', 'Michael Porter', 'Golda Meir', 'Theodore Roosevelt', 'Nelson Mandela', 'Erma Bombeck', 'John Wooden', 'Albert Einstein', 'Frank Zappa', 'William Faulkner', 'Will Rogers', 'Jimmy Carter', 'Albert Einstein', 'Abraham Lincoln', 'Steven Weinberg', 'Franklin D. Roosevelt', 'Albert Einstein', 'Maya Angelou', 'Mark Twain', 'Theodore Roosevelt', 'Michael Jackson', 'Martin Luther King, Jr.', 'C. S. Lewis', 'Theodore Roosevelt', 'Mark Twain', 'Abraham Lincoln', 'Ruth Graham', 'C. S. Lewis', 'Groucho Marx', 'John Lennon', 'Barbara Bush', 'Albert Einstein', 'Francis Chan', 'Henry Ford', 'Victor Hugo', 'Abu Bakr', 'Zig Ziglar', 'Winston Churchill', 'Zig Ziglar', 'John F. Kennedy', 'Dwight D. Eisenhower', 'Winston Churchill', 'Albert Einstein', 'Willie Nelson', 'Johnny Cash', 'Marie Curie', 'Maya Angelou', 'Amy Bloom', 'Zig Ziglar', 'John Lennon', 'Thomas Sowell', 'Max Lucado', 'Martin Luther King, Jr.', 'Thomas Sowell', 'Salma Hayek', 'Martin Luther King, Jr.', 'Douglas MacArthur', 'Douglas MacArthur', 'George S. Patton', 'Corrie Ten Boom', 'Jim Courier', 'Zig Ziglar', 'Edgar Allan Poe', 'Zig Ziglar', 'Stephen Covey', 'Pablo Neruda', 'Joe Frazier', 'Bill Cosby', 'Lewis Grizzard', 'Les Brown', 'Meister Eckhart', 'Muhammad Ali', 'John C. Maxwell', 'Thomas A. Edison', 'Rose Kennedy', 'Neil Armstrong', 'Martin Luther', 'Ronald Reagan', 'Andrew Murray', 'Arianna Huffington', 'Anne Frank', 'Corrie Ten Boom', 'Nelson Mandela', 'Robin Williams', 'Walt Disney', 'John F. Kennedy', 'Mark Twain', 'John Stott', 'Wayne Dyer', 'Steve Jobs', 'Maya Angelou', 'Satchel Paige', 'Mwai Kibaki', 'Roald Dahl', 'Robert H. Schuller', 'Bill Vaughan', 'Hunter S. Thompson', 'Corrie Ten Boom', 'Dalai Lama', 'Mother Teresa', 'Norman Vincent Peale']\n"
     ]
    }
   ],
   "source": [
    "start=0\n",
    "end=10\n",
    "for page in range(start,end):\n",
    "    author_tags=driver.find_elements(By.XPATH,'//div[@class=\"wrap-block\"]/div/a')\n",
    "    for i in author_tags:\n",
    "        author=i.text\n",
    "        authors.append(author)\n",
    "next_button=driver.find_element(By.XPATH,'//li[@class=\"next\"]')\n",
    "next_button.click()\n",
    "time.sleep(3)\n",
    "print(authors)"
   ]
  },
  {
   "cell_type": "code",
   "execution_count": 58,
   "id": "4697ea15-932c-4fef-955e-c2991b9b2506",
   "metadata": {},
   "outputs": [
    {
     "name": "stdout",
     "output_type": "stream",
     "text": [
      "['Essence, Deep Thought, Transcendentalism\\nsave quote picture', 'Inspiration, Past, Trying\\nsave quote picture', 'Country, Peace, War\\nsave quote picture', 'Inspirational, Motivational, Death\\nsave quote picture', '4th Of July, Food, Patriotic\\nsave quote picture', 'Inspirational, Success, Basketball\\nsave quote picture', 'Strong, Revenge, Intelligent\\nsave quote picture', 'Inspirational, Teacher, Religious\\nsave quote picture', 'Truth, Honesty, Lying\\nsave quote picture', 'Funny, Reading, Learning\\nsave quote picture', 'Strong, Thoughtful, Compassion\\nsave quote picture', 'Love, Funny, Life\\nsave quote picture', 'Freedom, Men, Democracies Have\\nsave quote picture', 'God, Religious, Atheist\\nsave quote picture', 'Respect, Kindness, Character\\nsave quote picture', 'Inspirational, Motivational, Change\\nsave quote picture', 'Inspirational, Life, Inspiring\\nsave quote picture', 'Love, Inspirational, Life\\nsave quote picture', 'Inspiring, Country, 4th Of July\\nsave quote picture', 'Inspirational, Dream, Hate\\nsave quote picture', 'Love, Inspirational, Life\\nsave quote picture', 'Forgiveness, God, Christian\\nsave quote picture', 'Country, Men, Squares\\nsave quote picture', 'Inspirational, Relationship, Positive\\nsave quote picture', 'Inspirational, Motivational, Positive\\nsave quote picture', 'Love, Friendship, Relationship\\nsave quote picture', 'Faith, God, Christian\\nsave quote picture', 'Art, Freedom, Political Will\\nsave quote picture', 'Inspirational, Life, Faith\\nsave quote picture', 'Inspirational, Life, Meaningful\\nsave quote picture', 'Happiness, Time, Clever\\nsave quote picture', 'Inspirational, Inspiring, Success\\nsave quote picture', 'Love, Inspirational, Life\\nsave quote picture', 'Music, Sound And Music, Musical Life\\nsave quote picture', 'Adversity, Blow, Action\\nsave quote picture', 'Positive, Thinking Of You, Attitude\\nsave quote picture', 'Inspirational, Funny, Life\\nsave quote picture', 'Inspirational, Life, Motivational\\nsave quote picture', 'Inspirational, Memorial Day, Freedom\\nsave quote picture', 'Freedom, Patriotic, Vaccines\\nsave quote picture', 'Philosophy, Ignorance, Democratic Socialism\\nsave quote picture', 'Inspirational, Dance, Education\\nsave quote picture', 'Life, Change, Positive\\nsave quote picture', 'Life, Bullying, Mistake\\nsave quote picture', 'Life, Nature, Children\\nsave quote picture', 'Inspirational, Life, Motivational\\nsave quote picture', 'Marriage, Love You, Long\\nsave quote picture', 'Inspirational, Motivational, Success\\nsave quote picture', 'Love, Inspirational, Life\\nsave quote picture', 'Diversity, Important, Liberty\\nsave quote picture', 'Inspirational, God, Faith\\nsave quote picture', 'Inspirational, Motivational, Inspiring\\nsave quote picture', 'Business, Stupid, Government\\nsave quote picture', 'Beauty, Love Yourself, Your Beautiful\\nsave quote picture', 'Inspirational, Life, Motivational\\nsave quote picture', 'Peace, Military, War\\nsave quote picture', 'Inspirational, Leadership, Confidence\\nsave quote picture', 'Motivational, Military, War\\nsave quote picture', 'Christian, Jesus, Confusing\\nsave quote picture', 'Inspirational, Success, Sports\\nsave quote picture', 'Inspirational, Motivational, Success\\nsave quote picture', 'Inspirational, Life, Clever\\nsave quote picture', 'Inspirational, Death, Failure\\nsave quote picture', 'Inspirational, Life, Motivational\\nsave quote picture', 'Inspiring, Hope, Spring\\nsave quote picture', 'Motivational, Running, People\\nsave quote picture', 'Inspirational, Motivational, Positive\\nsave quote picture', 'Summer, Food, Garden\\nsave quote picture', 'Inspirational, Life, Motivational\\nsave quote picture', 'Inspirational, Life, Thank You\\nsave quote picture', 'Funny, Sports, Jobs\\nsave quote picture', 'Being Strong, Wisdom, Stay Strong\\nsave quote picture', 'Inspirational, Motivational, Positive\\nsave quote picture', 'Time, Pain, Get Well\\nsave quote picture', 'Motivational, Positive, Moon\\nsave quote picture', 'Life, God, Christian\\nsave quote picture', 'President, Needs, Purpose\\nsave quote picture', 'God, Faith, Christian\\nsave quote picture', 'Women, Failure, Successful\\nsave quote picture', 'Inspirational, Morning, Kindness\\nsave quote picture', 'Hiding Place, Ability, Baby Boom\\nsave quote picture', 'Love, Inspirational, Life\\nsave quote picture', 'Inspirational, Change, Philosophy\\nsave quote picture', 'Inspirational, Family, Inspiring\\nsave quote picture', 'Inspirational, Success, Courage\\nsave quote picture', 'Inspirational, Life, Motivational\\nsave quote picture', 'Christian, Vision, Missionary\\nsave quote picture', 'Inspirational, Positive, Regret\\nsave quote picture', 'Love, Inspirational, Life\\nsave quote picture', 'Inspirational, Life, Encouragement\\nsave quote picture', 'Happy Birthday, Baseball, Fun\\nsave quote picture', 'Leadership, Power, Opportunity\\nsave quote picture', 'Inspirational, Life, Positive\\nsave quote picture', 'Inspirational, Encouraging, Patience\\nsave quote picture', 'New Year, Fun, New Beginnings\\nsave quote picture', 'Music, Sports, Hunting\\nsave quote picture', 'Trust, Encouraging, Uplifting\\nsave quote picture', 'Inspirational, Funny, Change\\nsave quote picture', 'Success, God, Mother\\nsave quote picture', 'Inspirational, Motivational, Change\\nsave quote picture', 'Essence, Deep Thought, Transcendentalism\\nsave quote picture', 'Inspiration, Past, Trying\\nsave quote picture', 'Country, Peace, War\\nsave quote picture', 'Inspirational, Motivational, Death\\nsave quote picture', '4th Of July, Food, Patriotic\\nsave quote picture', 'Inspirational, Success, Basketball\\nsave quote picture', 'Strong, Revenge, Intelligent\\nsave quote picture', 'Inspirational, Teacher, Religious\\nsave quote picture', 'Truth, Honesty, Lying\\nsave quote picture', 'Funny, Reading, Learning\\nsave quote picture', 'Strong, Thoughtful, Compassion\\nsave quote picture', 'Love, Funny, Life\\nsave quote picture', 'Freedom, Men, Democracies Have\\nsave quote picture', 'God, Religious, Atheist\\nsave quote picture', 'Respect, Kindness, Character\\nsave quote picture', 'Inspirational, Motivational, Change\\nsave quote picture', 'Inspirational, Life, Inspiring\\nsave quote picture', 'Love, Inspirational, Life\\nsave quote picture', 'Inspiring, Country, 4th Of July\\nsave quote picture', 'Inspirational, Dream, Hate\\nsave quote picture', 'Love, Inspirational, Life\\nsave quote picture', 'Forgiveness, God, Christian\\nsave quote picture', 'Country, Men, Squares\\nsave quote picture', 'Inspirational, Relationship, Positive\\nsave quote picture', 'Inspirational, Motivational, Positive\\nsave quote picture', 'Love, Friendship, Relationship\\nsave quote picture', 'Faith, God, Christian\\nsave quote picture', 'Art, Freedom, Political Will\\nsave quote picture', 'Inspirational, Life, Faith\\nsave quote picture', 'Inspirational, Life, Meaningful\\nsave quote picture', 'Happiness, Time, Clever\\nsave quote picture', 'Inspirational, Inspiring, Success\\nsave quote picture', 'Love, Inspirational, Life\\nsave quote picture', 'Music, Sound And Music, Musical Life\\nsave quote picture', 'Adversity, Blow, Action\\nsave quote picture', 'Positive, Thinking Of You, Attitude\\nsave quote picture', 'Inspirational, Funny, Life\\nsave quote picture', 'Inspirational, Life, Motivational\\nsave quote picture', 'Inspirational, Memorial Day, Freedom\\nsave quote picture', 'Freedom, Patriotic, Vaccines\\nsave quote picture', 'Philosophy, Ignorance, Democratic Socialism\\nsave quote picture', 'Inspirational, Dance, Education\\nsave quote picture', 'Life, Change, Positive\\nsave quote picture', 'Life, Bullying, Mistake\\nsave quote picture', 'Life, Nature, Children\\nsave quote picture', 'Inspirational, Life, Motivational\\nsave quote picture', 'Marriage, Love You, Long\\nsave quote picture', 'Inspirational, Motivational, Success\\nsave quote picture', 'Love, Inspirational, Life\\nsave quote picture', 'Diversity, Important, Liberty\\nsave quote picture', 'Inspirational, God, Faith\\nsave quote picture', 'Inspirational, Motivational, Inspiring\\nsave quote picture', 'Business, Stupid, Government\\nsave quote picture', 'Beauty, Love Yourself, Your Beautiful\\nsave quote picture', 'Inspirational, Life, Motivational\\nsave quote picture', 'Peace, Military, War\\nsave quote picture', 'Inspirational, Leadership, Confidence\\nsave quote picture', 'Motivational, Military, War\\nsave quote picture', 'Christian, Jesus, Confusing\\nsave quote picture', 'Inspirational, Success, Sports\\nsave quote picture', 'Inspirational, Motivational, Success\\nsave quote picture', 'Inspirational, Life, Clever\\nsave quote picture', 'Inspirational, Death, Failure\\nsave quote picture', 'Inspirational, Life, Motivational\\nsave quote picture', 'Inspiring, Hope, Spring\\nsave quote picture', 'Motivational, Running, People\\nsave quote picture', 'Inspirational, Motivational, Positive\\nsave quote picture', 'Summer, Food, Garden\\nsave quote picture', 'Inspirational, Life, Motivational\\nsave quote picture', 'Inspirational, Life, Thank You\\nsave quote picture', 'Funny, Sports, Jobs\\nsave quote picture', 'Being Strong, Wisdom, Stay Strong\\nsave quote picture', 'Inspirational, Motivational, Positive\\nsave quote picture', 'Time, Pain, Get Well\\nsave quote picture', 'Motivational, Positive, Moon\\nsave quote picture', 'Life, God, Christian\\nsave quote picture', 'President, Needs, Purpose\\nsave quote picture', 'God, Faith, Christian\\nsave quote picture', 'Women, Failure, Successful\\nsave quote picture', 'Inspirational, Morning, Kindness\\nsave quote picture', 'Hiding Place, Ability, Baby Boom\\nsave quote picture', 'Love, Inspirational, Life\\nsave quote picture', 'Inspirational, Change, Philosophy\\nsave quote picture', 'Inspirational, Family, Inspiring\\nsave quote picture', 'Inspirational, Success, Courage\\nsave quote picture', 'Inspirational, Life, Motivational\\nsave quote picture', 'Christian, Vision, Missionary\\nsave quote picture', 'Inspirational, Positive, Regret\\nsave quote picture', 'Love, Inspirational, Life\\nsave quote picture', 'Inspirational, Life, Encouragement\\nsave quote picture', 'Happy Birthday, Baseball, Fun\\nsave quote picture', 'Leadership, Power, Opportunity\\nsave quote picture', 'Inspirational, Life, Positive\\nsave quote picture', 'Inspirational, Encouraging, Patience\\nsave quote picture', 'New Year, Fun, New Beginnings\\nsave quote picture', 'Music, Sports, Hunting\\nsave quote picture', 'Trust, Encouraging, Uplifting\\nsave quote picture', 'Inspirational, Funny, Change\\nsave quote picture', 'Success, God, Mother\\nsave quote picture', 'Inspirational, Motivational, Change\\nsave quote picture', 'Essence, Deep Thought, Transcendentalism\\nsave quote picture', 'Inspiration, Past, Trying\\nsave quote picture', 'Country, Peace, War\\nsave quote picture', 'Inspirational, Motivational, Death\\nsave quote picture', '4th Of July, Food, Patriotic\\nsave quote picture', 'Inspirational, Success, Basketball\\nsave quote picture', 'Strong, Revenge, Intelligent\\nsave quote picture', 'Inspirational, Teacher, Religious\\nsave quote picture', 'Truth, Honesty, Lying\\nsave quote picture', 'Funny, Reading, Learning\\nsave quote picture', 'Strong, Thoughtful, Compassion\\nsave quote picture', 'Love, Funny, Life\\nsave quote picture', 'Freedom, Men, Democracies Have\\nsave quote picture', 'God, Religious, Atheist\\nsave quote picture', 'Respect, Kindness, Character\\nsave quote picture', 'Inspirational, Motivational, Change\\nsave quote picture', 'Inspirational, Life, Inspiring\\nsave quote picture', 'Love, Inspirational, Life\\nsave quote picture', 'Inspiring, Country, 4th Of July\\nsave quote picture', 'Inspirational, Dream, Hate\\nsave quote picture', 'Love, Inspirational, Life\\nsave quote picture', 'Forgiveness, God, Christian\\nsave quote picture', 'Country, Men, Squares\\nsave quote picture', 'Inspirational, Relationship, Positive\\nsave quote picture', 'Inspirational, Motivational, Positive\\nsave quote picture', 'Love, Friendship, Relationship\\nsave quote picture', 'Faith, God, Christian\\nsave quote picture', 'Art, Freedom, Political Will\\nsave quote picture', 'Inspirational, Life, Faith\\nsave quote picture', 'Inspirational, Life, Meaningful\\nsave quote picture', 'Happiness, Time, Clever\\nsave quote picture', 'Inspirational, Inspiring, Success\\nsave quote picture', 'Love, Inspirational, Life\\nsave quote picture', 'Music, Sound And Music, Musical Life\\nsave quote picture', 'Adversity, Blow, Action\\nsave quote picture', 'Positive, Thinking Of You, Attitude\\nsave quote picture', 'Inspirational, Funny, Life\\nsave quote picture', 'Inspirational, Life, Motivational\\nsave quote picture', 'Inspirational, Memorial Day, Freedom\\nsave quote picture', 'Freedom, Patriotic, Vaccines\\nsave quote picture', 'Philosophy, Ignorance, Democratic Socialism\\nsave quote picture', 'Inspirational, Dance, Education\\nsave quote picture', 'Life, Change, Positive\\nsave quote picture', 'Life, Bullying, Mistake\\nsave quote picture', 'Life, Nature, Children\\nsave quote picture', 'Inspirational, Life, Motivational\\nsave quote picture', 'Marriage, Love You, Long\\nsave quote picture', 'Inspirational, Motivational, Success\\nsave quote picture', 'Love, Inspirational, Life\\nsave quote picture', 'Diversity, Important, Liberty\\nsave quote picture', 'Inspirational, God, Faith\\nsave quote picture', 'Inspirational, Motivational, Inspiring\\nsave quote picture', 'Business, Stupid, Government\\nsave quote picture', 'Beauty, Love Yourself, Your Beautiful\\nsave quote picture', 'Inspirational, Life, Motivational\\nsave quote picture', 'Peace, Military, War\\nsave quote picture', 'Inspirational, Leadership, Confidence\\nsave quote picture', 'Motivational, Military, War\\nsave quote picture', 'Christian, Jesus, Confusing\\nsave quote picture', 'Inspirational, Success, Sports\\nsave quote picture', 'Inspirational, Motivational, Success\\nsave quote picture', 'Inspirational, Life, Clever\\nsave quote picture', 'Inspirational, Death, Failure\\nsave quote picture', 'Inspirational, Life, Motivational\\nsave quote picture', 'Inspiring, Hope, Spring\\nsave quote picture', 'Motivational, Running, People\\nsave quote picture', 'Inspirational, Motivational, Positive\\nsave quote picture', 'Summer, Food, Garden\\nsave quote picture', 'Inspirational, Life, Motivational\\nsave quote picture', 'Inspirational, Life, Thank You\\nsave quote picture', 'Funny, Sports, Jobs\\nsave quote picture', 'Being Strong, Wisdom, Stay Strong\\nsave quote picture', 'Inspirational, Motivational, Positive\\nsave quote picture', 'Time, Pain, Get Well\\nsave quote picture', 'Motivational, Positive, Moon\\nsave quote picture', 'Life, God, Christian\\nsave quote picture', 'President, Needs, Purpose\\nsave quote picture', 'God, Faith, Christian\\nsave quote picture', 'Women, Failure, Successful\\nsave quote picture', 'Inspirational, Morning, Kindness\\nsave quote picture', 'Hiding Place, Ability, Baby Boom\\nsave quote picture', 'Love, Inspirational, Life\\nsave quote picture', 'Inspirational, Change, Philosophy\\nsave quote picture', 'Inspirational, Family, Inspiring\\nsave quote picture', 'Inspirational, Success, Courage\\nsave quote picture', 'Inspirational, Life, Motivational\\nsave quote picture', 'Christian, Vision, Missionary\\nsave quote picture', 'Inspirational, Positive, Regret\\nsave quote picture', 'Love, Inspirational, Life\\nsave quote picture', 'Inspirational, Life, Encouragement\\nsave quote picture', 'Happy Birthday, Baseball, Fun\\nsave quote picture', 'Leadership, Power, Opportunity\\nsave quote picture', 'Inspirational, Life, Positive\\nsave quote picture', 'Inspirational, Encouraging, Patience\\nsave quote picture', 'New Year, Fun, New Beginnings\\nsave quote picture', 'Music, Sports, Hunting\\nsave quote picture', 'Trust, Encouraging, Uplifting\\nsave quote picture', 'Inspirational, Funny, Change\\nsave quote picture', 'Success, God, Mother\\nsave quote picture', 'Inspirational, Motivational, Change\\nsave quote picture', 'Essence, Deep Thought, Transcendentalism\\nsave quote picture', 'Inspiration, Past, Trying\\nsave quote picture', 'Country, Peace, War\\nsave quote picture', 'Inspirational, Motivational, Death\\nsave quote picture', '4th Of July, Food, Patriotic\\nsave quote picture', 'Inspirational, Success, Basketball\\nsave quote picture', 'Strong, Revenge, Intelligent\\nsave quote picture', 'Inspirational, Teacher, Religious\\nsave quote picture', 'Truth, Honesty, Lying\\nsave quote picture', 'Funny, Reading, Learning\\nsave quote picture', 'Strong, Thoughtful, Compassion\\nsave quote picture', 'Love, Funny, Life\\nsave quote picture', 'Freedom, Men, Democracies Have\\nsave quote picture', 'God, Religious, Atheist\\nsave quote picture', 'Respect, Kindness, Character\\nsave quote picture', 'Inspirational, Motivational, Change\\nsave quote picture', 'Inspirational, Life, Inspiring\\nsave quote picture', 'Love, Inspirational, Life\\nsave quote picture', 'Inspiring, Country, 4th Of July\\nsave quote picture', 'Inspirational, Dream, Hate\\nsave quote picture', 'Love, Inspirational, Life\\nsave quote picture', 'Forgiveness, God, Christian\\nsave quote picture', 'Country, Men, Squares\\nsave quote picture', 'Inspirational, Relationship, Positive\\nsave quote picture', 'Inspirational, Motivational, Positive\\nsave quote picture', 'Love, Friendship, Relationship\\nsave quote picture', 'Faith, God, Christian\\nsave quote picture', 'Art, Freedom, Political Will\\nsave quote picture', 'Inspirational, Life, Faith\\nsave quote picture', 'Inspirational, Life, Meaningful\\nsave quote picture', 'Happiness, Time, Clever\\nsave quote picture', 'Inspirational, Inspiring, Success\\nsave quote picture', 'Love, Inspirational, Life\\nsave quote picture', 'Music, Sound And Music, Musical Life\\nsave quote picture', 'Adversity, Blow, Action\\nsave quote picture', 'Positive, Thinking Of You, Attitude\\nsave quote picture', 'Inspirational, Funny, Life\\nsave quote picture', 'Inspirational, Life, Motivational\\nsave quote picture', 'Inspirational, Memorial Day, Freedom\\nsave quote picture', 'Freedom, Patriotic, Vaccines\\nsave quote picture', 'Philosophy, Ignorance, Democratic Socialism\\nsave quote picture', 'Inspirational, Dance, Education\\nsave quote picture', 'Life, Change, Positive\\nsave quote picture', 'Life, Bullying, Mistake\\nsave quote picture', 'Life, Nature, Children\\nsave quote picture', 'Inspirational, Life, Motivational\\nsave quote picture', 'Marriage, Love You, Long\\nsave quote picture', 'Inspirational, Motivational, Success\\nsave quote picture', 'Love, Inspirational, Life\\nsave quote picture', 'Diversity, Important, Liberty\\nsave quote picture', 'Inspirational, God, Faith\\nsave quote picture', 'Inspirational, Motivational, Inspiring\\nsave quote picture', 'Business, Stupid, Government\\nsave quote picture', 'Beauty, Love Yourself, Your Beautiful\\nsave quote picture', 'Inspirational, Life, Motivational\\nsave quote picture', 'Peace, Military, War\\nsave quote picture', 'Inspirational, Leadership, Confidence\\nsave quote picture', 'Motivational, Military, War\\nsave quote picture', 'Christian, Jesus, Confusing\\nsave quote picture', 'Inspirational, Success, Sports\\nsave quote picture', 'Inspirational, Motivational, Success\\nsave quote picture', 'Inspirational, Life, Clever\\nsave quote picture', 'Inspirational, Death, Failure\\nsave quote picture', 'Inspirational, Life, Motivational\\nsave quote picture', 'Inspiring, Hope, Spring\\nsave quote picture', 'Motivational, Running, People\\nsave quote picture', 'Inspirational, Motivational, Positive\\nsave quote picture', 'Summer, Food, Garden\\nsave quote picture', 'Inspirational, Life, Motivational\\nsave quote picture', 'Inspirational, Life, Thank You\\nsave quote picture', 'Funny, Sports, Jobs\\nsave quote picture', 'Being Strong, Wisdom, Stay Strong\\nsave quote picture', 'Inspirational, Motivational, Positive\\nsave quote picture', 'Time, Pain, Get Well\\nsave quote picture', 'Motivational, Positive, Moon\\nsave quote picture', 'Life, God, Christian\\nsave quote picture', 'President, Needs, Purpose\\nsave quote picture', 'God, Faith, Christian\\nsave quote picture', 'Women, Failure, Successful\\nsave quote picture', 'Inspirational, Morning, Kindness\\nsave quote picture', 'Hiding Place, Ability, Baby Boom\\nsave quote picture', 'Love, Inspirational, Life\\nsave quote picture', 'Inspirational, Change, Philosophy\\nsave quote picture', 'Inspirational, Family, Inspiring\\nsave quote picture', 'Inspirational, Success, Courage\\nsave quote picture', 'Inspirational, Life, Motivational\\nsave quote picture', 'Christian, Vision, Missionary\\nsave quote picture', 'Inspirational, Positive, Regret\\nsave quote picture', 'Love, Inspirational, Life\\nsave quote picture', 'Inspirational, Life, Encouragement\\nsave quote picture', 'Happy Birthday, Baseball, Fun\\nsave quote picture', 'Leadership, Power, Opportunity\\nsave quote picture', 'Inspirational, Life, Positive\\nsave quote picture', 'Inspirational, Encouraging, Patience\\nsave quote picture', 'New Year, Fun, New Beginnings\\nsave quote picture', 'Music, Sports, Hunting\\nsave quote picture', 'Trust, Encouraging, Uplifting\\nsave quote picture', 'Inspirational, Funny, Change\\nsave quote picture', 'Success, God, Mother\\nsave quote picture', 'Inspirational, Motivational, Change\\nsave quote picture', 'Essence, Deep Thought, Transcendentalism\\nsave quote picture', 'Inspiration, Past, Trying\\nsave quote picture', 'Country, Peace, War\\nsave quote picture', 'Inspirational, Motivational, Death\\nsave quote picture', '4th Of July, Food, Patriotic\\nsave quote picture', 'Inspirational, Success, Basketball\\nsave quote picture', 'Strong, Revenge, Intelligent\\nsave quote picture', 'Inspirational, Teacher, Religious\\nsave quote picture', 'Truth, Honesty, Lying\\nsave quote picture', 'Funny, Reading, Learning\\nsave quote picture', 'Strong, Thoughtful, Compassion\\nsave quote picture', 'Love, Funny, Life\\nsave quote picture', 'Freedom, Men, Democracies Have\\nsave quote picture', 'God, Religious, Atheist\\nsave quote picture', 'Respect, Kindness, Character\\nsave quote picture', 'Inspirational, Motivational, Change\\nsave quote picture', 'Inspirational, Life, Inspiring\\nsave quote picture', 'Love, Inspirational, Life\\nsave quote picture', 'Inspiring, Country, 4th Of July\\nsave quote picture', 'Inspirational, Dream, Hate\\nsave quote picture', 'Love, Inspirational, Life\\nsave quote picture', 'Forgiveness, God, Christian\\nsave quote picture', 'Country, Men, Squares\\nsave quote picture', 'Inspirational, Relationship, Positive\\nsave quote picture', 'Inspirational, Motivational, Positive\\nsave quote picture', 'Love, Friendship, Relationship\\nsave quote picture', 'Faith, God, Christian\\nsave quote picture', 'Art, Freedom, Political Will\\nsave quote picture', 'Inspirational, Life, Faith\\nsave quote picture', 'Inspirational, Life, Meaningful\\nsave quote picture', 'Happiness, Time, Clever\\nsave quote picture', 'Inspirational, Inspiring, Success\\nsave quote picture', 'Love, Inspirational, Life\\nsave quote picture', 'Music, Sound And Music, Musical Life\\nsave quote picture', 'Adversity, Blow, Action\\nsave quote picture', 'Positive, Thinking Of You, Attitude\\nsave quote picture', 'Inspirational, Funny, Life\\nsave quote picture', 'Inspirational, Life, Motivational\\nsave quote picture', 'Inspirational, Memorial Day, Freedom\\nsave quote picture', 'Freedom, Patriotic, Vaccines\\nsave quote picture', 'Philosophy, Ignorance, Democratic Socialism\\nsave quote picture', 'Inspirational, Dance, Education\\nsave quote picture', 'Life, Change, Positive\\nsave quote picture', 'Life, Bullying, Mistake\\nsave quote picture', 'Life, Nature, Children\\nsave quote picture', 'Inspirational, Life, Motivational\\nsave quote picture', 'Marriage, Love You, Long\\nsave quote picture', 'Inspirational, Motivational, Success\\nsave quote picture', 'Love, Inspirational, Life\\nsave quote picture', 'Diversity, Important, Liberty\\nsave quote picture', 'Inspirational, God, Faith\\nsave quote picture', 'Inspirational, Motivational, Inspiring\\nsave quote picture', 'Business, Stupid, Government\\nsave quote picture', 'Beauty, Love Yourself, Your Beautiful\\nsave quote picture', 'Inspirational, Life, Motivational\\nsave quote picture', 'Peace, Military, War\\nsave quote picture', 'Inspirational, Leadership, Confidence\\nsave quote picture', 'Motivational, Military, War\\nsave quote picture', 'Christian, Jesus, Confusing\\nsave quote picture', 'Inspirational, Success, Sports\\nsave quote picture', 'Inspirational, Motivational, Success\\nsave quote picture', 'Inspirational, Life, Clever\\nsave quote picture', 'Inspirational, Death, Failure\\nsave quote picture', 'Inspirational, Life, Motivational\\nsave quote picture', 'Inspiring, Hope, Spring\\nsave quote picture', 'Motivational, Running, People\\nsave quote picture', 'Inspirational, Motivational, Positive\\nsave quote picture', 'Summer, Food, Garden\\nsave quote picture', 'Inspirational, Life, Motivational\\nsave quote picture', 'Inspirational, Life, Thank You\\nsave quote picture', 'Funny, Sports, Jobs\\nsave quote picture', 'Being Strong, Wisdom, Stay Strong\\nsave quote picture', 'Inspirational, Motivational, Positive\\nsave quote picture', 'Time, Pain, Get Well\\nsave quote picture', 'Motivational, Positive, Moon\\nsave quote picture', 'Life, God, Christian\\nsave quote picture', 'President, Needs, Purpose\\nsave quote picture', 'God, Faith, Christian\\nsave quote picture', 'Women, Failure, Successful\\nsave quote picture', 'Inspirational, Morning, Kindness\\nsave quote picture', 'Hiding Place, Ability, Baby Boom\\nsave quote picture', 'Love, Inspirational, Life\\nsave quote picture', 'Inspirational, Change, Philosophy\\nsave quote picture', 'Inspirational, Family, Inspiring\\nsave quote picture', 'Inspirational, Success, Courage\\nsave quote picture', 'Inspirational, Life, Motivational\\nsave quote picture', 'Christian, Vision, Missionary\\nsave quote picture', 'Inspirational, Positive, Regret\\nsave quote picture', 'Love, Inspirational, Life\\nsave quote picture', 'Inspirational, Life, Encouragement\\nsave quote picture', 'Happy Birthday, Baseball, Fun\\nsave quote picture', 'Leadership, Power, Opportunity\\nsave quote picture', 'Inspirational, Life, Positive\\nsave quote picture', 'Inspirational, Encouraging, Patience\\nsave quote picture', 'New Year, Fun, New Beginnings\\nsave quote picture', 'Music, Sports, Hunting\\nsave quote picture', 'Trust, Encouraging, Uplifting\\nsave quote picture', 'Inspirational, Funny, Change\\nsave quote picture', 'Success, God, Mother\\nsave quote picture', 'Inspirational, Motivational, Change\\nsave quote picture', 'Essence, Deep Thought, Transcendentalism\\nsave quote picture', 'Inspiration, Past, Trying\\nsave quote picture', 'Country, Peace, War\\nsave quote picture', 'Inspirational, Motivational, Death\\nsave quote picture', '4th Of July, Food, Patriotic\\nsave quote picture', 'Inspirational, Success, Basketball\\nsave quote picture', 'Strong, Revenge, Intelligent\\nsave quote picture', 'Inspirational, Teacher, Religious\\nsave quote picture', 'Truth, Honesty, Lying\\nsave quote picture', 'Funny, Reading, Learning\\nsave quote picture', 'Strong, Thoughtful, Compassion\\nsave quote picture', 'Love, Funny, Life\\nsave quote picture', 'Freedom, Men, Democracies Have\\nsave quote picture', 'God, Religious, Atheist\\nsave quote picture', 'Respect, Kindness, Character\\nsave quote picture', 'Inspirational, Motivational, Change\\nsave quote picture', 'Inspirational, Life, Inspiring\\nsave quote picture', 'Love, Inspirational, Life\\nsave quote picture', 'Inspiring, Country, 4th Of July\\nsave quote picture', 'Inspirational, Dream, Hate\\nsave quote picture', 'Love, Inspirational, Life\\nsave quote picture', 'Forgiveness, God, Christian\\nsave quote picture', 'Country, Men, Squares\\nsave quote picture', 'Inspirational, Relationship, Positive\\nsave quote picture', 'Inspirational, Motivational, Positive\\nsave quote picture', 'Love, Friendship, Relationship\\nsave quote picture', 'Faith, God, Christian\\nsave quote picture', 'Art, Freedom, Political Will\\nsave quote picture', 'Inspirational, Life, Faith\\nsave quote picture', 'Inspirational, Life, Meaningful\\nsave quote picture', 'Happiness, Time, Clever\\nsave quote picture', 'Inspirational, Inspiring, Success\\nsave quote picture', 'Love, Inspirational, Life\\nsave quote picture', 'Music, Sound And Music, Musical Life\\nsave quote picture', 'Adversity, Blow, Action\\nsave quote picture', 'Positive, Thinking Of You, Attitude\\nsave quote picture', 'Inspirational, Funny, Life\\nsave quote picture', 'Inspirational, Life, Motivational\\nsave quote picture', 'Inspirational, Memorial Day, Freedom\\nsave quote picture', 'Freedom, Patriotic, Vaccines\\nsave quote picture', 'Philosophy, Ignorance, Democratic Socialism\\nsave quote picture', 'Inspirational, Dance, Education\\nsave quote picture', 'Life, Change, Positive\\nsave quote picture', 'Life, Bullying, Mistake\\nsave quote picture', 'Life, Nature, Children\\nsave quote picture', 'Inspirational, Life, Motivational\\nsave quote picture', 'Marriage, Love You, Long\\nsave quote picture', 'Inspirational, Motivational, Success\\nsave quote picture', 'Love, Inspirational, Life\\nsave quote picture', 'Diversity, Important, Liberty\\nsave quote picture', 'Inspirational, God, Faith\\nsave quote picture', 'Inspirational, Motivational, Inspiring\\nsave quote picture', 'Business, Stupid, Government\\nsave quote picture', 'Beauty, Love Yourself, Your Beautiful\\nsave quote picture', 'Inspirational, Life, Motivational\\nsave quote picture', 'Peace, Military, War\\nsave quote picture', 'Inspirational, Leadership, Confidence\\nsave quote picture', 'Motivational, Military, War\\nsave quote picture', 'Christian, Jesus, Confusing\\nsave quote picture', 'Inspirational, Success, Sports\\nsave quote picture', 'Inspirational, Motivational, Success\\nsave quote picture', 'Inspirational, Life, Clever\\nsave quote picture', 'Inspirational, Death, Failure\\nsave quote picture', 'Inspirational, Life, Motivational\\nsave quote picture', 'Inspiring, Hope, Spring\\nsave quote picture', 'Motivational, Running, People\\nsave quote picture', 'Inspirational, Motivational, Positive\\nsave quote picture', 'Summer, Food, Garden\\nsave quote picture', 'Inspirational, Life, Motivational\\nsave quote picture', 'Inspirational, Life, Thank You\\nsave quote picture', 'Funny, Sports, Jobs\\nsave quote picture', 'Being Strong, Wisdom, Stay Strong\\nsave quote picture', 'Inspirational, Motivational, Positive\\nsave quote picture', 'Time, Pain, Get Well\\nsave quote picture', 'Motivational, Positive, Moon\\nsave quote picture', 'Life, God, Christian\\nsave quote picture', 'President, Needs, Purpose\\nsave quote picture', 'God, Faith, Christian\\nsave quote picture', 'Women, Failure, Successful\\nsave quote picture', 'Inspirational, Morning, Kindness\\nsave quote picture', 'Hiding Place, Ability, Baby Boom\\nsave quote picture', 'Love, Inspirational, Life\\nsave quote picture', 'Inspirational, Change, Philosophy\\nsave quote picture', 'Inspirational, Family, Inspiring\\nsave quote picture', 'Inspirational, Success, Courage\\nsave quote picture', 'Inspirational, Life, Motivational\\nsave quote picture', 'Christian, Vision, Missionary\\nsave quote picture', 'Inspirational, Positive, Regret\\nsave quote picture', 'Love, Inspirational, Life\\nsave quote picture', 'Inspirational, Life, Encouragement\\nsave quote picture', 'Happy Birthday, Baseball, Fun\\nsave quote picture', 'Leadership, Power, Opportunity\\nsave quote picture', 'Inspirational, Life, Positive\\nsave quote picture', 'Inspirational, Encouraging, Patience\\nsave quote picture', 'New Year, Fun, New Beginnings\\nsave quote picture', 'Music, Sports, Hunting\\nsave quote picture', 'Trust, Encouraging, Uplifting\\nsave quote picture', 'Inspirational, Funny, Change\\nsave quote picture', 'Success, God, Mother\\nsave quote picture', 'Inspirational, Motivational, Change\\nsave quote picture', 'Essence, Deep Thought, Transcendentalism\\nsave quote picture', 'Inspiration, Past, Trying\\nsave quote picture', 'Country, Peace, War\\nsave quote picture', 'Inspirational, Motivational, Death\\nsave quote picture', '4th Of July, Food, Patriotic\\nsave quote picture', 'Inspirational, Success, Basketball\\nsave quote picture', 'Strong, Revenge, Intelligent\\nsave quote picture', 'Inspirational, Teacher, Religious\\nsave quote picture', 'Truth, Honesty, Lying\\nsave quote picture', 'Funny, Reading, Learning\\nsave quote picture', 'Strong, Thoughtful, Compassion\\nsave quote picture', 'Love, Funny, Life\\nsave quote picture', 'Freedom, Men, Democracies Have\\nsave quote picture', 'God, Religious, Atheist\\nsave quote picture', 'Respect, Kindness, Character\\nsave quote picture', 'Inspirational, Motivational, Change\\nsave quote picture', 'Inspirational, Life, Inspiring\\nsave quote picture', 'Love, Inspirational, Life\\nsave quote picture', 'Inspiring, Country, 4th Of July\\nsave quote picture', 'Inspirational, Dream, Hate\\nsave quote picture', 'Love, Inspirational, Life\\nsave quote picture', 'Forgiveness, God, Christian\\nsave quote picture', 'Country, Men, Squares\\nsave quote picture', 'Inspirational, Relationship, Positive\\nsave quote picture', 'Inspirational, Motivational, Positive\\nsave quote picture', 'Love, Friendship, Relationship\\nsave quote picture', 'Faith, God, Christian\\nsave quote picture', 'Art, Freedom, Political Will\\nsave quote picture', 'Inspirational, Life, Faith\\nsave quote picture', 'Inspirational, Life, Meaningful\\nsave quote picture', 'Happiness, Time, Clever\\nsave quote picture', 'Inspirational, Inspiring, Success\\nsave quote picture', 'Love, Inspirational, Life\\nsave quote picture', 'Music, Sound And Music, Musical Life\\nsave quote picture', 'Adversity, Blow, Action\\nsave quote picture', 'Positive, Thinking Of You, Attitude\\nsave quote picture', 'Inspirational, Funny, Life\\nsave quote picture', 'Inspirational, Life, Motivational\\nsave quote picture', 'Inspirational, Memorial Day, Freedom\\nsave quote picture', 'Freedom, Patriotic, Vaccines\\nsave quote picture', 'Philosophy, Ignorance, Democratic Socialism\\nsave quote picture', 'Inspirational, Dance, Education\\nsave quote picture', 'Life, Change, Positive\\nsave quote picture', 'Life, Bullying, Mistake\\nsave quote picture', 'Life, Nature, Children\\nsave quote picture', 'Inspirational, Life, Motivational\\nsave quote picture', 'Marriage, Love You, Long\\nsave quote picture', 'Inspirational, Motivational, Success\\nsave quote picture', 'Love, Inspirational, Life\\nsave quote picture', 'Diversity, Important, Liberty\\nsave quote picture', 'Inspirational, God, Faith\\nsave quote picture', 'Inspirational, Motivational, Inspiring\\nsave quote picture', 'Business, Stupid, Government\\nsave quote picture', 'Beauty, Love Yourself, Your Beautiful\\nsave quote picture', 'Inspirational, Life, Motivational\\nsave quote picture', 'Peace, Military, War\\nsave quote picture', 'Inspirational, Leadership, Confidence\\nsave quote picture', 'Motivational, Military, War\\nsave quote picture', 'Christian, Jesus, Confusing\\nsave quote picture', 'Inspirational, Success, Sports\\nsave quote picture', 'Inspirational, Motivational, Success\\nsave quote picture', 'Inspirational, Life, Clever\\nsave quote picture', 'Inspirational, Death, Failure\\nsave quote picture', 'Inspirational, Life, Motivational\\nsave quote picture', 'Inspiring, Hope, Spring\\nsave quote picture', 'Motivational, Running, People\\nsave quote picture', 'Inspirational, Motivational, Positive\\nsave quote picture', 'Summer, Food, Garden\\nsave quote picture', 'Inspirational, Life, Motivational\\nsave quote picture', 'Inspirational, Life, Thank You\\nsave quote picture', 'Funny, Sports, Jobs\\nsave quote picture', 'Being Strong, Wisdom, Stay Strong\\nsave quote picture', 'Inspirational, Motivational, Positive\\nsave quote picture', 'Time, Pain, Get Well\\nsave quote picture', 'Motivational, Positive, Moon\\nsave quote picture', 'Life, God, Christian\\nsave quote picture', 'President, Needs, Purpose\\nsave quote picture', 'God, Faith, Christian\\nsave quote picture', 'Women, Failure, Successful\\nsave quote picture', 'Inspirational, Morning, Kindness\\nsave quote picture', 'Hiding Place, Ability, Baby Boom\\nsave quote picture', 'Love, Inspirational, Life\\nsave quote picture', 'Inspirational, Change, Philosophy\\nsave quote picture', 'Inspirational, Family, Inspiring\\nsave quote picture', 'Inspirational, Success, Courage\\nsave quote picture', 'Inspirational, Life, Motivational\\nsave quote picture', 'Christian, Vision, Missionary\\nsave quote picture', 'Inspirational, Positive, Regret\\nsave quote picture', 'Love, Inspirational, Life\\nsave quote picture', 'Inspirational, Life, Encouragement\\nsave quote picture', 'Happy Birthday, Baseball, Fun\\nsave quote picture', 'Leadership, Power, Opportunity\\nsave quote picture', 'Inspirational, Life, Positive\\nsave quote picture', 'Inspirational, Encouraging, Patience\\nsave quote picture', 'New Year, Fun, New Beginnings\\nsave quote picture', 'Music, Sports, Hunting\\nsave quote picture', 'Trust, Encouraging, Uplifting\\nsave quote picture', 'Inspirational, Funny, Change\\nsave quote picture', 'Success, God, Mother\\nsave quote picture', 'Inspirational, Motivational, Change\\nsave quote picture', 'Essence, Deep Thought, Transcendentalism\\nsave quote picture', 'Inspiration, Past, Trying\\nsave quote picture', 'Country, Peace, War\\nsave quote picture', 'Inspirational, Motivational, Death\\nsave quote picture', '4th Of July, Food, Patriotic\\nsave quote picture', 'Inspirational, Success, Basketball\\nsave quote picture', 'Strong, Revenge, Intelligent\\nsave quote picture', 'Inspirational, Teacher, Religious\\nsave quote picture', 'Truth, Honesty, Lying\\nsave quote picture', 'Funny, Reading, Learning\\nsave quote picture', 'Strong, Thoughtful, Compassion\\nsave quote picture', 'Love, Funny, Life\\nsave quote picture', 'Freedom, Men, Democracies Have\\nsave quote picture', 'God, Religious, Atheist\\nsave quote picture', 'Respect, Kindness, Character\\nsave quote picture', 'Inspirational, Motivational, Change\\nsave quote picture', 'Inspirational, Life, Inspiring\\nsave quote picture', 'Love, Inspirational, Life\\nsave quote picture', 'Inspiring, Country, 4th Of July\\nsave quote picture', 'Inspirational, Dream, Hate\\nsave quote picture', 'Love, Inspirational, Life\\nsave quote picture', 'Forgiveness, God, Christian\\nsave quote picture', 'Country, Men, Squares\\nsave quote picture', 'Inspirational, Relationship, Positive\\nsave quote picture', 'Inspirational, Motivational, Positive\\nsave quote picture', 'Love, Friendship, Relationship\\nsave quote picture', 'Faith, God, Christian\\nsave quote picture', 'Art, Freedom, Political Will\\nsave quote picture', 'Inspirational, Life, Faith\\nsave quote picture', 'Inspirational, Life, Meaningful\\nsave quote picture', 'Happiness, Time, Clever\\nsave quote picture', 'Inspirational, Inspiring, Success\\nsave quote picture', 'Love, Inspirational, Life\\nsave quote picture', 'Music, Sound And Music, Musical Life\\nsave quote picture', 'Adversity, Blow, Action\\nsave quote picture', 'Positive, Thinking Of You, Attitude\\nsave quote picture', 'Inspirational, Funny, Life\\nsave quote picture', 'Inspirational, Life, Motivational\\nsave quote picture', 'Inspirational, Memorial Day, Freedom\\nsave quote picture', 'Freedom, Patriotic, Vaccines\\nsave quote picture', 'Philosophy, Ignorance, Democratic Socialism\\nsave quote picture', 'Inspirational, Dance, Education\\nsave quote picture', 'Life, Change, Positive\\nsave quote picture', 'Life, Bullying, Mistake\\nsave quote picture', 'Life, Nature, Children\\nsave quote picture', 'Inspirational, Life, Motivational\\nsave quote picture', 'Marriage, Love You, Long\\nsave quote picture', 'Inspirational, Motivational, Success\\nsave quote picture', 'Love, Inspirational, Life\\nsave quote picture', 'Diversity, Important, Liberty\\nsave quote picture', 'Inspirational, God, Faith\\nsave quote picture', 'Inspirational, Motivational, Inspiring\\nsave quote picture', 'Business, Stupid, Government\\nsave quote picture', 'Beauty, Love Yourself, Your Beautiful\\nsave quote picture', 'Inspirational, Life, Motivational\\nsave quote picture', 'Peace, Military, War\\nsave quote picture', 'Inspirational, Leadership, Confidence\\nsave quote picture', 'Motivational, Military, War\\nsave quote picture', 'Christian, Jesus, Confusing\\nsave quote picture', 'Inspirational, Success, Sports\\nsave quote picture', 'Inspirational, Motivational, Success\\nsave quote picture', 'Inspirational, Life, Clever\\nsave quote picture', 'Inspirational, Death, Failure\\nsave quote picture', 'Inspirational, Life, Motivational\\nsave quote picture', 'Inspiring, Hope, Spring\\nsave quote picture', 'Motivational, Running, People\\nsave quote picture', 'Inspirational, Motivational, Positive\\nsave quote picture', 'Summer, Food, Garden\\nsave quote picture', 'Inspirational, Life, Motivational\\nsave quote picture', 'Inspirational, Life, Thank You\\nsave quote picture', 'Funny, Sports, Jobs\\nsave quote picture', 'Being Strong, Wisdom, Stay Strong\\nsave quote picture', 'Inspirational, Motivational, Positive\\nsave quote picture', 'Time, Pain, Get Well\\nsave quote picture', 'Motivational, Positive, Moon\\nsave quote picture', 'Life, God, Christian\\nsave quote picture', 'President, Needs, Purpose\\nsave quote picture', 'God, Faith, Christian\\nsave quote picture', 'Women, Failure, Successful\\nsave quote picture', 'Inspirational, Morning, Kindness\\nsave quote picture', 'Hiding Place, Ability, Baby Boom\\nsave quote picture', 'Love, Inspirational, Life\\nsave quote picture', 'Inspirational, Change, Philosophy\\nsave quote picture', 'Inspirational, Family, Inspiring\\nsave quote picture', 'Inspirational, Success, Courage\\nsave quote picture', 'Inspirational, Life, Motivational\\nsave quote picture', 'Christian, Vision, Missionary\\nsave quote picture', 'Inspirational, Positive, Regret\\nsave quote picture', 'Love, Inspirational, Life\\nsave quote picture', 'Inspirational, Life, Encouragement\\nsave quote picture', 'Happy Birthday, Baseball, Fun\\nsave quote picture', 'Leadership, Power, Opportunity\\nsave quote picture', 'Inspirational, Life, Positive\\nsave quote picture', 'Inspirational, Encouraging, Patience\\nsave quote picture', 'New Year, Fun, New Beginnings\\nsave quote picture', 'Music, Sports, Hunting\\nsave quote picture', 'Trust, Encouraging, Uplifting\\nsave quote picture', 'Inspirational, Funny, Change\\nsave quote picture', 'Success, God, Mother\\nsave quote picture', 'Inspirational, Motivational, Change\\nsave quote picture', 'Essence, Deep Thought, Transcendentalism\\nsave quote picture', 'Inspiration, Past, Trying\\nsave quote picture', 'Country, Peace, War\\nsave quote picture', 'Inspirational, Motivational, Death\\nsave quote picture', '4th Of July, Food, Patriotic\\nsave quote picture', 'Inspirational, Success, Basketball\\nsave quote picture', 'Strong, Revenge, Intelligent\\nsave quote picture', 'Inspirational, Teacher, Religious\\nsave quote picture', 'Truth, Honesty, Lying\\nsave quote picture', 'Funny, Reading, Learning\\nsave quote picture', 'Strong, Thoughtful, Compassion\\nsave quote picture', 'Love, Funny, Life\\nsave quote picture', 'Freedom, Men, Democracies Have\\nsave quote picture', 'God, Religious, Atheist\\nsave quote picture', 'Respect, Kindness, Character\\nsave quote picture', 'Inspirational, Motivational, Change\\nsave quote picture', 'Inspirational, Life, Inspiring\\nsave quote picture', 'Love, Inspirational, Life\\nsave quote picture', 'Inspiring, Country, 4th Of July\\nsave quote picture', 'Inspirational, Dream, Hate\\nsave quote picture', 'Love, Inspirational, Life\\nsave quote picture', 'Forgiveness, God, Christian\\nsave quote picture', 'Country, Men, Squares\\nsave quote picture', 'Inspirational, Relationship, Positive\\nsave quote picture', 'Inspirational, Motivational, Positive\\nsave quote picture', 'Love, Friendship, Relationship\\nsave quote picture', 'Faith, God, Christian\\nsave quote picture', 'Art, Freedom, Political Will\\nsave quote picture', 'Inspirational, Life, Faith\\nsave quote picture', 'Inspirational, Life, Meaningful\\nsave quote picture', 'Happiness, Time, Clever\\nsave quote picture', 'Inspirational, Inspiring, Success\\nsave quote picture', 'Love, Inspirational, Life\\nsave quote picture', 'Music, Sound And Music, Musical Life\\nsave quote picture', 'Adversity, Blow, Action\\nsave quote picture', 'Positive, Thinking Of You, Attitude\\nsave quote picture', 'Inspirational, Funny, Life\\nsave quote picture', 'Inspirational, Life, Motivational\\nsave quote picture', 'Inspirational, Memorial Day, Freedom\\nsave quote picture', 'Freedom, Patriotic, Vaccines\\nsave quote picture', 'Philosophy, Ignorance, Democratic Socialism\\nsave quote picture', 'Inspirational, Dance, Education\\nsave quote picture', 'Life, Change, Positive\\nsave quote picture', 'Life, Bullying, Mistake\\nsave quote picture', 'Life, Nature, Children\\nsave quote picture', 'Inspirational, Life, Motivational\\nsave quote picture', 'Marriage, Love You, Long\\nsave quote picture', 'Inspirational, Motivational, Success\\nsave quote picture', 'Love, Inspirational, Life\\nsave quote picture', 'Diversity, Important, Liberty\\nsave quote picture', 'Inspirational, God, Faith\\nsave quote picture', 'Inspirational, Motivational, Inspiring\\nsave quote picture', 'Business, Stupid, Government\\nsave quote picture', 'Beauty, Love Yourself, Your Beautiful\\nsave quote picture', 'Inspirational, Life, Motivational\\nsave quote picture', 'Peace, Military, War\\nsave quote picture', 'Inspirational, Leadership, Confidence\\nsave quote picture', 'Motivational, Military, War\\nsave quote picture', 'Christian, Jesus, Confusing\\nsave quote picture', 'Inspirational, Success, Sports\\nsave quote picture', 'Inspirational, Motivational, Success\\nsave quote picture', 'Inspirational, Life, Clever\\nsave quote picture', 'Inspirational, Death, Failure\\nsave quote picture', 'Inspirational, Life, Motivational\\nsave quote picture', 'Inspiring, Hope, Spring\\nsave quote picture', 'Motivational, Running, People\\nsave quote picture', 'Inspirational, Motivational, Positive\\nsave quote picture', 'Summer, Food, Garden\\nsave quote picture', 'Inspirational, Life, Motivational\\nsave quote picture', 'Inspirational, Life, Thank You\\nsave quote picture', 'Funny, Sports, Jobs\\nsave quote picture', 'Being Strong, Wisdom, Stay Strong\\nsave quote picture', 'Inspirational, Motivational, Positive\\nsave quote picture', 'Time, Pain, Get Well\\nsave quote picture', 'Motivational, Positive, Moon\\nsave quote picture', 'Life, God, Christian\\nsave quote picture', 'President, Needs, Purpose\\nsave quote picture', 'God, Faith, Christian\\nsave quote picture', 'Women, Failure, Successful\\nsave quote picture', 'Inspirational, Morning, Kindness\\nsave quote picture', 'Hiding Place, Ability, Baby Boom\\nsave quote picture', 'Love, Inspirational, Life\\nsave quote picture', 'Inspirational, Change, Philosophy\\nsave quote picture', 'Inspirational, Family, Inspiring\\nsave quote picture', 'Inspirational, Success, Courage\\nsave quote picture', 'Inspirational, Life, Motivational\\nsave quote picture', 'Christian, Vision, Missionary\\nsave quote picture', 'Inspirational, Positive, Regret\\nsave quote picture', 'Love, Inspirational, Life\\nsave quote picture', 'Inspirational, Life, Encouragement\\nsave quote picture', 'Happy Birthday, Baseball, Fun\\nsave quote picture', 'Leadership, Power, Opportunity\\nsave quote picture', 'Inspirational, Life, Positive\\nsave quote picture', 'Inspirational, Encouraging, Patience\\nsave quote picture', 'New Year, Fun, New Beginnings\\nsave quote picture', 'Music, Sports, Hunting\\nsave quote picture', 'Trust, Encouraging, Uplifting\\nsave quote picture', 'Inspirational, Funny, Change\\nsave quote picture', 'Success, God, Mother\\nsave quote picture', 'Inspirational, Motivational, Change\\nsave quote picture', 'Essence, Deep Thought, Transcendentalism\\nsave quote picture', 'Inspiration, Past, Trying\\nsave quote picture', 'Country, Peace, War\\nsave quote picture', 'Inspirational, Motivational, Death\\nsave quote picture', '4th Of July, Food, Patriotic\\nsave quote picture', 'Inspirational, Success, Basketball\\nsave quote picture', 'Strong, Revenge, Intelligent\\nsave quote picture', 'Inspirational, Teacher, Religious\\nsave quote picture', 'Truth, Honesty, Lying\\nsave quote picture', 'Funny, Reading, Learning\\nsave quote picture', 'Strong, Thoughtful, Compassion\\nsave quote picture', 'Love, Funny, Life\\nsave quote picture', 'Freedom, Men, Democracies Have\\nsave quote picture', 'God, Religious, Atheist\\nsave quote picture', 'Respect, Kindness, Character\\nsave quote picture', 'Inspirational, Motivational, Change\\nsave quote picture', 'Inspirational, Life, Inspiring\\nsave quote picture', 'Love, Inspirational, Life\\nsave quote picture', 'Inspiring, Country, 4th Of July\\nsave quote picture', 'Inspirational, Dream, Hate\\nsave quote picture', 'Love, Inspirational, Life\\nsave quote picture', 'Forgiveness, God, Christian\\nsave quote picture', 'Country, Men, Squares\\nsave quote picture', 'Inspirational, Relationship, Positive\\nsave quote picture', 'Inspirational, Motivational, Positive\\nsave quote picture', 'Love, Friendship, Relationship\\nsave quote picture', 'Faith, God, Christian\\nsave quote picture', 'Art, Freedom, Political Will\\nsave quote picture', 'Inspirational, Life, Faith\\nsave quote picture', 'Inspirational, Life, Meaningful\\nsave quote picture', 'Happiness, Time, Clever\\nsave quote picture', 'Inspirational, Inspiring, Success\\nsave quote picture', 'Love, Inspirational, Life\\nsave quote picture', 'Music, Sound And Music, Musical Life\\nsave quote picture', 'Adversity, Blow, Action\\nsave quote picture', 'Positive, Thinking Of You, Attitude\\nsave quote picture', 'Inspirational, Funny, Life\\nsave quote picture', 'Inspirational, Life, Motivational\\nsave quote picture', 'Inspirational, Memorial Day, Freedom\\nsave quote picture', 'Freedom, Patriotic, Vaccines\\nsave quote picture', 'Philosophy, Ignorance, Democratic Socialism\\nsave quote picture', 'Inspirational, Dance, Education\\nsave quote picture', 'Life, Change, Positive\\nsave quote picture', 'Life, Bullying, Mistake\\nsave quote picture', 'Life, Nature, Children\\nsave quote picture', 'Inspirational, Life, Motivational\\nsave quote picture', 'Marriage, Love You, Long\\nsave quote picture', 'Inspirational, Motivational, Success\\nsave quote picture', 'Love, Inspirational, Life\\nsave quote picture', 'Diversity, Important, Liberty\\nsave quote picture', 'Inspirational, God, Faith\\nsave quote picture', 'Inspirational, Motivational, Inspiring\\nsave quote picture', 'Business, Stupid, Government\\nsave quote picture', 'Beauty, Love Yourself, Your Beautiful\\nsave quote picture', 'Inspirational, Life, Motivational\\nsave quote picture', 'Peace, Military, War\\nsave quote picture', 'Inspirational, Leadership, Confidence\\nsave quote picture', 'Motivational, Military, War\\nsave quote picture', 'Christian, Jesus, Confusing\\nsave quote picture', 'Inspirational, Success, Sports\\nsave quote picture', 'Inspirational, Motivational, Success\\nsave quote picture', 'Inspirational, Life, Clever\\nsave quote picture', 'Inspirational, Death, Failure\\nsave quote picture', 'Inspirational, Life, Motivational\\nsave quote picture', 'Inspiring, Hope, Spring\\nsave quote picture', 'Motivational, Running, People\\nsave quote picture', 'Inspirational, Motivational, Positive\\nsave quote picture', 'Summer, Food, Garden\\nsave quote picture', 'Inspirational, Life, Motivational\\nsave quote picture', 'Inspirational, Life, Thank You\\nsave quote picture', 'Funny, Sports, Jobs\\nsave quote picture', 'Being Strong, Wisdom, Stay Strong\\nsave quote picture', 'Inspirational, Motivational, Positive\\nsave quote picture', 'Time, Pain, Get Well\\nsave quote picture', 'Motivational, Positive, Moon\\nsave quote picture', 'Life, God, Christian\\nsave quote picture', 'President, Needs, Purpose\\nsave quote picture', 'God, Faith, Christian\\nsave quote picture', 'Women, Failure, Successful\\nsave quote picture', 'Inspirational, Morning, Kindness\\nsave quote picture', 'Hiding Place, Ability, Baby Boom\\nsave quote picture', 'Love, Inspirational, Life\\nsave quote picture', 'Inspirational, Change, Philosophy\\nsave quote picture', 'Inspirational, Family, Inspiring\\nsave quote picture', 'Inspirational, Success, Courage\\nsave quote picture', 'Inspirational, Life, Motivational\\nsave quote picture', 'Christian, Vision, Missionary\\nsave quote picture', 'Inspirational, Positive, Regret\\nsave quote picture', 'Love, Inspirational, Life\\nsave quote picture', 'Inspirational, Life, Encouragement\\nsave quote picture', 'Happy Birthday, Baseball, Fun\\nsave quote picture', 'Leadership, Power, Opportunity\\nsave quote picture', 'Inspirational, Life, Positive\\nsave quote picture', 'Inspirational, Encouraging, Patience\\nsave quote picture', 'New Year, Fun, New Beginnings\\nsave quote picture', 'Music, Sports, Hunting\\nsave quote picture', 'Trust, Encouraging, Uplifting\\nsave quote picture', 'Inspirational, Funny, Change\\nsave quote picture', 'Success, God, Mother\\nsave quote picture', 'Inspirational, Motivational, Change\\nsave quote picture']\n"
     ]
    }
   ],
   "source": [
    "start=0\n",
    "end=10\n",
    "for page in range(start,end):\n",
    "    type_tags=driver.find_elements(By.XPATH,'//div[@class=\"wrap-block\"]/div[2]')\n",
    "    for i in type_tags:\n",
    "        types=i.text\n",
    "        Quote_type.append(types)\n",
    "next_button=driver.find_element(By.XPATH,'//li[@class=\"next\"]')\n",
    "next_button.click()\n",
    "time.sleep(3)\n",
    "print(Quote_type)"
   ]
  },
  {
   "cell_type": "code",
   "execution_count": 64,
   "id": "e278b9dc-3c94-4607-929e-1dd88d12b2ad",
   "metadata": {},
   "outputs": [
    {
     "data": {
      "text/html": [
       "<div>\n",
       "<style scoped>\n",
       "    .dataframe tbody tr th:only-of-type {\n",
       "        vertical-align: middle;\n",
       "    }\n",
       "\n",
       "    .dataframe tbody tr th {\n",
       "        vertical-align: top;\n",
       "    }\n",
       "\n",
       "    .dataframe thead th {\n",
       "        text-align: right;\n",
       "    }\n",
       "</style>\n",
       "<table border=\"1\" class=\"dataframe\">\n",
       "  <thead>\n",
       "    <tr style=\"text-align: right;\">\n",
       "      <th></th>\n",
       "      <th>Quotes</th>\n",
       "      <th>Authors</th>\n",
       "      <th>Quote-Type</th>\n",
       "    </tr>\n",
       "  </thead>\n",
       "  <tbody>\n",
       "    <tr>\n",
       "      <th>0</th>\n",
       "      <td>The essence of strategy is choosing what not t...</td>\n",
       "      <td>Michael Porter</td>\n",
       "      <td>Essence, Deep Thought, Transcendentalism\\nsave...</td>\n",
       "    </tr>\n",
       "    <tr>\n",
       "      <th>1</th>\n",
       "      <td>One cannot and must not try to erase the past ...</td>\n",
       "      <td>Golda Meir</td>\n",
       "      <td>Inspiration, Past, Trying\\nsave quote picture</td>\n",
       "    </tr>\n",
       "    <tr>\n",
       "      <th>2</th>\n",
       "      <td>Patriotism means to stand by the country. It d...</td>\n",
       "      <td>Theodore Roosevelt</td>\n",
       "      <td>Country, Peace, War\\nsave quote picture</td>\n",
       "    </tr>\n",
       "    <tr>\n",
       "      <th>3</th>\n",
       "      <td>Death is something inevitable. When a man has ...</td>\n",
       "      <td>Nelson Mandela</td>\n",
       "      <td>Inspirational, Motivational, Death\\nsave quote...</td>\n",
       "    </tr>\n",
       "    <tr>\n",
       "      <th>4</th>\n",
       "      <td>You have to love a nation that celebrates its ...</td>\n",
       "      <td>Erma Bombeck</td>\n",
       "      <td>4th Of July, Food, Patriotic\\nsave quote picture</td>\n",
       "    </tr>\n",
       "    <tr>\n",
       "      <th>...</th>\n",
       "      <td>...</td>\n",
       "      <td>...</td>\n",
       "      <td>...</td>\n",
       "    </tr>\n",
       "    <tr>\n",
       "      <th>995</th>\n",
       "      <td>When the going gets weird, the weird turn pro.</td>\n",
       "      <td>Hunter S. Thompson</td>\n",
       "      <td>Music, Sports, Hunting\\nsave quote picture</td>\n",
       "    </tr>\n",
       "    <tr>\n",
       "      <th>996</th>\n",
       "      <td>When a train goes through a tunnel and it gets...</td>\n",
       "      <td>Corrie Ten Boom</td>\n",
       "      <td>Trust, Encouraging, Uplifting\\nsave quote picture</td>\n",
       "    </tr>\n",
       "    <tr>\n",
       "      <th>997</th>\n",
       "      <td>If you think you are too small to make a diffe...</td>\n",
       "      <td>Dalai Lama</td>\n",
       "      <td>Inspirational, Funny, Change\\nsave quote picture</td>\n",
       "    </tr>\n",
       "    <tr>\n",
       "      <th>998</th>\n",
       "      <td>God doesn't require us to succeed, he only req...</td>\n",
       "      <td>Mother Teresa</td>\n",
       "      <td>Success, God, Mother\\nsave quote picture</td>\n",
       "    </tr>\n",
       "    <tr>\n",
       "      <th>999</th>\n",
       "      <td>Change your thoughts and you change your world.</td>\n",
       "      <td>Norman Vincent Peale</td>\n",
       "      <td>Inspirational, Motivational, Change\\nsave quot...</td>\n",
       "    </tr>\n",
       "  </tbody>\n",
       "</table>\n",
       "<p>1000 rows × 3 columns</p>\n",
       "</div>"
      ],
      "text/plain": [
       "                                                Quotes               Authors  \\\n",
       "0    The essence of strategy is choosing what not t...        Michael Porter   \n",
       "1    One cannot and must not try to erase the past ...            Golda Meir   \n",
       "2    Patriotism means to stand by the country. It d...    Theodore Roosevelt   \n",
       "3    Death is something inevitable. When a man has ...        Nelson Mandela   \n",
       "4    You have to love a nation that celebrates its ...          Erma Bombeck   \n",
       "..                                                 ...                   ...   \n",
       "995     When the going gets weird, the weird turn pro.    Hunter S. Thompson   \n",
       "996  When a train goes through a tunnel and it gets...       Corrie Ten Boom   \n",
       "997  If you think you are too small to make a diffe...            Dalai Lama   \n",
       "998  God doesn't require us to succeed, he only req...         Mother Teresa   \n",
       "999    Change your thoughts and you change your world.  Norman Vincent Peale   \n",
       "\n",
       "                                            Quote-Type  \n",
       "0    Essence, Deep Thought, Transcendentalism\\nsave...  \n",
       "1        Inspiration, Past, Trying\\nsave quote picture  \n",
       "2              Country, Peace, War\\nsave quote picture  \n",
       "3    Inspirational, Motivational, Death\\nsave quote...  \n",
       "4     4th Of July, Food, Patriotic\\nsave quote picture  \n",
       "..                                                 ...  \n",
       "995         Music, Sports, Hunting\\nsave quote picture  \n",
       "996  Trust, Encouraging, Uplifting\\nsave quote picture  \n",
       "997   Inspirational, Funny, Change\\nsave quote picture  \n",
       "998           Success, God, Mother\\nsave quote picture  \n",
       "999  Inspirational, Motivational, Change\\nsave quot...  \n",
       "\n",
       "[1000 rows x 3 columns]"
      ]
     },
     "execution_count": 64,
     "metadata": {},
     "output_type": "execute_result"
    }
   ],
   "source": [
    "import pandas as pd\n",
    "df=pd.DataFrame({'Quotes':quotes,'Authors':authors,'Quote-Type':Quote_type})\n",
    "df"
   ]
  },
  {
   "cell_type": "code",
   "execution_count": null,
   "id": "e0d770a5-b821-4535-b4b5-ca06578f9bb9",
   "metadata": {},
   "outputs": [],
   "source": []
  }
 ],
 "metadata": {
  "kernelspec": {
   "display_name": "Python 3 (ipykernel)",
   "language": "python",
   "name": "python3"
  },
  "language_info": {
   "codemirror_mode": {
    "name": "ipython",
    "version": 3
   },
   "file_extension": ".py",
   "mimetype": "text/x-python",
   "name": "python",
   "nbconvert_exporter": "python",
   "pygments_lexer": "ipython3",
   "version": "3.12.3"
  }
 },
 "nbformat": 4,
 "nbformat_minor": 5
}

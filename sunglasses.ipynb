{
 "cells": [
  {
   "cell_type": "code",
   "execution_count": 1,
   "id": "34ee36f8-9cab-44fb-a71c-02e8ba5a80f1",
   "metadata": {},
   "outputs": [],
   "source": [
    "import selenium\n",
    "import pandas as pd\n",
    "from selenium import webdriver\n",
    "import warnings\n",
    "warnings.filterwarnings('ignore')\n",
    "from selenium.webdriver.common.by import By\n",
    "import time"
   ]
  },
  {
   "cell_type": "code",
   "execution_count": 48,
   "id": "880fc01a-de1c-4b79-9788-31c86ff51cf5",
   "metadata": {},
   "outputs": [],
   "source": [
    "driver=webdriver.Chrome()"
   ]
  },
  {
   "cell_type": "code",
   "execution_count": 49,
   "id": "3473e5f9-de77-4cb1-ad2f-e42132072d6e",
   "metadata": {},
   "outputs": [],
   "source": [
    "driver.get(\"https://www.flipkart.com/\")"
   ]
  },
  {
   "cell_type": "code",
   "execution_count": 50,
   "id": "874cced0-d64f-40be-a066-ca23f0f62f56",
   "metadata": {},
   "outputs": [],
   "source": [
    "product=driver.find_element(By.CLASS_NAME,\"Pke_EE\")\n",
    "product.send_keys(\"sunglasses\")"
   ]
  },
  {
   "cell_type": "code",
   "execution_count": 51,
   "id": "5156951b-d9f5-4e93-9ffe-0c927a020947",
   "metadata": {},
   "outputs": [],
   "source": [
    "psearch=driver.find_element(By.CLASS_NAME,\"_2iLD__\")\n",
    "psearch.click()"
   ]
  },
  {
   "cell_type": "code",
   "execution_count": 52,
   "id": "3ad7d4a2-3926-4f6f-b52a-12e6f11d4ce2",
   "metadata": {},
   "outputs": [],
   "source": [
    "brand=[]\n",
    "product_description=[]\n",
    "product_price=[]\n",
    "product_discount=[]"
   ]
  },
  {
   "cell_type": "code",
   "execution_count": 53,
   "id": "c362869d-c95a-476f-84cd-3feb6cb88fd7",
   "metadata": {},
   "outputs": [
    {
     "name": "stdout",
     "output_type": "stream",
     "text": [
      "120\n"
     ]
    }
   ],
   "source": [
    "\n",
    "start=0\n",
    "end=3\n",
    "for page in range(start,end):\n",
    "    brand_tags=driver.find_elements(By.XPATH,'//div[@class=\"syl9yP\"]')\n",
    "    for i in brand_tags:\n",
    "        brands=i.text\n",
    "        brand.append(brands)\n",
    "next_button=driver.find_element(By.XPATH,'//a[@class=\"_9QVEpD\"]/span')\n",
    "next_button.click()\n",
    "time.sleep(3)\n",
    "print(len(brand))"
   ]
  },
  {
   "cell_type": "code",
   "execution_count": 54,
   "id": "c5127de9-8498-48a1-8bc8-9b69b16e67c0",
   "metadata": {},
   "outputs": [
    {
     "name": "stdout",
     "output_type": "stream",
     "text": [
      "120\n"
     ]
    }
   ],
   "source": [
    "for page in range(start,end):\n",
    "    product_tags=driver.find_elements(By.XPATH,'//a[@class=\"WKTcLC\"]')\n",
    "    for i in product_tags:\n",
    "        product=i.text\n",
    "        product_description.append(product)\n",
    "next_button=driver.find_element(By.XPATH,'//a[@class=\"_9QVEpD\"]/span')\n",
    "next_button.click()\n",
    "time.sleep(3)\n",
    "print(len(product_description))"
   ]
  },
  {
   "cell_type": "code",
   "execution_count": 55,
   "id": "d5daa276-e24f-4af4-8197-d9d3490c3302",
   "metadata": {},
   "outputs": [
    {
     "name": "stdout",
     "output_type": "stream",
     "text": [
      "120\n"
     ]
    }
   ],
   "source": [
    "for page in range(start,end):\n",
    "    price_tags=driver.find_elements(By.XPATH,'//div[@class=\"Nx9bqj\"]')\n",
    "    for i in price_tags:\n",
    "        price=i.text\n",
    "        product_price.append(price)\n",
    "next_button=driver.find_element(By.XPATH,'//a[@class=\"_9QVEpD\"]/span')\n",
    "next_button.click()\n",
    "time.sleep(3)\n",
    "print(len(product_price))"
   ]
  },
  {
   "cell_type": "code",
   "execution_count": 56,
   "id": "de9b44e9-2a24-4f73-b7eb-b9a4ac3038d4",
   "metadata": {},
   "outputs": [
    {
     "name": "stdout",
     "output_type": "stream",
     "text": [
      "120\n"
     ]
    }
   ],
   "source": [
    "for page in range(start,end):\n",
    "    discount_tags=driver.find_elements(By.XPATH,'//div[@class=\"hl05eU\"]/div[3]/span')\n",
    "    for i in discount_tags:\n",
    "        discount=i.text\n",
    "        product_discount.append(discount)\n",
    "next_button=driver.find_element(By.XPATH,'//a[@class=\"_9QVEpD\"]/span')\n",
    "next_button.click()\n",
    "time.sleep(3)\n",
    "print(len(product_discount))"
   ]
  },
  {
   "cell_type": "code",
   "execution_count": 57,
   "id": "3bd8af82-80ce-4804-85fb-c689a11dccca",
   "metadata": {},
   "outputs": [
    {
     "data": {
      "text/html": [
       "<div>\n",
       "<style scoped>\n",
       "    .dataframe tbody tr th:only-of-type {\n",
       "        vertical-align: middle;\n",
       "    }\n",
       "\n",
       "    .dataframe tbody tr th {\n",
       "        vertical-align: top;\n",
       "    }\n",
       "\n",
       "    .dataframe thead th {\n",
       "        text-align: right;\n",
       "    }\n",
       "</style>\n",
       "<table border=\"1\" class=\"dataframe\">\n",
       "  <thead>\n",
       "    <tr style=\"text-align: right;\">\n",
       "      <th></th>\n",
       "      <th>Brand</th>\n",
       "      <th>Description</th>\n",
       "      <th>Price</th>\n",
       "      <th>Discount</th>\n",
       "    </tr>\n",
       "  </thead>\n",
       "  <tbody>\n",
       "    <tr>\n",
       "      <th>0</th>\n",
       "      <td>Singco India</td>\n",
       "      <td>Polarized Rectangular Sunglasses (56)</td>\n",
       "      <td>₹283</td>\n",
       "      <td>67% off</td>\n",
       "    </tr>\n",
       "    <tr>\n",
       "      <th>1</th>\n",
       "      <td>elegante</td>\n",
       "      <td>UV Protection, Gradient Wayfarer, Retro Square...</td>\n",
       "      <td>₹449</td>\n",
       "      <td>67% off</td>\n",
       "    </tr>\n",
       "    <tr>\n",
       "      <th>2</th>\n",
       "      <td>SRPM</td>\n",
       "      <td>by Lenskart Polarized, UV Protection Aviator S...</td>\n",
       "      <td>₹221</td>\n",
       "      <td>73% off</td>\n",
       "    </tr>\n",
       "    <tr>\n",
       "      <th>3</th>\n",
       "      <td>VINCENT CHASE</td>\n",
       "      <td>UV Protection Rectangular Sunglasses (Free Size)</td>\n",
       "      <td>₹487</td>\n",
       "      <td>73% off</td>\n",
       "    </tr>\n",
       "    <tr>\n",
       "      <th>4</th>\n",
       "      <td>ROADWAY</td>\n",
       "      <td>UV Protection Wayfarer Sunglasses (52)</td>\n",
       "      <td>₹263</td>\n",
       "      <td>71% off</td>\n",
       "    </tr>\n",
       "    <tr>\n",
       "      <th>...</th>\n",
       "      <td>...</td>\n",
       "      <td>...</td>\n",
       "      <td>...</td>\n",
       "      <td>...</td>\n",
       "    </tr>\n",
       "    <tr>\n",
       "      <th>115</th>\n",
       "      <td>VINCENT CHASE</td>\n",
       "      <td>by Lenskart Polarized, UV Protection Wayfarer ...</td>\n",
       "      <td>₹818</td>\n",
       "      <td>75% off</td>\n",
       "    </tr>\n",
       "    <tr>\n",
       "      <th>116</th>\n",
       "      <td>Eyenaks</td>\n",
       "      <td>Polarized, UV Protection Sports Sunglasses (68)</td>\n",
       "      <td>₹364</td>\n",
       "      <td>48% off</td>\n",
       "    </tr>\n",
       "    <tr>\n",
       "      <th>117</th>\n",
       "      <td>AISLIN</td>\n",
       "      <td>UV Protection Round Sunglasses (52)</td>\n",
       "      <td>₹645</td>\n",
       "      <td>73% off</td>\n",
       "    </tr>\n",
       "    <tr>\n",
       "      <th>118</th>\n",
       "      <td>VINCENT CHASE</td>\n",
       "      <td>UV Protection Aviator Sunglasses (Free Size)</td>\n",
       "      <td>₹230</td>\n",
       "      <td>47% off</td>\n",
       "    </tr>\n",
       "    <tr>\n",
       "      <th>119</th>\n",
       "      <td>sefton</td>\n",
       "      <td>Others Wayfarer Sunglasses (55)</td>\n",
       "      <td>₹537</td>\n",
       "      <td>79% off</td>\n",
       "    </tr>\n",
       "  </tbody>\n",
       "</table>\n",
       "<p>120 rows × 4 columns</p>\n",
       "</div>"
      ],
      "text/plain": [
       "             Brand                                        Description Price  \\\n",
       "0     Singco India              Polarized Rectangular Sunglasses (56)  ₹283   \n",
       "1         elegante  UV Protection, Gradient Wayfarer, Retro Square...  ₹449   \n",
       "2             SRPM  by Lenskart Polarized, UV Protection Aviator S...  ₹221   \n",
       "3    VINCENT CHASE   UV Protection Rectangular Sunglasses (Free Size)  ₹487   \n",
       "4          ROADWAY             UV Protection Wayfarer Sunglasses (52)  ₹263   \n",
       "..             ...                                                ...   ...   \n",
       "115  VINCENT CHASE  by Lenskart Polarized, UV Protection Wayfarer ...  ₹818   \n",
       "116        Eyenaks    Polarized, UV Protection Sports Sunglasses (68)  ₹364   \n",
       "117         AISLIN                UV Protection Round Sunglasses (52)  ₹645   \n",
       "118  VINCENT CHASE       UV Protection Aviator Sunglasses (Free Size)  ₹230   \n",
       "119         sefton                    Others Wayfarer Sunglasses (55)  ₹537   \n",
       "\n",
       "    Discount  \n",
       "0    67% off  \n",
       "1    67% off  \n",
       "2    73% off  \n",
       "3    73% off  \n",
       "4    71% off  \n",
       "..       ...  \n",
       "115  75% off  \n",
       "116  48% off  \n",
       "117  73% off  \n",
       "118  47% off  \n",
       "119  79% off  \n",
       "\n",
       "[120 rows x 4 columns]"
      ]
     },
     "execution_count": 57,
     "metadata": {},
     "output_type": "execute_result"
    }
   ],
   "source": [
    "import pandas as pd\n",
    "df=pd.DataFrame({'Brand':brand,'Description':product_description,'Price':product_price,'Discount':product_discount})\n",
    "df\n"
   ]
  },
  {
   "cell_type": "code",
   "execution_count": null,
   "id": "fa0202e1-976d-4d8c-99d1-e3e8c89489f1",
   "metadata": {},
   "outputs": [],
   "source": []
  }
 ],
 "metadata": {
  "kernelspec": {
   "display_name": "Python 3 (ipykernel)",
   "language": "python",
   "name": "python3"
  },
  "language_info": {
   "codemirror_mode": {
    "name": "ipython",
    "version": 3
   },
   "file_extension": ".py",
   "mimetype": "text/x-python",
   "name": "python",
   "nbconvert_exporter": "python",
   "pygments_lexer": "ipython3",
   "version": "3.12.3"
  }
 },
 "nbformat": 4,
 "nbformat_minor": 5
}

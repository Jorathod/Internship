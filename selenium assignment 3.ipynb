{
 "cells": [
  {
   "cell_type": "code",
   "execution_count": null,
   "id": "b83e873e-2bb9-45f4-af71-5578c77e26df",
   "metadata": {},
   "outputs": [],
   "source": [
    "#Write a python program to access the search bar and search button on images.google.com and scrape 10 \n",
    "#images each for keywords ‘fruits’, ‘cars’ and ‘Machine Learning’, ‘Guitar’, ‘Cakes’. "
   ]
  },
  {
   "cell_type": "code",
   "execution_count": 1,
   "id": "36927428-d19b-45af-94e7-05fe37b59c37",
   "metadata": {},
   "outputs": [],
   "source": [
    "#importing libraries\n",
    "import selenium\n",
    "import pandas as pd\n",
    "import time\n",
    "import warnings\n",
    "warnings.filterwarnings('ignore')\n",
    "from bs4 import BeautifulSoup\n",
    "#importingselenium webdriver\n",
    "from selenium import webdriver\n",
    "#importin Exceptions whihcneed to be handled\n",
    "from selenium.common.exceptions import StaleElementReferenceException,NoSuchElementException\n",
    "#importing requests\n",
    "import requests\n",
    "from selenium.webdriver.common.by import By"
   ]
  },
  {
   "cell_type": "code",
   "execution_count": 13,
   "id": "dba8653b-38e6-4441-8376-df0d7c244b1a",
   "metadata": {},
   "outputs": [],
   "source": [
    "#1. Write a python program which searches all the product under a particular product from www.amazon.in. The \n",
    "#product to be searched will be taken as input from user. For e.g. If user input is ‘guitar’. Then search for \n",
    "#guitars.  "
   ]
  },
  {
   "cell_type": "code",
   "execution_count": 27,
   "id": "f4abe157-9cb0-43d0-927a-38b673bbff0c",
   "metadata": {},
   "outputs": [],
   "source": [
    "driver=webdriver.Chrome()"
   ]
  },
  {
   "cell_type": "code",
   "execution_count": 57,
   "id": "8270bff4-e675-469a-be7a-87a557683e47",
   "metadata": {},
   "outputs": [],
   "source": [
    "#fetching url\n",
    "driver.get('https:/amazon.in/')"
   ]
  },
  {
   "cell_type": "code",
   "execution_count": 58,
   "id": "ce71c51e-15e5-4e35-aa9a-0ed647985e8f",
   "metadata": {},
   "outputs": [],
   "source": [
    "g=driver.find_element(By.XPATH,\"/html/body/div[1]/header/div/div[1]/div[2]/div/form/div[2]/div[1]/input\")\n",
    "g.send_keys(\"guitar\")\n"
   ]
  },
  {
   "cell_type": "code",
   "execution_count": 59,
   "id": "1fe7535c-98d5-4583-9368-13347ac3d590",
   "metadata": {},
   "outputs": [],
   "source": [
    "search=driver.find_element(By.XPATH,\"/html/body/div[1]/header/div/div[1]/div[2]/div/form/div[3]/div/span/input\")\n",
    "search.click()"
   ]
  },
  {
   "cell_type": "code",
   "execution_count": null,
   "id": "c70938af-f4a5-4ac2-8c55-a2fa5337a38a",
   "metadata": {},
   "outputs": [],
   "source": [
    "Brand_Name=[]\n",
    "start=0\n",
    "end=3\n",
    "for i in range(star,end):\n",
    "    b=driver.find_element(By.XPATH,\"/html/body/div[1]/header/div/div[1]/div[2]/div/form/div[2]/div[1]/input\")\n"
   ]
  },
  {
   "cell_type": "code",
   "execution_count": 106,
   "id": "25868a1c-9f5c-4adf-a8d3-122e937886fc",
   "metadata": {},
   "outputs": [],
   "source": [
    "driver=webdriver.Chrome()"
   ]
  },
  {
   "cell_type": "code",
   "execution_count": 113,
   "id": "f569483b-a6d6-4472-a741-b47f53de2424",
   "metadata": {},
   "outputs": [],
   "source": [
    "#fetching url\n",
    "driver.get('https://google.com/')"
   ]
  },
  {
   "cell_type": "code",
   "execution_count": 114,
   "id": "c1dc2273-ab8c-4cab-95d7-71369f5d4f5e",
   "metadata": {},
   "outputs": [],
   "source": [
    "search=driver.find_element(By.XPATH,\"/html/body/div[1]/div[1]/div/div/div/div/div[1]/div/div[2]/a\")\n",
    "search.click()"
   ]
  },
  {
   "cell_type": "code",
   "execution_count": 115,
   "id": "5f17f1b7-5329-44e5-8499-a76f51b1f02b",
   "metadata": {},
   "outputs": [],
   "source": [
    "images=driver.find_element(By.CLASS_NAME,\"gLFyf\")\n",
    "images.send_keys(\"fruits\")\n"
   ]
  },
  {
   "cell_type": "code",
   "execution_count": 116,
   "id": "fa69525d-0809-4ef2-9c4a-59bd32063d4b",
   "metadata": {},
   "outputs": [],
   "source": [
    "search=driver.find_element(By.CLASS_NAME,\"zgAlFc\")\n",
    "search.click()"
   ]
  },
  {
   "cell_type": "code",
   "execution_count": 126,
   "id": "60e845f4-d858-40ec-a211-374d8bec5579",
   "metadata": {},
   "outputs": [
    {
     "name": "stdout",
     "output_type": "stream",
     "text": [
      "10\n",
      "['https://www.google.com/imgres?q=fruits&imgurl=https%3A%2F%2Ffruitguys.com%2Fwp-content%2Fuploads%2F2019%2F04%2FFruitGuys_FruitColors_2015.jpg&imgrefurl=https%3A%2F%2Ffruitguys.com%2Falmanac%2Finfographics%2Ffield-guide-fruit-colors%2F&docid=8Ay_GTtIf04KEM&tbnid=7pDR8_fgeamwKM&vet=12ahUKEwib5N_usOaGAxVXzAIHHQ9hDr8QM3oECBoQAA..i&w=426&h=568&hcb=2&ved=2ahUKEwib5N_usOaGAxVXzAIHHQ9hDr8QM3oECBoQAA', 'https://www.google.com/imgres?q=fruits&imgurl=https%3A%2F%2Fwww.usatoday.com%2Fgcdn%2F-mm-%2Fac688eec997d2fce10372bf71657297ff863814d%2Fc%3D171-0-1195-768%2Flocal%2F-%2Fmedia%2F2021%2F05%2F08%2FUSATODAY%2Fusatsports%2FimageForEntry35-1sQ.jpg&imgrefurl=https%3A%2F%2Fwww.usatoday.com%2Fstory%2Flife%2Ffood-dining%2F2024%2F03%2F24%2Fbest-healthiest-fruits-list%2F72988308007%2F&docid=kdLX30CQTShKtM&tbnid=mYG39P09zGkeIM&vet=12ahUKEwib5N_usOaGAxVXzAIHHQ9hDr8QM3oECGEQAA..i&w=1024&h=768&hcb=2&ved=2ahUKEwib5N_usOaGAxVXzAIHHQ9hDr8QM3oECGEQAA', 'https://www.google.com/imgres?q=fruits&imgurl=https%3A%2F%2Fwww.healthyeating.org%2Fimages%2Fdefault-source%2Fhome-0.0%2Fnutrition-topics-2.0%2Fgeneral-nutrition-wellness%2F2-2-2-3foodgroups_fruits_detailfeature.jpg%3Fsfvrsn%3D64942d53_4&imgrefurl=https%3A%2F%2Fwww.healthyeating.org%2Fnutrition-topics%2Fgeneral%2Ffood-groups%2Ffruits&docid=WBuiUqN8vNvk7M&tbnid=Q4bX4WPZSyS9mM&vet=12ahUKEwib5N_usOaGAxVXzAIHHQ9hDr8QM3oECB4QAA..i&w=1200&h=686&hcb=2&ved=2ahUKEwib5N_usOaGAxVXzAIHHQ9hDr8QM3oECB4QAA', 'https://www.google.com/imgres?q=fruits&imgurl=https%3A%2F%2Fmedia.geeksforgeeks.org%2Fwp-content%2Fuploads%2F20230828175151%2FFruit-Names-in-English.webp&imgrefurl=https%3A%2F%2Fwww.geeksforgeeks.org%2Flist-of-all-fruits-names-in-english%2F&docid=BztMLh-woTP0lM&tbnid=toxnS2cw73NYhM&vet=12ahUKEwib5N_usOaGAxVXzAIHHQ9hDr8QM3oECEYQAA..i&w=1000&h=1094&hcb=2&ved=2ahUKEwib5N_usOaGAxVXzAIHHQ9hDr8QM3oECEYQAA', 'https://www.google.com/imgres?q=fruits&imgurl=https%3A%2F%2Fwww.onlyfoods.net%2Fwp-content%2Fuploads%2F2017%2F01%2FTypes-of-Fruits.jpg&imgrefurl=https%3A%2F%2Fwww.onlyfoods.net%2Fcategory%2Ffruits&docid=pMA2NHunJifOdM&tbnid=H0LKESrIUO6udM&vet=12ahUKEwib5N_usOaGAxVXzAIHHQ9hDr8QM3oECHUQAA..i&w=733&h=900&hcb=2&ved=2ahUKEwib5N_usOaGAxVXzAIHHQ9hDr8QM3oECHUQAA', 'https://www.google.com/imgres?q=fruits&imgurl=https%3A%2F%2Fm.media-amazon.com%2Fimages%2FI%2F918oQOaXZTL._AC_UF894%2C1000_QL80_.jpg&imgrefurl=https%3A%2F%2Fwww.amazon.co.uk%2FFruits-All-in-One%2Fdp%2F8184510594&docid=AsSAjfC-ouPRFM&tbnid=_dNjjZ8g1CTUWM&vet=12ahUKEwib5N_usOaGAxVXzAIHHQ9hDr8QM3oECBsQAA..i&w=676&h=1000&hcb=2&ved=2ahUKEwib5N_usOaGAxVXzAIHHQ9hDr8QM3oECBsQAA', 'https://www.google.com/imgres?q=fruits&imgurl=http%3A%2F%2Fcontent.health.harvard.edu%2Fwp-content%2Fuploads%2F2023%2F04%2Fb599a20a-a453-425a-9d2f-fa2ff8ba2776.jpg&imgrefurl=https%3A%2F%2Fwww.health.harvard.edu%2Fblog%2Fare-certain-fruits-healthier-than-others-202201312677&docid=Zx0AuFd7wCjx9M&tbnid=xkmB6ULHKrku3M&vet=12ahUKEwib5N_usOaGAxVXzAIHHQ9hDr8QM3oECC8QAA..i&w=600&h=450&hcb=2&ved=2ahUKEwib5N_usOaGAxVXzAIHHQ9hDr8QM3oECC8QAA', None, None, 'https://www.google.com/imgres?q=fruits&imgurl=https%3A%2F%2Fi.pinimg.com%2F736x%2F8a%2F6b%2F44%2F8a6b4439916eb8c3d52cbc2de66150d7.jpg&imgrefurl=https%3A%2F%2Fwww.pinterest.com%2Fpin%2F649081365039047796%2F&docid=94qX9boWWPiDkM&tbnid=nDSSGzLt6KvVaM&vet=12ahUKEwib5N_usOaGAxVXzAIHHQ9hDr8QM3oECG4QAA..i&w=736&h=1275&hcb=2&ved=2ahUKEwib5N_usOaGAxVXzAIHHQ9hDr8QM3oECG4QAA']\n"
     ]
    }
   ],
   "source": [
    "fruits_url=[]\n",
    "f=driver.find_elements(By.XPATH,'//div[@class=\"czzyk XOEbc\"]/h3/a')\n",
    "for i in f[0:10]:\n",
    "    fruits_url.append(i.get_attribute('href'))\n",
    "print(len(fruits_url))\n",
    "print(fruits_url)"
   ]
  },
  {
   "cell_type": "code",
   "execution_count": 163,
   "id": "73768dc8-9d4e-4c3c-84a4-5eb2cb4e8129",
   "metadata": {},
   "outputs": [
    {
     "name": "stdout",
     "output_type": "stream",
     "text": [
      "0\n"
     ]
    }
   ],
   "source": [
    "src = []\n",
    "f=driver.find_elements(By.XPATH,'//div[@class=\"czzyk XOEbc\"]/h3/a')\n",
    "for img in fruits_url:\n",
    "    driver.get(url)\n",
    "    \n",
    "   # f=driver.find_elements(By.XPATH,'//div[@class=\"czzyk XOEbc\"]/h3/a')\n",
    "    #for img in f:\n",
    "    src.append(img.get_attribute('src'))\n",
    "print(len(src))"
   ]
  },
  {
   "cell_type": "code",
   "execution_count": 150,
   "id": "34595938-86c5-437b-b15c-3873498b17ec",
   "metadata": {},
   "outputs": [
    {
     "name": "stdout",
     "output_type": "stream",
     "text": [
      "0\n",
      "[]\n"
     ]
    }
   ],
   "source": [
    "fruits_url=[]\n",
    "f=driver.find_elements(By.XPATH,'//div[@class=\"czzyk XOEbc\"]/h3/a')\n",
    "for i in f[0:10]:\n",
    "    fruits_url.append(i.get_attribute('href'))\n",
    "print(len(fruits_url))\n",
    "print(fruits_url)"
   ]
  },
  {
   "cell_type": "code",
   "execution_count": 133,
   "id": "cde32bc2-2384-43ba-bbdc-18111cbd472b",
   "metadata": {},
   "outputs": [
    {
     "ename": "InvalidSelectorException",
     "evalue": "Message: invalid selector\nfrom javascript error: {\"status\":32,\"value\":\"Unable to locate an element with the xpath expression //img[@class=\\\"sFlh5c pT0Scc iPVvYb because of the following error:\\nSyntaxError: Failed to execute 'evaluate' on 'Document': The string '//img[@class=\\\"sFlh5c pT0Scc iPVvYb' is not a valid XPath expression.\"}\n  (Session info: chrome=126.0.6478.61); For documentation on this error, please visit: https://www.selenium.dev/documentation/webdriver/troubleshooting/errors#invalid-selector-exception\nStacktrace:\n\tGetHandleVerifier [0x00007FF648123E42+31618]\n\t(No symbol) [0x00007FF64809B0A9]\n\t(No symbol) [0x00007FF647F5888A]\n\t(No symbol) [0x00007FF647F5E6BE]\n\t(No symbol) [0x00007FF647F61011]\n\t(No symbol) [0x00007FF647F610B0]\n\t(No symbol) [0x00007FF647FA805C]\n\t(No symbol) [0x00007FF647FA862C]\n\t(No symbol) [0x00007FF647FEF7B7]\n\t(No symbol) [0x00007FF647FCD14F]\n\t(No symbol) [0x00007FF647FECA80]\n\t(No symbol) [0x00007FF647FCCEB3]\n\t(No symbol) [0x00007FF647F9A46B]\n\t(No symbol) [0x00007FF647F9B001]\n\tGetHandleVerifier [0x00007FF64842A01D+3202397]\n\tGetHandleVerifier [0x00007FF648476A3D+3516285]\n\tGetHandleVerifier [0x00007FF64846C4B0+3473904]\n\tGetHandleVerifier [0x00007FF6481D5D46+760454]\n\t(No symbol) [0x00007FF6480A6B4F]\n\t(No symbol) [0x00007FF6480A1CE4]\n\t(No symbol) [0x00007FF6480A1E72]\n\t(No symbol) [0x00007FF64809121F]\n\tBaseThreadInitThunk [0x00007FFB98E7257D+29]\n\tRtlUserThreadStart [0x00007FFB999AAA48+40]\n",
     "output_type": "error",
     "traceback": [
      "\u001b[1;31m---------------------------------------------------------------------------\u001b[0m",
      "\u001b[1;31mInvalidSelectorException\u001b[0m                  Traceback (most recent call last)",
      "Cell \u001b[1;32mIn[133], line 2\u001b[0m\n\u001b[0;32m      1\u001b[0m fruits\u001b[38;5;241m=\u001b[39m[]\n\u001b[1;32m----> 2\u001b[0m fruits_tags\u001b[38;5;241m=\u001b[39m\u001b[43mdriver\u001b[49m\u001b[38;5;241;43m.\u001b[39;49m\u001b[43mfind_elements\u001b[49m\u001b[43m(\u001b[49m\u001b[43mBy\u001b[49m\u001b[38;5;241;43m.\u001b[39;49m\u001b[43mXPATH\u001b[49m\u001b[43m,\u001b[49m\u001b[38;5;124;43m'\u001b[39;49m\u001b[38;5;124;43m//img[@class=\u001b[39;49m\u001b[38;5;124;43m\"\u001b[39;49m\u001b[38;5;124;43msFlh5c pT0Scc iPVvYb\u001b[39;49m\u001b[38;5;124;43m'\u001b[39;49m\u001b[43m)\u001b[49m\n\u001b[0;32m      3\u001b[0m \u001b[38;5;28;01mfor\u001b[39;00m i \u001b[38;5;129;01min\u001b[39;00m fruits_tags[\u001b[38;5;241m0\u001b[39m:\u001b[38;5;241m10\u001b[39m]:\n\u001b[0;32m      4\u001b[0m     fruits\u001b[38;5;241m.\u001b[39mappend(i\u001b[38;5;241m.\u001b[39mget_attribute([\u001b[38;5;124m'\u001b[39m\u001b[38;5;124mdata-src\u001b[39m\u001b[38;5;124m'\u001b[39m]))\n",
      "File \u001b[1;32m~\\AppData\\Local\\Programs\\Python\\Python312\\Lib\\site-packages\\selenium\\webdriver\\remote\\webdriver.py:771\u001b[0m, in \u001b[0;36mWebDriver.find_elements\u001b[1;34m(self, by, value)\u001b[0m\n\u001b[0;32m    767\u001b[0m     value \u001b[38;5;241m=\u001b[39m \u001b[38;5;124mf\u001b[39m\u001b[38;5;124m'\u001b[39m\u001b[38;5;124m[name=\u001b[39m\u001b[38;5;124m\"\u001b[39m\u001b[38;5;132;01m{\u001b[39;00mvalue\u001b[38;5;132;01m}\u001b[39;00m\u001b[38;5;124m\"\u001b[39m\u001b[38;5;124m]\u001b[39m\u001b[38;5;124m'\u001b[39m\n\u001b[0;32m    769\u001b[0m \u001b[38;5;66;03m# Return empty list if driver returns null\u001b[39;00m\n\u001b[0;32m    770\u001b[0m \u001b[38;5;66;03m# See https://github.com/SeleniumHQ/selenium/issues/4555\u001b[39;00m\n\u001b[1;32m--> 771\u001b[0m \u001b[38;5;28;01mreturn\u001b[39;00m \u001b[38;5;28;43mself\u001b[39;49m\u001b[38;5;241;43m.\u001b[39;49m\u001b[43mexecute\u001b[49m\u001b[43m(\u001b[49m\u001b[43mCommand\u001b[49m\u001b[38;5;241;43m.\u001b[39;49m\u001b[43mFIND_ELEMENTS\u001b[49m\u001b[43m,\u001b[49m\u001b[43m \u001b[49m\u001b[43m{\u001b[49m\u001b[38;5;124;43m\"\u001b[39;49m\u001b[38;5;124;43musing\u001b[39;49m\u001b[38;5;124;43m\"\u001b[39;49m\u001b[43m:\u001b[49m\u001b[43m \u001b[49m\u001b[43mby\u001b[49m\u001b[43m,\u001b[49m\u001b[43m \u001b[49m\u001b[38;5;124;43m\"\u001b[39;49m\u001b[38;5;124;43mvalue\u001b[39;49m\u001b[38;5;124;43m\"\u001b[39;49m\u001b[43m:\u001b[49m\u001b[43m \u001b[49m\u001b[43mvalue\u001b[49m\u001b[43m}\u001b[49m\u001b[43m)\u001b[49m[\u001b[38;5;124m\"\u001b[39m\u001b[38;5;124mvalue\u001b[39m\u001b[38;5;124m\"\u001b[39m] \u001b[38;5;129;01mor\u001b[39;00m []\n",
      "File \u001b[1;32m~\\AppData\\Local\\Programs\\Python\\Python312\\Lib\\site-packages\\selenium\\webdriver\\remote\\webdriver.py:347\u001b[0m, in \u001b[0;36mWebDriver.execute\u001b[1;34m(self, driver_command, params)\u001b[0m\n\u001b[0;32m    345\u001b[0m response \u001b[38;5;241m=\u001b[39m \u001b[38;5;28mself\u001b[39m\u001b[38;5;241m.\u001b[39mcommand_executor\u001b[38;5;241m.\u001b[39mexecute(driver_command, params)\n\u001b[0;32m    346\u001b[0m \u001b[38;5;28;01mif\u001b[39;00m response:\n\u001b[1;32m--> 347\u001b[0m     \u001b[38;5;28;43mself\u001b[39;49m\u001b[38;5;241;43m.\u001b[39;49m\u001b[43merror_handler\u001b[49m\u001b[38;5;241;43m.\u001b[39;49m\u001b[43mcheck_response\u001b[49m\u001b[43m(\u001b[49m\u001b[43mresponse\u001b[49m\u001b[43m)\u001b[49m\n\u001b[0;32m    348\u001b[0m     response[\u001b[38;5;124m\"\u001b[39m\u001b[38;5;124mvalue\u001b[39m\u001b[38;5;124m\"\u001b[39m] \u001b[38;5;241m=\u001b[39m \u001b[38;5;28mself\u001b[39m\u001b[38;5;241m.\u001b[39m_unwrap_value(response\u001b[38;5;241m.\u001b[39mget(\u001b[38;5;124m\"\u001b[39m\u001b[38;5;124mvalue\u001b[39m\u001b[38;5;124m\"\u001b[39m, \u001b[38;5;28;01mNone\u001b[39;00m))\n\u001b[0;32m    349\u001b[0m     \u001b[38;5;28;01mreturn\u001b[39;00m response\n",
      "File \u001b[1;32m~\\AppData\\Local\\Programs\\Python\\Python312\\Lib\\site-packages\\selenium\\webdriver\\remote\\errorhandler.py:229\u001b[0m, in \u001b[0;36mErrorHandler.check_response\u001b[1;34m(self, response)\u001b[0m\n\u001b[0;32m    227\u001b[0m         alert_text \u001b[38;5;241m=\u001b[39m value[\u001b[38;5;124m\"\u001b[39m\u001b[38;5;124malert\u001b[39m\u001b[38;5;124m\"\u001b[39m]\u001b[38;5;241m.\u001b[39mget(\u001b[38;5;124m\"\u001b[39m\u001b[38;5;124mtext\u001b[39m\u001b[38;5;124m\"\u001b[39m)\n\u001b[0;32m    228\u001b[0m     \u001b[38;5;28;01mraise\u001b[39;00m exception_class(message, screen, stacktrace, alert_text)  \u001b[38;5;66;03m# type: ignore[call-arg]  # mypy is not smart enough here\u001b[39;00m\n\u001b[1;32m--> 229\u001b[0m \u001b[38;5;28;01mraise\u001b[39;00m exception_class(message, screen, stacktrace)\n",
      "\u001b[1;31mInvalidSelectorException\u001b[0m: Message: invalid selector\nfrom javascript error: {\"status\":32,\"value\":\"Unable to locate an element with the xpath expression //img[@class=\\\"sFlh5c pT0Scc iPVvYb because of the following error:\\nSyntaxError: Failed to execute 'evaluate' on 'Document': The string '//img[@class=\\\"sFlh5c pT0Scc iPVvYb' is not a valid XPath expression.\"}\n  (Session info: chrome=126.0.6478.61); For documentation on this error, please visit: https://www.selenium.dev/documentation/webdriver/troubleshooting/errors#invalid-selector-exception\nStacktrace:\n\tGetHandleVerifier [0x00007FF648123E42+31618]\n\t(No symbol) [0x00007FF64809B0A9]\n\t(No symbol) [0x00007FF647F5888A]\n\t(No symbol) [0x00007FF647F5E6BE]\n\t(No symbol) [0x00007FF647F61011]\n\t(No symbol) [0x00007FF647F610B0]\n\t(No symbol) [0x00007FF647FA805C]\n\t(No symbol) [0x00007FF647FA862C]\n\t(No symbol) [0x00007FF647FEF7B7]\n\t(No symbol) [0x00007FF647FCD14F]\n\t(No symbol) [0x00007FF647FECA80]\n\t(No symbol) [0x00007FF647FCCEB3]\n\t(No symbol) [0x00007FF647F9A46B]\n\t(No symbol) [0x00007FF647F9B001]\n\tGetHandleVerifier [0x00007FF64842A01D+3202397]\n\tGetHandleVerifier [0x00007FF648476A3D+3516285]\n\tGetHandleVerifier [0x00007FF64846C4B0+3473904]\n\tGetHandleVerifier [0x00007FF6481D5D46+760454]\n\t(No symbol) [0x00007FF6480A6B4F]\n\t(No symbol) [0x00007FF6480A1CE4]\n\t(No symbol) [0x00007FF6480A1E72]\n\t(No symbol) [0x00007FF64809121F]\n\tBaseThreadInitThunk [0x00007FFB98E7257D+29]\n\tRtlUserThreadStart [0x00007FFB999AAA48+40]\n"
     ]
    }
   ],
   "source": [
    "fruits=[]\n",
    "fruits_tags=driver.find_elements(By.XPATH,'//img[@class=\"sFlh5c pT0Scc iPVvYb')\n",
    "for i in fruits_tags[0:10]:\n",
    "    fruits.append(i.get_attribute(['data-src']))\n",
    "print(len(fruits))\n",
    "print(fruits)\n"
   ]
  },
  {
   "cell_type": "code",
   "execution_count": null,
   "id": "d3bf7dea-3a3c-46b2-8715-7307851f6f1c",
   "metadata": {},
   "outputs": [],
   "source": [
    "#4. Write a python program to search for a smartphone(e.g.: Oneplus Nord, pixel 4A, etc.) on www.flipkart.com \n",
    "#and scrape following details for all the search results displayed on 1st page. Details to be scraped: “Brand \n",
    "#Name”, “Smartphone name”, “Colour”, “RAM”, “Storage(ROM)”, “Primary Camera”, Display Size”, “Battery Capacity”, “Price”, “Product URL”. Incase if any of the \n",
    "details is missing then replace it by “- “. Save your results in a dataframe and CSV.  "
   ]
  },
  {
   "cell_type": "code",
   "execution_count": 41,
   "id": "47be64f5-26c7-4339-a6ac-55fdd68b729d",
   "metadata": {},
   "outputs": [],
   "source": [
    "driver=webdriver.Chrome()"
   ]
  },
  {
   "cell_type": "code",
   "execution_count": 42,
   "id": "f143e3d5-4efc-4f82-b988-ac5ecad91c59",
   "metadata": {},
   "outputs": [],
   "source": [
    "driver.get('https://www.flipkart.com ')"
   ]
  },
  {
   "cell_type": "code",
   "execution_count": 44,
   "id": "8ec57768-3b76-4537-890e-e7c3901027fe",
   "metadata": {},
   "outputs": [],
   "source": [
    "search=driver.find_element(By.XPATH,\"/html/body/div[1]/div/div[1]/div/div/div/div/div[1]/div/div[1]/div/div[1]/div[1]/header/div[1]/div[2]/form/div/div/input\")\n",
    "search.send_keys(\"Oneplus Nord\")"
   ]
  },
  {
   "cell_type": "code",
   "execution_count": 47,
   "id": "8c70d708-89ca-4579-9746-2970db530ae3",
   "metadata": {},
   "outputs": [],
   "source": [
    "s=driver.find_element(By.CLASS_NAME,\"_2iLD__\")\n",
    "s.click()"
   ]
  },
  {
   "cell_type": "code",
   "execution_count": 50,
   "id": "2170b8a9-9d7f-477b-bc6e-7c5d37274c16",
   "metadata": {},
   "outputs": [
    {
     "name": "stdout",
     "output_type": "stream",
     "text": [
      "24\n",
      "['https://www.flipkart.com/oneplus-nord-ce-3-lite-5g-pastel-lime-256-gb/p/itm2cd5a4e659035?pid=MOBGZJ3ZFQ8AKKRS&lid=LSTMOBGZJ3ZFQ8AKKRSXHP4UY&marketplace=FLIPKART&q=Oneplus+Nord&store=tyy%2F4io&srno=s_1_1&otracker=search&otracker1=search&fm=organic&iid=25894449-21d9-4567-bc4e-ba3573c3f48d.MOBGZJ3ZFQ8AKKRS.SEARCH&ppt=hp&ppn=homepage&ssid=d8nquhu2w00000001718745229846&qH=53863d4d978d5074', 'https://www.flipkart.com/oneplus-nord-ce-3-lite-5g-pastel-lime-128-gb/p/itm2cd5a4e659035?pid=MOBGZJ3WM5SGTGVZ&lid=LSTMOBGZJ3WM5SGTGVZKPMPBL&marketplace=FLIPKART&q=Oneplus+Nord&store=tyy%2F4io&spotlightTagId=BestsellerId_tyy%2F4io&srno=s_1_2&otracker=search&otracker1=search&fm=Search&iid=25894449-21d9-4567-bc4e-ba3573c3f48d.MOBGZJ3WM5SGTGVZ.SEARCH&ppt=sp&ppn=sp&ssid=d8nquhu2w00000001718745229846&qH=53863d4d978d5074', 'https://www.flipkart.com/oneplus-nord-ce-3-lite-5g-chromatic-gray-128-gb/p/itm2cd5a4e659035?pid=MOBGZJ42KHUZZKMN&lid=LSTMOBGZJ42KHUZZKMNLPMNGL&marketplace=FLIPKART&q=Oneplus+Nord&store=tyy%2F4io&spotlightTagId=BestsellerId_tyy%2F4io&srno=s_1_3&otracker=search&otracker1=search&fm=Search&iid=25894449-21d9-4567-bc4e-ba3573c3f48d.MOBGZJ42KHUZZKMN.SEARCH&ppt=sp&ppn=sp&ssid=d8nquhu2w00000001718745229846&qH=53863d4d978d5074', 'https://www.flipkart.com/oneplus-nord-ce-3-lite-5g-chromatic-gray-256-gb/p/itm2cd5a4e659035?pid=MOBGZJ45PS4AQ7BA&lid=LSTMOBGZJ45PS4AQ7BACJELSR&marketplace=FLIPKART&q=Oneplus+Nord&store=tyy%2F4io&srno=s_1_4&otracker=search&otracker1=search&fm=organic&iid=25894449-21d9-4567-bc4e-ba3573c3f48d.MOBGZJ45PS4AQ7BA.SEARCH&ppt=hp&ppn=homepage&ssid=d8nquhu2w00000001718745229846&qH=53863d4d978d5074', 'https://www.flipkart.com/oneplus-nord-ce4-dark-chrome-256-gb/p/itm5a09089114afb?pid=MOBGZZJHPCGUQWVM&lid=LSTMOBGZZJHPCGUQWVMG8QVCM&marketplace=FLIPKART&q=Oneplus+Nord&store=tyy%2F4io&srno=s_1_5&otracker=search&otracker1=search&fm=organic&iid=25894449-21d9-4567-bc4e-ba3573c3f48d.MOBGZZJHPCGUQWVM.SEARCH&ppt=hp&ppn=homepage&ssid=d8nquhu2w00000001718745229846&qH=53863d4d978d5074', 'https://www.flipkart.com/oneplus-nord-ce4-dark-chrome-128-gb/p/itm5a09089114afb?pid=MOBGZNH6QUUVZGZN&lid=LSTMOBGZNH6QUUVZGZNNZDL6I&marketplace=FLIPKART&q=Oneplus+Nord&store=tyy%2F4io&srno=s_1_6&otracker=search&otracker1=search&fm=organic&iid=25894449-21d9-4567-bc4e-ba3573c3f48d.MOBGZNH6QUUVZGZN.SEARCH&ppt=hp&ppn=homepage&ssid=d8nquhu2w00000001718745229846&qH=53863d4d978d5074', 'https://www.flipkart.com/oneplus-nord-ce4-celadon-marble-128-gb/p/itm5a09089114afb?pid=MOBGZN8YJ4KZ2KNH&lid=LSTMOBGZN8YJ4KZ2KNHSL4TZT&marketplace=FLIPKART&q=Oneplus+Nord&store=tyy%2F4io&srno=s_1_7&otracker=search&otracker1=search&fm=organic&iid=25894449-21d9-4567-bc4e-ba3573c3f48d.MOBGZN8YJ4KZ2KNH.SEARCH&ppt=hp&ppn=homepage&ssid=d8nquhu2w00000001718745229846&qH=53863d4d978d5074', 'https://www.flipkart.com/oneplus-nord-ce4-celadon-marble-256-gb/p/itm5a09089114afb?pid=MOBGZZGY8FRH5Y7R&lid=LSTMOBGZZGY8FRH5Y7R5QKIMX&marketplace=FLIPKART&q=Oneplus+Nord&store=tyy%2F4io&srno=s_1_8&otracker=search&otracker1=search&fm=organic&iid=25894449-21d9-4567-bc4e-ba3573c3f48d.MOBGZZGY8FRH5Y7R.SEARCH&ppt=hp&ppn=homepage&ssid=d8nquhu2w00000001718745229846&qH=53863d4d978d5074', 'https://www.flipkart.com/oneplus-nord-2t-5g-jade-fog-128-gb/p/itmc3c3a9ed44f1e?pid=MOBGQR6JRXSFERGK&lid=LSTMOBGQR6JRXSFERGKK7MGL5&marketplace=FLIPKART&q=Oneplus+Nord&store=tyy%2F4io&spotlightTagId=TrendingId_tyy%2F4io&srno=s_1_9&otracker=search&otracker1=search&fm=Search&iid=25894449-21d9-4567-bc4e-ba3573c3f48d.MOBGQR6JRXSFERGK.SEARCH&ppt=sp&ppn=sp&ssid=d8nquhu2w00000001718745229846&qH=53863d4d978d5074', 'https://www.flipkart.com/oneplus-nord-2t-5g-jade-fog-128-gb/p/itm31ac32e308282?pid=MOBGHBZHFAUYKH3U&lid=LSTMOBGHBZHFAUYKH3UB18K6R&marketplace=FLIPKART&q=Oneplus+Nord&store=tyy%2F4io&srno=s_1_10&otracker=search&otracker1=search&fm=organic&iid=25894449-21d9-4567-bc4e-ba3573c3f48d.MOBGHBZHFAUYKH3U.SEARCH&ppt=hp&ppn=homepage&ssid=d8nquhu2w00000001718745229846&qH=53863d4d978d5074', 'https://www.flipkart.com/oneplus-nord-2t-5g-gray-shadow-256-gb/p/itmd0e74c0fcb1d5?pid=MOBGQR6JV8YTFFBY&lid=LSTMOBGQR6JV8YTFFBY5V5RZW&marketplace=FLIPKART&q=Oneplus+Nord&store=tyy%2F4io&srno=s_1_11&otracker=search&otracker1=search&fm=organic&iid=25894449-21d9-4567-bc4e-ba3573c3f48d.MOBGQR6JV8YTFFBY.SEARCH&ppt=hp&ppn=homepage&ssid=d8nquhu2w00000001718745229846&qH=53863d4d978d5074', 'https://www.flipkart.com/oneplus-nord-2t-5g-gray-shadow-128-gb/p/itmd6fae876845b9?pid=MOBGZKM5XBXSJYZT&lid=LSTMOBGZKM5XBXSJYZTSOUJJO&marketplace=FLIPKART&q=Oneplus+Nord&store=tyy%2F4io&srno=s_1_12&otracker=search&otracker1=search&fm=organic&iid=25894449-21d9-4567-bc4e-ba3573c3f48d.MOBGZKM5XBXSJYZT.SEARCH&ppt=hp&ppn=homepage&ssid=d8nquhu2w00000001718745229846&qH=53863d4d978d5074', 'https://www.flipkart.com/oneplus-nord-2t-5g-gray-shadow-256-gb/p/itm8717097d388df?pid=MOBGHBZHNPGQGXJY&lid=LSTMOBGHBZHNPGQGXJYO5509E&marketplace=FLIPKART&q=Oneplus+Nord&store=tyy%2F4io&srno=s_1_13&otracker=search&otracker1=search&fm=organic&iid=25894449-21d9-4567-bc4e-ba3573c3f48d.MOBGHBZHNPGQGXJY.SEARCH&ppt=hp&ppn=homepage&ssid=d8nquhu2w00000001718745229846&qH=53863d4d978d5074', 'https://www.flipkart.com/oneplus-nord-2t-5g-gray-shadow-128-gb/p/itmeadf76c1e8943?pid=MOBGHBZH2S8MWQGQ&lid=LSTMOBGHBZH2S8MWQGQVS5NRI&marketplace=FLIPKART&q=Oneplus+Nord&store=tyy%2F4io&srno=s_1_14&otracker=search&otracker1=search&fm=organic&iid=25894449-21d9-4567-bc4e-ba3573c3f48d.MOBGHBZH2S8MWQGQ.SEARCH&ppt=hp&ppn=homepage&ssid=d8nquhu2w00000001718745229846&qH=53863d4d978d5074', 'https://www.flipkart.com/oneplus-nord-2-5g-gray-sierra-256-gb/p/itmc88e4a702db46?pid=MOBGHBNGW3HD5ZQ2&q=Oneplus+Nord&store=tyy%2F4io&srno=s_1_15&otracker=search&otracker1=search&fm=organic&iid=25894449-21d9-4567-bc4e-ba3573c3f48d.MOBGHBNGW3HD5ZQ2.SEARCH&ppt=hp&ppn=homepage&ssid=d8nquhu2w00000001718745229846&qH=53863d4d978d5074', 'https://www.flipkart.com/oneplus-nord-ce-2-lite-5g-black-dusk-128-gb/p/itmc56272cceee9d?pid=MOBGHBZHQMNV4KKS&lid=LSTMOBGHBZHQMNV4KKSD0J2AV&marketplace=FLIPKART&q=Oneplus+Nord&store=tyy%2F4io&spotlightTagId=TrendingId_tyy%2F4io&srno=s_1_16&otracker=search&otracker1=search&fm=Search&iid=25894449-21d9-4567-bc4e-ba3573c3f48d.MOBGHBZHQMNV4KKS.SEARCH&ppt=sp&ppn=sp&ssid=d8nquhu2w00000001718745229846&qH=53863d4d978d5074', 'https://www.flipkart.com/oneplus-nord-2t-5g-gray-shadow-128-gb/p/itmcc41879f80ab7?pid=MOBGQ9PXWGKTUZGR&lid=LSTMOBGQ9PXWGKTUZGRMYANYU&marketplace=FLIPKART&q=Oneplus+Nord&store=tyy%2F4io&srno=s_1_17&otracker=search&otracker1=search&fm=organic&iid=25894449-21d9-4567-bc4e-ba3573c3f48d.MOBGQ9PXWGKTUZGR.SEARCH&ppt=hp&ppn=homepage&ssid=d8nquhu2w00000001718745229846&qH=53863d4d978d5074', 'https://www.flipkart.com/oneplus-nord-ce-2-5g-gray-mirror-128-gb/p/itmb99beed9d7675?pid=MOBGHBZHYMH3DDG8&lid=LSTMOBGHBZHYMH3DDG8CNIACV&marketplace=FLIPKART&q=Oneplus+Nord&store=tyy%2F4io&srno=s_1_18&otracker=search&otracker1=search&fm=organic&iid=25894449-21d9-4567-bc4e-ba3573c3f48d.MOBGHBZHYMH3DDG8.SEARCH&ppt=hp&ppn=homepage&ssid=d8nquhu2w00000001718745229846&qH=53863d4d978d5074', 'https://www.flipkart.com/oneplus-nord-2-5g-gray-sierra-128-gb/p/itm4fa07654f3389?pid=MOBGKN6FTVMZAPQX&lid=LSTMOBGKN6FTVMZAPQXORTFCG&marketplace=FLIPKART&q=Oneplus+Nord&store=tyy%2F4io&srno=s_1_19&otracker=search&otracker1=search&fm=organic&iid=25894449-21d9-4567-bc4e-ba3573c3f48d.MOBGKN6FTVMZAPQX.SEARCH&ppt=hp&ppn=homepage&ssid=d8nquhu2w00000001718745229846&qH=53863d4d978d5074', 'https://www.flipkart.com/oneplus-nord-ce-5g-silver-ray-256-gb/p/itmc4c02029d9c90?pid=MOBGDM5SUVH9VMZD&lid=LSTMOBGDM5SUVH9VMZDIEX6JH&marketplace=FLIPKART&q=Oneplus+Nord&store=tyy%2F4io&srno=s_1_20&otracker=search&otracker1=search&fm=organic&iid=25894449-21d9-4567-bc4e-ba3573c3f48d.MOBGDM5SUVH9VMZD.SEARCH&ppt=hp&ppn=homepage&ssid=d8nquhu2w00000001718745229846&qH=53863d4d978d5074', 'https://www.flipkart.com/oneplus-nord-ce-2-5g-gray-mirror-128-gb/p/itmb85e13e274fb0?pid=MOBGHBZHWHHGZZRH&lid=LSTMOBGHBZHWHHGZZRH6BHZL0&marketplace=FLIPKART&q=Oneplus+Nord&store=tyy%2F4io&srno=s_1_21&otracker=search&otracker1=search&fm=organic&iid=25894449-21d9-4567-bc4e-ba3573c3f48d.MOBGHBZHWHHGZZRH.SEARCH&ppt=hp&ppn=homepage&ssid=d8nquhu2w00000001718745229846&qH=53863d4d978d5074', 'https://www.flipkart.com/oneplus-nord-ce-5g-charcoal-ink-256-gb/p/itmc4c02029d9c90?pid=MOBGDM4JGS4AUQRN&lid=LSTMOBGDM4JGS4AUQRN4VNNUL&marketplace=FLIPKART&q=Oneplus+Nord&store=tyy%2F4io&srno=s_1_22&otracker=search&otracker1=search&fm=organic&iid=25894449-21d9-4567-bc4e-ba3573c3f48d.MOBGDM4JGS4AUQRN.SEARCH&ppt=hp&ppn=homepage&ssid=d8nquhu2w00000001718745229846&qH=53863d4d978d5074', 'https://www.flipkart.com/oneplus-nord-ce-5g-blue-void-256-gb/p/itmc4c02029d9c90?pid=MOBGDTZ8HJVDQZSN&lid=LSTMOBGDTZ8HJVDQZSNI3FNG3&marketplace=FLIPKART&q=Oneplus+Nord&store=tyy%2F4io&srno=s_1_23&otracker=search&otracker1=search&fm=organic&iid=25894449-21d9-4567-bc4e-ba3573c3f48d.MOBGDTZ8HJVDQZSN.SEARCH&ppt=hp&ppn=homepage&ssid=d8nquhu2w00000001718745229846&qH=53863d4d978d5074', 'https://www.flipkart.com/oneplus-nord-ce-2-5g-gray-mirror-128-gb/p/itm33d69f9705a3d?pid=MOBGHHZDYQHWEGMX&lid=LSTMOBGHHZDYQHWEGMXYSV9DF&marketplace=FLIPKART&q=Oneplus+Nord&store=tyy%2F4io&srno=s_1_24&otracker=search&otracker1=search&fm=organic&iid=25894449-21d9-4567-bc4e-ba3573c3f48d.MOBGHHZDYQHWEGMX.SEARCH&ppt=hp&ppn=homepage&ssid=d8nquhu2w00000001718745229846&qH=53863d4d978d5074']\n"
     ]
    }
   ],
   "source": [
    "urls=[]\n",
    "url=driver.find_elements(By.XPATH,'//a[@class=\"CGtC98\"]')\n",
    "for i in url:\n",
    "    urls.append(i.get_attribute('href'))\n",
    "    \n",
    "print(len(urls))\n",
    "print(urls)"
   ]
  },
  {
   "cell_type": "code",
   "execution_count": 56,
   "id": "3feef020-fd48-4c31-a224-5a7baac68c1d",
   "metadata": {},
   "outputs": [
    {
     "name": "stdout",
     "output_type": "stream",
     "text": [
      "['Nord CE 3 Lite 5G', 'Nord CE 3 Lite 5G', 'Nord CE 3 Lite 5G', 'Nord CE 3 Lite 5G', 'Nord CE4', 'Nord CE4', 'Nord CE4', 'Nord CE4', 'Nord 2T 5G', 'Nord 2T 5G', 'Nord 2T 5G']\n",
      "11\n"
     ]
    }
   ],
   "source": [
    "brand_name=[]\n",
    "for i in urls:\n",
    "    driver.get(i)\n",
    "    time.sleep(2)\n",
    "    b=driver.find_elements(By.XPATH,'//*[@id=\"container\"]/div/div[3]/div[1]/div[2]/div[9]/div[4]/div/div[2]/div/div[1]/table/tbody/tr[3]/td[2]/ul/li')\n",
    "    for i in b:\n",
    "        para=i.text\n",
    "        brand_name.append(para)\n",
    "print (brand_name)\n",
    "print(len(brand_name))"
   ]
  },
  {
   "cell_type": "code",
   "execution_count": 49,
   "id": "5fd1b5af-d252-4382-858f-e1fc74f2236b",
   "metadata": {},
   "outputs": [
    {
     "name": "stdout",
     "output_type": "stream",
     "text": [
      "24\n",
      "['OnePlus Nord CE 3 Lite 5G (Pastel Lime, 256 GB)', 'OnePlus Nord CE 3 Lite 5G (Pastel Lime, 128 GB)', 'OnePlus Nord CE 3 Lite 5G (Chromatic Gray, 128 GB)', 'OnePlus Nord CE 3 Lite 5G (Chromatic Gray, 256 GB)', 'OnePlus Nord CE4 (Dark Chrome, 256 GB)', 'OnePlus Nord CE4 (Dark Chrome, 128 GB)', 'OnePlus Nord CE4 (Celadon Marble, 128 GB)', 'OnePlus Nord CE4 (Celadon Marble, 256 GB)', 'OnePlus Nord 2T 5G (Jade Fog, 128 GB)', 'OnePlus Nord 2T 5G (Jade Fog, 128 GB)', 'OnePlus Nord 2T 5G (Gray Shadow, 256 GB)', 'OnePlus Nord 2T 5G (Gray Shadow, 128 GB)', 'OnePlus Nord 2T 5G (Gray Shadow, 256 GB)', 'OnePlus Nord 2T 5G (Gray Shadow, 128 GB)', 'OnePlus Nord 2 5G (Gray Sierra, 256 GB)', 'OnePlus Nord CE 2 Lite 5G (Black Dusk, 128 GB)', 'OnePlus Nord 2T 5G (Gray Shadow, 128 GB)', 'OnePlus Nord CE 2 5G (Gray Mirror, 128 GB)', 'OnePlus Nord 2 5G (Gray Sierra, 128 GB)', 'OnePlus Nord CE 5G (Silver Ray, 256 GB)', 'OnePlus Nord CE 2 5G (Gray Mirror, 128 GB)', 'OnePlus Nord CE 5G (Charcoal Ink, 256 GB)', 'OnePlus Nord CE 5G (Blue Void, 256 GB)', 'OnePlus Nord CE 2 5G (Gray Mirror, 128 GB)']\n"
     ]
    }
   ],
   "source": [
    "brand_name=[]\n",
    "b=driver.find_elements(By.XPATH,'//div[@class=\"yKfJKb row\"]/div[1]/div[1]')\n",
    "for i in b:\n",
    "    brand_name.append(i.text)\n",
    "print(len(brand_name))\n",
    "print(brand_name)"
   ]
  },
  {
   "cell_type": "code",
   "execution_count": null,
   "id": "4165e134-ecc4-49aa-905b-967ec0205985",
   "metadata": {},
   "outputs": [],
   "source": [
    "smartphone=[]"
   ]
  },
  {
   "cell_type": "code",
   "execution_count": null,
   "id": "2b437631-1106-486c-90b0-17aca5b5550a",
   "metadata": {},
   "outputs": [],
   "source": [
    "colour=[]\n"
   ]
  },
  {
   "cell_type": "code",
   "execution_count": 53,
   "id": "5588b68f-8a8c-4ac7-b053-c73305f938e9",
   "metadata": {},
   "outputs": [
    {
     "name": "stdout",
     "output_type": "stream",
     "text": [
      "['', '', '', '', '', '', '', '', '', '', '', '', '', '', '', '', '', '', '', '', '', '', '', '']\n",
      "24\n"
     ]
    }
   ],
   "source": [
    "#//div[@class=\"GNDEQ-\"][4]/table/tbody/tr[2]/td[2]\n",
    "ram=[]\n",
    "\n",
    "for i in urls:\n",
    "    driver.get(i)\n",
    "    time.sleep(5)\n",
    "    ram_ram=driver.find_elements(By.XPATH,'//div[@class=\"GNDEQ-\"][4]/table/tbody/tr[2]/td[2]')\n",
    "    for i in ram_ram:\n",
    "        r=i.text\n",
    "        ram.append(r)\n",
    "print (ram)\n",
    "print(len(ram))"
   ]
  },
  {
   "cell_type": "code",
   "execution_count": null,
   "id": "d690ec22-e520-45aa-b1ff-da35dc3b44a1",
   "metadata": {},
   "outputs": [],
   "source": []
  },
  {
   "cell_type": "code",
   "execution_count": null,
   "id": "f19a9cb4-23f7-49fb-985c-ffe784a9d4aa",
   "metadata": {},
   "outputs": [],
   "source": []
  },
  {
   "cell_type": "code",
   "execution_count": null,
   "id": "785716a9-60d4-435d-91d7-79edc6942738",
   "metadata": {},
   "outputs": [],
   "source": [
    "#Write a python program to scrape a data for all available Hostels from https://www.hostelworld.com/ in \n",
    "#“London” location. You have to scrape hostel name, distance from city centre, ratings, total reviews, overall \n",
    "#reviews, privates from price, dorms from price, facilities and property description."
   ]
  },
  {
   "cell_type": "code",
   "execution_count": 2,
   "id": "cdaadd45-c80c-4071-9fc3-e2f696450b60",
   "metadata": {},
   "outputs": [],
   "source": [
    "driver=webdriver.Chrome()"
   ]
  },
  {
   "cell_type": "code",
   "execution_count": 3,
   "id": "c7d8ff00-3d73-4ae6-9612-ef6eae1f597e",
   "metadata": {},
   "outputs": [],
   "source": [
    "#fetching url\n",
    "driver.get('https://www.hostelworld.com/')"
   ]
  },
  {
   "cell_type": "code",
   "execution_count": 4,
   "id": "5fd0593a-aeea-4b4c-bdcf-b4668a27debe",
   "metadata": {},
   "outputs": [],
   "source": [
    "location=driver.find_element(By.XPATH,\"/html/body/div[3]/div/div[2]/main/header/div/div[2]/div[1]/div[1]/div/div[1]/div[1]/div/div[2]/label/input\")\n",
    "location.send_keys(\"london\")"
   ]
  },
  {
   "cell_type": "code",
   "execution_count": 5,
   "id": "4f14bd88-5697-43b7-ac5c-7e393099ff6f",
   "metadata": {},
   "outputs": [],
   "source": [
    "london=driver.find_element(By.XPATH,\"/html/body/div[3]/div/div[2]/main/header/div/div[2]/div[1]/div[1]/div/div[1]/div[2]/div/ul/li[2]/button/div[2]/div[2]\")\n",
    "london.click()"
   ]
  },
  {
   "cell_type": "code",
   "execution_count": 6,
   "id": "829b0e88-7f1d-453d-b2f1-07122765a083",
   "metadata": {},
   "outputs": [],
   "source": [
    "lets_go=driver.find_element(By.XPATH,\"/html/body/div[3]/div/div[2]/main/header/div/div[2]/div[1]/div[1]/div/div[5]/button[2]\")\n",
    "lets_go.click()"
   ]
  },
  {
   "cell_type": "code",
   "execution_count": 11,
   "id": "9e9a74eb-f45a-417c-88e1-ff059b2998e3",
   "metadata": {},
   "outputs": [
    {
     "name": "stdout",
     "output_type": "stream",
     "text": [
      "30\n",
      "[\"Wombat's City Hostel London\", 'Palmers Lodge - Swiss Cottage', 'Urbany Hostel London', 'Onefam Waterloo', 'Onefam Notting Hill', 'NX London Hostel', 'Clink261', \"St Christopher's Village\", 'Generator London', 'No.8 Seven Sisters', 'Astor Museum Inn', 'Smart Russell Square Hostel', 'Astor Hyde Park', 'Safestay London Elephant & Castle', 'Destinations Hostels @ The Gallery', 'London Backpackers', 'Queen Elizabeth Chelsea', 'Safestay London Kensington Holland Park', 'Hostelle - women only hostel London', 'Smart Hyde Park Inn Hostel', 'Smart Camden Inn Hostel', 'Astor Victoria', 'Kabannas London St Pancras', 'Saint James Backpackers', 'Bell House Hostel', \"St Christopher's Hammersmith\", 'Astor Kensington', 'PubLove @ The Rose & Crown', 'PubLove @ The Steam Engine, Waterloo', 'PubLove @ The White Ferry, Victoria']\n"
     ]
    }
   ],
   "source": [
    "hostel_name=[]\n",
    "\n",
    "name_tags=driver.find_elements(By.XPATH,'//a[@data-v-774cba8c]/div[2]/div/div/span')\n",
    "for i in name_tags:\n",
    "    name=i.text\n",
    "    hostel_name.append(name)\n",
    "print(len(hostel_name))\n",
    "print(hostel_name)"
   ]
  },
  {
   "cell_type": "code",
   "execution_count": 12,
   "id": "1757c7f7-fbf3-4887-8e9d-ae130986a55b",
   "metadata": {},
   "outputs": [
    {
     "name": "stdout",
     "output_type": "stream",
     "text": [
      "30\n",
      "['- 3.6km from city centre', '- 6.5km from city centre', '- 5.4km from city centre', '- 0.7km from city centre', '- 5.5km from city centre', '- 6.1km from city centre', '- 3.2km from city centre', '- 1.8km from city centre', '- 3km from city centre', '- 9km from city centre', '- 2.2km from city centre', '- 2.6km from city centre', '- 4.3km from city centre', '- 1.7km from city centre', '- 1.7km from city centre', '- 11.9km from city centre', '- 5.7km from city centre', '- 5.8km from city centre', '- 5.1km from city centre', '- 5km from city centre', '- 4.4km from city centre', '- 1.8km from city centre', '- 3.3km from city centre', '- 5.5km from city centre', '- 4.2km from city centre', '- 7.5km from city centre', '- 4.9km from city centre', '- 1.6km from city centre', '- 0.5km from city centre', '- 2.4km from city centre']\n"
     ]
    }
   ],
   "source": [
    "distance=[]\n",
    "\n",
    "d_tags=driver.find_elements(By.XPATH,'//span[@class=\"distance-description\"]')\n",
    "for i in d_tags:\n",
    "    d=i.text\n",
    "    distance.append(d)\n",
    "print(len(distance))\n",
    "print(distance)"
   ]
  },
  {
   "cell_type": "code",
   "execution_count": 13,
   "id": "72847ca6-7885-4e3e-81d3-f6c24dc61232",
   "metadata": {},
   "outputs": [
    {
     "name": "stdout",
     "output_type": "stream",
     "text": [
      "30\n",
      "['9.3', '8.7', '9.6', '9.5', '9.8', '8.8', '8.2', '7.6', '7.2', '7.8', '8.8', '7.7', '8.1', '7.3', '9.1', '8.4', '8.1', '7.0', '8.5', '7.6', '8.9', '7.1', '8.4', '8.6', '6.8', '7.6', '7.7', '7.9', '7.9', '7.6']\n"
     ]
    }
   ],
   "source": [
    "ratings=[]\n",
    "\n",
    "ratings_tags=driver.find_elements(By.XPATH,'//div[@class=\"rating medium theme-null\"]/div[1]/span[1]')\n",
    "for i in ratings_tags:\n",
    "    rating=i.text\n",
    "    ratings.append(rating)\n",
    "print(len(ratings))\n",
    "print(ratings)"
   ]
  },
  {
   "cell_type": "code",
   "execution_count": 14,
   "id": "b9e6d47c-1d70-402b-a21c-aa80abb8dee4",
   "metadata": {},
   "outputs": [
    {
     "name": "stdout",
     "output_type": "stream",
     "text": [
      "30\n",
      "['Superb', 'Fabulous', 'Superb', 'Superb', 'Superb', 'Fabulous', 'Fabulous', 'Very Good', 'Very Good', 'Very Good', 'Fabulous', 'Very Good', 'Fabulous', 'Very Good', 'Superb', 'Fabulous', 'Fabulous', 'Very Good', 'Fabulous', 'Very Good', 'Fabulous', 'Very Good', 'Fabulous', 'Fabulous', 'Good', 'Very Good', 'Very Good', 'Very Good', 'Very Good', 'Very Good']\n"
     ]
    }
   ],
   "source": [
    "total_reviews=[]\n",
    "\n",
    "reviews_tags=driver.find_elements(By.XPATH,'//div[@class=\"property-info-header\"]/div/div/div/span[2]')\n",
    "for i in reviews_tags:\n",
    "    reviews=i.text\n",
    "    total_reviews.append(reviews)\n",
    "print(len(total_reviews))\n",
    "print(total_reviews)"
   ]
  },
  {
   "cell_type": "code",
   "execution_count": 15,
   "id": "c08e703a-7c10-4874-b275-d7b4d7ec8612",
   "metadata": {},
   "outputs": [
    {
     "name": "stdout",
     "output_type": "stream",
     "text": [
      "30\n",
      "['(16545)', '(16220)', '(1307)', '(367)', '(2836)', '(2407)', '(678)', '(13104)', '(8282)', '(4289)', '(9540)', '(10294)', '(12406)', '(5361)', '(390)', '(4624)', '(3796)', '(1880)', '(206)', '(6858)', '(3196)', '(15166)', '(3043)', '(1977)', '(193)', '(4463)', '(6628)', '(256)', '(476)', '(450)']\n"
     ]
    }
   ],
   "source": [
    "overall_reviews=[]\n",
    "\n",
    "overall_tags=driver.find_elements(By.XPATH,'//div[@class=\"review\"]')\n",
    "for i in overall_tags:\n",
    "    overall=i.text\n",
    "    overall_reviews.append(overall)\n",
    "print(len(overall_reviews))\n",
    "print(overall_reviews)"
   ]
  },
  {
   "cell_type": "code",
   "execution_count": 16,
   "id": "85788e3c-90e2-49db-a5a8-cadf5e2b9d2d",
   "metadata": {},
   "outputs": [
    {
     "name": "stdout",
     "output_type": "stream",
     "text": [
      "30\n",
      "[\"https://www.hostelworld.com/pwa/hosteldetails.php/Wombat's%20City%20Hostel%20London/London/88047?from=2024-06-19&to=2024-06-22&guests=1\", 'https://www.hostelworld.com/pwa/hosteldetails.php/Palmers%20Lodge%20-%20Swiss%20Cottage/London/14348?from=2024-06-19&to=2024-06-22&guests=1', 'https://www.hostelworld.com/pwa/hosteldetails.php/Urbany%20Hostel%20London/London/303427?from=2024-06-19&to=2024-06-22&guests=1', 'https://www.hostelworld.com/pwa/hosteldetails.php/Onefam%20Waterloo/London/39493?from=2024-06-19&to=2024-06-22&guests=1', 'https://www.hostelworld.com/pwa/hosteldetails.php/Onefam%20Notting%20Hill/London/291433?from=2024-06-19&to=2024-06-22&guests=1', 'https://www.hostelworld.com/pwa/hosteldetails.php/NX%20London%20Hostel/London/15204?from=2024-06-19&to=2024-06-22&guests=1', 'https://www.hostelworld.com/pwa/hosteldetails.php/Clink261/London/516?from=2024-06-19&to=2024-06-22&guests=1', \"https://www.hostelworld.com/pwa/hosteldetails.php/St%20Christopher's%20Village/London/502?from=2024-06-19&to=2024-06-22&guests=1\", 'https://www.hostelworld.com/pwa/hosteldetails.php/Generator%20London/London/510?from=2024-06-19&to=2024-06-22&guests=1', 'https://www.hostelworld.com/pwa/hosteldetails.php/No.8%20Seven%20Sisters/London/91108?from=2024-06-19&to=2024-06-22&guests=1', 'https://www.hostelworld.com/pwa/hosteldetails.php/Astor%20Museum%20Inn/London/520?from=2024-06-19&to=2024-06-22&guests=1', 'https://www.hostelworld.com/pwa/hosteldetails.php/Smart%20Russell%20Square%20Hostel/London/29412?from=2024-06-19&to=2024-06-22&guests=1', 'https://www.hostelworld.com/pwa/hosteldetails.php/Astor%20Hyde%20Park/London/25678?from=2024-06-19&to=2024-06-22&guests=1', 'https://www.hostelworld.com/pwa/hosteldetails.php/Safestay%20London%20Elephant%20&%20Castle/London/55551?from=2024-06-19&to=2024-06-22&guests=1', 'https://www.hostelworld.com/pwa/hosteldetails.php/Destinations%20Hostels%20@%20The%20Gallery/London/314563?from=2024-06-19&to=2024-06-22&guests=1', 'https://www.hostelworld.com/pwa/hosteldetails.php/London%20Backpackers/London/527?from=2024-06-19&to=2024-06-22&guests=1', 'https://www.hostelworld.com/pwa/hosteldetails.php/Queen%20Elizabeth%20Chelsea/London/50443?from=2024-06-19&to=2024-06-22&guests=1', 'https://www.hostelworld.com/pwa/hosteldetails.php/Safestay%20London%20Kensington%20Holland%20Park/London/93920?from=2024-06-19&to=2024-06-22&guests=1', 'https://www.hostelworld.com/pwa/hosteldetails.php/Hostelle%20-%20women%20only%20hostel%20London/London/316723?from=2024-06-19&to=2024-06-22&guests=1', 'https://www.hostelworld.com/pwa/hosteldetails.php/Smart%20Hyde%20Park%20Inn%20Hostel/London/517?from=2024-06-19&to=2024-06-22&guests=1', 'https://www.hostelworld.com/pwa/hosteldetails.php/Smart%20Camden%20Inn%20Hostel/London/596?from=2024-06-19&to=2024-06-22&guests=1', 'https://www.hostelworld.com/pwa/hosteldetails.php/Astor%20Victoria/London/524?from=2024-06-19&to=2024-06-22&guests=1', 'https://www.hostelworld.com/pwa/hosteldetails.php/Kabannas%20London%20St%20Pancras/London/7010?from=2024-06-19&to=2024-06-22&guests=1', 'https://www.hostelworld.com/pwa/hosteldetails.php/Saint%20James%20Backpackers/London/70909?from=2024-06-19&to=2024-06-22&guests=1', 'https://www.hostelworld.com/pwa/hosteldetails.php/Bell%20House%20Hostel/London/315821?from=2024-06-19&to=2024-06-22&guests=1', \"https://www.hostelworld.com/pwa/hosteldetails.php/St%20Christopher's%20Hammersmith/London/20976?from=2024-06-19&to=2024-06-22&guests=1\", 'https://www.hostelworld.com/pwa/hosteldetails.php/Astor%20Kensington/London/523?from=2024-06-19&to=2024-06-22&guests=1', 'https://www.hostelworld.com/pwa/hosteldetails.php/PubLove%20@%20The%20Rose%20&%20Crown/London/297123?from=2024-06-19&to=2024-06-22&guests=1', 'https://www.hostelworld.com/pwa/hosteldetails.php/PubLove%20@%20The%20Steam%20Engine,%20Waterloo/London/29389?from=2024-06-19&to=2024-06-22&guests=1', 'https://www.hostelworld.com/pwa/hosteldetails.php/PubLove%20@%20The%20White%20Ferry,%20Victoria/London/39761?from=2024-06-19&to=2024-06-22&guests=1']\n"
     ]
    }
   ],
   "source": [
    "urls=[]\n",
    "url=driver.find_elements(By.XPATH,'//a[@data-v-774cba8c]')\n",
    "for i in url:\n",
    "    urls.append(i.get_attribute('href'))\n",
    "    \n",
    "print(len(urls))\n",
    "print(urls)\n"
   ]
  },
  {
   "cell_type": "code",
   "execution_count": null,
   "id": "2795ce43-4a80-4e88-81a3-b523742c1785",
   "metadata": {},
   "outputs": [],
   "source": [
    "privat=[]\n",
    "for link in urls:\n",
    "    driver.get(link)\n",
    "    time.sleep(5)\n",
    "    pr=driver.find_elements(By.XPATH,'//p[@class=\"text line-clamp\"]')\n",
    "    for i in pr:\n",
    "       p_d=i.text\n",
    "        private.append(p_d)\n",
    "print (privat)\n",
    "print(len(private))"
   ]
  },
  {
   "cell_type": "code",
   "execution_count": 18,
   "id": "022cf90c-a788-45bf-b056-e666b3f2b9c5",
   "metadata": {},
   "outputs": [
    {
     "name": "stdout",
     "output_type": "stream",
     "text": [
      "[\"A safe haven in the middle of the metropolis: We took a traditional brick building with roots dating back to the 1800s and set a new standard for hostel life in the UK. What was once sailors' accommodation is now a hostel that caters for all the needs of the modern traveller. With great attention to detail, we have created a hostel in London that celebrates the heritage of our historic building. The old oak that once formed part of sturdy ships and churches is now immortalised in our furnishings throughout the house. The beers you drink here will be served on a bar made from 500 year old wood! Our Wombat's City Hostel is located in the London Borough of Tower Hamlets, right next to the famous Tower Bridge and Tower of London, charming markets, authentic pubs and many other places of historical interest. A short walk will take you to trendy Shoreditch with its vibrant street art, the lively nightlife of Hoxton Square and Old Street and finally Brick Lane, which has become one of the most popular spots. All other London attractions are easily accessible by public transport: Aldgate East and Tower Bridge underground and DLR stations are just a stone's throw away. After a long and exciting day in London, our hostel awaits you with a cosy courtyard, a spacious lobby with our own Wombat's Cafe (exclusive Wombat's Roast included) and womBAR. Here you can relax and enjoy our always unexpected offers. All rooms are equipped with en-suite bathroom and private lockers. Includes: - Bed linen. - WiFi. - Our own Wombat's city maps. - Wombat's Café. - The womBAR for endless parties. - A guest kitchen open to all who want to satisfy their own culinary needs. - 24/7 reception. - Secure luggage storage. - Rental items (umbrellas, hairdryers, adaptors: everything a traveller could need). - Coin-operated laundry facilities (washing and drying), so you can revitalise your clothes! Our famous Tasty Brekkie buffet guarantees you enough energy for your exciting day in London. You can buy breakfast for an economical price at reception. (Minimum age 18 years). NON-REFUNDABLE RESERVATIONS: * Full payment is required at the time of booking and is non-refundable. * If you leave early, cancel or do not honour this booking, you will not be refunded. * Any extension of this stay requires a new booking for the additional dates, subject to availability and current rates. In the event of invalid credit card details, you will be contacted by our team. You will have 48 hours to provide valid credit card details, otherwise we reserve the right to cancel the booking.\", \"Whether you're a backpacker, flash-packer or a budget traveller, Palmers Lodge has everything you need for one of the most unique experiences in London! Combining the grand charm of our historic building constucted in 1882, our friendly team and accessible location, Palmers Lodge has it all. Swiss Cottage boasts not only a fantastic London city location and building but our services are unbeatable! We have a 24 hour reception so you can be assured we are always there when you need us, you can meet other like-minded travellers downstairs at Swiss Bar - taking advantage of our selections of drinks and snacks. An added bonus is that beds are pre-made and come with linen all for free, so the late arriving lodger can jump straight into bed, or the bar! We also offer free Wi-Fi throughout the hostel so you can stay in touch with the rest of the world and explore what's on in London! It is easy to forget when you stay at Swiss Cottage that there is a vibrant city just outside waiting for you! We are close to the underground (tube to the locals) so you can be in any of London's hotspots within minutes! If it's shopping you're looking for, the tube will take you directly from Swiss Cottage Station to the centre of Oxford Street (15 mins) or you can shop till you drop at Europe's largest shopping centre Westfield. You could also have a drink or two in Leicester Square (15 mins) take a spin on the London Eye (20 mins) or spot Kate and William at Buckingham Palace (10 mins) all this and more with the tube from Swiss Cottage Station or Finchley Road only 200 metres away! Award winning Hostel, winning or being a finalist for “Best Customer Service” and 'Best UK Youth Accommodation' (2012, 2013, 2015) by the British Education Travel Association, among our several other awards. Just some of our facilities and services: ▪ 24 hour reception and staff ▪ Check in time 2 pm ▪ Check out time 10 am ▪ Key-card door access ▪ Free safes and luggage lockers in every room ▪ En-suite rooms available ▪ Coach and car parking available (£10.00) ▪ Full CCTV coverage for added security ▪ Free linen and beds which are pre-made ▪ Bar and late night lounge areas ▪ Reading, conservatory and quiet rooms ▪ Lift ▪ Large selection of rooms including double, twin and dormitory rooms ▪ Ground floor reception and rooms ▪ Luggage storage for hire ▪ Photocopy facilities ▪ Free Wi-Fi ▪ Washing and drying facilities available ▪ Souvenirs and toiletries sales at reception Note that this property has a maximum stay of 14 nights. No guests can stay longer than 14 total nights within any 6-month period. All under 18's must be accompanied by an adult and have a written approval from parents with a copy of their passport or I.D. If staying in a single sex dorm room the adult and child must be the same gender. Please note under 16's are not allowed to stay in dorm rooms. You must book a private room. Bookings for 15 or more people qualify as group reservations and are subject to different Terms and Conditions. Please contact the property/hostel directly for more information. Please note that reservations for the night of the 31st December will be subject to a no-cancellation policy. This property has a 24 HR cancellation policy. Bookings will need to be cancelled via email by 2 pm of the previous day the guest is supposed to arrive. Failure to cancel within this time will result in a cancellation charge equal to the first night of your stay. Reservations for any Guests that fail to arrive for check in between 2pm on their Date of Arrival, up until 5am the next day will be subject to complete cancellation of their reservation and also subject to a one-night cancellation charge unless the property have otherwise been informed of a late/delayed arrival and have also approved an amended check-in time and date. Guests are reminded that once they have paid on the day of check-in, no refunds will be issued. Bookings for 15 or more people qualify as group reservations and are subject to different Terms and Conditions. Please contact the property/hostel directly for more information. Palmers Lodge reserve the right to preauthorise Guests cards for prior to arrival. During times of extremely high demand, all reservations are required to have been made with a valid, chargeable card. Any reservations without a valid, chargeable card may be cancelled by Palmers Lodge at any given time.\", \"Welcome to Urbany Hostel London! Ideal for the solo traveller, we offer you a perfect spot to explore the city, make friends, party and feel at home. We are a social youth hostel (for travellers 18 - 40 years) located in Notting Hill; a cosmopolitan and multicultural neighbourhood where you can easily walk to Portobello Market, Hyde Park and Kensington palace, a few of the most popular sites in London. Set in a Victorian terraced house built in the 1800s, offering a cosy social lounge, fully equipped kitchen, large outdoor terrace and indoor dining area. We are the perfect balance to relax, party and or work. For anyone travelling with heavy luggage, it is important to note that there are 4 floors with no elevator . FEEL THE URBANY VIBE: Our staff members are just like our guests, friendly, sociable, international and incredibly helpful! They will make sure you know your way around the city. We offer a range of daily activities around London; from pub crawls, nights out and FREE dinners on selected days. We have a variety of shared mixed dormitories, whilst also offering private rooms for those who prefer not to share. Free high-speed Wi-Fi is available everywhere, even in your room. Luggage storage is also available for free if you arrive before check-in or are leaving after check-out (only for the day). We offer: towel rental (2 GBP) and basic laundry service wash/dry (8 GBP). 24/7 CCTV throughout the whole building for added security. CHECK - IN POLICIES - ALL our guests must be between 18 - 40 YEARS. If you are outside of this age range upon arrival to the hostel, we have the right to cancel your booking without refund of your deposit, as well as charging the applicable cancellation fee. - A physical VALID government issued ID, Passport, Driving license, and National identity cards (No paper or phone copies) is required to stay with us. -Please ensure your arrival time is between 8 AM - 11 PM. Alternatively please let us know if you will be arriving outside these hours. -Check in to rooms is from 3 PM - 11 PM -Check out before 11 AM We do require a £10 CASH key deposit (which you will receive back upon return). Ours key's have 24/7 access so there is no curfew - you can get in and out as much as you like. We can't wait to welcome you to our wonderful home and enjoy this amazing city!\", 'Come join us at our newest Onefam location in central London! If you’re looking for a place to make friends for life and explore this amazing city look no further! What makes our hostel unique is our ability to bring people together and create amazing experiences for our guests because we are an extremely social hostel. Our super friendly staff offers amazing day tours to the many beautiful attractions in London as well as a free dinner cooked by the staff and nights out to remember forever! If you still need some convincing, our location is super central which provides quick transportation to anywhere you want to visit in the city via the tube! We are right near the beautiful Thames River, the London Eye, the Imperial War Museum (one of the best in London), Westminster Abbey, Sealife Aquarium and Big Ben along with other hidden gems! WHY US? Social but responsible. Day and night, we have free activities for our Onefam guests. At Onefam you arrive as a solo traveler and you leave with a family. - OUR FACILITIES Sleep well, feel well & make friends. . Fully equipped kitchen. . Terrace area . Big common area designed for different moods. To relax, to work or to socialize with other guests. . Personal lockers, outlets and light in all rooms. . No curfew, so you can come and go 24 hours per day as you please. - CANCELLATION POLICY This property has a 2 day cancellation policy. Failure to cancel within this time will result in a cancellation charge equal to the first night of your stay. Non-refundable rates: If your booking is non-refundable. If you choose to cancel your booking, or in the case of a no-show, you will still be charged the full cost of your booking. - POLICIES & CONDITIONS Check-in from 3:30 PM. For late check-in, please email the hostel in advance. Check-out at 11 AM -SEVEN DAYS LIMIT We have a limit of 7 days to stay per guest, whether that be in the same reservation or divided in different ones. -Age Limit We have an age limit of 18 - 36 years old. If you are outside of this age range upon arrival to the hostel, we have the right to cancel your booking without refund of your deposit, as well as charging the applicable cancellation fee. We look forward to greeting you in London!', \"The perfect place for solo travelers to connect, explore and party! Join the Onefam Family and let us show you the beautiful city of London! What really makes our hostel unique and what has helped us win HostelWorld awards year after year, are our amazing team and incredibly social atmosphere. Our staff are travelers just like you, but we are not just here to party. We will cook you dinner, take you on daytime adventures, and share our expert knowledge of the city. If you still need more convincing, our location is in the absolute heart of Notting Hill (surely you have seen the film!), one of London's most beautiful neighborhoods. We are walking distance from many major tourist attractions such as Portobello Market, Hyde Park & Kensington Palace! - WHY US? Social but responsible. Day and night, we have free activities for our Onefam guests. At Onefam you arrive as a solo traveler and you leave with a family. - OUR FACILITIES Sleep well, feel well & make friends. . Fully equipped kitchen. . Terrace area. . Common areas all designed for different moods. To relax, to work or to party. . Laundry facilities to keep you smelling fresh. . Personal lockers, outlets and light in all rooms. . No curfew, so you can come and go 24 hours per day as you please. - CANCELLATION POLICY This property has a 2 day cancellation policy. Failure to cancel within this time will result in a cancellation charge equal to the first night of your stay. Non-refundable rates: If your booking is non-refundable. If you choose to cancel your booking, or in the case of a no-show, you will still be charged the full cost of your booking. - POLICIES & CONDITIONS Check-in from 3:30 PM to 11:30 PM. For late check-in, please email the hostel in advance. Check-out at 11 AM -SEVEN DAYS LIMIT We have a limit of 7 days to stay per guest, whether that be in the same reservation or divided in different ones. -Age Limit We have an age limit of 18 - 36 years old. If you are outside of this age range upon arrival to the hostel, we have the right to cancel your booking without refund of your deposit, as well as charging the applicable cancellation fee. We look forward to greeting you in London!\", 'Welcome to NX London Hostel! PLEASE READ INFORMATION BELOW IN FULL NX London offers Budget accommodation close to a station and a 24hrs service bus stop. We\\'re among the cheapest hostels in London that offer you FREE breakfast, FREE High speed Wi-Fi, FREE linen and towels, FREE food cupboard and FREE refreshments. We strive to offer value for money but LET\\'S BE REAL, don\\'t come to us with expectations of a boutique Hostel or an affordable Hotel. We\\'re located close to New Cross Gate or New Cross Tube/ Train lines with easy access to London Bridge or connection to the Jubilee Line. We are also a short bus ride (15 minutes) away to the O2, if you are coming to London for a concert or event. FACILITIES: Reception is open 4:00pm to 1:00am (please DO NOT try to arrive prior to this hours unless early or late check-in, or luggage drop are arranged in advance) Luggage storage £5 per luggage per day and needs to be pre-arranged Free High-speed Wi-Fi Free Breakfast Free Food cupboard Free refreshments Free linen and towels Free ear plugs (For light sleepers) Secure Lockers (Chargeable £2/day) Self Catering Kitchens. Common Room with Digital TV. Board-games (to borrow with a refundable deposit) Early check-in (subject to availability) starts at 1:00pm and needs to be arranged and paid in advance with surcharge of £10 per person Late check-in (1:00am-3:00am) needs to be arranged and paid in advance with surcharge of £10 per reservation. WE\\'RE UNABLE TO CHECK IN GUESTS AFTER 3:00am. If you have a delay, you can email to let us know if you\\'re planning to arrive next day during check-in times 4:00pm-1:00am. Late check-out (subject to availability) up to 3:00pm and needs to be arranged and paid in advance with surcharge of £15 per person plus a full night stay if not pre-arranged the night before. MINORS POLICY: We do not accept customers under 18 years old unless they are part of a group staying in a private room with a guardian above 25 years old. Children under 6 years of age are not allowed under any circumstances. If your booking includes minors, you have to email prior processing a reservation in order to confirm ages and provide written parental consent (if applicable), otherwise you will be refused the accommodation with no refunds (a partial voucher could be provided for a future stay). Any issue has to be addressed directly at Reception by the adult guests acting as guardians for the underline reservation. We do not offer child care services and we are not responsible for any minor staying at our property. We cater primarily to adult guests and expect everyone to behave responsibly and respectfully at all times. Third party complains will be automatically dismissed. PREPAYMENT: *All reservations must be PREPAID the day of booking and are NON REFUNDABLE. *Unpaid reservations WILL BE SUBJECT TO AVAILABILITY AND MIGHT INCUR A 20%-40% SURCHARGE if they\\'re not fully paid upon reserving. All of our reservations are NON-REFUNDABLE regardless of circumstances. This includes, but is not limited to, cancellations made by the guest, changes in travel plans, bonafide errors, medical emergencies, bereavement or any other reasons for not being able to stay at the property. By making a reservation, you agreed to this NON-REFUNDABLE policy and acknowledged that you shall not be entitled to receive a refund for any reason. We kindly ask all of our guests to consider this policy before making a booking and ensure that their travel plans align with the hostel\\'s terms and conditions. However, if you need to cancel before your arrival day, you can request a partial courtesy voucher to use in the future at the Manager\\'s discretion. PUB NEXT DOOR: The Pub next door to the hostel often features live music / DJs. Please note that, since this is a well known live music venue, things can get noisy on the Hostel\\'s lower levels. If that\\'s a concern please request ear plugs (provided free or charge) or an upper floor room upon reserving (subject to availability). This is a separate business and we don’t have any affiliation with them. WHAT TO EXPECT: *Our Standards are in line with the accommodation type we offer (BUDGET HOSTEL). The NX London is not a Hotel, the shared nature of our dormitory rooms might occasionally result into clutter. Bathrooms are located in the hallways and partaken with other guests, some wait-time might be required on peak times. *In order to maintain our prices low, we kept \"on location amenities\" to a minimum: There are no toiletries, air conditioning and/or a mini-bar in the rooms. We feature a mix of long term and leisure guests, this gives the ambience a uniquely quirky character, as a consequence it would be impossible to meet everybody\\'s taste. Discriminatory comments or behavior won\\'t be tolerated. *Our 10 bed dorm can host up to 10 guests! If you\\'re not comfortable sharing the space with that many people (and their belongings) please consider booking a different dorm or request an upgrade with price difference (subject to availability). * The hostel is primarily designed for adults and we expect our guests to act in a responsible and respectful manner at all times. * Upon reserving, you agree and acknowledge that our staff is trained to enforce our policies and procedures in a firm and assertive manner, holding everybody to a high standard of behavior and with zero-tolerance policy for any breaches. If they instruct you to follow a particular rule or procedure, we kindly request that you comply with their directions. We ask that guests understand that repeated breaches of policy can put a strain on our staff. * Being uncomfortable with a high level of enforcement or the manner in which our staff members communicate shall not constitute grounds for a complaint. IMPORTANT INFORMATION: *Reception ONLY opens 4:00pm to 1:00am. *Property is not wheelchair accessible* *We do not accept customers over 65 years old unless they are part of a group staying in a private room. We reserve the right to refuse your accommodation at any stage according to the manager discretion. *Groups of 9 guests or more need to send group request. * Check-in time is from 4:00pm-1:00am. Guests arriving between 1:00am-3:00am need to email at least 24hrs in advance to confirm their reservation, pay their late arrival fee and fill out the required online check in form. WE\\'RE UNABLE TO CHECK IN GUESTS AFTER 3:00am. Please note that in case of no-show, the underlining reservation would be forfeited in accordance to policy (where an applicable 100% cancelation fee shall apply) Any new booking resulting from a no-show would be subject to availability and a £20 re-booking fee. If you fail to pre-arrange late check in or arrive by 1:00am the reservation will be considered a no show with applicable charges. If you have a delay, you can email to let us know if you\\'re planning to arrive next day during check-in times 4:00pm-1:00am. *No-Shows and Early check-outs will always result into a full (100%) charge and shall never constitute basis for a monetary refund regardless of circumstances. A transferable courtesy credit voucher, to be redeemed at our property might be offered at the Manager\\'s discretion. *We DO require a valid ID for all arrivals including UK/EU residents. Expired ones or without a clear or damaged photo are not valid to check-in. *A refundable £10.00 Key Deposit shall be required for lockers. Should loss of any key reasonably require a locksmith to be called and/or locksmith services to be carried out, guests shall be liable for any locksmith\\'s fees. Upon departure guests should use the express check-out box located by the entrance to drop their check-in card and/or key sets, where the corresponding key deposit would be refunded directly to the payment method on file for the booking. Those whom wish to check-out early, or retrieve their key deposit in cash, are invited to report to Reception before 1:00 AM the night prior to leaving.', \"Welcome to Clink261! Clink261 is a comfortable, centrally located hostel just 5 minutes walk from King's Cross Tube and St. Pancras International Station; London's main transport hub. The hostel offers free Wi-Fi throughout the building. Clink261 opened its doors 20 years ago. It's come a long way since then, but it's still got that laid-back feel that backpackers love. Staying at Clink261 feels a bit like coming home. With a self-catering kitchen, friendly staff, and comfortable sofas, it's a welcoming place to return to after a day of city exploration. The old Student Union building has been brought to life with unique British-themed interiors. Clink261 has shared dormitory style accommodation along with girls' only dorms and private rooms. All bunk beds have individual reading lights, a USB/electric port to charge up your devices and a locker (sizes vary from room to room, bring your own padlock). Towels are included in private rooms and available to others for a small fee. Reception is open 24/7 and offers discounted tickets on tours and attractions. The friendly team will be happy to help with any questions. Please note Clink261 is a cashless hostel. All guests must present a debit/credit card on check-in with the name of the person staying at Clink261. King's Cross is a bustling and creative area of London. Famous gig venue 'Water Rats' is nearby, an open-air swimming pool is just the other side of King's Cross station (only for the brave!). 'Kerb' Street Food Market is held regularly in Granary Square. The British Museum and Camden Market are a 25-30 minutes walk away and all of London's big sights are easily reached on public transport. At just five minutes walk from King's Cross Underground, Clink261's location is hard to beat. PARKING We don't have any parking spaces directly at the hostels, unfortunately. However, parking is available at the nearby NCP car park. The address is: Judd Street NCP Car Park, Judd Street, St. Pancras, WC1H 9QR. The car park is open from: 05:00-23:00. Height restriction is: 1.9m Parking charges are as follows: 2 hours £10.00 4 hours £20.00 24 hours £28.00 You can pre-book online at the NCPs website. Please make sure to read the hostel's Terms & Conditions before booking. Special conditions apply for group bookings (10 guests or more), please contact the hostel directly. If you wish to cancel or amend your reservation and avoid full charges for your booking, please ensure you notify us by email as soon as possible and at least 24 hours prior to your arrival date notice. Passed this time, we are afraid full charges will incur.\", \"St Christopher's Inn at The Village in London Bridge is the UK's first capsule hostel. Its brand new rooms have been specially designed for our guests to get the best night sleep possible before they wake up in amongst one of London's most vibrant areas. Voted as one of the best party hostels in the world, our multi-award winning hostel offers guests Japanese-style capsule beds with USB ports, cool mood lighting and curtains for privacy. We even have new private rooms with one having an awesome view of the Shard right outside! There is a continental breakfast available every morning for just £5 a day which can be purchased at reception on arrival. Step out the door and you'll be just a short walk away from the London Eye, Tower Bridge and the oldest food market in the city, Borough Market. We're also only a two minute walk from TWO tube stations so getting anywhere in London couldn't be easier. Party into the night in our hostel party bar Belushi's, head down to the Dugout to watch live sports and indulge in our legendary burgers with a discount for all our guests. *Please note that we require an in date government approved - drivers license, passport or national ID card at check-in. **Guests under the age of 18 must stay in a private room with guardians. They cannot share in general dormitory rooms with people who are not part of their own group or family. Legal guardians must be over 21. Under-18s are not allowed in the bars or pubs. ***The maximum stay policy is 7 days ****Please note: non-refundable reservations will be fully charged at the time of booking.\", \"Generator London is a design hotel-hostel located in Russell Square in the heart of central London, a short stroll to Covent Garden, Regents Park and trendy King's Cross. Guests can choose from shared dorms to private rooms, offering something for everyone. Complete with 24-hour reception, free wifi, cafe and bar Generator is a fun and affordable choice in London. Generator London was the very first Generator and you'll find it in the area of Russell Square in the heart of the West End. It's the ideal spot to enjoy London from, everything you need to see is minutes away by tube. You'll never run out of things to do in the UK's capital. You just have to decide where to start and we can help you with that. When you have seen and done it all for the day head back to Generator and unwind. It's a destination in its own right and a great place to socialise and reflect on your experiences of the day. Head to the bar and chill out areas to get yourself a well deserved drink or two. It's lively, friendly and un-missable. We've also got great beds for sleepy heads and of course you'll be enjoying London life in the most authentic surroundings. Choose from a great selection of rooms, from Dorms, to Quads, to Private rooms with innovative mod cons. Fast and free Wi-Fi is all yours too. To get the most out of your stay visit the travel shop and our city experts will help you devise an itinerary that will take you to all the hidden treasures this dynamic city has to offer. You'll have to stay longer to fit it all in but you'll not need convincing of that. We'll see you there soon.\", \"For Great Facilities, Comfort & Affordability you can't go past No.8 Seven Sisters! We provide Excellent Service and ensure that all of our Guests get Everything they want from their time in London. We cater exclusively for the Young & Young at Heart Backpacker 18-48, Photo IDs are required on Check In, as we have Entertainment on Weekends and operate a Very 'Bustling' and Social Hostel. - Free WiFi - Full Facility Kitchen - Secure Storage Facilities & 24Hr Key Card Access - Pool Table & Darts Board - Satellite TV - Traditional English Pub & Beer Garden - Entertainment on Weekends! - Young & Young at Heart Backpackers 18-48 Years Old Only. - Payment by Cash only on Check in. (Credit cards not accepted) - £20 Key Deposit (Fully Refunded On Check-Out) - No refunds are made following Check-In. - Groups of 8 or less only. Facilities cannot cater for larger groups unfortunately. Reception is open from 9:30am-11pm. Check in is from 12pm. PLEASE NOTE that Check In will NOT be possible outside these hours. If you are running late or will be arriving slightly outside our reception hours, please contact us to see if there is a possibility of us accommodating your arrival outside of opening hours. As guests arrive and depart at varying times and numbers, it is impossible for us to guarantee that all group bookings can be allocated in one room together. Nevertheless we always try to keep groups together. Whether it is your first time in London or you are a seasoned traveller, No.8 has everything you need (and a few extras) and will ensure that your stay in London is definitely Enjoyable & Comfortable! We look forward to Welcoming you at No.8 Seven Sisters!\", \"With the British Museum literally on its doorstep, it is impossible to beat this hostel location! Located in the very heart of Central London you are a short walk from iconic attractions like Piccadilly Circus, Trafalgar Square and Covent Garden. It doesn't matter if you are shopping down the legendary Oxford Street, watching a play in Leicester Squares world-famous theatre district, having dinner in China Town, drinks in Soho, or partying in the West End you are always a short walk home to a nice and quiet street in an amazing neighbourhood! The moment you walk through our doors you become part of our family and we want you to have an incredible experience! We want every detail - from our super clean bathrooms and comfortable pillows to our unforgettable social events - to be perfect, giving you a London adventure that is 10 out of 10! VALID government issued ID required to stay with us, and ALL guests must be between 18-40 YEARS At our amazing hostel you will have full access to: -Free Fast Wi-Fi throughout the building as well as Free PC Access -24-hour reception for anything you may need (including late check-in/early check-out) -CCTV in operation 24 hours a day -Storage Lockers available for your valuables £2 per locker, per day (max 14 days). -Luggage room is free to use on day of arrival! You can leave your items from £2.50 per bag on day of departure (£7.50 per bag for everyday thereafter). -Laundry facilities available 24-hours. Hairdryers and ironing facilities free to use -Dining room and common area to enjoy a meal or meet fellow travellers -Beautiful lounge area with comfy sofas Reception hours -Check-out is between 8am and 10am. -Check-in is available between 3pm and 10pm (please let us know your arrival time to ensure someone is there to greet you with a smile!) (A staff member is available 24 hours a day for emergencies, a number will be provided if you have any issues, or you can call the hostel number directly) Charity breakfast Breakfast is available every day from 8 am to 10 am for £3.50 PP. £1 will be donated to charity for every breakfast! Common Areas -Kitchen and common areas are all open! Whoop Whoop! (Kitchen and lounges will be shut at midnight and reopening at 8am). Helpful Extras (Hidden costs are a pain! If we can give it to you for free, we will, if we cannot do it as cheap possible!). -Free City Maps -Tourist Information, walking tours and advice on local attractions and transport (24hrs) -Daily events organized for our guests -Room key is a £5 cash deposit -Padlocks and Adaptors available for a fee at the reception -Discounts at local restaurants and coffee shops -Towels are available for hire at £3.50 -Clean, crisp linen on your bed ready to sleep on! -Late Check-Out available to sleep in a little more until Midday (book in advance at reception)! Please note our basic room types allow you access to all our amazing facilities! However, the building is located a short walk (1 minute) away from the main building, but if you need anything there is a direct telephone which will connect you with our reception. Winner of No.1 Small Hostel Group Worldwide, and a Lifetime Achievement Award for excellence in the Hostel Industry. We thrive on ensuring every guest comes satisfied and if you have any problems along the way we are always there ready to help! For this and many other reasons staying at Astor Hostels is the top choice for anyone exploring London on a budget! Reservations must be made for guests over the age of 18. Any reservations made for those under the minimum age will be cancelled and you will not receive a refund. The hostel organises daily events aimed at backpackers between the ages of 18-40, it is therefore suggested that guests under the age of 40 would enjoy the hostel the most. Proof of identification must be shown on arrival and can include a passport, driving license and national identity cards. We cannot accept paper driving licences, student, or employee IDs as proof of identity and failure to show proof or a copy upon arrival will result in the cancellation of a reservation without a refund. Get in touch with us for further clarification. When booking for 10 persons or more, different policies and additional supplements will apply.\", 'Smart Hostels is proud to present our most central London property aiming to provide cost effective accommodation on the doorstep of the city, being in walking distance to the British Museum, Oxford Street, Soho and much more. The hostel provides dormitories with bunk beds each also has access to a small locker able to lock with a padlock (not supplied). The property includes a front operating on a 24-hour basis for all inquiries along with a common room and communal kitchen. A Basis Buffet Breakfast is available to purchase which is served between 7.30am to 10.00am', \"Located in the most beautiful and charming neighbourhood in London, Astor Hyde Park is one minute from Hyde Park and surrounded by some of London's greatest museums including the Natural History Museum, Victoria & Albert, and Science Museum. The hostel is a short walk from London's best transport connections, including direct trains to Heathrow Airport and all of London's attractions. If this wasn't enough, the iconic pubs, excellent shopping, amazing restaurants, and occasional celebrity sighting make it the perfect place to live while in London! The moment you walk through our doors you become part of our family and we want you to have an incredible experience! We want every detail - from our super clean bathrooms and comfortable pillows to our unforgettable social events - to be perfect, giving you a London adventure that is 10 out of 10! VALID government issued ID required to stay with us, and ALL guests must be between 18-40 YEARS At our amazing hostel you will have full access to: -Free Fast Wi-Fi throughout the building as well as Free PC Access -24-hour reception for anything you may need (including late check-in/early check-out) -CCTV in operation 24 hours a day -Storage Lockers available for your valuables £2 per locker, per day (max 14 days). -Luggage room is free to use on day of arrival! You can leave your items from 2.50 GBP per bag on day of departure (7.50 GBP per bag for everyday thereafter). -Laundry facilities available 24-hours. Hairdryers and ironing facilities free to use -Dining room and common area to enjoy a meal or meet fellow travellers -Beautiful lounge area with comfy sofas and enormous projector screen for movies and sports! Reception hours -Check-out is between 8am and 10am. -Check-in is available between 3pm and 10pm (please let us know your arrival time to ensure someone is there to greet you with a smile!) (A staff member is available 24 hours a day for emergencies, a number will be provided if you have any issues, or you can call the hostel number directly) Charity breakfast Breakfast is available every day from 8 am to 10 am for £3.50 PP. £1 will be donated to charity for every breakfast! Common Areas -Kitchen and common areas are all open! Whoop Whoop! (Kitchen and lounges will be shut at midnight and reopening at 8am). Helpful Extras (Hidden costs are a pain! If we can give it to you for free, we will, if we cannot do it as cheap possible!). -Free City Maps -Tourist Information, walking tours and advice on local attractions and transport (24hrs) -Daily events organized for our guests -Room key is a Â£5 cash deposit -Padlocks and Adaptors available for sale at the reception -Discounts at local restaurants and coffee shops -Towels are available for hire at £3.50 -Clean, crisp linen on your bed ready to sleep on! -Late Check-Out available to sleep in a little more until Midday (book in advance at reception)! -ATM (Cash Machine) Winner of No.1 Small Hostel Group Worldwide, and a Lifetime Achievement Award for excellence in the Hostel Industry. We thrive on ensuring every guest comes satisfied and if you have any problems along the way we are always there ready to help! For this and many other reasons staying at Astor Hostels is the top choice for anyone exploring London on a budget! Reservations must be made for guests over the age of 18. Any reservations made for those under the minimum age will be cancelled and you will not receive a refund. The hostel organises daily events aimed at backpackers between the ages of 18-30, it is therefore suggested that guests under the age of 40 would enjoy the hostel the most. Proof of identification must be shown on arrival and can include a passport, driving license and national identity cards. We cannot accept paper driving licences, student, or employee IDs as proof of identity and failure to show proof or a copy upon arrival will result in the cancellation of a reservation without a refund. Get in touch with us for further clarification. When booking for 10 persons or more, different policies and additional supplements will apply.\", \"Safestay at Elephant & Castle is ideal if you are looking for budget accommodation in London, whether you see the sights in this amazing city or travelling with your family. If Tate Modern, the National Theatre, The Imperial War Museum, the London Aquarium, the London Dungeon, a cricket match at the Kia Oval or clubbing at the world-famous Ministry of Sound are on your must-do list, Safestay London Elephant & Castle is perfectly located. Our beautiful 18th-century Georgian building is centrally located, close to London's mighty River Thames and the restaurants, bars and cafes the Southbank is famed for, along with the London Eye, Borough Market and Shakespeare's Globe Theatre. It's secure, stylish, comfortable and fun, with an illuminated garden for you to relax in. So if you're after budget accommodation in London, bringing a group of school children to study the sights or want something different from the usual options in London, why not try this fantastic hostel out for size. Close to all the big London tourist attractions, our staff will happily help you plan your visit and give you top tips on what is happening in London during your stay. See these London landmarks within 6 stops of the hostel using the Underground: . Oxford Street . Piccadilly Circus . Leicester Square . Covent Garden . Westminster Abbey . Big Ben & the Houses of Parliament . Buckingham Palace . St Paul's Cathedral . The Tower of London and Tower Bridge Attractions: We sell discounted and fast track entrance tickets to some of London's most famous sights and best kept secrets. Including the London Eye, Madame Tussauds, The Tower of London, Walking tours, Bike tours, boat trips, and many more. Hostel Activities: We organise fun stuff for you to do nearly every day of the week! Such as Free Walking tours, top-rated Pub Crawls, Group trips to famous West End Shows, Jet boating on the Thames The hostel also offers free Wi-Fi, weekly activities, breakfast service, meals & snacks and it is open 24 hours a day. Guest will be required to show an official ID with photo at upon arrival. Person under the age of 18 years are only allowed to stay in private rooms or dormitory rooms that are booked for use of one family or group of persons, and can't share a dormitory rooms with other guests. People under 18 years of age must travel with their parents or legal guardian. BREAKFAST Enjoy our packed breakfast served between 7:00 am and 10:00 am at additional cost Travelling with children? Cots are available on request. Please contact the hostel in advance to arrange. Policies & Conditions: Check in from 15:00. Check out before 10:00. Payment upon arrival only by credit/debit cards. WHY STAYING WITH US ? - The electronic lock on the door - High quality white linen - Outdoor terrace - Individual lockers - Big common space - Luggage room (additional cost applied) - Laundry (additional cost applied) - Free Wi-Fi - Organized events - 24/7 Reception. No curfew. - Child friendly. Non smoking. FOR GROUPS: Please note that for the group bookings for more than 10 people, different prepayment policies may apply. Please note that if the reservations are made for 10 guests, the hostel has a right to charge the prepayment from the card. Large groups (more than 30 people) are a subject to availability. The Hostel Manager reserves the right not to accept large groups, depending on the individual situation (availability, number of nights etc) or to charge the prepayment. Please contact the property directly for the group reservation details. For any special requests or to get more information, never hesitate to contact us directly! No bike parking facilities. THE MOST IMPORTANT THING: We are always happy to see you at our place! :)\", 'We are back, we previously operated near London Bridge, we have now moved to Pimlico, north of the river, bigger, better and closer to transport and the tourist sites. We now offer 6 and 4 bed dorms as well as family rooms and we have added a great common room to meet other guests, all rooms are air conditioned, memory foam mattresses, electrical points and lights on the beds with no need for UK adaptor and plenty of USB points as well, every bed has its own hotel rated safe at no extra cost, plenty of showers and bathrooms on 2 floors. The common room has all the necessary facilities including ice machine, microwave, kettle , free internet computer, free internet through the building and in all rooms, the family rooms have a TV, fridge, safe, tea & coffee facilities and free movies in the room, the common room has a very big Tv with movies and TV programmes, juke box to. We are situated directly across the road from Pimlico tube station and a 15 mins walk to Big Ben. Destinations Hostels @ The Gallery Policy and Condition: Cancellation policy: 72h before arrival. In case of a late cancellation or No Show, you will be charged the first night of your stay. Check in from 14:00 to 23:30 . Check out from 00:00 to 11:00 . Payment upon arrival by credit cards, debit cards. Taxes included. Breakfast included. General: Reception: from 07:00 to 00:00 No curfew.', \"IMPORTANT NOTICE: This hostel is for 18 - 35-year olds ONLY. Check In is from 2 pm to 1 am and Checkout is Before 10 am. Passport, Identity Card or Driver License is Required from all Guests. We accept cash in British Pounds and most cards. Please, note the reception is opened between 8am and 1am only. 'Your home away from home' Looking for a great central London Hostel? Your search can come to rest to at London Backpackers Youth Hostel in Hendon. We are moment from Hendon Central Underground station, minutes from the heart of London and easy access to nearby airports (detailed instructions of how to find the Hostel will be emailed to you once your Booking is made). We take pride of providing excellent hostel facilities for your stay, whether for a single night or several. For Group Bookings please contact the Hostel Directly. If you are looking for long term accommodation, email us for rooms and prices available for quarantining and long stay. Our rates are truly inexpensive, but our hostel is jam-packed with amenities tailored for young, and young at heart, people looking for a comfort at a modest price with a friendly atmosphere. Bookings made on this or any website are Not Valid for Existing Guests. If you are and Existing Guest and make an Online Booking, your Booking will be honored but you will be charged the Full Nightly Rate. In the event of a NO SHOW or LATE CANCELLATION, Guests will be charged a Cancellation Fee Equal to the First Night of the Booking. WHAT YOU CAN EXPECT: Our facilities supply free linen, blankets, private rooms with towels, internet access, TV, literature, City Maps and UK Sim Cards, and a fully fitted kitchen for cooking (with Fridge/Freezers, Oven, Stoves, Microwave, Toaster and Kettle). You will not find another cheap London Youth Hostel that provide clean showers and toilets, plus hot water guaranteed 24h a day. For your convenience we also provide a laundry room with washer and dryer. Bunk Beds with Privacy Curtain, USB Charging Ports, Power Sockets, Reading Light and Locker. (Bring a Padlock or purchase from Reception). Sports Equipment for the nearby Hendon Park, just up the road with a large football field, tennis courts, basketball courts and it is a great place to get active during the day or to chill out with friends in the evening. You can also enjoy a Pool game in our brand-new basement, equipped with seats and TV for more comfort! We want your stay to be carefree and we ensure that by offering lockers and luggage room for your use in securing your property during your stay. The Hostel is covered by CCTV and there is 24hr Key Card Access with No Curfew. Moreover, you can find plenty of coffee shops and restaurants around the hostel and for every taste! For your convenience you will find Tesco, Sainsbury's, and other international shops 2 min walk from the hostel. They are all opened until late at night, even on the Sunday. We are a 10-minute walk away from Middlesex University as well as Brent Cross shopping centre. The Royal Air Force museum is right by the next underground station! NOTE: you must confirm your booking 24 hours prior to arrival by email to let us know you still want it; if you need to moify, please email us at info@londonbackpackers.com.\", \"PLEASE NOTE WE ONLY ACCEPT GUESTS FROM THE AGE OF 18-40 with GOVERNMENT ISSUED PHOTO ID, such as driving licence, passport, national ID card. Student cards and proof of age cards are not accepted. The Queen Elizabeth Youth Hostel is located above a historic pub in the posh borough of Hammersmith and Fulham. Located conveniently between the Imperial Wharf Overground and the Fulham Broadway Tube Station, we are just a quick train ride away from London's hottest tourist attractions. Located less than 5 minutes from the River Thames and 10 minutes to Chelsea FC's home stadium, Stamford Bridge. This is a prime location for those looking for a peaceful and enjoyable stay. Not far you will find green spaces, great shopping and easy transport connections to Central London. We are also located just off King's Road, one of the most fashionable streets in the world. Facilities: Cheap, vegan-friendly breakfast buffet Linen Included Free WiFi Internet No Lock Out No Curfew Bar with cheap drinks for guests 24/Hour Check-in/Check-out Secure Locker Storage Two-Week Maximum Stay ------------------------------------------------------------------------- Check-in is from 15:00 to 00:00 -- if you arrive before 15:00 you can store your bag for FREE in our secure luggage room. Any check-in between 00:01 to 11:00 will be charged a £4 fee. Check-out is at 11:00 -- Luggage storage is available upon departure for a nominal fee. Due to UK alcohol licensing laws, you are not allowed to bring or consume outside alcohol on the premises. Wi-Fi is available in nearly all of our rooms, depending on your Wi-Fi device. It is specifically not available in our 17-bed dorm. All of our rooms do have electrical points, enabling you to charge your electronic devices. We can't wait to see you here at Queen Elizabeth!\", \"Safestay Holland Park Safestay Holland Park is ideally located in the heart of London, nestled within one of the capital's most prestigious parks. This stunning hostel consists of 3 buildings, including the East Wing of the park's original Jacobean building, and surrounds our private courtyard garden. The property has been fully refurbished to the high standards for which Safestay is renowned. The Grade 1 listed building is located on the edge of London's famous Holland Park (search for Holland walk and duchess of Bedford Walk on your maps) and will provide Safestay guests with the opportunity to stay in the heart of one of the capital's desirable neighborhoods. The property dates back to 1605 along with a 1950's extension and is situated in a huge garden within the middle of one of London's most beautiful parks. Historic, Jacobean splendor, in a great city location. Who says you can't have it all? This mansion in the middle of Holland Park was visited by Sir Walter Scott, Lord Byron, and Dickens. Today it offers large, comfortable rooms to you. Three different houses with a range of standard & ensuite rooms as well as family rooms & private rooms for everyone! Pool room, breakfast room & restaurant as well as the garden, & the whole Park itself with its famous beautiful woodland trails, manicured lawns, the Kyoto Japanese Garden with its resident Coi, and a fantastic ice cream stand in the middle. Opened in 1952, Holland Park used to be a private estate belonging to the Earl of Holland. During the 19th century, the Holland House attracted high-profile visitors from various walks of life, from the politician, Lord Palmerston, to the poet, Lord Byron. Safestay Holland Park has excellent transport links and is within easy reach of The Natural History Museum, Holland Park Avenue, Notting Hill Gate, Portobello Market, Harrods, The Science Museum, Hyde Park, Westfield Shopping Centre, and Kensington Palace Gardens. Dormitory style and range in size from 2 beds upwards. They offer mixed accommodation. Clean fresh sheets are included in the price. Lockers are available in rooms. Padlocks available for sale Guest will be required to show an official ID with photo at upon arrival. City tax is included. Person under the age of 18 years are only allowed to stay in private rooms or dormitory rooms that are booked for use of one family or group of persons, and can't share a dormitory rooms with other guests. People under 18 years of age must travel with their parents or legal guardian. Policies & Conditions: Check in from 15:00 to 24:00. Check out before 10:00. Payment upon arrival only by credit/debit cards. Cancellation policy: 24 hours before arrival. This property may pre-authorize your card before arrival. Breakfast not included No outside alcohol is allowed at all. HIGHLIGHTS: - The electronic lock on the door - High quality purple linen - Outdoor space / terrace - Individual lockers - Big common space - Luggage room (additional cost applied) - Laundry (additional cost applied) - Free Wi-Fi - Organized events at least once a week - 24/7 Reception. No curfew. - Non smoking. FOR GROUPS: Please note that for the group bookings for more than 10 people, different prepayment policies may apply. Please note that if the reservations are made for 10 guests, the hostel has a right to charge the prepayment from the card. Large groups (more than 30 people) are a subject to availability. The Hostel Manager reserves the right not to accept large groups, depending on the individual situation (availability, number of nights etc) or to charge the prepayment. Please contact the property directly for the group reservation details. For any special requests or to get more information, never hesitate to contact us directly! THE MOST IMPORTANT THING: We are always happy to see you at our place! :)\", \"Hostelle is the first and only all-women hostel in London. Hostelle was started with the idea to provide a safe and fun place for women who are traveling to Amsterdam, Barcelona, or London to stay so that they only need to focus on sightseeing and enjoying themselves while they are here. For women travelers with a small budget Hostelle is ideal, we are very well communicated with the airport and the city center. London has a lot of different attractions and interesting places to visit. Because there are so many options, we from Hostelle have made a list of the absolute must-visits in London. Hyde Park: Hyde Park is presumably the foremost notable park in London, it’s among the biggest. The park has historical significance, having hosted a variety of demonstrations and protests together with protests by suffragettes. The park hosts many performances weekly in addition to activities like paddle-boating, seeing several swans, and taking in a breath of fresh air in the center of the city. A must-visit. Westminster: Westminster is home to the Houses of Parliament and the world-famous Big Ben. Big Ben is the name of the bell housed within the iconic clock tower, and it still chimes every hour. You can also find Westminster Abbey here, which is open to the public most days. Whilst visiting these landmarks, be sure to rest your feet in Parliament Square which features statues of important political individuals including Nelson Mandela and Winston Churchill. Camden: Camden is a well-known cultural neighborhood in north London. Known for its alternative culture, the crowds here are filled with goths, punks, rockabillies, and tourists alike. Camden has a vibrant body mod community, and you will find several piercing and tattoo shops in this part of town. London Eye: A trip to London isn’t complete without a visit to the iconic London Eye. Originally constructed to celebrate the millennium, the Eye is a giant Ferris wheel offering gorgeous views across the city. At night, the wheel is lit up in seasonal colors and is the centerpiece of London’s annual New Year’s fireworks display. Hostelle London LTD Policy and Condition: Cancellation Policy: 2 days before arrival. In case of a late cancellation or no show, you will be charged the first night of your stay. The non-refundable reservation can't be modified or canceled free of charge. Check in from 14.00 to 00.00 (24/7 reception) ** Arriving later than 00:00 is possible please let us know your expected arrival time so the reception will be there to check you in. Check out before 11.00 am ** Late checkout is not possible. You are welcome to stay in the common areas after check out time. Payments Non-refundable reservations: these are always paid in advance. The provided credit card will be charged after we receive the reservation. Standard reservation: these need to be paid on arrival with cash or card. We accept all types of cards. ** All taxes are included in the price. General: - 24 hours reception. - No curfew - We do not offer breakfast service, we have a fully equipped kitchen so the guests can make their dishes. - We have a minimum age of 16 years old. Only when accompanied by a parent or a guardian we do allow children from the age of 12 years to stay in Hostelle.\", 'Smart Hyde Park Inn Hostel is perfectly located in the heart of Central London, created with the traveler on a budget in mind. Located just off Londoners and Europeans most popular shopping areas, Portobello Market, Knightsbridge and Oxford Street, we are less than 100 meters from Hyde Park. Every room is key card locked as is entry to the main part of the building, security lockers in every room. We offer value for money accommodation but still ensure that your safety and comfort are our primary concerns. Every room has been built with the backpacker in mind, each room has custom build beds, design with privacy and functionality in mind. The beds have curtains and panels ensuring that your stay is private and comfortable.', 'Located in the middle of Camden Town, we’re the closest hostel to Camden Markets and if you’re angling for access to all the partying and good times you could want, without compromising on security, comfort, and cleanliness, then we’re where you want to be! Smart Camden Inn’s superb location makes for the perfect home base while you explore London. The hostel is a five-minute walk from Camden Town underground station, making it a convenient location for getting to any attraction. A short walk brings you to Regent’s Park, home of Primrose Hill and offering beautiful views of downtown London from its highest natural point. A ten-minute train ride to Oxford Street will bring you to the heart of the city and modern London’s centre for shopping and nightlife. Another short trip will bring you to the heart of ancient London, with the Tower of London and Tower Bridge, London’s most famous river crossing. Everything you need is at your fingertips when you stay with us! Bedding and Linen are included with all bookings', 'With Victoria Station and Buckingham Palace a few minutes walk away, it is hard to beat to this location! Amazing 24-hour transport links to attractions, parties, airports, coaches (to the rest of the UK/Europe), and almost anywhere! Astor Victoria is the dream place for a base in London. The excellent local markets, restaurants, pubs, vintage stores, coffee shops and galleries, all within a 15 minutes walk of Big Ben, will make you feel like a true Londoner! This, combined with staff who love the city and want to share all their knowledge with you, means there is no better place to stay in Central London! The moment you walk through our doors you become part of our family and we want you to have an incredible experience! We want every detail - from our super clean bathrooms and comfortable pillows to our unforgettable social events - to be perfect, giving you a London adventure that is 10 out of 10! VALID government issued ID required to stay with us, and ALL guests must be between 18-40 YEARS At our amazing hostel you will have full access to: - Free Fast Wi-Fi throughout the building as well as Free PC Access - 24-hour reception for anything you may need (including late check-in/early check-out) - CCTV in operation 24 hours a day - Storage Lockers available for your valuables £2 per locker, per day (max 14 days). - Luggage room is free to use on day of arrival! You can leave your items from GBP 2.50 per bag on day of departure (GBP 7.50 per bag for everyday thereafter). - Laundry facilities available 24-hours. Hairdryers and ironing facilities free to use - Dining room and common area to enjoy a meal or meet fellow travellers - Beautiful lounge area with comfy sofas and enormous projector screen for movies and sports! Reception hours - Check-out is between 8am and 10am. - Check-in is available between 3pm and 10pm (please let us know your arrival time to ensure someone is there to greet you with a smile!) (A staff member is available 24 hours a day for emergencies, a number will be provided if you have any issues, or you can call the hostel number directly). Charity breakfast Breakfast is available every day from 8 am to 10 am for £3.50 PP. £1 will be donated to charity for every breakfast! Common Areas - Kitchen and common areas are all open! Whoop Whoop! (Kitchen and lounges will be shut at midnight and reopening at 8am). Helpful Extras (Hidden costs are a pain! If we can give it to you for free, we will, if we cannot do it as cheap possible!). - Free City Maps - Tourist Information, walking tours and advice on local attractions and transport (24hrs) - Daily events organized for our guests - Room key is a £5 cash deposit - Padlocks and Adaptors available for sale at the reception - Discounts at local restaurants and coffee shops - Towels are available for hire at £3.50 - Clean, crisp linen on your bed ready to sleep on! - Late Check-Out available to sleep in a little more until Midday (book in advance at reception)! - ATM (Cash Machine) Winner of No.1 Small Hostel Group Worldwide, and a Lifetime Achievement Award for excellence in the Hostel Industry. We thrive on ensuring every guest comes satisfied and if you have any problems along the way we are always there ready to help! For this and many other reasons staying at Astor Hostels is the top choice for anyone exploring London on a budget! Reservations must be made for guests over the age of 18. Any reservations made for those under the minimum age will be cancelled and you will not receive a refund. The hostel organises daily events aimed at backpackers between the ages of 18-30, it is therefore suggested that guests under the age of 40 would enjoy the hostel the most. Proof of identification must be shown on arrival and can include a passport, driving license and national identity cards. We cannot accept paper driving licences, student, or employee IDs as proof of identity and failure to show proof or a copy upon arrival will result in the cancellation of a reservation without a refund. Get in touch with us for further clarification. When booking for 10 persons or more, different policies and additional supplements will apply.', \"Located opposite Kings Cross/St Pancras International Station, Kabannas London St Pancras is your perfect getaway in London. We offer great value accommodation in the heart of London. Conveniently located to transit links so you can easily explore everyone's favourite city. Hop on a bus and you'll find yourself in Oxford Street's shops or South Kensington's Muesums in minutes. Perfect stopover for an early Eurostar train in to Europe. London, the city on the top of everyone's travel list, from your traditional tourist sites to the weird and whacky, our team LOVE London and can't wait to tell you all about it. Come on in, the beds are comfy. From private rooms for two and dorms up to 6, we've got you covered (in a cosy duvet) Luggage room/stores Dorm rooms Bar Check in from 16:00 Check out before: 10:00 Visit our licensed café/bar for our city-style breakfast or relax over a light snack or full meal. London Attractions: We sell discounted and fast track entrance tickets to some of London’s most famous sights and best kept secrets. Including the London Eye, Madame Tussauds, The Tower of London, Walking tours, Bike tours, boat trips and many, many more. Hostel Activities: We organise fun stuff for you to do nearly every day of the week! Such as Free Walking tours, top rated Pub Crawls, Group trips to famous West End Shows, Jet boating on the Thames, Burger nights, Sunday Roasts, movie nights…..well, you get the drift! It’s a fantastic way to meet other travellers and really make the most of your time in London! Photo ID must be presented upon arrival and match the name and address on the booking. Where a booking is for more than one person, the named person on the booking will need to provide photographic proof of identify that matches the name and address on the booking. Photo ID will also be requested from all other adult guests. These photo IDs must match the name they sign in with at check in. If photo ID cannot be provided, you will be refused entry to the property.\", 'We are located in central London - just 5 minutes walk from the station. Rated one of the best hostels in London 2017 by the Telegraph newspaper, we offer free dinner & free breakfast everyday. Come stay with us and make new friends for life. Free high speed WiFi throughout, a huge garden patio with free gym, communal lounge with a 85-inch Ultra HD TV with cable, Netflix & PS4. Guests can also use the modern shared kitchen to cook their own meals. All dorms have contemporary designs. We also have many private rooms. The hostel is 15 minutes walk from Natural History & Science Museums and Hyde Park. Madame Tussauds, Harrods and Buckingham Palace are also a 15-minute train ride away. The Reception is open 24/7 and the international staff will be there, happy to help you. More reasons to stay at Saint James Backpackers? - A 24-hour reception to make sure to be available for our guests at any time - Massive living rooms with a large television, with options such as Sky TV, Netflix and a PlayStation 4 - USB Charging Points in every room - An exclusive ladies-only dorm room and showers - Massive patio garden including BBQ - Outdoor gym - Hostel activities: movie and popcorn nights, sangria nights, board game competitions, screening sports events, holiday parties… Note: - There is a 48-hour cancellation policy on all reservations. Non-refundable reservations cannot be refunded. In case of a no show, the guest would be charged the whole amount of their stay - A ?10 key deposit is payable in cash at check-in, which is returned on return of the key at check-out. - Check-in: 14.00/ Check out: 10.00 - Credit cards accepted - Taxes included - No smoking anywhere inside the building (but we do have a large patio garden where you can indulge) - On the property lives one cat and one dog. - Card Payments must be authorised by chip and pin - Minimum age to stay in the hostel is 5. TEST - Please note that there are limited spaces for dinner; you must sign up at reception each day before 16:00, signup is done on a first come first serve bases. If you cannot make it here in time please just call us and request to be put on the list. Management reserve the right to discontinue meals without notice', \"Boasting a bar and a shared lounge, Bell House Hostel is set in London. At the hostel, the rooms are equipped with a shared bathroom with a shower. Guests at Bell House Hostel can enjoy a continental breakfast. 1 km from Madame Tussauds and 1.1 km from Lord's Cricket Ground. The property is around 1.1 km from Paddington Station, 2 km from Regents Park, and 2.3 km from Oxford Street. Oxford Circus is 2.8 km from the hostel and Euston Station is 3.3 km away. The Serpentine is 2.5 km from the accommodation, while London Zoo is 2.8 km from the property. Bell House Hostel Policy and Condition: Cancellation policy: 72h before arrival. In case of a late cancellation or No Show, you will be charged the first night of your stay. Check in from 2pm. Check out before 10am . Payment upon arrival by credit cards, debit cards. Taxes included. Breakfast not included - 3 GBP per person per day. General: 24 hours reception. No curfew.\", \"Located within walking distance of Hammersmith tube station, the Hammersmith Apollo (world-famous music venue), The River Thames, the Thursday Markets, Furnival Gardens, King's Mall Shopping Centre and Charing Cross Hospital. There is a continental breakfast available every morning for just £5 a day which can be purchased at reception on arrival. A short ride away there is Hyde Park, Buckingham Palace, Westminster, Piccadilly Circus, Trafalgar Square, Covent Garden, Leicester Square, Harrods and Westfield shopping centre. Please note: non-refundable reservations will be fully charged at the time of booking.\", \"Located a short walk from Notting Hill, Hyde Park and Kensington Palace (home of William, Kate, and the Royal Babies!) it is easy to see why so many people fall in love with this neighbourhood. With three Underground Lines and countless 24hr buses, Astor Kensington is the perfect hub from which to explore London. A short walk around the neighbourhood will take you through the world-famous Portobello Market, Kensington Gardens and London's most charming streets! Hop on the tube or bus and within 10 minutes you will be in the heart of Oxford Street, Piccadilly Circus and Leicester Square! The moment you walk through our doors you become part of our family and we want you to have an incredible experience! We want every detail - from our super clean bathrooms and comfortable pillows to our unforgettable social events - to be perfect, giving you a London adventure that is 10 out of 10! VALID government issued ID required to stay with us, and ALL guests must be between 18-40 YEARS At our amazing hostel you will have full access to: -Free Fast Wi-Fi throughout the building as well as Free PC Access -24-hour reception for anything you may need (including late check-in/early check-out) -CCTV in operation 24 hours a day -Storage Lockers available for your valuables £2 per locker, per day (max 14 days). -Luggage room is free to use on day of arrival! You can leave your items from £2.50 per bag on day of departure (£7.50 per bag for everyday thereafter). -Laundry facilities available 24-hours. Hairdryers and ironing facilities free to use -Dining room and common area to enjoy a meal or meet fellow travellers -Beautiful lounge area with comfy sofas and enormous projector screen for movies and sports! Reception hours -Check-out is between 8am and 10am. -Check-in is available between 3pm and 10pm (please let us know your arrival time to ensure someone is there to greet you with a smile!) (A staff member is available 24 hours a day for emergencies, a number will be provided if you have any issues, or you can call the hostel number directly). Charity breakfast Breakfast is available every day from 8 am to 10 am for £3.50 PP. £1 will be donated to charity for every breakfast! Common Areas -Kitchen and common areas are all open! Whoop Whoop! (Kitchen and lounges will be shut at midnight and reopening at 8am). Helpful Extras (Hidden costs are a pain! If we can give it to you for free, we will, if we cannot do it as cheap possible!). -Free City Maps -Tourist Information, walking tours and advice on local attractions and transport (24hrs) -Daily events organized for our guests -Room key is a Â£5 cash deposit -Padlocks and Adaptors available for sale at the reception -Discounts at local restaurants and coffee shops -Towels are available for hire at £3.50 -Clean, crisp linen on your bed ready to sleep on! -Late Check-Out available to sleep in a little more until Midday (book in advance at reception)! Winner of No.1 Small Hostel Group Worldwide, and a Lifetime Achievement Award for excellence in the Hostel Industry. We thrive on ensuring every guest comes satisfied and if you have any problems along the way we are always there ready to help! For this and many other reasons staying at Astor Hostels is the top choice for anyone exploring London on a budget! Reservations must be made for guests over the age of 18. Any reservations made for those under the minimum age will be cancelled and you will not receive a refund. The hostel organises daily events aimed at backpackers between the ages of 18-30, it is therefore suggested that guests under the age of 40 would enjoy the hostel the most. Proof of identification must be shown on arrival and can include a passport, driving license and national identity cards. We cannot accept paper driving licences, student, or employee IDs as proof of identity and failure to show proof or a copy upon arrival will result in the cancellation of a reservation without a refund. Get in touch with us for further clarification. When booking for 10 persons or more, different policies and additional supplements will apply.\", 'Food & culture lovers, assemble! The Rose & Crown is the perfect base to wander the incredible streets of London’s effortlessly cool Southbank. Walk the Thames path to see the majestic sights or head off on a self-guided exploration to discover unseen London. The surrounding area is bursting with vibrancy and culture making it the city’s current food & drink hotspot. The world-famous Borough Market is just around the corner and Flat Iron street food market is opposite our lovely little Hostel-Pub. Perfect for discovering the beating heart of London’s food & drink and creative scene. Legendary London adventures start at PubLove. All our Hostel-Pubs are welcoming, small and social - the perfect places to get to know your fellow travellers. The best thing about staying with us? Your common room is the great British pub! We have 24hr bars specialising in craft beer & gin. Get social with the locals or swap stories over a drink with your fellow backpackers. Our dorms are modern, cool and spotlessly clean. Our bunks have hygiene/privacy screens, dedicated power sockets, great free Wi-Fi and crisp white linen. Our top-class washrooms are private and offer shampoo, shower gel and plenty of hot water. Every Hostel-Pub has an award-winning Burger Craft kitchen serving up burgers, loaded fries and brunch, with vegetarian and vegan options. They open daily from 9am until 10pm. BOOK NOW to start your own London adventure.', 'The heart & soul of London backpacking Pull up a bar stool and talk until morning at PubLove’s most sociable Hostel-Pub. As well as being on the doorstep of London’s biggest tourist attractions, the Steam Engine is beautifully soulful and life-afﬁrming - you’ll feel at home as soon as you step through the door. Warning: you’ll never want to leave. Perfect for travellers looking to meet new people to share their London adventure. Legendary London adventures start at PubLove. All our Hostel-Pubs are welcoming, small and social - the perfect places to get to know your fellow travellers. The best thing about staying with us? Your common room is the great British pub! We have 24hr bars specialising in craft beer & gin. Get social with the locals or swap stories over a drink with your fellow backpackers. Our dorms are modern, cool and spotlessly clean. Our bunks have hygiene/privacy screens, dedicated power sockets, great free Wi-Fi and crisp white linen. Our top-class washrooms are private and offer shampoo, shower gel and plenty of hot water. Every Hostel-Pub has an award-winning Burger Craft kitchen serving up burgers, loaded fries and brunch, with vegetarian and vegan options. They open daily from 12pm until 10pm. BOOK NOW to start your own London adventure.', 'Walk to the river, turn left, and just keep walking… Stay at The White Ferry House and ﬁnd yourself in an oasis of calm in a beautiful London backstreet. Located minutes from Victoria coach & train stations, our stunning ﬂat iron building is full of warmth, charm and history. Start your own river walk 5 minutes from our front door, or walk to Buckingham palace before you’ve ﬁnished your morning coffee! Perfect for travellers who love to discover their own adventures. Legendary London adventures start at PubLove. All our Hostel-Pubs are welcoming, small and social - the perfect places to get to know your fellow travellers. The best thing about staying with us? Your common room is the great British pub! We have 24hr bars specialising in craft beer & gin. Get social with the locals or swap stories over a drink with your fellow backpackers. Our dorms are modern, cool and spotlessly clean. Our bunks have hygiene/privacy screens, dedicated power sockets, great free Wi-Fi and crisp white linen. Our top-class washrooms are private and offer shampoo, shower gel and plenty of hot water. Every Hostel-Pub has an award-winning Burger Craft kitchen serving up burgers, loaded fries and brunch, with vegetarian and vegan options. They open daily from 12pm until 10pm. BOOK NOW to start your own London adventure.']\n"
     ]
    }
   ],
   "source": [
    "pd=[]\n",
    "for link in urls:\n",
    "    driver.get(link)\n",
    "    time.sleep(5)\n",
    "    p=driver.find_elements(By.XPATH,'//p[@class=\"text line-clamp\"]')\n",
    "    for i in p:\n",
    "        para=i.text\n",
    "        pd.append(para)\n",
    "print (pd)\n",
    "print(len(pd))"
   ]
  },
  {
   "cell_type": "code",
   "execution_count": 20,
   "id": "f312e984-fe2f-403a-9320-360dd89ecc16",
   "metadata": {},
   "outputs": [
    {
     "name": "stdout",
     "output_type": "stream",
     "text": [
      "['Facilities\\nLinen Included\\nFree City Maps\\nFree WiFi\\nFree Internet Access\\nWheelchair Friendly\\nSecurity Lockers\\nKey Card Access\\nCommon Room\\nView all facilities', 'Facilities\\nLinen Included\\nFree WiFi\\nFree Internet Access\\nSecurity Lockers\\nKey Card Access\\nCommon Room\\nElevator\\nBicycle Parking\\nView all facilities', 'Facilities\\nLinen Included\\nFree WiFi\\nSecurity Lockers\\nMicrowave\\nLuggage Storage\\n24 Hour Reception\\nTea & Coffee Making Facilities\\nWi-Fi\\nView all facilities', 'Facilities\\nLinen Included\\nFree WiFi\\nFree Internet Access\\nSecurity Lockers\\nCommon Room\\nBreakfast Not Included\\nAdaptors\\nBook Exchange\\nView all facilities', 'Facilities\\nLinen Included\\nFree WiFi\\nFree Internet Access\\nBreakfast Not Included\\nHot Showers\\nSelf-Catering Facilities\\nFlexible NRR\\nLuggage Storage\\nView all facilities', 'Facilities\\nFree Breakfast\\nLinen Included\\nTowels Included\\nFree WiFi\\nSecurity Lockers\\nCommon Room\\nHot Showers\\nSelf-Catering Facilities\\nView all facilities', 'Facilities\\nLinen Included\\nFree City Maps\\nFree WiFi\\nKey Card Access\\nCommon Room\\nElevator\\nAdaptors\\nBook Exchange\\nView all facilities', 'Facilities\\nLinen Included\\nFree City Maps\\nFree WiFi\\nFree Internet Access\\nSecurity Lockers\\nCommon Room\\nElevator\\nBreakfast Not Included\\nView all facilities', 'Facilities\\nLinen Included\\nFree City Maps\\nFree WiFi\\nFree Internet Access\\nWheelchair Friendly\\nSecurity Lockers\\nKey Card Access\\nCommon Room\\nView all facilities', 'Facilities\\nLinen Included\\nFree WiFi\\nSecurity Lockers\\nKey Card Access\\nCommon Room\\nBicycle Parking\\nBreakfast Not Included\\nAdaptors\\nView all facilities', 'Facilities\\nLinen Included\\nFree City Maps\\nFree WiFi\\nSecurity Lockers\\nKey Card Access\\nCommon Room\\nAdaptors\\nBook Exchange\\nView all facilities', 'Facilities\\nLinen Included\\nFree City Maps\\nFree WiFi\\nFree Internet Access\\nFree City Tour\\nSecurity Lockers\\nKey Card Access\\nCommon Room\\nView all facilities', 'Facilities\\nLinen Included\\nFree City Maps\\nFree WiFi\\nFree Internet Access\\nSecurity Lockers\\nKey Card Access\\nCommon Room\\nAdaptors\\nView all facilities', 'Facilities\\nLinen Included\\nFree WiFi\\nSecurity Lockers\\nKey Card Access\\nCommon Room\\nAdaptors\\nHot Showers\\nCots Available\\nView all facilities', 'Facilities\\nFree Breakfast\\nLinen Included\\nFree City Maps\\nFree WiFi\\nFree Internet Access\\nSecurity Lockers\\nCommon Room\\nAir Conditioning\\nView all facilities', 'Facilities\\nLinen Included\\nFree City Maps\\nFree WiFi\\nFree Internet Access\\nSecurity Lockers\\nKey Card Access\\nCommon Room\\nBreakfast Not Included\\nView all facilities', 'Facilities\\nLinen Included\\nFree City Maps\\nFree WiFi\\nFree Internet Access\\nSecurity Lockers\\nCommon Room\\nBreakfast Not Included\\nAdaptors\\nView all facilities', 'Facilities\\nLinen Included\\nFree WiFi\\nSecurity Lockers\\nKey Card Access\\nCommon Room\\nBreakfast Not Included\\nAdaptors\\nHot Showers\\nView all facilities', 'Facilities\\nLinen Included\\nFree City Maps\\nFree WiFi\\nFree Internet Access\\nCommon Room\\nHot Showers\\nFridge/Freezer\\nCable TV\\nView all facilities', 'Facilities\\nLinen Included\\nFree City Maps\\nFree WiFi\\nFree Internet Access\\nSecurity Lockers\\nKey Card Access\\nCommon Room\\nBreakfast Not Included\\nView all facilities', 'Facilities\\nLinen Included\\nFree City Maps\\nFree WiFi\\nSecurity Lockers\\nKey Card Access\\nCommon Room\\nBreakfast Not Included\\nHot Showers\\nView all facilities', 'Facilities\\nLinen Included\\nFree City Maps\\nFree WiFi\\nFree Internet Access\\nSecurity Lockers\\nKey Card Access\\nCommon Room\\nMeeting Rooms\\nView all facilities', 'Facilities\\nLinen Included\\nFree City Maps\\nFree WiFi\\nWheelchair Friendly\\nSecurity Lockers\\nKey Card Access\\nElevator\\nBreakfast Not Included\\nView all facilities', 'Facilities\\nFree Breakfast\\nLinen Included\\nFree City Maps\\nFree WiFi\\nFree Internet Access\\nCommon Room\\nBBQ\\nAdaptors\\nView all facilities', 'Facilities\\nLinen Included\\nFree WiFi\\nSecurity Lockers\\nBicycle Hire\\nTowels for hire\\n24 Hour Reception\\nHousekeeping\\nBar\\nView all facilities', 'Facilities\\nLinen Included\\nFree City Maps\\nFree WiFi\\nFree Internet Access\\nSecurity Lockers\\nKey Card Access\\nCommon Room\\nHot Showers\\nView all facilities', 'Facilities\\nLinen Included\\nFree City Maps\\nFree WiFi\\nSecurity Lockers\\nKey Card Access\\nCommon Room\\nAdaptors\\nHot Showers\\nView all facilities', 'Facilities\\nLinen Included\\nFree City Maps\\nFree WiFi\\nSecurity Lockers\\nKey Card Access\\nBicycle Parking\\nAdaptors\\nHot Showers\\nView all facilities', 'Facilities\\nLinen Included\\nFree City Maps\\nFree WiFi\\nSecurity Lockers\\nKey Card Access\\nAdaptors\\nHot Showers\\nOutdoor Terrace\\nView all facilities', 'Facilities\\nLinen Included\\nFree City Maps\\nFree WiFi\\nSecurity Lockers\\nKey Card Access\\nBicycle Parking\\nAdaptors\\nHot Showers\\nView all facilities']\n",
      "30\n"
     ]
    }
   ],
   "source": [
    "fd=[]\n",
    "for link in urls:\n",
    "    driver.get(link)\n",
    "    time.sleep(5)\n",
    "    f=driver.find_elements(By.XPATH,'//div[@class=\"about-facilities\"]')\n",
    "    for i in f:\n",
    "        faci=i.text\n",
    "        fd.append(faci)\n",
    "print (fd)\n",
    "print(len(fd))"
   ]
  },
  {
   "cell_type": "raw",
   "id": "4cd5ee13-c184-4bb7-8fac-5fed534c08cb",
   "metadata": {},
   "source": []
  },
  {
   "cell_type": "code",
   "execution_count": 29,
   "id": "e19782e3-5e38-4faf-8438-514ffb37acb7",
   "metadata": {},
   "outputs": [],
   "source": [
    " private_price=[]\n",
    "\n",
    "try:\n",
    "    private=driver.find_elements(By.XPATH,'//a[@data-v-774cba8c]/div[2]/div[4]/div/div[1]')\n",
    "    for i in private:\n",
    "        private_price.append(i.text)\n",
    "except NoSuchElementException :\n",
    "        privat_price.append('-')\n"
   ]
  },
  {
   "cell_type": "code",
   "execution_count": 30,
   "id": "5edece71-97cd-406c-8b71-28de4467c272",
   "metadata": {},
   "outputs": [
    {
     "name": "stdout",
     "output_type": "stream",
     "text": [
      "30\n",
      "['-20%\\nPrivates From\\n€452\\n€362', 'No Privates Available', 'No Privates Available', 'No Privates Available', 'No Privates Available', 'No Privates Available', 'No Privates Available', 'No Privates Available', 'Privates From\\n€202', 'No Privates Available', 'No Privates Available', 'No Privates Available', 'No Privates Available', 'Privates From\\n€202', 'No Privates Available', 'No Privates Available', 'No Privates Available', 'No Privates Available', 'No Privates Available', 'No Privates Available', 'No Privates Available', 'No Privates Available', 'No Privates Available', 'No Privates Available', 'No Privates Available', 'No Privates Available', 'No Privates Available', 'No Privates Available', 'No Privates Available', 'No Privates Available']\n"
     ]
    }
   ],
   "source": [
    "print(len(private_price))\n",
    "print(private_price)"
   ]
  },
  {
   "cell_type": "code",
   "execution_count": 34,
   "id": "1d935d93-23a6-4245-a0be-199c32ee1906",
   "metadata": {},
   "outputs": [
    {
     "name": "stdout",
     "output_type": "stream",
     "text": [
      "30\n",
      "['-20%\\nDorms From\\n€75\\n€60', '-26%\\nDorms From\\n€46\\n€34', 'Dorms From\\n€63', 'Dorms From\\n€84', 'Dorms From\\n€78', '-15%\\nDorms From\\n€46\\n€39', 'Dorms From\\n€39', '-10%\\nDorms From\\n€34\\n€31', 'Dorms From\\n€42', 'Dorms From\\n€20', '-10%\\nDorms From\\n€51\\n€46', 'Dorms From\\n€40', '-10%\\nDorms From\\n€32\\n€29', 'Dorms From\\n€22', 'Dorms From\\n€45', 'Dorms From\\n€33', 'Dorms From\\n€34', 'Dorms From\\n€28', '-5%\\nDorms From\\n€49\\n€47', 'Dorms From\\n€33', 'Dorms From\\n€44', '-10%\\nDorms From\\n€32\\n€28', 'Dorms From\\n€74', 'Dorms From\\n€32', 'Dorms From\\n€26', '-10%\\nDorms From\\n€27\\n€24', '-10%\\nDorms From\\n€31\\n€27', 'Dorms From\\n€59', 'Dorms From\\n€52', 'Dorms From\\n€47']\n"
     ]
    }
   ],
   "source": [
    "dorm_price=[]\n",
    "\n",
    "try:\n",
    "    dorm=driver.find_elements(By.XPATH,'//a[@data-v-774cba8c]/div[2]/div[4]/div/div[2]')\n",
    "    for i in dorm:\n",
    "        dorm_price.append(i.text)\n",
    "except NoSuchElementException :\n",
    "       dorm_price.append('-')\n",
    "print(len(dorm_price))\n",
    "print(dorm_price)\n"
   ]
  },
  {
   "cell_type": "code",
   "execution_count": 36,
   "id": "1aef4556-587f-419a-91ab-ffa909f056d9",
   "metadata": {},
   "outputs": [
    {
     "data": {
      "text/html": [
       "<div>\n",
       "<style scoped>\n",
       "    .dataframe tbody tr th:only-of-type {\n",
       "        vertical-align: middle;\n",
       "    }\n",
       "\n",
       "    .dataframe tbody tr th {\n",
       "        vertical-align: top;\n",
       "    }\n",
       "\n",
       "    .dataframe thead th {\n",
       "        text-align: right;\n",
       "    }\n",
       "</style>\n",
       "<table border=\"1\" class=\"dataframe\">\n",
       "  <thead>\n",
       "    <tr style=\"text-align: right;\">\n",
       "      <th></th>\n",
       "      <th>Hostel_name</th>\n",
       "      <th>Distance</th>\n",
       "      <th>Ratings</th>\n",
       "      <th>Total_reviews</th>\n",
       "      <th>Overall_reviews</th>\n",
       "      <th>Privat_price</th>\n",
       "      <th>Dorm_price</th>\n",
       "      <th>Propery_description</th>\n",
       "      <th>facilities</th>\n",
       "    </tr>\n",
       "  </thead>\n",
       "  <tbody>\n",
       "    <tr>\n",
       "      <th>0</th>\n",
       "      <td>Wombat's City Hostel London</td>\n",
       "      <td>- 3.6km from city centre</td>\n",
       "      <td>9.3</td>\n",
       "      <td>Superb</td>\n",
       "      <td>(16545)</td>\n",
       "      <td>-20%\\nPrivates From\\n€452\\n€362</td>\n",
       "      <td>-20%\\nDorms From\\n€75\\n€60</td>\n",
       "      <td>&lt;module 'pandas' from 'C:\\\\Users\\\\44787\\\\AppDa...</td>\n",
       "      <td>Facilities\\nLinen Included\\nFree City Maps\\nFr...</td>\n",
       "    </tr>\n",
       "    <tr>\n",
       "      <th>1</th>\n",
       "      <td>Palmers Lodge - Swiss Cottage</td>\n",
       "      <td>- 6.5km from city centre</td>\n",
       "      <td>8.7</td>\n",
       "      <td>Fabulous</td>\n",
       "      <td>(16220)</td>\n",
       "      <td>No Privates Available</td>\n",
       "      <td>-26%\\nDorms From\\n€46\\n€34</td>\n",
       "      <td>&lt;module 'pandas' from 'C:\\\\Users\\\\44787\\\\AppDa...</td>\n",
       "      <td>Facilities\\nLinen Included\\nFree WiFi\\nFree In...</td>\n",
       "    </tr>\n",
       "    <tr>\n",
       "      <th>2</th>\n",
       "      <td>Urbany Hostel London</td>\n",
       "      <td>- 5.4km from city centre</td>\n",
       "      <td>9.6</td>\n",
       "      <td>Superb</td>\n",
       "      <td>(1307)</td>\n",
       "      <td>No Privates Available</td>\n",
       "      <td>Dorms From\\n€63</td>\n",
       "      <td>&lt;module 'pandas' from 'C:\\\\Users\\\\44787\\\\AppDa...</td>\n",
       "      <td>Facilities\\nLinen Included\\nFree WiFi\\nSecurit...</td>\n",
       "    </tr>\n",
       "    <tr>\n",
       "      <th>3</th>\n",
       "      <td>Onefam Waterloo</td>\n",
       "      <td>- 0.7km from city centre</td>\n",
       "      <td>9.5</td>\n",
       "      <td>Superb</td>\n",
       "      <td>(367)</td>\n",
       "      <td>No Privates Available</td>\n",
       "      <td>Dorms From\\n€84</td>\n",
       "      <td>&lt;module 'pandas' from 'C:\\\\Users\\\\44787\\\\AppDa...</td>\n",
       "      <td>Facilities\\nLinen Included\\nFree WiFi\\nFree In...</td>\n",
       "    </tr>\n",
       "    <tr>\n",
       "      <th>4</th>\n",
       "      <td>Onefam Notting Hill</td>\n",
       "      <td>- 5.5km from city centre</td>\n",
       "      <td>9.8</td>\n",
       "      <td>Superb</td>\n",
       "      <td>(2836)</td>\n",
       "      <td>No Privates Available</td>\n",
       "      <td>Dorms From\\n€78</td>\n",
       "      <td>&lt;module 'pandas' from 'C:\\\\Users\\\\44787\\\\AppDa...</td>\n",
       "      <td>Facilities\\nLinen Included\\nFree WiFi\\nFree In...</td>\n",
       "    </tr>\n",
       "    <tr>\n",
       "      <th>5</th>\n",
       "      <td>NX London Hostel</td>\n",
       "      <td>- 6.1km from city centre</td>\n",
       "      <td>8.8</td>\n",
       "      <td>Fabulous</td>\n",
       "      <td>(2407)</td>\n",
       "      <td>No Privates Available</td>\n",
       "      <td>-15%\\nDorms From\\n€46\\n€39</td>\n",
       "      <td>&lt;module 'pandas' from 'C:\\\\Users\\\\44787\\\\AppDa...</td>\n",
       "      <td>Facilities\\nFree Breakfast\\nLinen Included\\nTo...</td>\n",
       "    </tr>\n",
       "    <tr>\n",
       "      <th>6</th>\n",
       "      <td>Clink261</td>\n",
       "      <td>- 3.2km from city centre</td>\n",
       "      <td>8.2</td>\n",
       "      <td>Fabulous</td>\n",
       "      <td>(678)</td>\n",
       "      <td>No Privates Available</td>\n",
       "      <td>Dorms From\\n€39</td>\n",
       "      <td>&lt;module 'pandas' from 'C:\\\\Users\\\\44787\\\\AppDa...</td>\n",
       "      <td>Facilities\\nLinen Included\\nFree City Maps\\nFr...</td>\n",
       "    </tr>\n",
       "    <tr>\n",
       "      <th>7</th>\n",
       "      <td>St Christopher's Village</td>\n",
       "      <td>- 1.8km from city centre</td>\n",
       "      <td>7.6</td>\n",
       "      <td>Very Good</td>\n",
       "      <td>(13104)</td>\n",
       "      <td>No Privates Available</td>\n",
       "      <td>-10%\\nDorms From\\n€34\\n€31</td>\n",
       "      <td>&lt;module 'pandas' from 'C:\\\\Users\\\\44787\\\\AppDa...</td>\n",
       "      <td>Facilities\\nLinen Included\\nFree City Maps\\nFr...</td>\n",
       "    </tr>\n",
       "    <tr>\n",
       "      <th>8</th>\n",
       "      <td>Generator London</td>\n",
       "      <td>- 3km from city centre</td>\n",
       "      <td>7.2</td>\n",
       "      <td>Very Good</td>\n",
       "      <td>(8282)</td>\n",
       "      <td>Privates From\\n€202</td>\n",
       "      <td>Dorms From\\n€42</td>\n",
       "      <td>&lt;module 'pandas' from 'C:\\\\Users\\\\44787\\\\AppDa...</td>\n",
       "      <td>Facilities\\nLinen Included\\nFree City Maps\\nFr...</td>\n",
       "    </tr>\n",
       "    <tr>\n",
       "      <th>9</th>\n",
       "      <td>No.8 Seven Sisters</td>\n",
       "      <td>- 9km from city centre</td>\n",
       "      <td>7.8</td>\n",
       "      <td>Very Good</td>\n",
       "      <td>(4289)</td>\n",
       "      <td>No Privates Available</td>\n",
       "      <td>Dorms From\\n€20</td>\n",
       "      <td>&lt;module 'pandas' from 'C:\\\\Users\\\\44787\\\\AppDa...</td>\n",
       "      <td>Facilities\\nLinen Included\\nFree WiFi\\nSecurit...</td>\n",
       "    </tr>\n",
       "    <tr>\n",
       "      <th>10</th>\n",
       "      <td>Astor Museum Inn</td>\n",
       "      <td>- 2.2km from city centre</td>\n",
       "      <td>8.8</td>\n",
       "      <td>Fabulous</td>\n",
       "      <td>(9540)</td>\n",
       "      <td>No Privates Available</td>\n",
       "      <td>-10%\\nDorms From\\n€51\\n€46</td>\n",
       "      <td>&lt;module 'pandas' from 'C:\\\\Users\\\\44787\\\\AppDa...</td>\n",
       "      <td>Facilities\\nLinen Included\\nFree City Maps\\nFr...</td>\n",
       "    </tr>\n",
       "    <tr>\n",
       "      <th>11</th>\n",
       "      <td>Smart Russell Square Hostel</td>\n",
       "      <td>- 2.6km from city centre</td>\n",
       "      <td>7.7</td>\n",
       "      <td>Very Good</td>\n",
       "      <td>(10294)</td>\n",
       "      <td>No Privates Available</td>\n",
       "      <td>Dorms From\\n€40</td>\n",
       "      <td>&lt;module 'pandas' from 'C:\\\\Users\\\\44787\\\\AppDa...</td>\n",
       "      <td>Facilities\\nLinen Included\\nFree City Maps\\nFr...</td>\n",
       "    </tr>\n",
       "    <tr>\n",
       "      <th>12</th>\n",
       "      <td>Astor Hyde Park</td>\n",
       "      <td>- 4.3km from city centre</td>\n",
       "      <td>8.1</td>\n",
       "      <td>Fabulous</td>\n",
       "      <td>(12406)</td>\n",
       "      <td>No Privates Available</td>\n",
       "      <td>-10%\\nDorms From\\n€32\\n€29</td>\n",
       "      <td>&lt;module 'pandas' from 'C:\\\\Users\\\\44787\\\\AppDa...</td>\n",
       "      <td>Facilities\\nLinen Included\\nFree City Maps\\nFr...</td>\n",
       "    </tr>\n",
       "    <tr>\n",
       "      <th>13</th>\n",
       "      <td>Safestay London Elephant &amp; Castle</td>\n",
       "      <td>- 1.7km from city centre</td>\n",
       "      <td>7.3</td>\n",
       "      <td>Very Good</td>\n",
       "      <td>(5361)</td>\n",
       "      <td>Privates From\\n€202</td>\n",
       "      <td>Dorms From\\n€22</td>\n",
       "      <td>&lt;module 'pandas' from 'C:\\\\Users\\\\44787\\\\AppDa...</td>\n",
       "      <td>Facilities\\nLinen Included\\nFree WiFi\\nSecurit...</td>\n",
       "    </tr>\n",
       "    <tr>\n",
       "      <th>14</th>\n",
       "      <td>Destinations Hostels @ The Gallery</td>\n",
       "      <td>- 1.7km from city centre</td>\n",
       "      <td>9.1</td>\n",
       "      <td>Superb</td>\n",
       "      <td>(390)</td>\n",
       "      <td>No Privates Available</td>\n",
       "      <td>Dorms From\\n€45</td>\n",
       "      <td>&lt;module 'pandas' from 'C:\\\\Users\\\\44787\\\\AppDa...</td>\n",
       "      <td>Facilities\\nFree Breakfast\\nLinen Included\\nFr...</td>\n",
       "    </tr>\n",
       "    <tr>\n",
       "      <th>15</th>\n",
       "      <td>London Backpackers</td>\n",
       "      <td>- 11.9km from city centre</td>\n",
       "      <td>8.4</td>\n",
       "      <td>Fabulous</td>\n",
       "      <td>(4624)</td>\n",
       "      <td>No Privates Available</td>\n",
       "      <td>Dorms From\\n€33</td>\n",
       "      <td>&lt;module 'pandas' from 'C:\\\\Users\\\\44787\\\\AppDa...</td>\n",
       "      <td>Facilities\\nLinen Included\\nFree City Maps\\nFr...</td>\n",
       "    </tr>\n",
       "    <tr>\n",
       "      <th>16</th>\n",
       "      <td>Queen Elizabeth Chelsea</td>\n",
       "      <td>- 5.7km from city centre</td>\n",
       "      <td>8.1</td>\n",
       "      <td>Fabulous</td>\n",
       "      <td>(3796)</td>\n",
       "      <td>No Privates Available</td>\n",
       "      <td>Dorms From\\n€34</td>\n",
       "      <td>&lt;module 'pandas' from 'C:\\\\Users\\\\44787\\\\AppDa...</td>\n",
       "      <td>Facilities\\nLinen Included\\nFree City Maps\\nFr...</td>\n",
       "    </tr>\n",
       "    <tr>\n",
       "      <th>17</th>\n",
       "      <td>Safestay London Kensington Holland Park</td>\n",
       "      <td>- 5.8km from city centre</td>\n",
       "      <td>7.0</td>\n",
       "      <td>Very Good</td>\n",
       "      <td>(1880)</td>\n",
       "      <td>No Privates Available</td>\n",
       "      <td>Dorms From\\n€28</td>\n",
       "      <td>&lt;module 'pandas' from 'C:\\\\Users\\\\44787\\\\AppDa...</td>\n",
       "      <td>Facilities\\nLinen Included\\nFree WiFi\\nSecurit...</td>\n",
       "    </tr>\n",
       "    <tr>\n",
       "      <th>18</th>\n",
       "      <td>Hostelle - women only hostel London</td>\n",
       "      <td>- 5.1km from city centre</td>\n",
       "      <td>8.5</td>\n",
       "      <td>Fabulous</td>\n",
       "      <td>(206)</td>\n",
       "      <td>No Privates Available</td>\n",
       "      <td>-5%\\nDorms From\\n€49\\n€47</td>\n",
       "      <td>&lt;module 'pandas' from 'C:\\\\Users\\\\44787\\\\AppDa...</td>\n",
       "      <td>Facilities\\nLinen Included\\nFree City Maps\\nFr...</td>\n",
       "    </tr>\n",
       "    <tr>\n",
       "      <th>19</th>\n",
       "      <td>Smart Hyde Park Inn Hostel</td>\n",
       "      <td>- 5km from city centre</td>\n",
       "      <td>7.6</td>\n",
       "      <td>Very Good</td>\n",
       "      <td>(6858)</td>\n",
       "      <td>No Privates Available</td>\n",
       "      <td>Dorms From\\n€33</td>\n",
       "      <td>&lt;module 'pandas' from 'C:\\\\Users\\\\44787\\\\AppDa...</td>\n",
       "      <td>Facilities\\nLinen Included\\nFree City Maps\\nFr...</td>\n",
       "    </tr>\n",
       "    <tr>\n",
       "      <th>20</th>\n",
       "      <td>Smart Camden Inn Hostel</td>\n",
       "      <td>- 4.4km from city centre</td>\n",
       "      <td>8.9</td>\n",
       "      <td>Fabulous</td>\n",
       "      <td>(3196)</td>\n",
       "      <td>No Privates Available</td>\n",
       "      <td>Dorms From\\n€44</td>\n",
       "      <td>&lt;module 'pandas' from 'C:\\\\Users\\\\44787\\\\AppDa...</td>\n",
       "      <td>Facilities\\nLinen Included\\nFree City Maps\\nFr...</td>\n",
       "    </tr>\n",
       "    <tr>\n",
       "      <th>21</th>\n",
       "      <td>Astor Victoria</td>\n",
       "      <td>- 1.8km from city centre</td>\n",
       "      <td>7.1</td>\n",
       "      <td>Very Good</td>\n",
       "      <td>(15166)</td>\n",
       "      <td>No Privates Available</td>\n",
       "      <td>-10%\\nDorms From\\n€32\\n€28</td>\n",
       "      <td>&lt;module 'pandas' from 'C:\\\\Users\\\\44787\\\\AppDa...</td>\n",
       "      <td>Facilities\\nLinen Included\\nFree City Maps\\nFr...</td>\n",
       "    </tr>\n",
       "    <tr>\n",
       "      <th>22</th>\n",
       "      <td>Kabannas London St Pancras</td>\n",
       "      <td>- 3.3km from city centre</td>\n",
       "      <td>8.4</td>\n",
       "      <td>Fabulous</td>\n",
       "      <td>(3043)</td>\n",
       "      <td>No Privates Available</td>\n",
       "      <td>Dorms From\\n€74</td>\n",
       "      <td>&lt;module 'pandas' from 'C:\\\\Users\\\\44787\\\\AppDa...</td>\n",
       "      <td>Facilities\\nLinen Included\\nFree City Maps\\nFr...</td>\n",
       "    </tr>\n",
       "    <tr>\n",
       "      <th>23</th>\n",
       "      <td>Saint James Backpackers</td>\n",
       "      <td>- 5.5km from city centre</td>\n",
       "      <td>8.6</td>\n",
       "      <td>Fabulous</td>\n",
       "      <td>(1977)</td>\n",
       "      <td>No Privates Available</td>\n",
       "      <td>Dorms From\\n€32</td>\n",
       "      <td>&lt;module 'pandas' from 'C:\\\\Users\\\\44787\\\\AppDa...</td>\n",
       "      <td>Facilities\\nFree Breakfast\\nLinen Included\\nFr...</td>\n",
       "    </tr>\n",
       "    <tr>\n",
       "      <th>24</th>\n",
       "      <td>Bell House Hostel</td>\n",
       "      <td>- 4.2km from city centre</td>\n",
       "      <td>6.8</td>\n",
       "      <td>Good</td>\n",
       "      <td>(193)</td>\n",
       "      <td>No Privates Available</td>\n",
       "      <td>Dorms From\\n€26</td>\n",
       "      <td>&lt;module 'pandas' from 'C:\\\\Users\\\\44787\\\\AppDa...</td>\n",
       "      <td>Facilities\\nLinen Included\\nFree WiFi\\nSecurit...</td>\n",
       "    </tr>\n",
       "    <tr>\n",
       "      <th>25</th>\n",
       "      <td>St Christopher's Hammersmith</td>\n",
       "      <td>- 7.5km from city centre</td>\n",
       "      <td>7.6</td>\n",
       "      <td>Very Good</td>\n",
       "      <td>(4463)</td>\n",
       "      <td>No Privates Available</td>\n",
       "      <td>-10%\\nDorms From\\n€27\\n€24</td>\n",
       "      <td>&lt;module 'pandas' from 'C:\\\\Users\\\\44787\\\\AppDa...</td>\n",
       "      <td>Facilities\\nLinen Included\\nFree City Maps\\nFr...</td>\n",
       "    </tr>\n",
       "    <tr>\n",
       "      <th>26</th>\n",
       "      <td>Astor Kensington</td>\n",
       "      <td>- 4.9km from city centre</td>\n",
       "      <td>7.7</td>\n",
       "      <td>Very Good</td>\n",
       "      <td>(6628)</td>\n",
       "      <td>No Privates Available</td>\n",
       "      <td>-10%\\nDorms From\\n€31\\n€27</td>\n",
       "      <td>&lt;module 'pandas' from 'C:\\\\Users\\\\44787\\\\AppDa...</td>\n",
       "      <td>Facilities\\nLinen Included\\nFree City Maps\\nFr...</td>\n",
       "    </tr>\n",
       "    <tr>\n",
       "      <th>27</th>\n",
       "      <td>PubLove @ The Rose &amp; Crown</td>\n",
       "      <td>- 1.6km from city centre</td>\n",
       "      <td>7.9</td>\n",
       "      <td>Very Good</td>\n",
       "      <td>(256)</td>\n",
       "      <td>No Privates Available</td>\n",
       "      <td>Dorms From\\n€59</td>\n",
       "      <td>&lt;module 'pandas' from 'C:\\\\Users\\\\44787\\\\AppDa...</td>\n",
       "      <td>Facilities\\nLinen Included\\nFree City Maps\\nFr...</td>\n",
       "    </tr>\n",
       "    <tr>\n",
       "      <th>28</th>\n",
       "      <td>PubLove @ The Steam Engine, Waterloo</td>\n",
       "      <td>- 0.5km from city centre</td>\n",
       "      <td>7.9</td>\n",
       "      <td>Very Good</td>\n",
       "      <td>(476)</td>\n",
       "      <td>No Privates Available</td>\n",
       "      <td>Dorms From\\n€52</td>\n",
       "      <td>&lt;module 'pandas' from 'C:\\\\Users\\\\44787\\\\AppDa...</td>\n",
       "      <td>Facilities\\nLinen Included\\nFree City Maps\\nFr...</td>\n",
       "    </tr>\n",
       "    <tr>\n",
       "      <th>29</th>\n",
       "      <td>PubLove @ The White Ferry, Victoria</td>\n",
       "      <td>- 2.4km from city centre</td>\n",
       "      <td>7.6</td>\n",
       "      <td>Very Good</td>\n",
       "      <td>(450)</td>\n",
       "      <td>No Privates Available</td>\n",
       "      <td>Dorms From\\n€47</td>\n",
       "      <td>&lt;module 'pandas' from 'C:\\\\Users\\\\44787\\\\AppDa...</td>\n",
       "      <td>Facilities\\nLinen Included\\nFree City Maps\\nFr...</td>\n",
       "    </tr>\n",
       "  </tbody>\n",
       "</table>\n",
       "</div>"
      ],
      "text/plain": [
       "                                Hostel_name                   Distance  \\\n",
       "0               Wombat's City Hostel London   - 3.6km from city centre   \n",
       "1             Palmers Lodge - Swiss Cottage   - 6.5km from city centre   \n",
       "2                      Urbany Hostel London   - 5.4km from city centre   \n",
       "3                           Onefam Waterloo   - 0.7km from city centre   \n",
       "4                       Onefam Notting Hill   - 5.5km from city centre   \n",
       "5                          NX London Hostel   - 6.1km from city centre   \n",
       "6                                  Clink261   - 3.2km from city centre   \n",
       "7                  St Christopher's Village   - 1.8km from city centre   \n",
       "8                          Generator London     - 3km from city centre   \n",
       "9                        No.8 Seven Sisters     - 9km from city centre   \n",
       "10                         Astor Museum Inn   - 2.2km from city centre   \n",
       "11              Smart Russell Square Hostel   - 2.6km from city centre   \n",
       "12                          Astor Hyde Park   - 4.3km from city centre   \n",
       "13        Safestay London Elephant & Castle   - 1.7km from city centre   \n",
       "14       Destinations Hostels @ The Gallery   - 1.7km from city centre   \n",
       "15                       London Backpackers  - 11.9km from city centre   \n",
       "16                  Queen Elizabeth Chelsea   - 5.7km from city centre   \n",
       "17  Safestay London Kensington Holland Park   - 5.8km from city centre   \n",
       "18      Hostelle - women only hostel London   - 5.1km from city centre   \n",
       "19               Smart Hyde Park Inn Hostel     - 5km from city centre   \n",
       "20                  Smart Camden Inn Hostel   - 4.4km from city centre   \n",
       "21                           Astor Victoria   - 1.8km from city centre   \n",
       "22               Kabannas London St Pancras   - 3.3km from city centre   \n",
       "23                  Saint James Backpackers   - 5.5km from city centre   \n",
       "24                        Bell House Hostel   - 4.2km from city centre   \n",
       "25             St Christopher's Hammersmith   - 7.5km from city centre   \n",
       "26                         Astor Kensington   - 4.9km from city centre   \n",
       "27               PubLove @ The Rose & Crown   - 1.6km from city centre   \n",
       "28     PubLove @ The Steam Engine, Waterloo   - 0.5km from city centre   \n",
       "29      PubLove @ The White Ferry, Victoria   - 2.4km from city centre   \n",
       "\n",
       "   Ratings Total_reviews Overall_reviews                     Privat_price  \\\n",
       "0      9.3        Superb         (16545)  -20%\\nPrivates From\\n€452\\n€362   \n",
       "1      8.7      Fabulous         (16220)            No Privates Available   \n",
       "2      9.6        Superb          (1307)            No Privates Available   \n",
       "3      9.5        Superb           (367)            No Privates Available   \n",
       "4      9.8        Superb          (2836)            No Privates Available   \n",
       "5      8.8      Fabulous          (2407)            No Privates Available   \n",
       "6      8.2      Fabulous           (678)            No Privates Available   \n",
       "7      7.6     Very Good         (13104)            No Privates Available   \n",
       "8      7.2     Very Good          (8282)              Privates From\\n€202   \n",
       "9      7.8     Very Good          (4289)            No Privates Available   \n",
       "10     8.8      Fabulous          (9540)            No Privates Available   \n",
       "11     7.7     Very Good         (10294)            No Privates Available   \n",
       "12     8.1      Fabulous         (12406)            No Privates Available   \n",
       "13     7.3     Very Good          (5361)              Privates From\\n€202   \n",
       "14     9.1        Superb           (390)            No Privates Available   \n",
       "15     8.4      Fabulous          (4624)            No Privates Available   \n",
       "16     8.1      Fabulous          (3796)            No Privates Available   \n",
       "17     7.0     Very Good          (1880)            No Privates Available   \n",
       "18     8.5      Fabulous           (206)            No Privates Available   \n",
       "19     7.6     Very Good          (6858)            No Privates Available   \n",
       "20     8.9      Fabulous          (3196)            No Privates Available   \n",
       "21     7.1     Very Good         (15166)            No Privates Available   \n",
       "22     8.4      Fabulous          (3043)            No Privates Available   \n",
       "23     8.6      Fabulous          (1977)            No Privates Available   \n",
       "24     6.8          Good           (193)            No Privates Available   \n",
       "25     7.6     Very Good          (4463)            No Privates Available   \n",
       "26     7.7     Very Good          (6628)            No Privates Available   \n",
       "27     7.9     Very Good           (256)            No Privates Available   \n",
       "28     7.9     Very Good           (476)            No Privates Available   \n",
       "29     7.6     Very Good           (450)            No Privates Available   \n",
       "\n",
       "                    Dorm_price  \\\n",
       "0   -20%\\nDorms From\\n€75\\n€60   \n",
       "1   -26%\\nDorms From\\n€46\\n€34   \n",
       "2              Dorms From\\n€63   \n",
       "3              Dorms From\\n€84   \n",
       "4              Dorms From\\n€78   \n",
       "5   -15%\\nDorms From\\n€46\\n€39   \n",
       "6              Dorms From\\n€39   \n",
       "7   -10%\\nDorms From\\n€34\\n€31   \n",
       "8              Dorms From\\n€42   \n",
       "9              Dorms From\\n€20   \n",
       "10  -10%\\nDorms From\\n€51\\n€46   \n",
       "11             Dorms From\\n€40   \n",
       "12  -10%\\nDorms From\\n€32\\n€29   \n",
       "13             Dorms From\\n€22   \n",
       "14             Dorms From\\n€45   \n",
       "15             Dorms From\\n€33   \n",
       "16             Dorms From\\n€34   \n",
       "17             Dorms From\\n€28   \n",
       "18   -5%\\nDorms From\\n€49\\n€47   \n",
       "19             Dorms From\\n€33   \n",
       "20             Dorms From\\n€44   \n",
       "21  -10%\\nDorms From\\n€32\\n€28   \n",
       "22             Dorms From\\n€74   \n",
       "23             Dorms From\\n€32   \n",
       "24             Dorms From\\n€26   \n",
       "25  -10%\\nDorms From\\n€27\\n€24   \n",
       "26  -10%\\nDorms From\\n€31\\n€27   \n",
       "27             Dorms From\\n€59   \n",
       "28             Dorms From\\n€52   \n",
       "29             Dorms From\\n€47   \n",
       "\n",
       "                                  Propery_description  \\\n",
       "0   <module 'pandas' from 'C:\\\\Users\\\\44787\\\\AppDa...   \n",
       "1   <module 'pandas' from 'C:\\\\Users\\\\44787\\\\AppDa...   \n",
       "2   <module 'pandas' from 'C:\\\\Users\\\\44787\\\\AppDa...   \n",
       "3   <module 'pandas' from 'C:\\\\Users\\\\44787\\\\AppDa...   \n",
       "4   <module 'pandas' from 'C:\\\\Users\\\\44787\\\\AppDa...   \n",
       "5   <module 'pandas' from 'C:\\\\Users\\\\44787\\\\AppDa...   \n",
       "6   <module 'pandas' from 'C:\\\\Users\\\\44787\\\\AppDa...   \n",
       "7   <module 'pandas' from 'C:\\\\Users\\\\44787\\\\AppDa...   \n",
       "8   <module 'pandas' from 'C:\\\\Users\\\\44787\\\\AppDa...   \n",
       "9   <module 'pandas' from 'C:\\\\Users\\\\44787\\\\AppDa...   \n",
       "10  <module 'pandas' from 'C:\\\\Users\\\\44787\\\\AppDa...   \n",
       "11  <module 'pandas' from 'C:\\\\Users\\\\44787\\\\AppDa...   \n",
       "12  <module 'pandas' from 'C:\\\\Users\\\\44787\\\\AppDa...   \n",
       "13  <module 'pandas' from 'C:\\\\Users\\\\44787\\\\AppDa...   \n",
       "14  <module 'pandas' from 'C:\\\\Users\\\\44787\\\\AppDa...   \n",
       "15  <module 'pandas' from 'C:\\\\Users\\\\44787\\\\AppDa...   \n",
       "16  <module 'pandas' from 'C:\\\\Users\\\\44787\\\\AppDa...   \n",
       "17  <module 'pandas' from 'C:\\\\Users\\\\44787\\\\AppDa...   \n",
       "18  <module 'pandas' from 'C:\\\\Users\\\\44787\\\\AppDa...   \n",
       "19  <module 'pandas' from 'C:\\\\Users\\\\44787\\\\AppDa...   \n",
       "20  <module 'pandas' from 'C:\\\\Users\\\\44787\\\\AppDa...   \n",
       "21  <module 'pandas' from 'C:\\\\Users\\\\44787\\\\AppDa...   \n",
       "22  <module 'pandas' from 'C:\\\\Users\\\\44787\\\\AppDa...   \n",
       "23  <module 'pandas' from 'C:\\\\Users\\\\44787\\\\AppDa...   \n",
       "24  <module 'pandas' from 'C:\\\\Users\\\\44787\\\\AppDa...   \n",
       "25  <module 'pandas' from 'C:\\\\Users\\\\44787\\\\AppDa...   \n",
       "26  <module 'pandas' from 'C:\\\\Users\\\\44787\\\\AppDa...   \n",
       "27  <module 'pandas' from 'C:\\\\Users\\\\44787\\\\AppDa...   \n",
       "28  <module 'pandas' from 'C:\\\\Users\\\\44787\\\\AppDa...   \n",
       "29  <module 'pandas' from 'C:\\\\Users\\\\44787\\\\AppDa...   \n",
       "\n",
       "                                           facilities  \n",
       "0   Facilities\\nLinen Included\\nFree City Maps\\nFr...  \n",
       "1   Facilities\\nLinen Included\\nFree WiFi\\nFree In...  \n",
       "2   Facilities\\nLinen Included\\nFree WiFi\\nSecurit...  \n",
       "3   Facilities\\nLinen Included\\nFree WiFi\\nFree In...  \n",
       "4   Facilities\\nLinen Included\\nFree WiFi\\nFree In...  \n",
       "5   Facilities\\nFree Breakfast\\nLinen Included\\nTo...  \n",
       "6   Facilities\\nLinen Included\\nFree City Maps\\nFr...  \n",
       "7   Facilities\\nLinen Included\\nFree City Maps\\nFr...  \n",
       "8   Facilities\\nLinen Included\\nFree City Maps\\nFr...  \n",
       "9   Facilities\\nLinen Included\\nFree WiFi\\nSecurit...  \n",
       "10  Facilities\\nLinen Included\\nFree City Maps\\nFr...  \n",
       "11  Facilities\\nLinen Included\\nFree City Maps\\nFr...  \n",
       "12  Facilities\\nLinen Included\\nFree City Maps\\nFr...  \n",
       "13  Facilities\\nLinen Included\\nFree WiFi\\nSecurit...  \n",
       "14  Facilities\\nFree Breakfast\\nLinen Included\\nFr...  \n",
       "15  Facilities\\nLinen Included\\nFree City Maps\\nFr...  \n",
       "16  Facilities\\nLinen Included\\nFree City Maps\\nFr...  \n",
       "17  Facilities\\nLinen Included\\nFree WiFi\\nSecurit...  \n",
       "18  Facilities\\nLinen Included\\nFree City Maps\\nFr...  \n",
       "19  Facilities\\nLinen Included\\nFree City Maps\\nFr...  \n",
       "20  Facilities\\nLinen Included\\nFree City Maps\\nFr...  \n",
       "21  Facilities\\nLinen Included\\nFree City Maps\\nFr...  \n",
       "22  Facilities\\nLinen Included\\nFree City Maps\\nFr...  \n",
       "23  Facilities\\nFree Breakfast\\nLinen Included\\nFr...  \n",
       "24  Facilities\\nLinen Included\\nFree WiFi\\nSecurit...  \n",
       "25  Facilities\\nLinen Included\\nFree City Maps\\nFr...  \n",
       "26  Facilities\\nLinen Included\\nFree City Maps\\nFr...  \n",
       "27  Facilities\\nLinen Included\\nFree City Maps\\nFr...  \n",
       "28  Facilities\\nLinen Included\\nFree City Maps\\nFr...  \n",
       "29  Facilities\\nLinen Included\\nFree City Maps\\nFr...  "
      ]
     },
     "execution_count": 36,
     "metadata": {},
     "output_type": "execute_result"
    }
   ],
   "source": [
    "import pandas as pd\n",
    "df=pd.DataFrame({'Hostel_name':hostel_name,'Distance':distance,'Ratings':ratings,'Total_reviews':total_reviews,'Overall_reviews':overall_reviews,'Privat_price':private_price,'Dorm_price':dorm_price,'Propery_description':pd,'facilities':fd})\n",
    "df"
   ]
  },
  {
   "cell_type": "code",
   "execution_count": null,
   "id": "f0ad671e-99f7-4fb6-8fa4-d067c749fea3",
   "metadata": {},
   "outputs": [],
   "source": []
  },
  {
   "cell_type": "code",
   "execution_count": null,
   "id": "764ee7c9-f06e-4c85-aa8a-334ea2e57f63",
   "metadata": {},
   "outputs": [],
   "source": [
    "job_titles=[]\n",
    "job_locations=[]\n",
    "company_names=[]\n",
    "experience_req=[]\n",
    "title_tags=driver.find_elements(By.XPATH,'//div[@class=\"cust-job-tuple layout-wrapper lay-2 sjw__tuple \"]/div/a')\n",
    "for i in title_tags[0:10]:\n",
    "    title=i.text\n",
    "    job_titles.append(title)\n",
    "location_tags=driver.find_elements(By.XPATH,'//div[@class=\"job-details \"]/span[3]')\n",
    "for i in location_tags[0:10]:\n",
    "    location=i.text\n",
    "    job_locations.append(location)\n",
    "#scraping company's name from the page\n",
    "company_tags=driver.find_elements(By.XPATH,'//span[@class=\" comp-dtls-wrap\"]/a[1]')\n",
    "for i in company_tags[0:10]:\n",
    "    company=i.text\n",
    "    company_names.append(company)"
   ]
  },
  {
   "cell_type": "code",
   "execution_count": null,
   "id": "f1cbafd1-ba77-4d98-a2ad-e30077e2828d",
   "metadata": {},
   "outputs": [],
   "source": []
  },
  {
   "cell_type": "code",
   "execution_count": null,
   "id": "6df9a5ff-63ad-4b8a-8a20-da66b8191c70",
   "metadata": {},
   "outputs": [],
   "source": [
    "#Write a python program to scrape the details for all billionaires from www.forbes.com. Details to be scrapped: \n",
    "#“Rank”, “Name”, “Net worth”, “Age”, “Citizenship”, “Source”, “Industry”.  "
   ]
  },
  {
   "cell_type": "code",
   "execution_count": 64,
   "id": "7923fe75-b073-4cb9-b1f2-d6d026024070",
   "metadata": {},
   "outputs": [],
   "source": [
    "driver=webdriver.Chrome()"
   ]
  },
  {
   "cell_type": "code",
   "execution_count": 65,
   "id": "43575ec1-bec5-4716-9529-00a8b5631294",
   "metadata": {},
   "outputs": [],
   "source": [
    "#fetching url\n",
    "driver.get('https://www.forbes.com/')"
   ]
  },
  {
   "cell_type": "code",
   "execution_count": 68,
   "id": "99a09bf7-6dbe-4787-81d2-2b9e2082872e",
   "metadata": {},
   "outputs": [],
   "source": [
    "b_loc=driver.find_element(By.XPATH,\"/html/body/div[1]/header/div/header/div[1]/div[1]/div\")\n",
    "b_loc.click()"
   ]
  },
  {
   "cell_type": "code",
   "execution_count": 73,
   "id": "766f8e36-5328-4964-aaac-a7db56d2e522",
   "metadata": {},
   "outputs": [],
   "source": [
    "billionair=driver.find_element(By.XPATH,'/html/body/div[1]/header/div/header/div[1]/div[1]/div[2]/ul/li[2]/div[1]/a')\n",
    "\n",
    "billionair.click()"
   ]
  },
  {
   "cell_type": "code",
   "execution_count": 77,
   "id": "1569941c-7d1e-4bcb-9861-873767048891",
   "metadata": {},
   "outputs": [],
   "source": [
    "world=driver.find_element(By.XPATH,'/html/body/div[1]/div/main/div[2]/section/div[2]/div/div/div[1]/div/div[2]/div/div/a/h2')\n",
    "world.click()"
   ]
  },
  {
   "cell_type": "code",
   "execution_count": 75,
   "id": "9308a883-6ca4-4b8f-8b78-51a31afe1dea",
   "metadata": {},
   "outputs": [],
   "source": [
    "page=driver.find_element(By.XPATH,'//div[@class=\"Table_display__mR7pd\"]')\n",
    "page.click()"
   ]
  },
  {
   "cell_type": "code",
   "execution_count": 79,
   "id": "734baed2-c8a4-49d2-aa11-77db32b78f1a",
   "metadata": {},
   "outputs": [
    {
     "name": "stdout",
     "output_type": "stream",
     "text": [
      "200\n",
      "['1.', '2.', '3.', '4.', '5.', '6.', '7.', '8.', '9.', '10.', '11.', '12.', '13.', '14.', '15.', '16.', '17.', '18.', '19.', '20.', '21.', '22.', '23.', '24.', '25.', '26.', '27.', '27.', '29.', '30.', '31.', '32.', '33.', '34.', '35.', '35.', '37.', '38.', '39.', '40.', '40.', '42.', '43.', '44.', '45.', '46.', '46.', '48.', '48.', '50.', '51.', '52.', '53.', '54.', '55.', '56.', '57.', '58.', '59.', '60.', '60.', '62.', '63.', '64.', '65.', '66.', '66.', '68.', '69.', '70.', '71.', '71.', '73.', '73.', '75.', '76.', '76.', '76.', '79.', '80.', '81.', '81.', '83.', '84.', '85.', '86.', '87.', '88.', '89.', '90.', '91.', '92.', '92.', '94.', '94.', '94.', '97.', '98.', '99.', '100.', '101.', '102.', '103.', '104.', '104.', '104.', '107.', '108.', '109.', '110.', '111.', '111.', '113.', '113.', '115.', '115.', '117.', '118.', '118.', '120.', '121.', '122.', '122.', '124.', '125.', '126.', '126.', '126.', '129.', '130.', '131.', '132.', '132.', '132.', '135.', '135.', '137.', '137.', '139.', '140.', '140.', '140.', '140.', '144.', '144.', '144.', '144.', '148.', '148.', '150.', '150.', '152.', '153.', '154.', '154.', '156.', '156.', '156.', '159.', '159.', '161.', '162.', '162.', '164.', '165.', '165.', '167.', '168.', '169.', '169.', '169.', '172.', '173.', '173.', '173.', '176.', '177.', '177.', '177.', '180.', '180.', '180.', '180.', '180.', '180.', '180.', '180.', '188.', '188.', '190.', '190.', '190.', '190.', '190.', '195.', '195.', '195.', '195.', '199.', '200.']\n"
     ]
    }
   ],
   "source": [
    "ranks=[]\n",
    "rank=driver.find_elements(By.XPATH,'//div[@class=\"Table_rank__X4MKf\"]/div')\n",
    "for i in rank:\n",
    "    r=i.text\n",
    "    ranks.append(r)\n",
    "print(len(ranks))\n",
    "print(ranks)\n",
    "      \n",
    "                          \n"
   ]
  },
  {
   "cell_type": "code",
   "execution_count": 82,
   "id": "0990a53b-78dd-4ba6-827b-777ce624c62c",
   "metadata": {},
   "outputs": [
    {
     "name": "stdout",
     "output_type": "stream",
     "text": [
      "200\n",
      "['Bernard Arnault & family', 'Elon Musk', 'Jeff Bezos', 'Mark Zuckerberg', 'Larry Ellison', 'Warren Buffett', 'Bill Gates', 'Steve Ballmer', 'Mukesh Ambani', 'Larry Page', 'Sergey Brin', 'Michael Bloomberg', 'Amancio Ortega', 'Carlos Slim Helu & family', 'Francoise Bettencourt Meyers & family', 'Michael Dell', 'Gautam Adani', 'Jim Walton & family', 'Rob Walton & family', 'Jensen Huang', 'Alice Walton', 'David Thomson & family', 'Julia Koch & family', 'Zhong Shanshan', 'Charles Koch & family', 'Giovanni Ferrero', 'Prajogo Pangestu', 'Zhang Yiming', 'Tadashi Yanai & family', 'Phil Knight & family', 'Mark Mateschitz', 'Klaus-Michael Kuehne', 'Colin Huang', 'Stephen Schwarzman', 'Jacqueline Mars', 'John Mars', 'Dieter Schwarz', 'Li Ka-shing', 'Shiv Nadar', 'Alain Wertheimer', 'Gerard Wertheimer', 'Ken Griffin', 'MacKenzie Scott', 'Thomas Peterffy', 'Reinhold Wuerth & family', 'William Ding', 'Savitri Jindal & family', 'Gianluigi Aponte', 'Rafaela Aponte-Diamant', 'Changpeng Zhao', 'Masayoshi Son', 'Len Blavatnik', 'Miriam Adelson & family', 'François Pinault & family', 'Jim Simons', 'Gina Rinehart', 'Ma Huateng', 'Abigail Johnson', 'Vagit Alekperov', 'Eduardo Saverin', 'Lukas Walton', 'Germán Larrea Mota Velasco & family', 'Lee Shau Kee', 'Jeff Yass', 'Andrea Pignataro', 'Low Tuck Kwong', 'Leonid Mikhelson & family', 'Stefan Quandt', 'Dilip Shanghvi', 'Vladimir Lisin', 'R. Budi Hartono', 'Susanne Klatten', 'Thomas Frist, Jr. & family', 'Daniel Gilbert', 'Iris Fontbona & family', 'Emmanuel Besnier', 'Michael Hartono', 'Alexey Mordashov & family', 'John Menard, Jr.', 'He Xiangjian & family', 'Jack Ma', 'Elaine Marshall & family', 'Autry Stephens', 'Eyal Ofer', 'Vladimir Potanin', 'Gennady Timchenko', 'Takemitsu Takizaki', 'Vinod Adani', 'Robin Zeng', 'Cyrus Poonawalla', 'Andrey Melnichenko & family', 'Diane Hendricks', 'Kushal Pal Singh', 'Vicky Safra & family', 'Eric Schmidt', 'David Tepper', 'Steve Cohen', 'Kumar Birla', 'Rick Cohen & family', 'Rupert Murdoch & family', 'Andrew Forrest & family', 'Harold Hamm & family', 'Dustin Moskovitz', 'Donald Bren', 'Renata Kellnerova & family', 'Michael Platt', 'Radhakishan Damani', 'John Fredriksen', 'Eric Li', 'Stefan Persson', 'James Ratcliffe', 'Harry Triguboff', 'Jorge Paulo Lemann & family', 'Lakshmi Mittal', 'Ravi Jaipuria', 'Stanley Kroenke', 'Jan Koum', 'Karl Albrecht Jr. & family', 'Beate Heister', 'Idan Ofer', 'Nicolas Puech', 'Pavel Durov', 'Qin Yinglin', 'Ray Dalio', 'Philip Anschutz', 'Leonard Lauder', 'Li Xiting', 'Peter Woo', 'Andreas von Bechtolsheim & family', 'George Kaiser', 'Wang Chuanfu', 'Charlene de Carvalho-Heineken & family', 'David Duffield', 'Henry Samueli', 'Theo Albrecht, Jr. & family', 'Leon Black', 'Jerry Jones', 'Wang Wei', 'David Green & family', 'James Dyson', 'David Sun', 'John Tu', 'Christy Walton', 'Dang Yanbao', 'Aliko Dangote', 'Ricardo Salinas Pliego & family', 'Alisher Usmanov', 'Mike Cannon-Brookes', 'Uday Kotak', 'Mikhail Fridman', 'Joseph Lau', 'Scott Farquhar', 'Laurene Powell Jobs & family', 'Goh Cheng Liang', 'George Roberts', 'David Cheriton', 'Jeffery Hildebrand', 'Georg Stumpf', 'Dhanin Chearavanont', 'Anders Holch Povlsen', 'Israel Englander', 'Shahid Khan', 'Johann Rupert & family', 'Hasso Plattner & family', 'Kwong Siu-hing', 'Azim Premji', 'Henry Nicholas, III.', 'Edward Johnson, IV.', 'John Doerr', 'Henry Kravis', 'Eric Smidt', 'Lu Xiangyang', 'Andrew Beal', 'Jay Y. Lee', 'Michael Rubin', 'Robert Kuok', 'Giorgio Armani', 'Jay Chaudhry', 'Charoen Sirivadhanabhakdi', 'Brian Armstrong', 'Ernesto Bertarelli', 'Bubba Cathy', 'Dan Cathy', 'Trudy Cathy White', 'Lui Che Woo', 'Wei Jianjun & family', 'Sky Xu', 'Melinda French Gates', 'Robert Kraft', 'Brian Chesky', 'Barry Lam', 'Donald Newhouse', 'Mikhail Prokhorov', 'Manuel Villar', 'Jiang Rensheng & family', 'Lei Jun', 'Georg Schaeffler', 'Marcel Herrmann Telles & family', 'David Velez & family', 'Suleiman Kerimov & family']\n"
     ]
    }
   ],
   "source": [
    "name=[]\n",
    "names=driver.find_elements(By.XPATH,'//div[@class=\"Table_personName__Bus2E\"]')\n",
    "for i in names:\n",
    "    n=i.text\n",
    "    name.append(n)\n",
    "print(len(name))\n",
    "print(name)"
   ]
  },
  {
   "cell_type": "code",
   "execution_count": 98,
   "id": "ab398f89-a7c8-4a2a-a7c2-55f1a0682113",
   "metadata": {},
   "outputs": [
    {
     "name": "stdout",
     "output_type": "stream",
     "text": [
      "200\n",
      "['$233 B', '$195 B', '$194 B', '$177 B', '$141 B', '$133 B', '$128 B', '$121 B', '$116 B', '$114 B', '$110 B', '$106 B', '$103 B', '$102 B', '$99.5 B', '$91 B', '$84 B', '$78.4 B', '$77.4 B', '$77 B', '$72.3 B', '$67.8 B', '$64.3 B', '$62.3 B', '$58.5 B', '$43.8 B', '$43.4 B', '$43.4 B', '$42.8 B', '$40.9 B', '$39.6 B', '$39.2 B', '$38.9 B', '$38.8 B', '$38.5 B', '$38.5 B', '$38 B', '$37.3 B', '$36.9 B', '$36.8 B', '$36.8 B', '$36.4 B', '$35.6 B', '$34 B', '$33.6 B', '$33.5 B', '$33.5 B', '$33.1 B', '$33.1 B', '$33 B', '$32.7 B', '$32.1 B', '$32 B', '$31.6 B', '$31.4 B', '$30.8 B', '$30.2 B', '$29 B', '$28.6 B', '$28 B', '$28 B', '$27.9 B', '$27.7 B', '$27.6 B', '$27.5 B', '$27.4 B', '$27.4 B', '$27.3 B', '$26.7 B', '$26.6 B', '$26.5 B', '$26.5 B', '$26.2 B', '$26.2 B', '$25.7 B', '$25.5 B', '$25.5 B', '$25.5 B', '$25.2 B', '$25.1 B', '$24.5 B', '$24.5 B', '$24.3 B', '$24 B', '$23.7 B', '$23.4 B', '$23.1 B', '$23 B', '$22.9 B', '$21.3 B', '$21.1 B', '$20.9 B', '$20.9 B', '$20.6 B', '$20.6 B', '$20.6 B', '$19.8 B', '$19.7 B', '$19.6 B', '$19.5 B', '$19 B', '$18.5 B', '$18.3 B', '$18 B', '$18 B', '$18 B', '$17.6 B', '$16.9 B', '$16.8 B', '$16.6 B', '$16.5 B', '$16.5 B', '$16.4 B', '$16.4 B', '$16.2 B', '$16.2 B', '$16.1 B', '$15.9 B', '$15.9 B', '$15.8 B', '$15.6 B', '$15.5 B', '$15.5 B', '$15.4 B', '$15.3 B', '$15.1 B', '$15.1 B', '$15.1 B', '$14.8 B', '$14.6 B', '$14.2 B', '$14.1 B', '$14.1 B', '$14.1 B', '$14 B', '$14 B', '$13.8 B', '$13.8 B', '$13.7 B', '$13.6 B', '$13.6 B', '$13.6 B', '$13.6 B', '$13.4 B', '$13.4 B', '$13.4 B', '$13.4 B', '$13.3 B', '$13.3 B', '$13.1 B', '$13.1 B', '$13 B', '$12.8 B', '$12.7 B', '$12.7 B', '$12.6 B', '$12.6 B', '$12.6 B', '$12.5 B', '$12.5 B', '$12.4 B', '$12.2 B', '$12.2 B', '$12.1 B', '$12 B', '$12 B', '$11.9 B', '$11.8 B', '$11.7 B', '$11.7 B', '$11.7 B', '$11.6 B', '$11.5 B', '$11.5 B', '$11.5 B', '$11.4 B', '$11.3 B', '$11.3 B', '$11.3 B', '$11.2 B', '$11.2 B', '$11.2 B', '$11.2 B', '$11.2 B', '$11.2 B', '$11.2 B', '$11.2 B', '$11.1 B', '$11.1 B', '$11 B', '$11 B', '$11 B', '$11 B', '$11 B', '$10.9 B', '$10.9 B', '$10.9 B', '$10.9 B', '$10.8 B', '$10.7 B']\n"
     ]
    }
   ],
   "source": [
    "net_worth=[]\n",
    "n_w=driver.find_elements(By.XPATH,'//div[@class=\"Table_finalWorth__UZA6k\"]')\n",
    "for i in n_w:\n",
    "    nw=i.text\n",
    "    net_worth.append(nw)\n",
    "print(len(net_worth))\n",
    "print(net_worth)"
   ]
  },
  {
   "cell_type": "code",
   "execution_count": 89,
   "id": "a2c06e6b-a81b-41ea-a590-650919e3c7f5",
   "metadata": {},
   "outputs": [
    {
     "name": "stdout",
     "output_type": "stream",
     "text": [
      "200\n",
      "['75', '52', '60', '39', '79', '93', '68', '68', '66', '51', '50', '82', '88', '84', '70', '59', '61', '75', '79', '61', '74', '66', '61', '69', '88', '59', '79', '40', '75', '86', '31', '86', '44', '77', '84', '88', '84', '95', '78', '75', '73', '55', '53', '79', '88', '52', '74', '83', '79', '47', '66', '66', '78', '87', '85', '70', '52', '62', '73', '42', '37', '70', '96', '65', '53', '75', '68', '57', '68', '67', '83', '61', '85', '62', '81', '53', '84', '58', '84', '81', '59', '81', '86', '73', '63', '71', '78', '75', '55', '82', '52', '77', '92', '71', '68', '66', '67', '56', '71', '93', '62', '78', '39', '91', '56', '56', '69', '79', '60', '76', '71', '91', '84', '73', '69', '76', '48', '76', '73', '68', '81', '39', '58', '74', '84', '91', '73', '77', '68', '81', '58', '69', '83', '69', '73', '72', '81', '53', '82', '76', '72', '82', '75', '51', '66', '68', '70', '44', '65', '59', '72', '44', '60', '96', '80', '73', '65', '51', '84', '51', '75', '73', '73', '80', '94', '78', '64', '59', '72', '80', '64', '61', '71', '55', '51', '100', '89', '64', '79', '41', '58', '69', '71', '68', '95', '60', '40', '59', '82', '42', '74', '94', '58', '74', '70', '54', '59', '74', '42', '58']\n"
     ]
    }
   ],
   "source": [
    "age=[]\n",
    "a=driver.find_elements(By.XPATH,'//div[@role=\"cell\"][4]')\n",
    "for i in a:\n",
    "    ag=i.text\n",
    "    age.append(ag)\n",
    "print(len(age))\n",
    "print(age)"
   ]
  },
  {
   "cell_type": "code",
   "execution_count": 87,
   "id": "34a21f2d-4aa3-4905-88a3-162d7f6bc3cd",
   "metadata": {},
   "outputs": [
    {
     "name": "stdout",
     "output_type": "stream",
     "text": [
      "200\n",
      "['France', 'United States', 'United States', 'United States', 'United States', 'United States', 'United States', 'United States', 'India', 'United States', 'United States', 'United States', 'Spain', 'Mexico', 'France', 'United States', 'India', 'United States', 'United States', 'United States', 'United States', 'Canada', 'United States', 'China', 'United States', 'Italy', 'Indonesia', 'China', 'Japan', 'United States', 'Austria', 'Germany', 'China', 'United States', 'United States', 'United States', 'Germany', 'Hong Kong', 'India', 'France', 'France', 'United States', 'United States', 'United States', 'Germany', 'China', 'India', 'Switzerland', 'Switzerland', 'Canada', 'Japan', 'United States', 'United States', 'France', 'United States', 'Australia', 'China', 'United States', 'Russia', 'Brazil', 'United States', 'Mexico', 'Hong Kong', 'United States', 'Italy', 'Indonesia', 'Russia', 'Germany', 'India', 'Russia', 'Indonesia', 'Germany', 'United States', 'United States', 'Chile', 'France', 'Indonesia', 'Russia', 'United States', 'China', 'China', 'United States', 'United States', 'Israel', 'Russia', 'Russia', 'Japan', 'Cyprus', 'Hong Kong', 'India', 'Russia', 'United States', 'India', 'Brazil', 'United States', 'United States', 'United States', 'India', 'United States', 'United States', 'Australia', 'United States', 'United States', 'United States', 'Czech Republic', 'United Kingdom', 'India', 'Cyprus', 'China', 'Sweden', 'United Kingdom', 'Australia', 'Brazil', 'India', 'India', 'United States', 'United States', 'Germany', 'Germany', 'Israel', 'France', 'United Arab Emirates', 'China', 'United States', 'United States', 'United States', 'Singapore', 'Hong Kong', 'Germany', 'United States', 'China', 'Netherlands', 'United States', 'United States', 'Germany', 'United States', 'United States', 'China', 'United States', 'United Kingdom', 'United States', 'United States', 'United States', 'China', 'Nigeria', 'Mexico', 'Russia', 'Australia', 'India', 'Russia', 'Hong Kong', 'Australia', 'United States', 'Singapore', 'United States', 'Canada', 'United States', 'Austria', 'Thailand', 'Denmark', 'United States', 'United States', 'South Africa', 'Germany', 'Hong Kong', 'India', 'United States', 'United States', 'United States', 'United States', 'United States', 'China', 'United States', 'South Korea', 'United States', 'Malaysia', 'Italy', 'United States', 'Thailand', 'United States', 'Switzerland', 'United States', 'United States', 'United States', 'Hong Kong', 'China', 'China', 'United States', 'United States', 'United States', 'Taiwan', 'United States', 'Russia', 'Philippines', 'China', 'China', 'Germany', 'Brazil', 'Colombia', 'Russia']\n"
     ]
    }
   ],
   "source": [
    "citizenship=[]\n",
    "c=driver.find_elements(By.XPATH,'//div[@role=\"cell\"][5]')\n",
    "for i in c:\n",
    "    ci=i.text\n",
    "    citizenship.append(ci)\n",
    "print(len(citizenship))\n",
    "print(citizenship)"
   ]
  },
  {
   "cell_type": "code",
   "execution_count": 86,
   "id": "e183b9aa-2390-49b6-9b5b-a7c84b7cd16d",
   "metadata": {},
   "outputs": [
    {
     "name": "stdout",
     "output_type": "stream",
     "text": [
      "200\n",
      "['LVMH', 'Tesla, SpaceX', 'Amazon', 'Facebook', 'Oracle', 'Berkshire Hathaway', 'Microsoft', 'Microsoft', 'Diversified', 'Google', 'Google', 'Bloomberg LP', 'Zara', 'Telecom', \"L'Oréal\", 'Dell Technologies', 'Infrastructure, commodities', 'Walmart', 'Walmart', 'Semiconductors', 'Walmart', 'Media', 'Koch Industries', 'Beverages, pharmaceuticals', 'Koch Industries', 'Nutella, chocolates', 'Petrochemicals, energy', 'TikTok', 'Fashion retail', 'Nike', 'Red Bull', 'Shipping', 'E-commerce', 'Investments', 'Candy, pet food', 'Candy, pet food', 'Retail', 'Diversified', 'software services', 'Chanel', 'Chanel', 'Hedge funds', 'Amazon', 'Discount brokerage', 'Fasteners', 'Online games', 'Steel', 'Shipping', 'Shipping', 'Cryptocurrency exchange', 'Telecom, investments', 'Music, chemicals', 'Casinos', 'Luxury goods', 'Hedge funds', 'Mining', 'Online games', 'Fidelity', 'Oil', 'Facebook', 'Walmart', 'Mining', 'Real estate', 'Trading, investments', 'Financial software', 'Coal', 'Gas, chemicals', 'BMW', 'Pharmaceuticals', 'Steel, transport', 'Banking, tobacco', 'BMW, pharmaceuticals', 'Hospitals', 'Quicken Loans', 'Mining', 'Cheese', 'Banking, tobacco', 'Steel, investments', 'Home improvement stores', 'Home appliances', 'E-commerce', 'Koch Industries', 'Oil', 'Real estate, shipping', 'Metals', 'Oil, gas', 'Sensors', 'Infrastructure, commodities', 'Batteries', 'Vaccines', 'Fertilizers, coal', 'Building supplies', 'Real estate', 'Banking', 'Google', 'Hedge funds', 'Hedge funds', 'Commodities', 'Warehouse automation', 'Newspapers, TV network', 'Mining', 'Oil & gas', 'Facebook', 'Real estate', 'Finance, telecommunications', 'Hedge funds', 'Retail, investments', 'Shipping', 'Automobiles', 'H&M', 'Chemicals', 'Real estate', 'Beer', 'Steel', 'Soft drinks, fast food', 'Sports, real estate', 'WhatsApp', 'Supermarkets', 'Supermarkets', 'Shipping', 'Hermes', 'Messaging app', 'Pig breeding', 'Hedge funds', 'Energy, sports, entertainment', 'Estee Lauder', 'medical devices', 'Real estate', 'Google', 'Oil & gas, banking', 'Batteries, automobiles', 'Heineken', 'Business software', 'Semiconductors', \"Aldi, Trader Joe's\", 'Private equity', 'Dallas Cowboys', 'Package delivery', 'Retail', 'Vacuums', 'Computer hardware', 'Computer hardware', 'Walmart', 'Coal', 'Cement, sugar', 'Retail, media', 'Steel, telecom, investments', 'Software', 'Banking', 'Oil, banking, telecom', 'Real estate', 'Software', 'Apple, Disney', 'Paints', 'Private equity', 'Google', 'Oil', 'Real estate, construction', 'Diversified', 'Fashion retail', 'Hedge funds', 'Auto parts', 'Luxury goods', 'Software', 'Real estate', 'Software services', 'Semiconductors', 'Fidelity', 'Venture capital', 'Private equity', 'Hardware stores', 'Automobiles, batteries', 'Banks, real estate', 'Samsung', 'Online retail', 'Palm oil, shipping, property', 'Luxury goods', 'Security software', 'Alcohol, real estate', 'Cryptocurrency', 'Biotech, investments', 'Chick-fil-A', 'Chick-fil-A', 'Chick-fil-A', 'Casinos/hotels', 'Automobiles', 'E-commerce', 'Microsoft', 'Manufacturing, New England Patriots', 'Airbnb', 'Electronics', 'Media', 'Investments', 'Real estate', 'Vaccines', 'Smartphones', 'Auto parts', 'Beer', 'Fintech', 'Gold']\n"
     ]
    }
   ],
   "source": [
    "source=[]\n",
    "s=driver.find_elements(By.XPATH,'//div[@role=\"cell\"][6]')\n",
    "for i in s:\n",
    "    so=i.text\n",
    "    source.append(so)\n",
    "print(len(source))\n",
    "print(source)"
   ]
  },
  {
   "cell_type": "code",
   "execution_count": 85,
   "id": "6afac13d-4307-4dd9-bc55-bbf21baba8df",
   "metadata": {},
   "outputs": [
    {
     "name": "stdout",
     "output_type": "stream",
     "text": [
      "200\n",
      "['Fashion & Retail', 'Automotive', 'Technology', 'Technology', 'Technology', 'Finance & Investments', 'Technology', 'Technology', 'Diversified', 'Technology', 'Technology', 'Finance & Investments', 'Fashion & Retail', 'Telecom', 'Fashion & Retail', 'Technology', 'Diversified', 'Fashion & Retail', 'Fashion & Retail', 'Technology', 'Fashion & Retail', 'Media & Entertainment', 'Diversified', 'Food & Beverage', 'Diversified', 'Food & Beverage', 'Diversified', 'Technology', 'Fashion & Retail', 'Fashion & Retail', 'Food & Beverage', 'Logistics', 'Technology', 'Finance & Investments', 'Food & Beverage', 'Food & Beverage', 'Fashion & Retail', 'Diversified', 'Technology', 'Fashion & Retail', 'Fashion & Retail', 'Finance & Investments', 'Technology', 'Finance & Investments', 'Manufacturing', 'Technology', 'Metals & Mining', 'Logistics', 'Logistics', 'Finance & Investments', 'Finance & Investments', 'Diversified', 'Gambling & Casinos', 'Fashion & Retail', 'Finance & Investments', 'Metals & Mining', 'Technology', 'Finance & Investments', 'Energy', 'Technology', 'Fashion & Retail', 'Metals & Mining', 'Real Estate', 'Finance & Investments', 'Finance & Investments', 'Energy', 'Energy', 'Automotive', 'Healthcare', 'Metals & Mining', 'Finance & Investments', 'Automotive', 'Healthcare', 'Finance & Investments', 'Metals & Mining', 'Food & Beverage', 'Manufacturing', 'Metals & Mining', 'Fashion & Retail', 'Manufacturing', 'Technology', 'Diversified', 'Energy', 'Diversified', 'Metals & Mining', 'Energy', 'Manufacturing', 'Diversified', 'Automotive', 'Healthcare', 'Metals & Mining', 'Construction & Engineering', 'Real Estate', 'Finance & Investments', 'Technology', 'Finance & Investments', 'Finance & Investments', 'Diversified', 'Technology', 'Media & Entertainment', 'Metals & Mining', 'Energy', 'Technology', 'Real Estate', 'Finance & Investments', 'Finance & Investments', 'Fashion & Retail', 'Logistics', 'Automotive', 'Fashion & Retail', 'Manufacturing', 'Real Estate', 'Food & Beverage', 'Metals & Mining', 'Food & Beverage', 'Sports', 'Technology', 'Fashion & Retail', 'Fashion & Retail', 'Diversified', 'Fashion & Retail', 'Technology', 'Food & Beverage', 'Finance & Investments', 'Finance & Investments', 'Fashion & Retail', 'Healthcare', 'Real Estate', 'Technology', 'Energy', 'Automotive', 'Food & Beverage', 'Technology', 'Technology', 'Fashion & Retail', 'Finance & Investments', 'Sports', 'Service', 'Fashion & Retail', 'Manufacturing', 'Technology', 'Technology', 'Fashion & Retail', 'Metals & Mining', 'Manufacturing', 'Fashion & Retail', 'Metals & Mining', 'Technology', 'Finance & Investments', 'Energy', 'Real Estate', 'Technology', 'Technology', 'Manufacturing', 'Finance & Investments', 'Technology', 'Energy', 'Diversified', 'Diversified', 'Fashion & Retail', 'Finance & Investments', 'Automotive', 'Fashion & Retail', 'Technology', 'Real Estate', 'Technology', 'Technology', 'Finance & Investments', 'Finance & Investments', 'Finance & Investments', 'Fashion & Retail', 'Automotive', 'Finance & Investments', 'Technology', 'Fashion & Retail', 'Diversified', 'Fashion & Retail', 'Technology', 'Food & Beverage', 'Finance & Investments', 'Healthcare', 'Food & Beverage', 'Food & Beverage', 'Food & Beverage', 'Gambling & Casinos', 'Automotive', 'Fashion & Retail', 'Technology', 'Sports', 'Technology', 'Technology', 'Media & Entertainment', 'Finance & Investments', 'Real Estate', 'Healthcare', 'Technology', 'Automotive', 'Food & Beverage', 'Finance & Investments', 'Finance & Investments']\n"
     ]
    }
   ],
   "source": [
    "industry=[]\n",
    "ind=driver.find_elements(By.XPATH,'//div[@role=\"cell\"][7]')\n",
    "for i in ind:\n",
    "    indu=i.text\n",
    "    industry.append(indu)\n",
    "print(len(industry))\n",
    "print(industry)"
   ]
  },
  {
   "cell_type": "code",
   "execution_count": 99,
   "id": "2bc7187c-98e1-4570-9412-e934628c6cf7",
   "metadata": {},
   "outputs": [
    {
     "name": "stdout",
     "output_type": "stream",
     "text": [
      "200 200 200 200 200 200 200\n"
     ]
    }
   ],
   "source": [
    "print(len(ranks),len(name),len(net_worth),len(age),len(citizenship),len(source),len(industry))"
   ]
  },
  {
   "cell_type": "code",
   "execution_count": 100,
   "id": "9cd03d2f-892c-4fab-8411-77e584dae3f1",
   "metadata": {},
   "outputs": [
    {
     "data": {
      "text/html": [
       "<div>\n",
       "<style scoped>\n",
       "    .dataframe tbody tr th:only-of-type {\n",
       "        vertical-align: middle;\n",
       "    }\n",
       "\n",
       "    .dataframe tbody tr th {\n",
       "        vertical-align: top;\n",
       "    }\n",
       "\n",
       "    .dataframe thead th {\n",
       "        text-align: right;\n",
       "    }\n",
       "</style>\n",
       "<table border=\"1\" class=\"dataframe\">\n",
       "  <thead>\n",
       "    <tr style=\"text-align: right;\">\n",
       "      <th></th>\n",
       "      <th>Ranks</th>\n",
       "      <th>Name</th>\n",
       "      <th>Net_worth</th>\n",
       "      <th>Age</th>\n",
       "      <th>citizenship</th>\n",
       "      <th>source</th>\n",
       "      <th>Industry</th>\n",
       "    </tr>\n",
       "  </thead>\n",
       "  <tbody>\n",
       "    <tr>\n",
       "      <th>0</th>\n",
       "      <td>1.</td>\n",
       "      <td>Bernard Arnault &amp; family</td>\n",
       "      <td>$233 B</td>\n",
       "      <td>75</td>\n",
       "      <td>France</td>\n",
       "      <td>LVMH</td>\n",
       "      <td>Fashion &amp; Retail</td>\n",
       "    </tr>\n",
       "    <tr>\n",
       "      <th>1</th>\n",
       "      <td>2.</td>\n",
       "      <td>Elon Musk</td>\n",
       "      <td>$195 B</td>\n",
       "      <td>52</td>\n",
       "      <td>United States</td>\n",
       "      <td>Tesla, SpaceX</td>\n",
       "      <td>Automotive</td>\n",
       "    </tr>\n",
       "    <tr>\n",
       "      <th>2</th>\n",
       "      <td>3.</td>\n",
       "      <td>Jeff Bezos</td>\n",
       "      <td>$194 B</td>\n",
       "      <td>60</td>\n",
       "      <td>United States</td>\n",
       "      <td>Amazon</td>\n",
       "      <td>Technology</td>\n",
       "    </tr>\n",
       "    <tr>\n",
       "      <th>3</th>\n",
       "      <td>4.</td>\n",
       "      <td>Mark Zuckerberg</td>\n",
       "      <td>$177 B</td>\n",
       "      <td>39</td>\n",
       "      <td>United States</td>\n",
       "      <td>Facebook</td>\n",
       "      <td>Technology</td>\n",
       "    </tr>\n",
       "    <tr>\n",
       "      <th>4</th>\n",
       "      <td>5.</td>\n",
       "      <td>Larry Ellison</td>\n",
       "      <td>$141 B</td>\n",
       "      <td>79</td>\n",
       "      <td>United States</td>\n",
       "      <td>Oracle</td>\n",
       "      <td>Technology</td>\n",
       "    </tr>\n",
       "    <tr>\n",
       "      <th>...</th>\n",
       "      <td>...</td>\n",
       "      <td>...</td>\n",
       "      <td>...</td>\n",
       "      <td>...</td>\n",
       "      <td>...</td>\n",
       "      <td>...</td>\n",
       "      <td>...</td>\n",
       "    </tr>\n",
       "    <tr>\n",
       "      <th>195</th>\n",
       "      <td>195.</td>\n",
       "      <td>Lei Jun</td>\n",
       "      <td>$10.9 B</td>\n",
       "      <td>54</td>\n",
       "      <td>China</td>\n",
       "      <td>Smartphones</td>\n",
       "      <td>Technology</td>\n",
       "    </tr>\n",
       "    <tr>\n",
       "      <th>196</th>\n",
       "      <td>195.</td>\n",
       "      <td>Georg Schaeffler</td>\n",
       "      <td>$10.9 B</td>\n",
       "      <td>59</td>\n",
       "      <td>Germany</td>\n",
       "      <td>Auto parts</td>\n",
       "      <td>Automotive</td>\n",
       "    </tr>\n",
       "    <tr>\n",
       "      <th>197</th>\n",
       "      <td>195.</td>\n",
       "      <td>Marcel Herrmann Telles &amp; family</td>\n",
       "      <td>$10.9 B</td>\n",
       "      <td>74</td>\n",
       "      <td>Brazil</td>\n",
       "      <td>Beer</td>\n",
       "      <td>Food &amp; Beverage</td>\n",
       "    </tr>\n",
       "    <tr>\n",
       "      <th>198</th>\n",
       "      <td>199.</td>\n",
       "      <td>David Velez &amp; family</td>\n",
       "      <td>$10.8 B</td>\n",
       "      <td>42</td>\n",
       "      <td>Colombia</td>\n",
       "      <td>Fintech</td>\n",
       "      <td>Finance &amp; Investments</td>\n",
       "    </tr>\n",
       "    <tr>\n",
       "      <th>199</th>\n",
       "      <td>200.</td>\n",
       "      <td>Suleiman Kerimov &amp; family</td>\n",
       "      <td>$10.7 B</td>\n",
       "      <td>58</td>\n",
       "      <td>Russia</td>\n",
       "      <td>Gold</td>\n",
       "      <td>Finance &amp; Investments</td>\n",
       "    </tr>\n",
       "  </tbody>\n",
       "</table>\n",
       "<p>200 rows × 7 columns</p>\n",
       "</div>"
      ],
      "text/plain": [
       "    Ranks                             Name Net_worth Age    citizenship  \\\n",
       "0      1.         Bernard Arnault & family    $233 B  75         France   \n",
       "1      2.                        Elon Musk    $195 B  52  United States   \n",
       "2      3.                       Jeff Bezos    $194 B  60  United States   \n",
       "3      4.                  Mark Zuckerberg    $177 B  39  United States   \n",
       "4      5.                    Larry Ellison    $141 B  79  United States   \n",
       "..    ...                              ...       ...  ..            ...   \n",
       "195  195.                          Lei Jun   $10.9 B  54          China   \n",
       "196  195.                 Georg Schaeffler   $10.9 B  59        Germany   \n",
       "197  195.  Marcel Herrmann Telles & family   $10.9 B  74         Brazil   \n",
       "198  199.             David Velez & family   $10.8 B  42       Colombia   \n",
       "199  200.        Suleiman Kerimov & family   $10.7 B  58         Russia   \n",
       "\n",
       "            source               Industry  \n",
       "0             LVMH       Fashion & Retail  \n",
       "1    Tesla, SpaceX             Automotive  \n",
       "2           Amazon             Technology  \n",
       "3         Facebook             Technology  \n",
       "4           Oracle             Technology  \n",
       "..             ...                    ...  \n",
       "195    Smartphones             Technology  \n",
       "196     Auto parts             Automotive  \n",
       "197           Beer        Food & Beverage  \n",
       "198        Fintech  Finance & Investments  \n",
       "199           Gold  Finance & Investments  \n",
       "\n",
       "[200 rows x 7 columns]"
      ]
     },
     "execution_count": 100,
     "metadata": {},
     "output_type": "execute_result"
    }
   ],
   "source": [
    "import pandas as pd\n",
    "df=pd.DataFrame({'Ranks':ranks,'Name':name,'Net_worth':net_worth,'Age':age,'citizenship':citizenship,'source':source,'Industry':industry})\n",
    "df"
   ]
  },
  {
   "cell_type": "code",
   "execution_count": null,
   "id": "a2fc1ab5-a040-42cd-9eba-0fee18fd27a7",
   "metadata": {},
   "outputs": [],
   "source": [
    "# Write a program to extract at least 500 Comments, Comment upvote and time when comment was posted \n",
    "#from any YouTube Video.  "
   ]
  },
  {
   "cell_type": "code",
   "execution_count": 2,
   "id": "3a1f3667-db99-4bf0-b586-d79d640fea9c",
   "metadata": {},
   "outputs": [],
   "source": [
    "driver=webdriver.Chrome()"
   ]
  },
  {
   "cell_type": "code",
   "execution_count": 11,
   "id": "8efb8d51-8b23-467c-bee3-85436e5487c0",
   "metadata": {},
   "outputs": [],
   "source": [
    "#fetching url\n",
    "driver.get('https://www.youtube.com/watch?v=bAyrObl7TYE')"
   ]
  },
  {
   "cell_type": "code",
   "execution_count": 14,
   "id": "49965bdc-9cfb-4a12-9a90-a35a64cb9b22",
   "metadata": {},
   "outputs": [
    {
     "name": "stdout",
     "output_type": "stream",
     "text": [
      "141\n",
      "['Post Graduate Program In Data Engineering: https://www.simplilearn.com/pgp-data-engineering-certification-training-course?utm_campaign=BigData-bAyrObl7TYE&utm_medium=Comments&utm_source=youtube\\n\\nBig Data Engineer Masters Program (Discount Code - YTBE15): https://www.simplilearn.com/big-data-engineer-masters-program?utm_campaign=BigData-bAyrObl7TYE&utm_medium=Comments&utm_source=youtube', 'This would be great to assess the trajectories of career paths of individuals in large organisations in relation to injury types, leave patterns and discipline issues. It could assist in early intervention, training and counselling to redirect and prevent skill shortfalls, and improve retention.', 'very good video, simple, consistent and clear\\n\\ngreat job', 'I will be taking a course next semester on this subject and you’ve given me an amazing entry to it all', 'very helpful for my College interview hope I can get it done !', \"I absolutely love the presentation. It's so straightforward and enjoyable to watch.\", 'This video is very helpful, and I likeu r teaching methodology  keep doing more, tnq', 'Thanks for explaining it in very creative way...It was very helpful ', 'wow wow, this is the best video to explain hadoop and big data to me as a web developer. Thank you for great contents!', 'Wow can just believe this I got my cvv from Milan dumps this evening..gat your back bro.', 'very good the video is! as a more than 5 years Spark user developer, i really love it!', 'This is so helpful for my job interview. Thank you! ️', 'Thank you for this video, I got excited to learn more about this world and work with it.', 'Awesome introductory video!  Was very helpful.  Big Data and Data Science are sure to change the world in multiple fields!  I love how this channel is all about learning new things!', 'Thanks for explaining big data in such a good manner.', 'Thanks for the explanation!! Super Clear and pedagogical!!', \"It's really helpful to understand what is Big Data.  Can you make videos on, how can we work on this technology real-time.\", 'Very helpful I subscribed to you I’ll keep watching ur vids\\nCorrect option is C\\nAs it’s map reduce which performs parallel processing', 'Thanks for the lecture notes. they helped a lot. Please keep on sending me more lecture notes on big data.', 'I really needed quick explanation on this...thank you so much.. very well explained.....:)', \"Perfect and simple explanation, even a dummy could relate to it. Plus that's how to advertise a product.\", 'Awesome video. Concepts are explained clearly and easy to understand.', \"I so love this presentation. that's easily understood\", 'option \"c \" is ans. AND\\nThe impact of big data will be significant in many ways. One way is that organizations will be able to make better decisions by analyzing large data sets. For example, a company might be able to improve its marketing by analyzing data on customer behavior. Additionally, big data can be used to improve operations and efficiency. For instance, a company might be able to use big data to streamline its production process.', \"Sweet explanation and so inspiring . A big thank you. The answer is C. As for future impact, it'd undoubtedly impact every facet of life as voluminous  data continues to be systematically produced as more and more aspects of our lives gets connected(for instance: from smart homes, smart cities, transport systems, smart hospitals, airplanes to wearables etc) all generate huge data streams. As a consequence, it'll fuel manufacturing of more high end or super computers to handle the required fast processing demands we are witnessing.  Keep up the good work Simplilearn. Applause from Sierra Leone.\", \"Hi everyone, we conducted a quiz contest in this video. The answer to the quiz is given below:\\nOption C: AI that develops emotions over time\\nExplanation:  Option C is the wrong statement. HDFS does not perform parallel processing as it is the work of MapReduce. HDFS is the storage layer of Hadoop that stores smaller chunks of data on multiple data nodes in a distributed manner. As we have asked for the incorrect statement, the answer is option C.  \\n\\nWe are pleased to announce the 3 lucky winners who got the right answer for our quiz:\\n1. chowdary b k c\\n2. Shweta Redkar\\n3. Archen Zhang\\nCongratulations to all the winners! They've won an Amazon voucher worth INR 500.\", 'Thanks for making this video. I love it.', 'Very attractive presentation and very clear explanation. Thank you.', 'Very informative video, i wish you could have explained about other frameworks as well, like Casandra & Spark. If you have already explained about them in any of your videos please share the link. \\n\\nThanks\\nGurvinder', \"Well, The impact of Big Data would clearly have a huge impact at the studies of The Universe. And it will help us to study the patterns of The Universe and it will lead us to create a theory of everything which includes almost all the information about The Universe. Well, to be more precise that's why I started studying Data Science at the first place.\", 'Extremely Helpful! Thanks!', 'Excellent.. Simple and best overview in 5 mins', 'Beautiful presentation, thanks for this ', 'Really Awesom Explanation Plus Great Visualisation Which Creates More Interest To Know About The Topic Great Work Thanks A Lot It Really Helped Me ️', \"Video was simple and Easy to understand. Thanks. It's was nice learning for me..\", 'I really enjoy this vedio,I get what i looking for and ur graphic presentation is very well easy to understand', 'I am studying just 11th and I am soo much satisfied with those explaination ️️️ Thnx @simplilearn', 'Thank you so much for this explanation love that, hope team having a good day, much love :8', 'Very informative, Thanks.', 'This video is good presentation and better understanding with simple standards', 'Answer C. HDFS is the storage level where smaller chunks of data get stored in a distributed manner', 'HDFS is the storage layer of Hadoop.option A is incorect.', 'Thank you for this amazing presentation', 'very helpful , lot of informations , simple explanation , great presentation \\nthank you very much', 'great quick explanation on HDFS storage layer with Hadoop putting copies on many computers, with MapReduce being the data processor', 'Thank you for such great explanation of big data and use of big data!\\nAnswer - \"C\"', 'I love the presentation.. really helpful', 'Finally got it Great work thank you ', 'Option A\\nThis is a straightforward and amazing explanation to big data.', \"Good job. Very informative video. I liked the narration and animation. I think answer C is the wrong statement. I'm planning to do my thesis on Big data and this video is inspiring. Thanks :)\", 'Very helpful video..\\nExplained quickly', 'Thank you for making it simple', 'Answer C. HDFS is the storage level where smaller chunks of data get stored in a distributed manner.', 'A \\nVery nice vedio I am also studying big data and analytics ', 'I love this video. Very Helpful', 'Option A is the answer...so informative video', 'Option C. Instead mapreduce is used for parallel processing. HDFS is used for storage purpose.', 'Thanks for the wonderful explanation about big data, and am waiting for the detailed lessons about the same \\n\\nI think the answer is C and i know the time may be over, but please assess the result and let me know, thanks and availing your replay', 'Very informative and well explained. Thanks!', 'Thanks for sharing this is very interesting', 'brilliant and informative.many big theories described like a pro.', 'The video was short & informative! But you should have included disadvantages of Big data.', 'Thank you for explaination.', 'very informative video, I joined the Data Analytics course from simplilearn.... The answer to your question is C, its not the job of hdfs', 'C. HDFS performs  parallel processing of data.', 'C: HDFS  performs parallel processing of data ', 'Beautiful presentation ️', 'Very nice explanation, for beginners It was very good, keep going on', 'HDFS is the storage layer of Hadoop\\nits option :A', \"OPTION C : AS IT's the job of MR for processing data in parallel\", 'Thankyou. Very helpful video', 'I wish you do a full tutorial of bigdata/hadoop', \"2:53 : I just don't understand how in Parallel Processing, the tasks can be run on different machines ? Which machines are we talking about?\", 'The answer to the question is C - HDFS performs parallel processing of data. (which is not correct)', 'Beautifully explained. Thank you so much. You just earned another subscriber.', 'Good video\\nThank you!', \"Answer is 'A' HDFS is the storage layer of Hadoop\", 'The answer is option C\\nAnd i think big data is going to play a vital role in the automotive industry especially as more car manufacturers are planning to launch self drive vehicles which will need and in turn generate lot of data', 'Very nice and easy to understand presentation', 'good presentation', \"Ans C is correct. Because it's under map technique which is after the HDFS\", 'Option A..HDFS  is a storage layer of Hadoop', 'Good information, thank.', \"Its C option is correct. \\nIt's a good video and an easy explanation. Thank you\", 'I need notes  for  New and old approaches of big data', 'Why there is no tech Tuesday today ??', 'Thanks ', 'Best explanation guys.....syper', 'Option A- HDFS is a storage layer of Hadoop', \"40EB of data gets generated every month by a single smart phone user? where is the data from? that's so superised\", 'All of the above. Nice little video here.', 'We can use big data to predict economy crashing earlier, we can also do weather forecasting based on future events, we can use costumers data to give them the right product or service', 'Option A: HDFS is the storage layer of Hadoop.', 'i want my amazon gift voucher, its been 3 years', \"I can't wait for January to come! I must become a bid data engineer!! Be ready to welcome me!!!!\", 'Very Good.I loved this video', 'The answer for the question is A:HDFSis the storage loyer of Hadoop', 'Got some more clarity :)', 'Such a good explanation', \"Best learning vedio's \", \"The Hadoop distributed file system breaks down the big chunk of a file into smaller ones which helps in easy handling of the big data files, can further be used for faster data processing on different machines using parallel processing. we can simply understand this with the example of torrent or DC++ or file sharing websites, where the bigger movie file is broken into smaller files and get downloaded in user's PC from different sources this avoids any data loss and faster downloading of files from multiple sources rather than using a single source. Therefore, the Question's answer is option D\", 'Thank you so much for such explaining such brief  Data in short time .\\n C. Is not correct , HDFS is used for strong purpose..', 'Quite informative', 'Hi Simplelearn,\\nI would go for C as the answer. Hope for more cool videos. Cheers', 'Wow good presentation ️️️', 'Good Job, Awesome video', 'Really interesting video!', 'Very helpfull', 'Very good presentation', 'Bravo!', 'Very informative video ', 'Great explanation', 'option A is the answer\\nWhat!! an idea u are using to attract more users at least for an offer they will watch your videos. I have a similar idea to attract users. I like your idea that is why I have subscribed your channel now. Have a good future.', 'The future of data storage will work along side with nature for if not our ecological systems and our energy sector may not by able to adjust to usage growth.', 'Good jog and very helpful information ', 'From Libya  ... its very useful', 'clear thx', 'Thank you, and the answer is \"All of the above\".', 'well taught', 'OMG... Blow my mind', 'Nice explanation with good animated \\nAnd answer is Option C', 'I get a lot of information from this video', 'Great video ! The answer to the above question is C.', 'All four options are correct answer..!!', 'Very informative video, thanks for sharing. The answer is A.', 'good video mate', 'I learned from your explanations', \"i C what you did there, best intro i've ever seen\", 'C. HDFS performs parallel processing.', 'C,  map reduce technique performs parallel processing of data.', \"2:15 had me lol. That's what I call a creative name\", 'How great', 'C is the answer. Very entertaining and informative video.', 'I\\'ve seen elsewhere that the 5th V is variability and not value...\"In addition to the increasing velocities and varieties of data, data flows are unpredictable – changing often and varying greatly. It’s challenging, but businesses need to know when something is trending in social media, and how to manage daily, seasonal and event-triggered peak data loads.\"', 'A great explanation,\\nCan you give me the ppt of the video? I have a presentation tomorrow and i wanna use it?', 'All answers are correct no wrong answer in this.', 'Thank you for the concept of Big data. It was very helpful for my upcoming exam. By the correct option is A.', 'Great video. Can I get the same power point presentation.', 'All statements are correct..', 'Nice video', '']\n"
     ]
    }
   ],
   "source": [
    "comments=[]\n",
    "c=driver.find_elements(By.XPATH,'//div[@class=\"style-scope ytd-expander\"]')\n",
    "for i in c[0:500]:\n",
    "    comment=i.text\n",
    "    comments.append(comment)\n",
    "print(len(comments))\n",
    "print(comments)"
   ]
  },
  {
   "cell_type": "code",
   "execution_count": 6,
   "id": "17d0d448-b194-4242-b367-f3ee4013dc93",
   "metadata": {},
   "outputs": [
    {
     "name": "stdout",
     "output_type": "stream",
     "text": [
      "0\n",
      "[]\n"
     ]
    }
   ],
   "source": [
    "upvote=[]\n",
    "u=driver.find_elements(By.XPATH,'//div[@role=\"cell\"][4]')\n",
    "for i in u:\n",
    "    upvotes=i.text\n",
    "    upvote.append(upvotes)\n",
    "print(len(upvote))\n",
    "print(upvote)"
   ]
  },
  {
   "cell_type": "code",
   "execution_count": null,
   "id": "e42d3d06-367b-49c3-b668-e7838174aa65",
   "metadata": {},
   "outputs": [],
   "source": [
    "time=[]\n",
    "t=driver.find_elements(By.XPATH,'//div[@role=\"cell\"][4]')\n",
    "for i in a:\n",
    "    ago=i.text\n",
    "   time.append(ago)\n",
    "print(len(time))\n",
    "print(time)"
   ]
  },
  {
   "cell_type": "code",
   "execution_count": null,
   "id": "b73294d9-de41-491f-90c9-3cc4a8e8a1dd",
   "metadata": {},
   "outputs": [],
   "source": [
    "import pandas as pd\n",
    "df=pd.DataFrame({'Ranks':ranks,'Name':name,'Net_worth':net_worth,'Age':age,'citizenship':citizenship,'source':source,'Industry':industry})\n",
    "df"
   ]
  },
  {
   "cell_type": "code",
   "execution_count": null,
   "id": "bf355762-1c11-434c-ba50-17091fadb5e8",
   "metadata": {},
   "outputs": [],
   "source": []
  },
  {
   "cell_type": "code",
   "execution_count": null,
   "id": "a232aa42-cad4-45fb-8e0e-8e563c7af03b",
   "metadata": {},
   "outputs": [],
   "source": []
  },
  {
   "cell_type": "code",
   "execution_count": null,
   "id": "9a822757-622b-4fc8-a6d6-91ebd4aaad42",
   "metadata": {},
   "outputs": [],
   "source": []
  },
  {
   "cell_type": "code",
   "execution_count": null,
   "id": "b25fc17b-a957-4127-bc32-6d9511d4554c",
   "metadata": {},
   "outputs": [],
   "source": [
    "#6. Write a program to scrap all the available details of best gaming laptops from digit.in.  "
   ]
  },
  {
   "cell_type": "code",
   "execution_count": 60,
   "id": "feb10a69-238e-47c9-b737-54ae50e11b7a",
   "metadata": {},
   "outputs": [],
   "source": [
    "driver=webdriver.Chrome()"
   ]
  },
  {
   "cell_type": "code",
   "execution_count": 61,
   "id": "75ebb8d8-0461-41bc-b253-c5406c1441da",
   "metadata": {},
   "outputs": [],
   "source": [
    "#fetching url\n",
    "driver.get('https://www.digit.in')"
   ]
  },
  {
   "cell_type": "code",
   "execution_count": 75,
   "id": "a13d93bf-7cce-4ebd-96a0-3b4d8f73a918",
   "metadata": {},
   "outputs": [],
   "source": [
    "search=driver.find_element(By.XPATH,\"/html/body/div[1]/header/div/div[2]/div/nav/ul/li[2]\")\n",
    "search.click()"
   ]
  },
  {
   "cell_type": "code",
   "execution_count": 76,
   "id": "d4a61d40-92ab-4922-a93e-8dae0a08e819",
   "metadata": {},
   "outputs": [],
   "source": [
    "search_button=driver.find_element(By.XPATH,'/html/body/div[1]/header/div/div[2]/div/nav/ul/li[2]/ul/li[3]/ul/li[4]/a')\n",
    "search_button.click()"
   ]
  },
  {
   "cell_type": "code",
   "execution_count": 77,
   "id": "b971259b-7f60-4481-b5b6-437777407297",
   "metadata": {},
   "outputs": [
    {
     "name": "stdout",
     "output_type": "stream",
     "text": [
      "4\n",
      "['Acer Nitro 5 AN515-45 NH.QBCSI.002 Ryzen 7-5800H (2021)', 'HP Victus 16-E0362ax | Ryzen 7-5800H | RTX 3060 | 16GB', 'Lenovo Legion 5 82JU010NIN | Ryzen 7-5800H | RTX 3060 | 16GB', 'DELL ALIENWARE M15 R5 GAMING Ryzen R7-5800H (2022)']\n"
     ]
    }
   ],
   "source": [
    "name=[]\n",
    "n=driver.find_elements(By.XPATH,'//div[@class=\"rh_gr_top_middle mb10 colored_rate_bar\"]/h3/a')\n",
    "for i in n:\n",
    "    name.append(i.text)\n",
    "print(len(name))\n",
    "print(name)"
   ]
  },
  {
   "cell_type": "code",
   "execution_count": 87,
   "id": "f6c02bd5-4260-4470-9fe7-345569baad9c",
   "metadata": {},
   "outputs": [
    {
     "name": "stdout",
     "output_type": "stream",
     "text": [
      "4\n",
      "['Windows 10 Home', 'Windows 11 Home', 'Windows 10 Home', 'Windows 11 Home']\n"
     ]
    }
   ],
   "source": [
    "os=[]\n",
    "o=driver.find_elements(By.XPATH,'//div[@class=\"rh_gr_middle_desc\"]/div[2]/div[1]/div/span[2]')\n",
    "for i in o:\n",
    "    os.append(i.text)\n",
    "print(len(os))\n",
    "print(os)"
   ]
  },
  {
   "cell_type": "code",
   "execution_count": 79,
   "id": "ea943349-5b2a-433d-8c95-4a8898a5dbd4",
   "metadata": {},
   "outputs": [
    {
     "name": "stdout",
     "output_type": "stream",
     "text": [
      "4\n",
      "['15.6', '16.1', '15.6', '15.6']\n"
     ]
    }
   ],
   "source": [
    "ds=[]\n",
    "d=driver.find_elements(By.XPATH,'//div[@class=\"rh_gr_middle_desc\"]/div[2]/div[2]//div/span[2]')\n",
    "for i in d:\n",
    "    ds.append(i.text)\n",
    "print(len(ds))\n",
    "print(ds)"
   ]
  },
  {
   "cell_type": "code",
   "execution_count": 91,
   "id": "a26b9455-3729-4979-bae5-030c1492e5c5",
   "metadata": {},
   "outputs": [
    {
     "name": "stdout",
     "output_type": "stream",
     "text": [
      "4\n",
      "['1920 x 1080', '2560 x 1440', '1920 x 1080', '1920 x 1080']\n"
     ]
    }
   ],
   "source": [
    "resolution=[]\n",
    "r=driver.find_elements(By.XPATH,'//div[@class=\"rh_gr_middle_desc\"]/div[2]/div[3]/div/span[2]')\n",
    "for i in r:\n",
    "    resolution.append(i.text)\n",
    "print(len(resolution))\n",
    "print(resolution)"
   ]
  },
  {
   "cell_type": "code",
   "execution_count": 82,
   "id": "f00068e4-a643-4dcc-99cf-227ae7103b8e",
   "metadata": {},
   "outputs": [
    {
     "name": "stdout",
     "output_type": "stream",
     "text": [
      "4\n",
      "['AMD Ryzen 7-5800H', '5th Gen AMD Ryzen 7-5800H', '5th Gen AMD Ryzen 7-5800H', 'AMD Ryzen R7-5800H']\n"
     ]
    }
   ],
   "source": [
    "processor=[]\n",
    "p=driver.find_elements(By.XPATH,'//div[@class=\"rh_gr_middle_desc\"]/div[2]/div[4]/div/span[2]')\n",
    "for i in p:\n",
    "    processor.append(i.text)\n",
    "print(len(processor))\n",
    "print(processor)"
   ]
  },
  {
   "cell_type": "code",
   "execution_count": 92,
   "id": "ace15488-3e05-4b6e-bb60-128675202d42",
   "metadata": {},
   "outputs": [
    {
     "name": "stdout",
     "output_type": "stream",
     "text": [
      "4 4 4 4 4\n"
     ]
    }
   ],
   "source": [
    "print(len(name),len(os),len(ds),len(resolution),len(processor))"
   ]
  },
  {
   "cell_type": "code",
   "execution_count": 93,
   "id": "8909aa51-16fb-4fd1-b881-af55054fe839",
   "metadata": {},
   "outputs": [
    {
     "data": {
      "text/html": [
       "<div>\n",
       "<style scoped>\n",
       "    .dataframe tbody tr th:only-of-type {\n",
       "        vertical-align: middle;\n",
       "    }\n",
       "\n",
       "    .dataframe tbody tr th {\n",
       "        vertical-align: top;\n",
       "    }\n",
       "\n",
       "    .dataframe thead th {\n",
       "        text-align: right;\n",
       "    }\n",
       "</style>\n",
       "<table border=\"1\" class=\"dataframe\">\n",
       "  <thead>\n",
       "    <tr style=\"text-align: right;\">\n",
       "      <th></th>\n",
       "      <th>Name</th>\n",
       "      <th>operating_system</th>\n",
       "      <th>Display size</th>\n",
       "      <th>Resolution</th>\n",
       "      <th>processor</th>\n",
       "    </tr>\n",
       "  </thead>\n",
       "  <tbody>\n",
       "    <tr>\n",
       "      <th>0</th>\n",
       "      <td>Acer Nitro 5 AN515-45 NH.QBCSI.002 Ryzen 7-580...</td>\n",
       "      <td>Windows 10 Home</td>\n",
       "      <td>15.6</td>\n",
       "      <td>1920 x 1080</td>\n",
       "      <td>AMD Ryzen 7-5800H</td>\n",
       "    </tr>\n",
       "    <tr>\n",
       "      <th>1</th>\n",
       "      <td>HP Victus 16-E0362ax | Ryzen 7-5800H | RTX 306...</td>\n",
       "      <td>Windows 11 Home</td>\n",
       "      <td>16.1</td>\n",
       "      <td>2560 x 1440</td>\n",
       "      <td>5th Gen AMD Ryzen 7-5800H</td>\n",
       "    </tr>\n",
       "    <tr>\n",
       "      <th>2</th>\n",
       "      <td>Lenovo Legion 5 82JU010NIN | Ryzen 7-5800H | R...</td>\n",
       "      <td>Windows 10 Home</td>\n",
       "      <td>15.6</td>\n",
       "      <td>1920 x 1080</td>\n",
       "      <td>5th Gen AMD Ryzen 7-5800H</td>\n",
       "    </tr>\n",
       "    <tr>\n",
       "      <th>3</th>\n",
       "      <td>DELL ALIENWARE M15 R5 GAMING Ryzen R7-5800H (2...</td>\n",
       "      <td>Windows 11 Home</td>\n",
       "      <td>15.6</td>\n",
       "      <td>1920 x 1080</td>\n",
       "      <td>AMD Ryzen R7-5800H</td>\n",
       "    </tr>\n",
       "  </tbody>\n",
       "</table>\n",
       "</div>"
      ],
      "text/plain": [
       "                                                Name operating_system  \\\n",
       "0  Acer Nitro 5 AN515-45 NH.QBCSI.002 Ryzen 7-580...  Windows 10 Home   \n",
       "1  HP Victus 16-E0362ax | Ryzen 7-5800H | RTX 306...  Windows 11 Home   \n",
       "2  Lenovo Legion 5 82JU010NIN | Ryzen 7-5800H | R...  Windows 10 Home   \n",
       "3  DELL ALIENWARE M15 R5 GAMING Ryzen R7-5800H (2...  Windows 11 Home   \n",
       "\n",
       "  Display size   Resolution                  processor  \n",
       "0         15.6  1920 x 1080          AMD Ryzen 7-5800H  \n",
       "1         16.1  2560 x 1440  5th Gen AMD Ryzen 7-5800H  \n",
       "2         15.6  1920 x 1080  5th Gen AMD Ryzen 7-5800H  \n",
       "3         15.6  1920 x 1080         AMD Ryzen R7-5800H  "
      ]
     },
     "execution_count": 93,
     "metadata": {},
     "output_type": "execute_result"
    }
   ],
   "source": [
    "import pandas as pd\n",
    "df=pd.DataFrame({'Name':name,'operating_system':os,'Display size':ds,'Resolution':resolution,'processor':processor})\n",
    "df"
   ]
  },
  {
   "cell_type": "code",
   "execution_count": null,
   "id": "f52573f6-efeb-4930-9e62-970929db294d",
   "metadata": {},
   "outputs": [],
   "source": []
  }
 ],
 "metadata": {
  "kernelspec": {
   "display_name": "Python 3 (ipykernel)",
   "language": "python",
   "name": "python3"
  },
  "language_info": {
   "codemirror_mode": {
    "name": "ipython",
    "version": 3
   },
   "file_extension": ".py",
   "mimetype": "text/x-python",
   "name": "python",
   "nbconvert_exporter": "python",
   "pygments_lexer": "ipython3",
   "version": "3.12.3"
  }
 },
 "nbformat": 4,
 "nbformat_minor": 5
}

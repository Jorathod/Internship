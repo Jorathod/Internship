{
 "cells": [
  {
   "cell_type": "code",
   "execution_count": null,
   "id": "a9b58cbf-55f6-4b2b-af7f-082c8e10a88f",
   "metadata": {},
   "outputs": [],
   "source": [
    "# factorila of a number"
   ]
  },
  {
   "cell_type": "code",
   "execution_count": 2,
   "id": "f0cbd05c-2cea-4667-9650-ef783cf2a5e9",
   "metadata": {},
   "outputs": [
    {
     "name": "stdin",
     "output_type": "stream",
     "text": [
      "Enter Number :  3\n"
     ]
    },
    {
     "name": "stdout",
     "output_type": "stream",
     "text": [
      "6\n"
     ]
    }
   ],
   "source": [
    "n=int(input(\"Enter Number : \"))\n",
    "for x in range(n-1,0,-1):\n",
    "      n=n*x\n",
    "print(n)"
   ]
  },
  {
   "cell_type": "code",
   "execution_count": null,
   "id": "8a43fdd2-f775-4f3d-9a4d-050d1bc6b10f",
   "metadata": {},
   "outputs": [],
   "source": [
    "#number is prime or composite"
   ]
  },
  {
   "cell_type": "code",
   "execution_count": 136,
   "id": "78d73df3-69da-4007-9ce7-98b57a97d928",
   "metadata": {},
   "outputs": [
    {
     "name": "stdin",
     "output_type": "stream",
     "text": [
      "Enter a number 100\n"
     ]
    },
    {
     "name": "stdout",
     "output_type": "stream",
     "text": [
      "Composite Number\n"
     ]
    }
   ],
   "source": [
    "num=int(input(\"Enter a number\"))\n",
    "for i in range(2,num):\n",
    "    if num % i== 0 :\n",
    "        print(\"Composite Number\")\n",
    "        break\n",
    "else:\n",
    "        print(\"prime number\")\n"
   ]
  },
  {
   "cell_type": "code",
   "execution_count": null,
   "id": "8f9279e8-44bd-41d7-afe1-ce978c3336f4",
   "metadata": {},
   "outputs": [],
   "source": [
    "# string is palindrome or not"
   ]
  },
  {
   "cell_type": "code",
   "execution_count": 59,
   "id": "6e9bf69e-274d-40c7-bc64-b3b132280e1e",
   "metadata": {},
   "outputs": [
    {
     "name": "stdin",
     "output_type": "stream",
     "text": [
      "Enter a string :  mom\n"
     ]
    },
    {
     "name": "stdout",
     "output_type": "stream",
     "text": [
      "mom is a palindrome\n"
     ]
    }
   ],
   "source": [
    "str=input(\"Enter a string : \")\n",
    "if str==str[::-1]:\n",
    "    print(str,\"is a palindrome\")\n",
    "else:\n",
    "    print(str,\"not a palindrome\")\n"
   ]
  },
  {
   "cell_type": "code",
   "execution_count": null,
   "id": "f2d3c127-9dfd-4644-af2e-d1e489b9659c",
   "metadata": {},
   "outputs": [],
   "source": [
    "# get third side of right angle triange from two given sides"
   ]
  },
  {
   "cell_type": "code",
   "execution_count": null,
   "id": "575439bb-e781-479d-9c62-32125c3f00b1",
   "metadata": {},
   "outputs": [],
   "source": []
  },
  {
   "cell_type": "code",
   "execution_count": null,
   "id": "e5b49610-3685-40c6-9620-6e72dcb7304f",
   "metadata": {},
   "outputs": [],
   "source": [
    "#print frequency of each of the character present in a given string"
   ]
  },
  {
   "cell_type": "code",
   "execution_count": 225,
   "id": "39974cb4-28ac-4d07-9e70-e06675d08a4e",
   "metadata": {},
   "outputs": [
    {
     "name": "stdin",
     "output_type": "stream",
     "text": [
      "Enter a string hello\n"
     ]
    },
    {
     "name": "stdout",
     "output_type": "stream",
     "text": [
      "h 1\n",
      "e 1\n",
      "l 2\n",
      "l 2\n",
      "o 1\n"
     ]
    }
   ],
   "source": [
    "s=input(\"Enter a string\")\n",
    "for a in s:\n",
    "    print(a,s.count(a))\n",
    "    \n"
   ]
  }
 ],
 "metadata": {
  "kernelspec": {
   "display_name": "Python 3 (ipykernel)",
   "language": "python",
   "name": "python3"
  },
  "language_info": {
   "codemirror_mode": {
    "name": "ipython",
    "version": 3
   },
   "file_extension": ".py",
   "mimetype": "text/x-python",
   "name": "python",
   "nbconvert_exporter": "python",
   "pygments_lexer": "ipython3",
   "version": "3.12.3"
  }
 },
 "nbformat": 4,
 "nbformat_minor": 5
}

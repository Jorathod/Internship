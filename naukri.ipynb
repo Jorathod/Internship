{
 "cells": [
  {
   "cell_type": "code",
   "execution_count": 2,
   "id": "776da179-2f50-443f-8793-85c725ae9cff",
   "metadata": {},
   "outputs": [],
   "source": [
    "import selenium\n",
    "import pandas as pd\n",
    "from selenium import webdriver\n",
    "import warnings\n",
    "warnings.filterwarnings('ignore')\n",
    "from selenium.webdriver.common.by import By\n",
    "import time"
   ]
  },
  {
   "cell_type": "code",
   "execution_count": 19,
   "id": "1ccecc73-8755-4529-b77d-8ce637e1f370",
   "metadata": {},
   "outputs": [],
   "source": [
    "driver=webdriver.Chrome()"
   ]
  },
  {
   "cell_type": "code",
   "execution_count": 20,
   "id": "dc982e76-7da5-4e58-8f37-6a904be1b079",
   "metadata": {},
   "outputs": [],
   "source": [
    "# opening shine page on automated chrome browser\n",
    "driver.get(\"https://www.naukri.com/\")"
   ]
  },
  {
   "cell_type": "code",
   "execution_count": 21,
   "id": "8d605a71-4baf-4e2e-ac98-4e4e7c8136be",
   "metadata": {},
   "outputs": [],
   "source": [
    "# entering designation and location as required in the question.\n",
    "designation=driver.find_element(By.CLASS_NAME,\"suggestor-input \")\n",
    "designation.send_keys('Data scientist')\n"
   ]
  },
  {
   "cell_type": "code",
   "execution_count": 23,
   "id": "6258c9fb-4abc-4f13-9e01-cef1c74dc31e",
   "metadata": {},
   "outputs": [],
   "source": [
    "location=driver.find_element(By.XPATH,\"/html/body/div/div[7]/div/div/div[5]/div/div/div/div[1]/div/input\")\n",
    "location.send_keys(\"Bangalore\")"
   ]
  },
  {
   "cell_type": "code",
   "execution_count": 24,
   "id": "0664de6a-fde5-489b-845f-3cc434f2e01e",
   "metadata": {},
   "outputs": [],
   "source": [
    "search=driver.find_element(By.CLASS_NAME,\"qsbSubmit\")\n",
    "search.click()"
   ]
  },
  {
   "cell_type": "code",
   "execution_count": null,
   "id": "3241b914-f00b-4b9b-87c9-9ef5e71afdb7",
   "metadata": {},
   "outputs": [],
   "source": [
    "Access Denied\n",
    "You don't have permission to access \"http://www.naukri.com/data-scientist-jobs-in-bangalore?\" on this server.\n",
    "Reference #18.99c35068.1717024906.99141ac\n",
    "\n",
    "https://errors.edgesuite.net/18.99c35068.1717024906.99141ac"
   ]
  }
 ],
 "metadata": {
  "kernelspec": {
   "display_name": "Python 3 (ipykernel)",
   "language": "python",
   "name": "python3"
  },
  "language_info": {
   "codemirror_mode": {
    "name": "ipython",
    "version": 3
   },
   "file_extension": ".py",
   "mimetype": "text/x-python",
   "name": "python",
   "nbconvert_exporter": "python",
   "pygments_lexer": "ipython3",
   "version": "3.12.3"
  }
 },
 "nbformat": 4,
 "nbformat_minor": 5
}

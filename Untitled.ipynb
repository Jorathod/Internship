{
 "cells": [
  {
   "cell_type": "code",
   "execution_count": 1,
   "id": "a2e12e22-c647-4cd9-864e-6a5113568320",
   "metadata": {},
   "outputs": [
    {
     "name": "stdout",
     "output_type": "stream",
     "text": [
      "Python:Exercises::PHP:exercises:\n"
     ]
    }
   ],
   "source": [
    "import re\n",
    "Sampletext= 'Python Exercises, PHP exercises.'\n",
    "print(re.sub(\"[ ,.]\",\":\", Sampletext))"
   ]
  },
  {
   "cell_type": "code",
   "execution_count": 2,
   "id": "37105a8c-7d61-4159-a1e7-e4c360884069",
   "metadata": {},
   "outputs": [
    {
     "name": "stdout",
     "output_type": "stream",
     "text": [
      "Python:Exercises::PHP:exercises:\n"
     ]
    }
   ],
   "source": [
    "import re\n",
    "Sampletext= 'Python Exercises, PHP exercises.'\n",
    "print(re.sub(\"(,|\\\\.| )\",\":\", Sampletext))"
   ]
  },
  {
   "cell_type": "code",
   "execution_count": 635,
   "id": "45f09e7d-e996-4f3d-a55b-dd41a6c2b72f",
   "metadata": {},
   "outputs": [
    {
     "name": "stdout",
     "output_type": "stream",
     "text": [
      "       SUMMARY\n",
      "0   helloworld\n",
      "1         test\n",
      "2  fourfivesix\n"
     ]
    }
   ],
   "source": [
    "import pandas as pd \n",
    "dict={'SUMMARY' :['hello, world!', 'XXXXX test', '123four, five:; six...']}\n",
    "df=pd.DataFrame(dict)\n",
    "df['SUMMARY']= df['SUMMARY'].str.replace('[^a-z]|[A-Z]+',\"\", regex=True)\n",
    "print(df)"
   ]
  },
  {
   "cell_type": "code",
   "execution_count": 61,
   "id": "a34a24ed-cdc6-46fe-a357-2721d9e2197a",
   "metadata": {},
   "outputs": [
    {
     "name": "stdout",
     "output_type": "stream",
     "text": [
      "['four', 'five', 'nine']\n"
     ]
    }
   ],
   "source": [
    "import re\n",
    "text = \" These are numbers  four  numbers between five to nine .\"\n",
    "pattern=r\"\\b\\w{4}\\b\"\n",
    "regexpattern=re.compile(pattern)\n",
    "result=regexpattern.findall(text)\n",
    "print(result)"
   ]
  },
  {
   "cell_type": "code",
   "execution_count": 62,
   "id": "cda020b1-ceb5-4765-aad5-b5c6eea25607",
   "metadata": {},
   "outputs": [
    {
     "name": "stdout",
     "output_type": "stream",
     "text": [
      "['These', 'are', 'four', 'five', 'nine']\n"
     ]
    }
   ],
   "source": [
    "import re\n",
    "text = \" These are numbers  four  numbers between five to nine .\"\n",
    "pattern=r\"\\b\\w{3,5}\\b\"\n",
    "regexpattern=re.compile(pattern)\n",
    "result=regexpattern.findall(text)\n",
    "print(result)"
   ]
  },
  {
   "cell_type": "code",
   "execution_count": 725,
   "id": "3722288a-add8-482a-bb10-6ea27b8365dc",
   "metadata": {},
   "outputs": [
    {
     "name": "stdout",
     "output_type": "stream",
     "text": [
      "    example   com     hr fliprobo   com     github   com     Hello  Data Science World     Data  Scientist   Scientist  \n"
     ]
    }
   ],
   "source": [
    "import re\n",
    "Sample_Text=': [\"example (.com)\", \"hr@fliprobo (.com)\", \"github (.com)\", \"Hello (Data Science World)\", \"Data (Scientist)\"]Scientist)]'\n",
    "pattern=re.compile(r'\\(|\\)|\\W')\n",
    "print(re.sub(pattern, \" \",Sample_Text))\n",
    "   "
   ]
  },
  {
   "cell_type": "code",
   "execution_count": 711,
   "id": "596e8f31-2062-4730-a403-08515637a0cb",
   "metadata": {},
   "outputs": [
    {
     "name": "stdout",
     "output_type": "stream",
     "text": [
      "[\"example  \", \"hr@fliprobo  \", \"github  \", \"Hello  \", \"Data  \"]\n"
     ]
    }
   ],
   "source": [
    "import re\n",
    "file=open('6.txt','r')\n",
    "text=file.read()\n",
    "pattern=re.compile(r'\\((.*?)\\)')\n",
    "result=re.sub(pattern, \" \",items)\n",
    "print(result)"
   ]
  },
  {
   "cell_type": "code",
   "execution_count": 674,
   "id": "9292f439-5147-4257-941f-383197e4ad18",
   "metadata": {},
   "outputs": [
    {
     "name": "stdout",
     "output_type": "stream",
     "text": [
      "['', 'Importance', '', 'Of', '', 'Regular', '', 'Expressions', '', 'In', '', 'Python', '']\n"
     ]
    }
   ],
   "source": [
    "import re\n",
    "string=\"ImportanceOfRegularExpressionsInPython\"\n",
    "pattern=\"([A-Z][^A-Z]+)\"\n",
    "result=re.split(pattern,string)\n",
    "print(result)"
   ]
  },
  {
   "cell_type": "code",
   "execution_count": 231,
   "id": "684a23d9-af83-41f0-827d-4c5c2faaeb09",
   "metadata": {},
   "outputs": [
    {
     "name": "stdout",
     "output_type": "stream",
     "text": [
      "RegularExpression 1IsAn 2ImportantTopic 3InPython\n"
     ]
    }
   ],
   "source": [
    "import re\n",
    "sample_text= \"RegularExpression1IsAn2ImportantTopic3InPython\"\n",
    "modified_text=re.sub(r'([a-z]+[A-Z]*)(\\d+)', r\"\\1 \\2\", sample_text)\n",
    "print(modified_text)\n",
    "                     \n"
   ]
  },
  {
   "cell_type": "code",
   "execution_count": 676,
   "id": "b444bb91-8f7f-47d9-aa3a-306ae8415cbd",
   "metadata": {},
   "outputs": [
    {
     "name": "stdout",
     "output_type": "stream",
     "text": [
      "RegularExpression1IsAn2ImportantTopic3InPython\n"
     ]
    }
   ],
   "source": [
    "import re\n",
    "Sample_Text=\"RegularExpression1IsAn2ImportantTopic3InPython\"\n",
    "pattern = r\"\\b(\\w)([A-Z]\\b|\\b(\\w)[0-9])\\b\"\n",
    "result = re.sub(pattern, r\" \\1 \\2 \", Sample_Text)\n",
    "print (result)"
   ]
  },
  {
   "cell_type": "code",
   "execution_count": null,
   "id": "37709ba2-f90f-40f9-ad9f-37e9fc8ebe1a",
   "metadata": {},
   "outputs": [],
   "source": [
    "import pandas as pd\n"
   ]
  },
  {
   "cell_type": "code",
   "execution_count": 289,
   "id": "439d64cb-1fb2-42aa-9121-6fc3cb624d6f",
   "metadata": {},
   "outputs": [
    {
     "name": "stdin",
     "output_type": "stream",
     "text": [
      "question data\n"
     ]
    },
    {
     "name": "stdout",
     "output_type": "stream",
     "text": [
      "matched\n"
     ]
    }
   ],
   "source": [
    "import re\n",
    "string=input('question')\n",
    "pattern='[^0-9A-Za-z_]+'\n",
    "match=re.search(pattern,string)\n",
    "if match:\n",
    "    print('no - match')\n",
    "else:\n",
    "    print('matched')"
   ]
  },
  {
   "cell_type": "code",
   "execution_count": 294,
   "id": "cf127d2a-9e33-4186-b9de-23fe67e0a7ac",
   "metadata": {},
   "outputs": [
    {
     "name": "stdin",
     "output_type": "stream",
     "text": [
      "class 25\n",
      " 25\n"
     ]
    },
    {
     "name": "stdout",
     "output_type": "stream",
     "text": [
      "match\n"
     ]
    }
   ],
   "source": [
    "import re\n",
    "string=input('class')\n",
    "number=input()\n",
    "match=re.search(string,number)\n",
    "if match:\n",
    "    print('match')\n",
    "else:\n",
    "    print( 'NO MATCH')"
   ]
  },
  {
   "cell_type": "code",
   "execution_count": 632,
   "id": "e8c687dc-dee0-4b75-93dd-d6ba8d04856f",
   "metadata": {},
   "outputs": [
    {
     "name": "stdout",
     "output_type": "stream",
     "text": [
      "201.60.20.3\n"
     ]
    }
   ],
   "source": [
    "import re\n",
    "ip_address=\"201.060.020.003\"\n",
    "new=re.sub('\\\\.[0]*', '.',ip_address)\n",
    "print(new)"
   ]
  },
  {
   "cell_type": "code",
   "execution_count": 630,
   "id": "03015db2-4b94-4902-aa9d-d303ee9c75af",
   "metadata": {},
   "outputs": [
    {
     "name": "stdout",
     "output_type": "stream",
     "text": [
      "['August 15th 1947']\n"
     ]
    }
   ],
   "source": [
    "import re\n",
    "file=open('14.txt','r')\n",
    "text=file.read()\n",
    "pattern= r\"\\b([A-Z][a-z]+ \\d{1,2}(?:st|nd|rd|th)? \\d{4})\\b\"\n",
    "dates=re.findall(pattern,text)\n",
    "print(dates)"
   ]
  },
  {
   "cell_type": "code",
   "execution_count": 342,
   "id": "a4fff8b7-5fe1-4056-893d-f99f36373b63",
   "metadata": {},
   "outputs": [
    {
     "name": "stdout",
     "output_type": "stream",
     "text": [
      "match found\n"
     ]
    }
   ],
   "source": [
    "import re\n",
    "text= 'The quick brown fox jumps over the lazy dog.'\n",
    "for msg in text:\n",
    "    search=re.search('fox|dog|horse',text)\n",
    "if match:\n",
    "    print('match found')\n",
    "else:\n",
    "    print('no match')\n",
    "\n"
   ]
  },
  {
   "cell_type": "code",
   "execution_count": 350,
   "id": "68f1bfe8-bf80-450d-8083-d9ded9008200",
   "metadata": {},
   "outputs": [
    {
     "name": "stdout",
     "output_type": "stream",
     "text": [
      "<re.Match object; span=(16, 19), match='fox'>\n"
     ]
    }
   ],
   "source": [
    "import re\n",
    "text= 'The quick brown fox jumps over the lazy dog.'\n",
    "search=re.search(\"fox\",text)\n",
    "print(search)"
   ]
  },
  {
   "cell_type": "code",
   "execution_count": 348,
   "id": "3ebe54d0-90fb-4366-9ff6-a70dbf2e3f6d",
   "metadata": {},
   "outputs": [
    {
     "name": "stdout",
     "output_type": "stream",
     "text": [
      "<re.Match object; span=(16, 19), match='fox'>\n"
     ]
    },
    {
     "data": {
      "text/plain": [
       "'fox'"
      ]
     },
     "execution_count": 348,
     "metadata": {},
     "output_type": "execute_result"
    }
   ],
   "source": [
    "import re\n",
    "text= 'The quick brown fox jumps over the lazy dog.'\n",
    "pattern='fox'\n",
    "superregex=re.compile(pattern)\n",
    "match_obj1=superregex.search(text)\n",
    "print(match_obj1)\n",
    "match_obj1.group()\n",
    "                      \n",
    "\n"
   ]
  },
  {
   "cell_type": "code",
   "execution_count": 18,
   "id": "86fe8de8-c709-4d60-99c0-9e685e8c9cc1",
   "metadata": {},
   "outputs": [
    {
     "name": "stdout",
     "output_type": "stream",
     "text": [
      "['exercises', 'exercises', 'exercises']\n"
     ]
    }
   ],
   "source": [
    "import re\n",
    "sampletext= \"Phython exercises,PHP exercises,C# exercises\"\n",
    "pattern=\"exercises\"\n",
    "matches=re.findall(pattern,sampletext)\n",
    "print(matches)"
   ]
  },
  {
   "cell_type": "markdown",
   "id": "59fd92d1-c740-4505-abd6-fa8e7a41ffd0",
   "metadata": {},
   "source": [
    "\n"
   ]
  },
  {
   "cell_type": "code",
   "execution_count": 21,
   "id": "7026a372-7c60-4bf9-a815-78c2344e6200",
   "metadata": {},
   "outputs": [
    {
     "name": "stdout",
     "output_type": "stream",
     "text": [
      "<re.Match object; span=(8, 17), match='exercises'>\n",
      "<re.Match object; span=(22, 31), match='exercises'>\n",
      "<re.Match object; span=(35, 44), match='exercises'>\n"
     ]
    }
   ],
   "source": [
    "import re\n",
    "sampletext= \"Phython exercises,PHP exercises,C# exercises\"\n",
    "result=re.finditer(\"exercises\",sampletext)\n",
    "for match_obj in result:\n",
    "    print(match_obj)"
   ]
  },
  {
   "cell_type": "code",
   "execution_count": 35,
   "id": "8c895a0a-e41a-450a-9ae7-1feae756609c",
   "metadata": {},
   "outputs": [
    {
     "name": "stdout",
     "output_type": "stream",
     "text": [
      "2024-04-27\n"
     ]
    }
   ],
   "source": [
    "import datetime\n",
    "todaydate=datetime.date.today().strftime(\"%d/%m/%Y\")\n",
    "print(todaydate)"
   ]
  },
  {
   "cell_type": "code",
   "execution_count": 393,
   "id": "877c5aef-28d2-4cd5-95f8-f3c2899a5f5e",
   "metadata": {},
   "outputs": [
    {
     "name": "stdout",
     "output_type": "stream",
     "text": [
      "['01.12', '145.8', '3.01', '27.25', '0.25']\n"
     ]
    }
   ],
   "source": [
    "import re\n",
    "numbers=\"01.12 0132.123 2.31875 145.8 3.01 27.25 0.25\"\n",
    "pattern=r\"\\d+\\.?\\b\\d{1,2}\\b\"\n",
    "regex=re.compile(pattern)\n",
    "result=re.findall(regex,numbers)\n",
    "print(result)"
   ]
  },
  {
   "cell_type": "code",
   "execution_count": 415,
   "id": "848ff135-c355-49a2-9376-a0db1a0c69d0",
   "metadata": {},
   "outputs": [
    {
     "name": "stdout",
     "output_type": "stream",
     "text": [
      "<re.Match object; span=(20, 39), match='43 Centuries and 91'>\n"
     ]
    }
   ],
   "source": [
    "import re\n",
    "text=\"Rohit Sharma scored 43 Centuries and 91 Half Centuries\"\n",
    "result=re.search(r\"(\\b\\d+\\b).+(\\b\\d+\\b)\",text)\n",
    "print(result)\n"
   ]
  },
  {
   "cell_type": "code",
   "execution_count": 428,
   "id": "67c2c7df-0d13-40ae-b954-e04c7ff044bc",
   "metadata": {},
   "outputs": [
    {
     "name": "stdout",
     "output_type": "stream",
     "text": [
      "950\n"
     ]
    }
   ],
   "source": [
    "import re\n",
    "Sample_Text= 'My marks in each semester are: 947, 896, 926, 524, 734, 950, 642'\n",
    "result=re.findall(r'\\d+',Sample_Text)\n",
    "print(max(result))"
   ]
  },
  {
   "cell_type": "code",
   "execution_count": 472,
   "id": "df52cfc2-072b-4f1c-ac1b-d935b3ce6894",
   "metadata": {},
   "outputs": [
    {
     "name": "stdout",
     "output_type": "stream",
     "text": [
      "Regular Expression Is An Important Topic In Python\n"
     ]
    }
   ],
   "source": [
    "import re\n",
    "Sample_Text=\"RegularExpressionIsAnImportantTopicInPython\"\n",
    "pattern = r\"(\\w)([A-Z])\"\n",
    "result = re.sub(pattern, r\"\\1 \\2\", Sample_Text)\n",
    "print (result)"
   ]
  },
  {
   "cell_type": "code",
   "execution_count": 478,
   "id": "e2d5dad9-4bfa-429a-8a27-dfe707a67544",
   "metadata": {},
   "outputs": [
    {
     "name": "stdout",
     "output_type": "stream",
     "text": [
      "['Rohit', 'Sharma', 'Centuries', 'Half']\n"
     ]
    }
   ],
   "source": [
    "import re\n",
    "sample_text=\"Rohit Sharma scored 43 Centuries and 91 Half centuries\"\n",
    "pattern=r'[A-Z][a-z]+'\n",
    "result=re.findall(pattern,text)\n",
    "print(result)"
   ]
  },
  {
   "cell_type": "code",
   "execution_count": 253,
   "id": "7548e7b9-8bdc-4be3-9d16-d1d8c4b7cc7b",
   "metadata": {},
   "outputs": [
    {
     "name": "stdout",
     "output_type": "stream",
     "text": [
      "Hello hello world \n"
     ]
    }
   ],
   "source": [
    "import re\n",
    "Sample_Text= \"Hello hello world world\"\n",
    "pattern=re.sub(r\"world$\", \"\",Sample_Text)\n",
    "print(pattern)\n"
   ]
  },
  {
   "cell_type": "code",
   "execution_count": null,
   "id": "241b1ba8-e7a0-4c56-beae-375fe0822239",
   "metadata": {},
   "outputs": [],
   "source": [
    "import re\n",
    "pattern=r'[a-zA-Z0-9]$,\n"
   ]
  },
  {
   "cell_type": "code",
   "execution_count": 502,
   "id": "61b70ddc-6b1b-40c2-aef8-618fe9782608",
   "metadata": {},
   "outputs": [
    {
     "name": "stdout",
     "output_type": "stream",
     "text": [
      "['#Doltiwal', '#xyzabc', '#Demonetization']\n"
     ]
    }
   ],
   "source": [
    "import re\n",
    "Sample_Text= \"\"\"RT @kapil_kausik: #Doltiwal I mean #xyzabc is \"hurt\" by #Demonetization as the same has rendered USELESS <ed><U+00A0><U+00BD><ed><U+00B1><U+0089> \"acquired funds\" No wo\"\"\"\n",
    "pattern=r'#\\w+'\n",
    "regex=re.compile(pattern)\n",
    "result=re.findall(regex,Sample_Text)\n",
    "print(result)"
   ]
  },
  {
   "cell_type": "code",
   "execution_count": 654,
   "id": "757ab195-0142-40da-ac89-0019b5f4eb4b",
   "metadata": {},
   "outputs": [
    {
     "name": "stdout",
     "output_type": "stream",
     "text": [
      "@Jags123456 Bharat band on 28??edABDedB882Those who  are protesting #demonetization  are all different party leaders\n"
     ]
    }
   ],
   "source": [
    "import re\n",
    "text=\"@Jags123456 Bharat band on 28??<ed><U+00A0><U+00BD><ed><U+00B8><U+0082>Those who  are protesting #demonetization  are all different party leaders\"\n",
    "pattern='[<U+00>$]'\n",
    "result=re.sub(pattern, \"\",text)\n",
    "print(result)"
   ]
  },
  {
   "cell_type": "code",
   "execution_count": 596,
   "id": "94e7bd7b-cf31-4e8b-b10e-f1e580b2e0e9",
   "metadata": {},
   "outputs": [
    {
     "name": "stdout",
     "output_type": "stream",
     "text": [
      "['12-09-1992', '15-12-1999']\n"
     ]
    }
   ],
   "source": [
    "import re\n",
    "file=open('twentynine.txt','r')\n",
    "text=file.read()\n",
    "pattern=r'\\d{2}-\\d{2}-\\d{4}'\n",
    "dates=re.findall(pattern,text)\n",
    "print(dates)\n"
   ]
  },
  {
   "cell_type": "code",
   "execution_count": 186,
   "id": "00ea425a-16ff-42ce-a014-c9c84d113aad",
   "metadata": {},
   "outputs": [
    {
     "name": "stdout",
     "output_type": "stream",
     "text": [
      " following example creates  ArrayList  a capacity   elements. 4 elements   added   ArrayList   ArrayList  trimmed accordingly.\n"
     ]
    }
   ],
   "source": [
    "import re\n",
    "text=\"The following example creates an ArrayList with a capacity of 50 elements. 4 elements are then added to the ArrayList and the ArrayList is trimmed accordingly.\"\n",
    "patter=re.compile(r\"\\b\\w{2,4}\\b\")\n",
    "modified_text=patter.sub( \"\",text)\n",
    "print(modified_text)\n"
   ]
  }
 ],
 "metadata": {
  "kernelspec": {
   "display_name": "Python 3 (ipykernel)",
   "language": "python",
   "name": "python3"
  },
  "language_info": {
   "codemirror_mode": {
    "name": "ipython",
    "version": 3
   },
   "file_extension": ".py",
   "mimetype": "text/x-python",
   "name": "python",
   "nbconvert_exporter": "python",
   "pygments_lexer": "ipython3",
   "version": "3.12.3"
  }
 },
 "nbformat": 4,
 "nbformat_minor": 5
}

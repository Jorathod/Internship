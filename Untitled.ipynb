{
 "cells": [
  {
   "cell_type": "code",
   "execution_count": 2,
   "id": "fa1b5572-706e-42ff-b0e7-b2a548750ee0",
   "metadata": {},
   "outputs": [],
   "source": [
    "#importing libraries\n",
    "import selenium\n",
    "import pandas as pd\n",
    "import time\n",
    "import warnings\n",
    "warnings.filterwarnings('ignore')\n",
    "from bs4 import BeautifulSoup\n",
    "#importingselenium webdriver\n",
    "from selenium import webdriver\n",
    "#importin Exceptions whihcneed to be handled\n",
    "from selenium.common.exceptions import StaleElementReferenceException,NoSuchElementException\n",
    "#importing requests\n",
    "import requests\n",
    "import re\n",
    "from selenium.webdriver.common.by import By"
   ]
  },
  {
   "cell_type": "code",
   "execution_count": 73,
   "id": "fb00cd5e-34a5-49b7-976d-8b54c143f39d",
   "metadata": {},
   "outputs": [],
   "source": [
    "driver=webdriver.Chrome()"
   ]
  },
  {
   "cell_type": "code",
   "execution_count": 74,
   "id": "84079399-9ba0-4d38-8f5c-d42b56048251",
   "metadata": {},
   "outputs": [],
   "source": [
    "#fetching url\n",
    "driver.get('https://en.wikipedia.org/wiki/List_of_most-viewed_YouTube_videos')"
   ]
  },
  {
   "cell_type": "code",
   "execution_count": 75,
   "id": "29a95571-cb99-4d84-831c-cf444b94edd6",
   "metadata": {},
   "outputs": [],
   "source": [
    "Ranks=[]\n",
    "Name=[]\n",
    "Artist=[]\n",
    "Views=[]\n",
    "Date=[]\n",
    "try:\n",
    "    name=driver.find_elements(By.XPATH,'//div[@class=\"mw-content-ltr mw-parser-output\"]/table/tbody/tr/td[1]')\n",
    "    for i in name:\n",
    "        Name.append(i.text)\n",
    "except NoSuchElementException:\n",
    "        Name.append(\"-\")\n",
    "try:\n",
    "    artist=driver.find_elements(By.XPATH,'//div[@class=\"mw-content-ltr mw-parser-output\"]/table/tbody/tr/td[2]')\n",
    "    for i in artist:\n",
    "        Artist.append(i.text)\n",
    "except NoSuchElementException:\n",
    "        Artist.append(\"-\")\n",
    "try:\n",
    "    views=driver.find_elements(By.XPATH,'//div[@class=\"mw-content-ltr mw-parser-output\"]/table/tbody/tr/td[3]')\n",
    "    for i in views:\n",
    "        Views.append(i.text)\n",
    "except NoSuchElementException:\n",
    "        Views.append(\"-\")\n",
    "try:\n",
    "    date=driver.find_elements(By.XPATH,'//div[@class=\"mw-content-ltr mw-parser-output\"]/table/tbody/tr/td[4]')\n",
    "    for i in date:\n",
    "        Date.append(i.text)\n",
    "except NoSuchElementException:\n",
    "        Date.append(\"-\")\n",
    "try:\n",
    "    rank=driver.find_elements(By.XPATH,'//div[@class=\"mw-content-ltr mw-parser-output\"]/table/tbody/tr/td[5]')\n",
    "    for i in rank:\n",
    "        Ranks.append(i.text)\n",
    "except NoSuchElementException:\n",
    "        Ranks.append(\"-\")\n",
    "\n",
    "        "
   ]
  },
  {
   "cell_type": "code",
   "execution_count": 76,
   "id": "9e82e741-2639-44ab-81d8-3c0ec771fce8",
   "metadata": {},
   "outputs": [
    {
     "name": "stdout",
     "output_type": "stream",
     "text": [
      "48 48 48 48 48\n",
      "['\"Baby Shark Dance\"[7]', '\"Despacito\"[10]', '\"Johny Johny Yes Papa\"[18]', '\"Bath Song\"[19]', '\"See You Again\"[20]', '\"Shape of You\"[25]', '\"Wheels on the Bus\"[28]', '\"Phonics Song with Two Words\"[29]', '\"Uptown Funk\"[30]', '\"Gangnam Style\"[31]', '\"Learning Colors – Colorful Eggs on a Farm\"[36]', '\"Dame Tu Cosita\"[37]', '\"Axel F\"[38]', '\"Masha and the Bear – Recipe for Disaster\"[39]', '\"Baa Baa Black Sheep\"[40]', '\"Lakdi Ki Kathi\"[41]', '\"Sugar\"[42]', '\"Counting Stars\"[43]', '\"Roar\"[44]', '\"Waka Waka (This Time for Africa)\"[45]', '\"Shree Hanuman Chalisa\"[46]', '\"Humpty the train on a fruits ride\"[47]', '\"Sorry\"[48]', '\"Thinking Out Loud\"[49]', '\"Perfect\"[50]', '\"Dark Horse\"[51]', '\"Let Her Go\"[52]', '\"Faded\"[53]', '\"Girls Like You\"[54]', '\"Lean On\"[55]', '\"Baby Shark Dance\"[7]', '\"Despacito\"[10]', '\"See You Again\"[20]', '\"Gangnam Style\"⁂[31]', '\"Baby\"*[69]', '\"Bad Romance\"[73]', '\"Charlie Bit My Finger\"[77]', '\"Evolution of Dance\"[79]', '\"Girlfriend\"‡[81][82]', '\"Evolution of Dance\"[79]', '\"Music Is My Hot Hot Sex\"‡[87]', '\"Evolution of Dance\"*[79]', '\"Pokémon Theme Music Video\"‡[92]', '\"Myspace – The Movie\"‡[97][98]', '\"Phony Photo Booth\"‡[101]', '\"The Chronic of Narnia Rap\"‡[107]', '\"Ronaldinho: Touch of Gold\"‡*[110]', '\"I/O Brush\"‡*[116]'] [\"Pinkfong Baby Shark - Kids' Songs & Stories\", 'Luis Fonsi', \"LooLoo Kids - Nursery Rhymes and Children's Songs\", 'Cocomelon - Nursery Rhymes', 'Wiz Khalifa', 'Ed Sheeran', 'Cocomelon - Nursery Rhymes', 'ChuChu TV Nursery Rhymes & Kids Songs', 'Mark Ronson', 'Psy', 'Miroshka TV', 'Ultra Records', 'Crazy Frog', 'Get Movies', 'Cocomelon - Nursery Rhymes', 'Jingle Toons', 'Maroon 5', 'OneRepublic', 'Katy Perry', 'Shakira', 'T-Series Bhakti Sagar', 'Kiddiestv Hindi - Nursery Rhymes & Kids Songs', 'Justin Bieber', 'Ed Sheeran', 'Ed Sheeran', 'Katy Perry', 'Passenger', 'Alan Walker', 'Maroon 5', 'Major Lazer Official', \"Pinkfong Baby Shark - Kids' Songs & Stories\", 'Luis Fonsi', 'Wiz Khalifa', 'Psy', 'Justin Bieber', 'Lady Gaga', 'HDCYT', 'Judson Laipply', 'RCA Records', 'Judson Laipply', 'CLARUSBARTEL72', 'Judson Laipply', 'Smosh', 'eggtea', 'mugenized', 'youtubedude', 'Nikesoccer', 'larfus'] ['14.66', '8.47', '6.92', '6.75', '6.30', '6.28', '6.22', '5.84', '5.25', '5.20', '5.13', '4.68', '4.60', '4.60', '4.10', '4.07', '4.06', '4.03', '4.01', '3.96', '3.90', '3.84', '3.82', '3.78', '3.75', '3.74', '3.68', '3.65', '3.62', '3.62', '7,046,700,000', '2,993,700,000', '2,894,000,000', '803,700,000', '245,400,000', '178,400,000', '128,900,000', '118,900,000', '92,600,000', '78,400,000', '76,600,000', '10,600,000', '4,300,000', '2,700,000', '3,400,000', '2,300,000', '255,000', '247,000'] ['June 17, 2016', 'January 12, 2017', 'October 8, 2016', 'May 2, 2018', 'April 6, 2015', 'January 30, 2017', 'May 24, 2018', 'March 6, 2014', 'November 19, 2014', 'July 15, 2012', 'February 27, 2018', 'April 5, 2018', 'June 16, 2009', 'January 31, 2012', 'June 25, 2018', 'June 14, 2018', 'January 14, 2015', 'May 31, 2013', 'September 5, 2013', 'June 4, 2010', 'May 10, 2011', 'January 26, 2018', 'October 22, 2015', 'October 7, 2014', 'November 9, 2017', 'February 20, 2014', 'July 25, 2012', 'December 3, 2015', 'May 31, 2018', 'March 22, 2015', 'June 17, 2016', 'January 12, 2017', 'April 6, 2015', 'July 15, 2012', 'February 19, 2010', 'November 24, 2009', 'May 22, 2007', 'April 6, 2006', 'February 27, 2007', 'April 6, 2006', 'April 9, 2007', 'April 6, 2006', 'November 28, 2005', 'January 31, 2006', 'December 1, 2005', 'December 18, 2005', 'October 21, 2005', 'October 5, 2005'] ['[A]', '[B]', '', '', '[C]', '[D]', '', '', '', '[E]', '', '', '', '', '', '', '', '', '', '', '', '', '', '', '', '', '', '', '', '', 'November 2, 2020', 'August 4, 2017', 'July 10, 2017', 'November 24, 2012', 'July 16, 2010', 'April 14, 2010', 'October 25, 2009', 'May 2, 2009', 'July 17, 2008', 'March 15, 2008', 'March 1, 2008', 'May 19, 2006', 'March 12, 2006', 'February 18, 2006', 'January 21, 2006', 'January 9, 2006', 'October 31, 2005', 'October 29, 2005']\n"
     ]
    }
   ],
   "source": [
    "\n",
    "print((Name),(Artist),(Views),(Date),(Ranks))"
   ]
  },
  {
   "cell_type": "code",
   "execution_count": 78,
   "id": "e3a52a6d-9ba5-4e47-84ed-f7065bc2aa2c",
   "metadata": {},
   "outputs": [
    {
     "name": "stdout",
     "output_type": "stream",
     "text": [
      "48 48 48 48 48\n"
     ]
    }
   ],
   "source": [
    "print(len(Name),len(Artist),len(Views),len(Date),len(Ranks))"
   ]
  },
  {
   "cell_type": "code",
   "execution_count": 79,
   "id": "e9dcdf53-121d-4cf7-959d-9f017d95bd1a",
   "metadata": {},
   "outputs": [
    {
     "name": "stdout",
     "output_type": "stream",
     "text": [
      "                                                 Name  \\\n",
      "0   <selenium.webdriver.remote.webelement.WebEleme...   \n",
      "1   <selenium.webdriver.remote.webelement.WebEleme...   \n",
      "2   <selenium.webdriver.remote.webelement.WebEleme...   \n",
      "3   <selenium.webdriver.remote.webelement.WebEleme...   \n",
      "4   <selenium.webdriver.remote.webelement.WebEleme...   \n",
      "5   <selenium.webdriver.remote.webelement.WebEleme...   \n",
      "6   <selenium.webdriver.remote.webelement.WebEleme...   \n",
      "7   <selenium.webdriver.remote.webelement.WebEleme...   \n",
      "8   <selenium.webdriver.remote.webelement.WebEleme...   \n",
      "9   <selenium.webdriver.remote.webelement.WebEleme...   \n",
      "10  <selenium.webdriver.remote.webelement.WebEleme...   \n",
      "11  <selenium.webdriver.remote.webelement.WebEleme...   \n",
      "12  <selenium.webdriver.remote.webelement.WebEleme...   \n",
      "13  <selenium.webdriver.remote.webelement.WebEleme...   \n",
      "14  <selenium.webdriver.remote.webelement.WebEleme...   \n",
      "15  <selenium.webdriver.remote.webelement.WebEleme...   \n",
      "16  <selenium.webdriver.remote.webelement.WebEleme...   \n",
      "17  <selenium.webdriver.remote.webelement.WebEleme...   \n",
      "18  <selenium.webdriver.remote.webelement.WebEleme...   \n",
      "19  <selenium.webdriver.remote.webelement.WebEleme...   \n",
      "20  <selenium.webdriver.remote.webelement.WebEleme...   \n",
      "21  <selenium.webdriver.remote.webelement.WebEleme...   \n",
      "22  <selenium.webdriver.remote.webelement.WebEleme...   \n",
      "23  <selenium.webdriver.remote.webelement.WebEleme...   \n",
      "24  <selenium.webdriver.remote.webelement.WebEleme...   \n",
      "25  <selenium.webdriver.remote.webelement.WebEleme...   \n",
      "26  <selenium.webdriver.remote.webelement.WebEleme...   \n",
      "27  <selenium.webdriver.remote.webelement.WebEleme...   \n",
      "28  <selenium.webdriver.remote.webelement.WebEleme...   \n",
      "29  <selenium.webdriver.remote.webelement.WebEleme...   \n",
      "30  <selenium.webdriver.remote.webelement.WebEleme...   \n",
      "31  <selenium.webdriver.remote.webelement.WebEleme...   \n",
      "32  <selenium.webdriver.remote.webelement.WebEleme...   \n",
      "33  <selenium.webdriver.remote.webelement.WebEleme...   \n",
      "34  <selenium.webdriver.remote.webelement.WebEleme...   \n",
      "35  <selenium.webdriver.remote.webelement.WebEleme...   \n",
      "36  <selenium.webdriver.remote.webelement.WebEleme...   \n",
      "37  <selenium.webdriver.remote.webelement.WebEleme...   \n",
      "38  <selenium.webdriver.remote.webelement.WebEleme...   \n",
      "39  <selenium.webdriver.remote.webelement.WebEleme...   \n",
      "40  <selenium.webdriver.remote.webelement.WebEleme...   \n",
      "41  <selenium.webdriver.remote.webelement.WebEleme...   \n",
      "42  <selenium.webdriver.remote.webelement.WebEleme...   \n",
      "43  <selenium.webdriver.remote.webelement.WebEleme...   \n",
      "44  <selenium.webdriver.remote.webelement.WebEleme...   \n",
      "45  <selenium.webdriver.remote.webelement.WebEleme...   \n",
      "46  <selenium.webdriver.remote.webelement.WebEleme...   \n",
      "47  <selenium.webdriver.remote.webelement.WebEleme...   \n",
      "\n",
      "                                               Artist          Views  \\\n",
      "0         Pinkfong Baby Shark - Kids' Songs & Stories          14.66   \n",
      "1                                          Luis Fonsi           8.47   \n",
      "2   LooLoo Kids - Nursery Rhymes and Children's Songs           6.92   \n",
      "3                          Cocomelon - Nursery Rhymes           6.75   \n",
      "4                                         Wiz Khalifa           6.30   \n",
      "5                                          Ed Sheeran           6.28   \n",
      "6                          Cocomelon - Nursery Rhymes           6.22   \n",
      "7               ChuChu TV Nursery Rhymes & Kids Songs           5.84   \n",
      "8                                         Mark Ronson           5.25   \n",
      "9                                                 Psy           5.20   \n",
      "10                                        Miroshka TV           5.13   \n",
      "11                                      Ultra Records           4.68   \n",
      "12                                         Crazy Frog           4.60   \n",
      "13                                         Get Movies           4.60   \n",
      "14                         Cocomelon - Nursery Rhymes           4.10   \n",
      "15                                       Jingle Toons           4.07   \n",
      "16                                           Maroon 5           4.06   \n",
      "17                                        OneRepublic           4.03   \n",
      "18                                         Katy Perry           4.01   \n",
      "19                                            Shakira           3.96   \n",
      "20                              T-Series Bhakti Sagar           3.90   \n",
      "21      Kiddiestv Hindi - Nursery Rhymes & Kids Songs           3.84   \n",
      "22                                      Justin Bieber           3.82   \n",
      "23                                         Ed Sheeran           3.78   \n",
      "24                                         Ed Sheeran           3.75   \n",
      "25                                         Katy Perry           3.74   \n",
      "26                                          Passenger           3.68   \n",
      "27                                        Alan Walker           3.65   \n",
      "28                                           Maroon 5           3.62   \n",
      "29                               Major Lazer Official           3.62   \n",
      "30        Pinkfong Baby Shark - Kids' Songs & Stories  7,046,700,000   \n",
      "31                                         Luis Fonsi  2,993,700,000   \n",
      "32                                        Wiz Khalifa  2,894,000,000   \n",
      "33                                                Psy    803,700,000   \n",
      "34                                      Justin Bieber    245,400,000   \n",
      "35                                          Lady Gaga    178,400,000   \n",
      "36                                              HDCYT    128,900,000   \n",
      "37                                     Judson Laipply    118,900,000   \n",
      "38                                        RCA Records     92,600,000   \n",
      "39                                     Judson Laipply     78,400,000   \n",
      "40                                     CLARUSBARTEL72     76,600,000   \n",
      "41                                     Judson Laipply     10,600,000   \n",
      "42                                              Smosh      4,300,000   \n",
      "43                                             eggtea      2,700,000   \n",
      "44                                          mugenized      3,400,000   \n",
      "45                                        youtubedude      2,300,000   \n",
      "46                                         Nikesoccer        255,000   \n",
      "47                                             larfus        247,000   \n",
      "\n",
      "                 Date              Ranks  \n",
      "0       June 17, 2016                [A]  \n",
      "1    January 12, 2017                [B]  \n",
      "2     October 8, 2016                     \n",
      "3         May 2, 2018                     \n",
      "4       April 6, 2015                [C]  \n",
      "5    January 30, 2017                [D]  \n",
      "6        May 24, 2018                     \n",
      "7       March 6, 2014                     \n",
      "8   November 19, 2014                     \n",
      "9       July 15, 2012                [E]  \n",
      "10  February 27, 2018                     \n",
      "11      April 5, 2018                     \n",
      "12      June 16, 2009                     \n",
      "13   January 31, 2012                     \n",
      "14      June 25, 2018                     \n",
      "15      June 14, 2018                     \n",
      "16   January 14, 2015                     \n",
      "17       May 31, 2013                     \n",
      "18  September 5, 2013                     \n",
      "19       June 4, 2010                     \n",
      "20       May 10, 2011                     \n",
      "21   January 26, 2018                     \n",
      "22   October 22, 2015                     \n",
      "23    October 7, 2014                     \n",
      "24   November 9, 2017                     \n",
      "25  February 20, 2014                     \n",
      "26      July 25, 2012                     \n",
      "27   December 3, 2015                     \n",
      "28       May 31, 2018                     \n",
      "29     March 22, 2015                     \n",
      "30      June 17, 2016   November 2, 2020  \n",
      "31   January 12, 2017     August 4, 2017  \n",
      "32      April 6, 2015      July 10, 2017  \n",
      "33      July 15, 2012  November 24, 2012  \n",
      "34  February 19, 2010      July 16, 2010  \n",
      "35  November 24, 2009     April 14, 2010  \n",
      "36       May 22, 2007   October 25, 2009  \n",
      "37      April 6, 2006        May 2, 2009  \n",
      "38  February 27, 2007      July 17, 2008  \n",
      "39      April 6, 2006     March 15, 2008  \n",
      "40      April 9, 2007      March 1, 2008  \n",
      "41      April 6, 2006       May 19, 2006  \n",
      "42  November 28, 2005     March 12, 2006  \n",
      "43   January 31, 2006  February 18, 2006  \n",
      "44   December 1, 2005   January 21, 2006  \n",
      "45  December 18, 2005    January 9, 2006  \n",
      "46   October 21, 2005   October 31, 2005  \n",
      "47    October 5, 2005   October 29, 2005  \n"
     ]
    }
   ],
   "source": [
    "import pandas as pd\n",
    "df=pd.DataFrame({'Name':name,'Artist':Artist,'Views':Views,'Date':Date,'Ranks':Ranks})\n",
    "print(df)"
   ]
  },
  {
   "cell_type": "code",
   "execution_count": 163,
   "id": "fb385def-632b-496d-ae79-777244f91985",
   "metadata": {},
   "outputs": [],
   "source": [
    "#2\n",
    "driver=webdriver.Chrome()"
   ]
  },
  {
   "cell_type": "code",
   "execution_count": 164,
   "id": "4c920338-dc35-4805-ab4b-2b0b3ef28c30",
   "metadata": {},
   "outputs": [],
   "source": [
    "driver.get(\"https://www.bcci.tv/\")"
   ]
  },
  {
   "cell_type": "code",
   "execution_count": 165,
   "id": "ac0f26da-6587-479b-b6e9-872cf8c1f2b7",
   "metadata": {},
   "outputs": [],
   "source": [
    "a=driver.find_element(By.XPATH,'/html/body/div[4]/div/div/button')\n",
    "a.click()"
   ]
  },
  {
   "cell_type": "code",
   "execution_count": 166,
   "id": "9bb2f0a2-5123-4e73-98d9-e81dbd9316e5",
   "metadata": {},
   "outputs": [],
   "source": [
    "ac=driver.find_element(By.XPATH,'/html/body/div[9]/div/button')\n",
    "ac.click()"
   ]
  },
  {
   "cell_type": "code",
   "execution_count": 211,
   "id": "60f303e0-5319-406a-b839-0bc1d35bccd6",
   "metadata": {},
   "outputs": [],
   "source": [
    "fix_result=driver.find_element(By.XPATH,'/html/body/header/div[3]/div[2]/ul/div[1]/a[2]')\n",
    "fix_result.click()"
   ]
  },
  {
   "cell_type": "code",
   "execution_count": 212,
   "id": "a9db5294-f1a1-4cc5-af17-effd7aeded46",
   "metadata": {},
   "outputs": [],
   "source": [
    "Series=[]\n",
    "Place=[]\n",
    "Date=[]\n",
    "Time=[]\n",
    "\n",
    "start = 0\n",
    "end = 7\n",
    "\n",
    "\n",
    "for p in range(start,end):\n",
    "    try:\n",
    "        series=driver.find_elements(By.XPATH,'//h5[@class=\"match-tournament-name ng-binding\"]')\n",
    "        for i in series:\n",
    "            Series.append(i.text)\n",
    "    except NoSuchElementException:\n",
    "        Series.append(\"-\")\n",
    "    try:\n",
    "        place=driver.find_elements(By.XPATH,'//div[@class=\"match-venue ng-scope\"]')\n",
    "        for i in place:\n",
    "            Place.append(i.text)\n",
    "    except NoSuchElementException:\n",
    "        Place.append(\"-\")\n",
    "    try:\n",
    "        date=driver.find_elements(By.XPATH,'//div[@class=\"match-dates ng-binding\"]')\n",
    "        for i in date:\n",
    "            Date.append(i.text)\n",
    "    except NoSuchElementException :\n",
    "        Date.append(\"-\")\n",
    "    try:\n",
    "        time=driver.find_elements(By.XPATH,'//div[@class=\"match-time no-margin ng-binding\"]')\n",
    "        for i in time:\n",
    "            Time.append(i.text)\n",
    "    except NoSuchElementException :\n",
    "        Time.append(\"-\")\n",
    "\n",
    "matches=driver.find_element(By.XPATH,'//div[@class=\"col-lg-12 col-md-12 col-sm-12\"]/button')\n",
    "matches.click()"
   ]
  },
  {
   "cell_type": "code",
   "execution_count": 213,
   "id": "9f59bb38-2e02-4736-a7d8-f97659e98fe3",
   "metadata": {},
   "outputs": [
    {
     "name": "stdout",
     "output_type": "stream",
     "text": [
      "35 35 35 35\n",
      "['South Africa Women Tour Of India T20 Series 2024', 'India Tour Of Zimbabwe T20I Series 2024', 'India Tour Of Zimbabwe T20I Series 2024', 'South Africa Women Tour Of India T20 Series 2024', 'South Africa Women Tour Of India T20 Series 2024', 'South Africa Women Tour Of India T20 Series 2024', 'India Tour Of Zimbabwe T20I Series 2024', 'India Tour Of Zimbabwe T20I Series 2024', 'South Africa Women Tour Of India T20 Series 2024', 'South Africa Women Tour Of India T20 Series 2024', 'South Africa Women Tour Of India T20 Series 2024', 'India Tour Of Zimbabwe T20I Series 2024', 'India Tour Of Zimbabwe T20I Series 2024', 'South Africa Women Tour Of India T20 Series 2024', 'South Africa Women Tour Of India T20 Series 2024', 'South Africa Women Tour Of India T20 Series 2024', 'India Tour Of Zimbabwe T20I Series 2024', 'India Tour Of Zimbabwe T20I Series 2024', 'South Africa Women Tour Of India T20 Series 2024', 'South Africa Women Tour Of India T20 Series 2024', 'South Africa Women Tour Of India T20 Series 2024', 'India Tour Of Zimbabwe T20I Series 2024', 'India Tour Of Zimbabwe T20I Series 2024', 'South Africa Women Tour Of India T20 Series 2024', 'South Africa Women Tour Of India T20 Series 2024', 'South Africa Women Tour Of India T20 Series 2024', 'India Tour Of Zimbabwe T20I Series 2024', 'India Tour Of Zimbabwe T20I Series 2024', 'South Africa Women Tour Of India T20 Series 2024', 'South Africa Women Tour Of India T20 Series 2024', 'South Africa Women Tour Of India T20 Series 2024', 'India Tour Of Zimbabwe T20I Series 2024', 'India Tour Of Zimbabwe T20I Series 2024', 'South Africa Women Tour Of India T20 Series 2024', 'South Africa Women Tour Of India T20 Series 2024'] ['MA Chidambaram Stadium, Chennai', 'Harare Sports Club, Harare', 'Harare Sports Club, Harare', 'MA Chidambaram Stadium, Chennai', 'MA Chidambaram Stadium, Chennai', 'MA Chidambaram Stadium, Chennai', 'Harare Sports Club, Harare', 'Harare Sports Club, Harare', 'MA Chidambaram Stadium, Chennai', 'MA Chidambaram Stadium, Chennai', 'MA Chidambaram Stadium, Chennai', 'Harare Sports Club, Harare', 'Harare Sports Club, Harare', 'MA Chidambaram Stadium, Chennai', 'MA Chidambaram Stadium, Chennai', 'MA Chidambaram Stadium, Chennai', 'Harare Sports Club, Harare', 'Harare Sports Club, Harare', 'MA Chidambaram Stadium, Chennai', 'MA Chidambaram Stadium, Chennai', 'MA Chidambaram Stadium, Chennai', 'Harare Sports Club, Harare', 'Harare Sports Club, Harare', 'MA Chidambaram Stadium, Chennai', 'MA Chidambaram Stadium, Chennai', 'MA Chidambaram Stadium, Chennai', 'Harare Sports Club, Harare', 'Harare Sports Club, Harare', 'MA Chidambaram Stadium, Chennai', 'MA Chidambaram Stadium, Chennai', 'MA Chidambaram Stadium, Chennai', 'Harare Sports Club, Harare', 'Harare Sports Club, Harare', 'MA Chidambaram Stadium, Chennai', 'MA Chidambaram Stadium, Chennai'] ['5 Jul', '6 Jul', '7 Jul', '7 Jul', '9 Jul', '5 Jul', '6 Jul', '7 Jul', '7 Jul', '9 Jul', '5 Jul', '6 Jul', '7 Jul', '7 Jul', '9 Jul', '5 Jul', '6 Jul', '7 Jul', '7 Jul', '9 Jul', '5 Jul', '6 Jul', '7 Jul', '7 Jul', '9 Jul', '5 Jul', '6 Jul', '7 Jul', '7 Jul', '9 Jul', '5 Jul', '6 Jul', '7 Jul', '7 Jul', '9 Jul'] ['14:30 BST', '12:00 BST', '12:00 BST', '14:30 BST', '14:30 BST', '14:30 BST', '12:00 BST', '12:00 BST', '14:30 BST', '14:30 BST', '14:30 BST', '12:00 BST', '12:00 BST', '14:30 BST', '14:30 BST', '14:30 BST', '12:00 BST', '12:00 BST', '14:30 BST', '14:30 BST', '14:30 BST', '12:00 BST', '12:00 BST', '14:30 BST', '14:30 BST', '14:30 BST', '12:00 BST', '12:00 BST', '14:30 BST', '14:30 BST', '14:30 BST', '12:00 BST', '12:00 BST', '14:30 BST', '14:30 BST']\n"
     ]
    }
   ],
   "source": [
    "print(len(Series),len(Place),len(Date),len(Time))\n",
    "print((Series),(Place),(Date),(Time))\n",
    "      "
   ]
  },
  {
   "cell_type": "code",
   "execution_count": 215,
   "id": "dbf39477-68cf-4c50-b4fc-a12691bfa4e6",
   "metadata": {},
   "outputs": [
    {
     "name": "stdout",
     "output_type": "stream",
     "text": [
      "                                              Series  \\\n",
      "0   South Africa Women Tour Of India T20 Series 2024   \n",
      "1            India Tour Of Zimbabwe T20I Series 2024   \n",
      "2            India Tour Of Zimbabwe T20I Series 2024   \n",
      "3   South Africa Women Tour Of India T20 Series 2024   \n",
      "4   South Africa Women Tour Of India T20 Series 2024   \n",
      "5   South Africa Women Tour Of India T20 Series 2024   \n",
      "6            India Tour Of Zimbabwe T20I Series 2024   \n",
      "7            India Tour Of Zimbabwe T20I Series 2024   \n",
      "8   South Africa Women Tour Of India T20 Series 2024   \n",
      "9   South Africa Women Tour Of India T20 Series 2024   \n",
      "10  South Africa Women Tour Of India T20 Series 2024   \n",
      "11           India Tour Of Zimbabwe T20I Series 2024   \n",
      "12           India Tour Of Zimbabwe T20I Series 2024   \n",
      "13  South Africa Women Tour Of India T20 Series 2024   \n",
      "14  South Africa Women Tour Of India T20 Series 2024   \n",
      "15  South Africa Women Tour Of India T20 Series 2024   \n",
      "16           India Tour Of Zimbabwe T20I Series 2024   \n",
      "17           India Tour Of Zimbabwe T20I Series 2024   \n",
      "18  South Africa Women Tour Of India T20 Series 2024   \n",
      "19  South Africa Women Tour Of India T20 Series 2024   \n",
      "20  South Africa Women Tour Of India T20 Series 2024   \n",
      "21           India Tour Of Zimbabwe T20I Series 2024   \n",
      "22           India Tour Of Zimbabwe T20I Series 2024   \n",
      "23  South Africa Women Tour Of India T20 Series 2024   \n",
      "24  South Africa Women Tour Of India T20 Series 2024   \n",
      "25  South Africa Women Tour Of India T20 Series 2024   \n",
      "26           India Tour Of Zimbabwe T20I Series 2024   \n",
      "27           India Tour Of Zimbabwe T20I Series 2024   \n",
      "28  South Africa Women Tour Of India T20 Series 2024   \n",
      "29  South Africa Women Tour Of India T20 Series 2024   \n",
      "30  South Africa Women Tour Of India T20 Series 2024   \n",
      "31           India Tour Of Zimbabwe T20I Series 2024   \n",
      "32           India Tour Of Zimbabwe T20I Series 2024   \n",
      "33  South Africa Women Tour Of India T20 Series 2024   \n",
      "34  South Africa Women Tour Of India T20 Series 2024   \n",
      "\n",
      "                              Place       Time   Date  \n",
      "0   MA Chidambaram Stadium, Chennai  14:30 BST  5 Jul  \n",
      "1        Harare Sports Club, Harare  12:00 BST  6 Jul  \n",
      "2        Harare Sports Club, Harare  12:00 BST  7 Jul  \n",
      "3   MA Chidambaram Stadium, Chennai  14:30 BST  7 Jul  \n",
      "4   MA Chidambaram Stadium, Chennai  14:30 BST  9 Jul  \n",
      "5   MA Chidambaram Stadium, Chennai  14:30 BST  5 Jul  \n",
      "6        Harare Sports Club, Harare  12:00 BST  6 Jul  \n",
      "7        Harare Sports Club, Harare  12:00 BST  7 Jul  \n",
      "8   MA Chidambaram Stadium, Chennai  14:30 BST  7 Jul  \n",
      "9   MA Chidambaram Stadium, Chennai  14:30 BST  9 Jul  \n",
      "10  MA Chidambaram Stadium, Chennai  14:30 BST  5 Jul  \n",
      "11       Harare Sports Club, Harare  12:00 BST  6 Jul  \n",
      "12       Harare Sports Club, Harare  12:00 BST  7 Jul  \n",
      "13  MA Chidambaram Stadium, Chennai  14:30 BST  7 Jul  \n",
      "14  MA Chidambaram Stadium, Chennai  14:30 BST  9 Jul  \n",
      "15  MA Chidambaram Stadium, Chennai  14:30 BST  5 Jul  \n",
      "16       Harare Sports Club, Harare  12:00 BST  6 Jul  \n",
      "17       Harare Sports Club, Harare  12:00 BST  7 Jul  \n",
      "18  MA Chidambaram Stadium, Chennai  14:30 BST  7 Jul  \n",
      "19  MA Chidambaram Stadium, Chennai  14:30 BST  9 Jul  \n",
      "20  MA Chidambaram Stadium, Chennai  14:30 BST  5 Jul  \n",
      "21       Harare Sports Club, Harare  12:00 BST  6 Jul  \n",
      "22       Harare Sports Club, Harare  12:00 BST  7 Jul  \n",
      "23  MA Chidambaram Stadium, Chennai  14:30 BST  7 Jul  \n",
      "24  MA Chidambaram Stadium, Chennai  14:30 BST  9 Jul  \n",
      "25  MA Chidambaram Stadium, Chennai  14:30 BST  5 Jul  \n",
      "26       Harare Sports Club, Harare  12:00 BST  6 Jul  \n",
      "27       Harare Sports Club, Harare  12:00 BST  7 Jul  \n",
      "28  MA Chidambaram Stadium, Chennai  14:30 BST  7 Jul  \n",
      "29  MA Chidambaram Stadium, Chennai  14:30 BST  9 Jul  \n",
      "30  MA Chidambaram Stadium, Chennai  14:30 BST  5 Jul  \n",
      "31       Harare Sports Club, Harare  12:00 BST  6 Jul  \n",
      "32       Harare Sports Club, Harare  12:00 BST  7 Jul  \n",
      "33  MA Chidambaram Stadium, Chennai  14:30 BST  7 Jul  \n",
      "34  MA Chidambaram Stadium, Chennai  14:30 BST  9 Jul  \n"
     ]
    }
   ],
   "source": [
    "import pandas as pd\n",
    "df=pd.DataFrame({'Series':Series,'Place':Place,'Time':Time,'Date':Date})\n",
    "print(df)"
   ]
  },
  {
   "cell_type": "code",
   "execution_count": 16,
   "id": "c843a32d-69c3-4bc9-b76c-d76db636ff6b",
   "metadata": {},
   "outputs": [],
   "source": [
    "#3\n",
    "driver=webdriver.Chrome()"
   ]
  },
  {
   "cell_type": "code",
   "execution_count": 17,
   "id": "7095f579-479f-43bb-8488-973774cc0925",
   "metadata": {},
   "outputs": [],
   "source": [
    "driver.get('https://statisticstimes.com/')"
   ]
  },
  {
   "cell_type": "code",
   "execution_count": 18,
   "id": "61315045-6cef-4766-ae04-fcfaa5eaa2d0",
   "metadata": {},
   "outputs": [],
   "source": [
    "economy=driver.find_element(By.XPATH,'/html/body/div[2]/div[1]/div[2]/div[2]/button')\n",
    "economy.click()"
   ]
  },
  {
   "cell_type": "code",
   "execution_count": 19,
   "id": "81d43d00-d72f-4b79-bd26-f8cd8c7c55c4",
   "metadata": {},
   "outputs": [],
   "source": [
    "India=driver.find_element(By.XPATH,'/html/body/div[2]/div[1]/div[2]/div[2]/div/a[3]')\n",
    "India.click()\n"
   ]
  },
  {
   "cell_type": "code",
   "execution_count": 7,
   "id": "9ae148cd-dce8-4b4e-828b-456c4ddca968",
   "metadata": {},
   "outputs": [],
   "source": [
    "gdp=driver.find_element(By.XPATH,'/html/body/div[2]/div[2]/div[2]/ul/li[1]/a')\n",
    "gdp.click()"
   ]
  },
  {
   "cell_type": "code",
   "execution_count": 11,
   "id": "5bcca6d4-9332-4467-a058-7e9338573cc2",
   "metadata": {},
   "outputs": [
    {
     "name": "stdout",
     "output_type": "stream",
     "text": [
      "33 33 33\n",
      "['1', '2', '3', '4', '5', '6', '7', '8', '9', '10', '11', '12', '13', '14', '15', '16', '17', '18', '19', '20', '21', '22', '23', '24', '25', '26', '27', '28', '29', '30', '31', '32', '33'] ['414.928', '276.522', '264.080', '263.747', '257.484', '177.456', '159.334', '153.324', '150.084', '145.913', '124.764', '117.660', '116.001', '88.497', '86.817', '82.397', '54.930', '54.806', '47.909', '35.664', '25.813', '22.984', '11.250', '8.351', '6.154', '5.849', '5.178', '5.014', '4.885', '4.643', '4.144', '3.715', '1.385'] ['Maharashtra', 'Tamil Nadu', 'Karnataka', 'Uttar Pradesh', 'Gujarat', 'West Bengal', 'Rajasthan', 'Andhra Pradesh', 'Telangana', 'Madhya Pradesh', 'Kerala', 'Delhi', 'Haryana', 'Odisha', 'Bihar', 'Punjab', 'Assam', 'Chhattisgarh', 'Jharkhand', 'Uttarakhand', 'Jammu & Kashmir', 'Himachal Pradesh', 'Goa', 'Tripura', 'Chandigarh', 'Puducherry', 'Meghalaya', 'Sikkim', 'Manipur', 'Arunachal Pradesh', 'Nagaland', 'Mizoram', 'Andaman & Nicobar Islands']\n"
     ]
    }
   ],
   "source": [
    "Ranks=[]\n",
    "State=[]   \n",
    "GSDP18_19=[]\n",
    "GSDP19_20=[] \n",
    "Share=[]  \n",
    "GDP=[]\n",
    "try:\n",
    "    rank=driver.find_elements(By.XPATH,'//div[@class=\"fwidth\"][3]/div/div/table/tbody/tr/td[1]')\n",
    "    for i in rank:\n",
    "        Ranks.append(i.text)\n",
    "except NoSuchElementException :\n",
    "    Ranks.append(\"_\")\n",
    "try:\n",
    "    state=driver.find_elements(By.XPATH,'//div[@class=\"fwidth\"][3]/div/div/table/tbody/tr/td[2]')\n",
    "    for i in state:\n",
    "        State.append(i.text)\n",
    "except NoSuchElementException :\n",
    "    State.append(\"_\")\n",
    "\n",
    "    \n",
    "try:\n",
    "    g=driver.find_elements(By.XPATH,'//div[@class=\"fwidth\"][3]/div/div/table/tbody/tr/td[7]')\n",
    "    for i in g:\n",
    "        GDP.append(i.text)\n",
    "except NoSuchElementException :\n",
    "    GDP.append(\"_\")\n",
    "\n",
    "print(len(Ranks),len(GDP),len(State),)\n",
    "print((Ranks),(GDP),(State))"
   ]
  },
  {
   "cell_type": "code",
   "execution_count": 20,
   "id": "a323ab7a-32ca-44df-956e-f5c400031ed1",
   "metadata": {},
   "outputs": [
    {
     "name": "stdout",
     "output_type": "stream",
     "text": [
      "['https://statisticstimes.com/economy/india/andaman-and-nicobar-islands-economy.php', 'https://statisticstimes.com/economy/india/andhra-pradesh-economy.php', 'https://statisticstimes.com/economy/india/arunachal-pradesh-economy.php', 'https://statisticstimes.com/economy/india/assam-economy.php', 'https://statisticstimes.com/economy/india/bihar-economy.php', 'https://statisticstimes.com/economy/india/chandigarh-economy.php', 'https://statisticstimes.com/economy/india/chhattisgarh-economy.php', 'https://statisticstimes.com/economy/india/delhi-economy.php', 'https://statisticstimes.com/economy/india/goa-economy.php', 'https://statisticstimes.com/economy/india/gujarat-economy.php', 'https://statisticstimes.com/economy/india/haryana-economy.php', 'https://statisticstimes.com/economy/india/himachal-pradesh-economy.php', 'https://statisticstimes.com/economy/india/jammu-kashmir-economy.php', 'https://statisticstimes.com/economy/india/jharkhand-economy.php', 'https://statisticstimes.com/economy/india/karnataka-economy.php', 'https://statisticstimes.com/economy/india/kerala-economy.php', 'https://statisticstimes.com/economy/india/madhya-pradesh-economy.php', 'https://statisticstimes.com/economy/india/maharashtra-economy.php', 'https://statisticstimes.com/economy/india/manipur-economy.php', 'https://statisticstimes.com/economy/india/meghalaya-economy.php', 'https://statisticstimes.com/economy/india/mizoram-economy.php', 'https://statisticstimes.com/economy/india/nagaland-economy.php', 'https://statisticstimes.com/economy/india/odisha-economy.php', 'https://statisticstimes.com/economy/india/puducherry-economy.php', 'https://statisticstimes.com/economy/india/punjab-economy.php', 'https://statisticstimes.com/economy/india/rajasthan-economy.php', 'https://statisticstimes.com/economy/india/sikkim-economy.php', 'https://statisticstimes.com/economy/india/tamil-nadu-economy.php', 'https://statisticstimes.com/economy/india/telangana-economy.php', 'https://statisticstimes.com/economy/india/tripura-economy.php', 'https://statisticstimes.com/economy/india/uttar-pradesh-economy.php', 'https://statisticstimes.com/economy/india/uttarakhand-economy.php', 'https://statisticstimes.com/economy/india/west-bengal-economy.php']\n"
     ]
    }
   ],
   "source": [
    "urls=[]\n",
    "url=driver.find_elements(By.XPATH,'//ul[@style=\"list-style-type:none;margin-left:50px;\"]/li/a')\n",
    "for i in url:\n",
    "        urls.append(i.get_attribute(\"href\"))\n",
    "print(urls)"
   ]
  },
  {
   "cell_type": "code",
   "execution_count": 24,
   "id": "55d7b973-d116-48bb-af46-551fe04e3796",
   "metadata": {},
   "outputs": [],
   "source": [
    "for url in urls:\n",
    "    driver.get(url)\n",
    "    time.sleep(2)\n",
    "    try:\n",
    "        gsdp=driver.find_elements(By.XPATH,'//table[@id=\"table_id1\"]/tbody/tr[1]/td[2]')\n",
    "        \n",
    "        for i in gsdp:\n",
    "            GSDP18_19.append(i.text)\n",
    "    except NoSuchElementException :\n",
    "        GSDP18_19.append(\"_\")\n",
    "    try:\n",
    "        gsdp19=driver.find_elements(By.XPATH,'//table[@id=\"table_id\"]/tbody/tr[1]/td[8]')\n",
    "        for i in gsdp19:\n",
    "            GSDP19_20.append(i.text)\n",
    "    except NoSuchElementException :\n",
    "        GSDP19_20.append(\"_\")\n",
    "    try:\n",
    "        share=driver.find_elements(By.XPATH,'//table[@id=\"table_id\"]/tbody/tr[1]/td[6]')\n",
    "        for i in share:\n",
    "            Share.append(i.text)\n",
    "    except NoSuchElementException :\n",
    "        Share.append(\"_\")"
   ]
  },
  {
   "cell_type": "code",
   "execution_count": 25,
   "id": "d37c17dd-4bf5-4690-9fb6-79f0f2f81099",
   "metadata": {},
   "outputs": [
    {
     "name": "stdout",
     "output_type": "stream",
     "text": [
      "353 353 353\n",
      "['223,377', '199,747', '173,956', '154,277', '140,791', '130,128', '115,131', '104,125', '248,258', '216,998', '184,189', '179,280', '170,180', '154,021', '134,878', '119,777', '104,679', '93,121', '83,001', '76,997', '181,187', '163,845', '151,946', '135,285', '127,474', '124,977', '102,608', '89,241', '79,536', '101,852', '92,533', '83,871', '75,870', '68,868', '59,895', '55,098', '49,254', '45,538', '50,735', '44,652', '40,065', '37,052', '33,218', '31,143', '29,250', '26,459', '23,525', '359,030', '318,120', '283,205', '259,071', '238,533', '226,273', '199,902', '176,225', '117,615', '117,700', '110,291', '99,451', '94,083', '81,907', '81,735', '77,686', '67,749', '61,305', '391,060', '414,710', '382,052', '351,663', '326,005', '297,410', '272,739', '249,922', '225,117', '202,139', '523,392', '520,030', '476,370', '454,169', '415,411', '365,805', '319,827', '241,890', '258,442', '289,191', '243,761', '225,039', '199,492', '179,427', '160,284', '145,485', '129,158', '117,397', '101,075', '263,649', '272,884', '249,932', '231,909', '204,727', '183,249', '163,958', '151,871', '133,876', '116,409', '212,262', '222,214', '205,278', '191,554', '174,250', '159,841', '146,488', '134,934', '118,960', '105,376', '124,299', '121,971', '114,096', '100,808', '91,490', '87,171', '74,301', '73,321', '67,838', '61,853', '87,126', '79,937', '73,628', '65,405', '58,138', '62,497', '54,813', '51,620', '45,318', '331,980', '292,542', '243,906', '243,727', '225,585', '204,934', '186,072', '162,797', '143,902', '129,986', '111,891', '98,568', '245,323', '227,979', '203,399', '184,979', '164,555', '150,823', '137,516', '122,471', '108,666', '109,181', '113,079', '99,543', '90,101', '81,767', '69,109', '62,285', '57,965', '51,073', '43,022', '229,489', '212,006', '195,195', '184,113', '166,352', '152,157', '142,634', '127,605', '113,191', '92,427', '82,796', '78,282', '66,051', '61,907', '58,722', '53,564', '46,490', '44,651', '95,666', '102,672', '96,015', '86,458', '82,128', '76,788', '72,564', '73,166', '71,266', '66,305', '221,384', '187,919', '164,975', '141,613', '127,008', '115,363', '88,839', '73,714', '65,351', '147,309', '132,472', '114,953', '103,486', '94,002', '89,545', '81,672', '70,187', '61,162', '115,923', '119,075', '111,892', '101,550', '90,855', '76,351', '73,421', '69,644', '61,810', '54,854', '242,841', '224,273', '216,511', '204,658', '189,173', '164,652', '163,817', '145,083', '132,735', '172,340', '179,163', '171,556', '155,781', '143,123', '132,467', '122,166', '115,764', '105,129', '95,379', '121,468', '128,318', '119,956', '109,270', '102,422', '93,093', '85,315', '77,464', '70,385', '62,907', '487,201', '435,199', '397,115', '319,740', '281,784', '243,389', '221,083', '198,675', '181,843', '308,020', '270,629', '234,486', '229,658', '215,785', '194,834', '174,054', '158,073', '145,094', '131,893', '117,204', '103,743', '250,692', '249,820', '222,320', '198,001', '175,530', '155,626', '137,586', '124,057', '111,430', '100,732', '147,502', '139,540', '125,459', '111,151', '101,383', '93,250', '77,434', '67,814', '58,016', '51,998', '96,193', '84,138', '71,184', '74,679', '70,565', '65,203', '59,249', '53,113', '47,954', '45,250', '40,180', '35,917', '226,145', '213,535', '200,706', '180,170', '165,588', '152,805', '142,901', '127,804', '113,466', '126,121', '110,728', '100,014', '90,426', '83,456', '75,916', '72,272', '63,786', '56,693', '223,377', '248,258', '181,187', '101,852', '50,735', '359,030', '117,615', '391,060', '523,392', '243,761', '263,649', '212,262', '124,299', '87,126', '331,980', '245,323', '109,181', '229,489', '92,427', '95,666', '221,384', '147,309', '115,923', '242,841', '172,340', '121,468', '487,201', '308,020', '250,692', '147,502', '96,193', '226,145', '126,121'] ['6,140', '5,750', '5,091', '4,483', '4,151', '3,811', '3,558', '3,404', '655,662', '613,759', '550,004', '571,096', '558,862', '526,626', '477,566', '446,997', '397,064', '360,239', '341,335', '339,996', '15,875', '14,523', '13,944', '13,366', '12,889', '13,082', '11,225', '10,399', '10,229', '216,602', '207,193', '195,262', '179,632', '167,629', '146,425', '138,725', '132,518', '129,354', '377,276', '340,512', '312,366', '293,418', '269,200', '255,739', '246,915', '236,933', '228,497', '27,565', '25,855', '23,842', '22,058', '20,353', '19,813', '18,305', '16,930', '215,126', '220,624', '209,211', '194,073', '187,541', '168,879', '165,354', '163,494', '148,760', '142,273', '518,518', '550,303', '512,957', '487,631', '461,592', '431,730', '387,639', '356,528', '334,193', '314,650', '58,248', '56,810', '51,878', '47,077', '46,371', '41,929', '36,042', '27,971', '32,453', '38,009', '1,118,967', '1,036,859', '946,511', '843,930', '774,775', '705,629', '641,489', '596,659', '532,809', '475,757', '504,035', '465,331', '439,523', '412,055', '372,700', '333,359', '314,931', '289,756', '271,152', '98,213', '104,157', '99,491', '93,525', '88,112', '80,563', '74,553', '69,398', '64,519', '60,536', '98,677', '98,029', '95,208', '87,551', '82,636', '80,602', '67,154', '70,536', '67,316', '67,274', '218,232', '204,423', '191,573', '176,363', '158,231', '170,568', '150,609', '149,526', '137,383', '1,190,851', '1,103,468', '992,945', '1,031,792', '977,301', '915,642', '851,394', '749,952', '671,284', '639,940', '586,552', '554,952', '521,070', '504,457', '473,182', '443,615', '411,150', '382,134', '364,707', '348,616', '328,021', '491,001', '515,923', '469,289', '442,002', '419,465', '370,716', '339,247', '322,598', '306,853', '282,371', '1,873,801', '1,789,838', '1,686,980', '1,596,121', '1,452,513', '1,345,341', '1,267,551', '1,189,711', '1,126,595', '18,549', '17,228', '16,870', '15,201', '14,635', '13,615', '12,519', '11,515', '11,501', '21,638', '23,564', '21,779', '19,964', '19,295', '18,330', '17,893', '18,397', '18,323', '18,028', '17,797', '15,372', '13,779', '12,029', '10,948', '9,960', '7,831', '6,836', '6,404', '16,458', '15,645', '14,178', '13,488', '12,600', '12,406', '11,923', '11,163', '10,554', '328,231', '344,437', '327,805', '316,644', '293,348', '253,192', '235,931', '233,122', '216,301', '204,226', '22,210', '20,439', '20,015', '18,287', '17,025', '16,055', '17,239', '15,507', '15,160', '345,192', '368,677', '353,747', '334,889', '315,783', '294,895', '278,485', '267,515', '251,813', '239,227', '570,143', '610,292', '580,594', '554,429', '529,650', '501,922', '465,408', '434,292', '409,802', '395,331', '17,060', '15,972', '15,204', '13,416', '12,484', '11,437', '10,590', '9,970', '9,742', '1,279,878', '1,182,919', '1,094,122', '1,099,402', '1,071,602', '1,000,308', '922,084', '862,437', '791,915', '750,416', '709,343', '674,478', '575,247', '582,108', '538,250', '498,145', '455,731', '416,892', '372,897', '349,593', '334,205', '325,139', '38,092', '35,980', '32,830', '29,505', '27,204', '23,745', '24,407', '20,623', '18,857', '17,419', '1,104,608', '1,018,963', '918,412', '980,279', '949,184', '922,458', '888,453', '792,049', '729,686', '707,469', '673,552', '645,132', '178,259', '171,364', '162,291', '150,303', '136,144', '125,702', '117,778', '109,529', '101,960', '713,376', '662,432', '623,787', '584,911', '546,988', '515,702', '503,952', '492,901', '473,205', '6,140', '655,662', '15,875', '216,602', '377,276', '27,565', '215,126', '518,518', '58,248', '1,118,967', '475,757', '98,213', '98,677', '218,232', '1,190,851', '521,070', '491,001', '1,873,801', '18,549', '21,638', '17,797', '16,458', '328,231', '22,210', '345,192', '570,143', '17,060', '1,279,878', '575,247', '38,092', '1,104,608', '178,259', '713,376'] ['6,913', '6,464', '5,752', '5,092', '4,742', '4,488', '4,156', '3,978', '754,338', '704,889', '633,720', '649,810', '626,614', '594,737', '540,212', '498,606', '444,564', '407,115', '380,629', '379,402', '17,852', '16,297', '15,595', '14,864', '14,240', '14,383', '12,338', '11,299', '11,063', '248,796', '234,048', '219,919', '202,081', '191,109', '165,212', '154,525', '147,342', '143,175', '414,977', '375,651', '343,789', '322,951', '296,488', '279,482', '269,650', '256,851', '247,144', '31,192', '29,046', '26,917', '24,932', '22,870', '22,105', '20,285', '18,768', '245,452', '249,875', '237,695', '220,136', '213,705', '190,584', '185,813', '182,579', '165,977', '158,074', '578,971', '613,843', '573,135', '542,015', '511,765', '475,623', '428,355', '392,908', '366,628', '343,798', '64,982', '63,408', '57,787', '52,653', '51,249', '46,091', '40,116', '31,568', '35,850', '42,367', '1,274,229', '1,186,379', '1,086,570', '981,342', '894,465', '811,428', '734,284', '682,650', '615,606', '528,070', '559,705', '517,080', '487,274', '456,709', '413,405', '370,535', '347,507', '320,912', '297,539', '114,729', '122,284', '116,570', '109,406', '103,055', '96,274', '89,060', '82,847', '77,384', '72,720', '119,675', '119,043', '116,352', '106,584', '100,199', '97,001', '82,372', '85,115', '80,767', '78,256', '240,036', '224,986', '210,587', '193,174', '174,881', '186,534', '165,816', '163,250', '150,918', '1,326,319', '1,229,713', '1,108,212', '1,148,806', '1,085,101', '1,019,708', '941,774', '831,330', '748,429', '704,466', '643,033', '606,010', '568,636', '549,673', '516,190', '485,302', '451,210', '419,956', '402,781', '387,693', '364,048', '560,845', '580,406', '529,425', '497,148', '470,669', '418,736', '383,944', '365,134', '351,683', '315,562', '2,134,065', '2,033,314', '1,914,621', '1,807,046', '1,654,284', '1,543,165', '1,451,615', '1,357,942', '1,280,369', '20,673', '19,300', '18,751', '17,082', '16,424', '15,245', '14,115', '12,993', '12,915', '24,469', '26,695', '24,682', '22,564', '21,730', '20,638', '20,140', '20,726', '20,354', '19,918', '18,797', '16,478', '14,761', '13,595', '12,324', '11,261', '9,038', '7,778', '7,259', '19,327', '18,174', '16,440', '15,650', '14,660', '14,399', '13,793', '12,868', '12,177', '376,998', '396,499', '376,877', '361,568', '337,348', '292,229', '270,665', '265,892', '243,363', '230,987', '25,009', '22,919', '22,308', '20,478', '19,060', '18,207', '19,170', '17,310', '16,818', '386,215', '412,668', '396,866', '375,238', '352,721', '330,052', '312,125', '299,450', '280,823', '266,628', '643,222', '688,714', '655,713', '624,831', '596,746', '563,340', '521,509', '486,230', '454,564', '434,837', '20,017', '18,722', '17,673', '15,397', '14,370', '13,071', '12,114', '11,421', '11,165', '1,453,321', '1,343,287', '1,244,650', '1,243,836', '1,204,667', '1,125,793', '1,036,762', '967,562', '893,915', '851,976', '791,824', '751,486', '643,459', '651,655', '603,897', '557,410', '507,946', '464,542', '416,332', '389,957', '370,113', '359,434', '42,985', '40,583', '36,963', '33,093', '30,538', '26,787', '26,965', '22,819', '20,873', '19,208', '1,304,678', '1,204,660', '1,093,168', '1,141,630', '1,097,353', '1,056,399', '1,011,500', '908,241', '834,432', '802,070', '758,205', '724,050', '199,718', '191,484', '181,043', '167,703', '152,699', '141,278', '134,182', '123,710', '115,328', '793,223', '739,525', '694,980', '653,416', '609,545', '574,364', '558,497', '542,191', '520,485', '6,913', '754,338', '17,852', '248,796', '414,977', '31,192', '245,452', '578,971', '64,982', '1,274,229', '528,070', '114,729', '119,675', '240,036', '1,326,319', '568,636', '560,845', '2,134,065', '20,673', '24,469', '18,797', '19,327', '376,998', '25,009', '386,215', '643,222', '20,017', '1,453,321', '643,459', '42,985', '1,304,678', '199,718', '793,223']\n"
     ]
    }
   ],
   "source": [
    "print(len(GSDP18_19),len(GSDP19_20),len(Share))\n",
    "print((GSDP18_19),(GSDP19_20),(Share))"
   ]
  },
  {
   "cell_type": "code",
   "execution_count": null,
   "id": "bae2e794-8588-4041-86e1-6d6a49ff97ab",
   "metadata": {},
   "outputs": [],
   "source": [
    "import pandas as pd\n",
    "df=pd.DataFrame({'Ranks':Ranks,'GDP':GDP,'State':State,'GSDP18_19':GSDP18_19,'GSDP19_20':GSDP19_20,'Share':Share})"
   ]
  },
  {
   "cell_type": "code",
   "execution_count": 23,
   "id": "e1d5575e-e0f3-4764-a25b-9f32c02a56bd",
   "metadata": {},
   "outputs": [],
   "source": [
    "driver=webdriver.Chrome()"
   ]
  },
  {
   "cell_type": "code",
   "execution_count": 24,
   "id": "c87a394b-2642-4da8-84e0-0325f6ae0092",
   "metadata": {},
   "outputs": [],
   "source": [
    "driver.get('https://github.com/ ')"
   ]
  },
  {
   "cell_type": "code",
   "execution_count": 25,
   "id": "0eeca65d-1c57-4423-81b4-112c38fe5493",
   "metadata": {},
   "outputs": [],
   "source": [
    "open_source=driver.find_element(By.XPATH,'/html/body/div[1]/div[1]/header/div/div[2]/div/nav/ul/li[4]/button')\n",
    "open_source.click()"
   ]
  },
  {
   "cell_type": "code",
   "execution_count": 26,
   "id": "bb01fdbc-6ccc-4321-b114-627fb116347e",
   "metadata": {},
   "outputs": [],
   "source": [
    "trending=driver.find_element(By.XPATH,'/html/body/div[1]/div[1]/header/div/div[2]/div/nav/ul/li[4]/div/div[3]/ul/li[2]/a')\n",
    "trending.click()"
   ]
  },
  {
   "cell_type": "code",
   "execution_count": 33,
   "id": "a7521295-8565-4a57-a9cc-b104bc91678b",
   "metadata": {},
   "outputs": [],
   "source": [
    "urls=[]\n",
    "url=driver.find_elements(By.XPATH,'//article[@class=\"Box-row\"]/h2/a')\n",
    "for i in url:\n",
    "        urls.append(i.get_attribute(\"href\"))"
   ]
  },
  {
   "cell_type": "code",
   "execution_count": 34,
   "id": "caa2a853-cb7e-44a5-8956-17f13cd87e7c",
   "metadata": {},
   "outputs": [
    {
     "name": "stdout",
     "output_type": "stream",
     "text": [
      "13\n",
      "['https://github.com/microsoft/generative-ai-for-beginners', 'https://github.com/microsoft/graphrag', 'https://github.com/fishaudio/fish-speech', 'https://github.com/joschan21/digitalhippo', 'https://github.com/mindsdb/mindsdb', 'https://github.com/folke/tokyonight.nvim', 'https://github.com/Asabeneh/30-Days-Of-Python', 'https://github.com/immich-app/immich', 'https://github.com/facebook/react-native', 'https://github.com/laravel/laravel', 'https://github.com/restic/restic', 'https://github.com/vercel/next.js', 'https://github.com/BLAKE3-team/BLAKE3']\n"
     ]
    }
   ],
   "source": [
    "print(len(urls))\n",
    "print(urls)"
   ]
  },
  {
   "cell_type": "code",
   "execution_count": 62,
   "id": "bd70ac44-ae11-45b0-8895-ab14a885692a",
   "metadata": {},
   "outputs": [],
   "source": [
    "Repository_title=[]\n",
    "Repository_description=[]\n",
    "Contributors=[]  \n",
    "Language=[]\n",
    "\n",
    "for url in urls:\n",
    "    driver.get(url)\n",
    "    time.sleep(2)\n",
    "    try:\n",
    "        title=driver.find_element(By.XPATH,'//div[@class=\"flex-auto min-width-0 width-fit\"]/div/strong/a')\n",
    "        Repository_title.append(title.text)\n",
    "    except NoSuchElementException:\n",
    "        Repository_title.append(\"-\")\n",
    "    \n",
    "    try:\n",
    "        d=driver.find_element(By.XPATH,'//p[@class=\"f4 my-3\"]')\n",
    "        Repository_description.append(d.text)\n",
    "    except NoSuchElementException:\n",
    "       Repository_description.append(\"-\")\n",
    "    try:\n",
    "        c=driver.find_element(By.XPATH,'//h2[@class=\"h4 mb-3\"]/a/span')\n",
    "        Contributors.append(c.text)\n",
    "    except NoSuchElementException:\n",
    "        Contributors.append(\"-\" )\n",
    "    try:\n",
    "        l=driver.find_element(By.XPATH,'//ul[@class=\"list-style-none\"]')\n",
    "        Language.append(l.text)\n",
    "    except NoSuchElementException:\n",
    "        Language.append(\"-\" )                             "
   ]
  },
  {
   "cell_type": "code",
   "execution_count": 63,
   "id": "156fcf22-1b1d-4621-82e7-4aaf8ed3ade2",
   "metadata": {},
   "outputs": [
    {
     "name": "stdout",
     "output_type": "stream",
     "text": [
      "13 13 13 13\n",
      "['generative-ai-for-beginners', 'graphrag', 'fish-speech', 'digitalhippo', 'mindsdb', 'tokyonight.nvim', '30-Days-Of-Python', 'immich', 'react-native', 'laravel', 'restic', 'next.js', 'BLAKE3'] ['18 Lessons, Get Started Building with Generative AI 🔗 https://microsoft.github.io/generative-ai-for-beginners/', 'A modular graph-based Retrieval-Augmented Generation (RAG) system', 'Brand new TTS solution', 'A Modern Fullstack E-Commerce Marketplace for Digital Products', 'The platform for building AI from enterprise data', '🏙 A clean, dark Neovim theme written in Lua, with support for lsp, treesitter and lots of plugins. Includes additional themes for Kitty, Alacritty, iTerm and Fish.', '30 days of Python programming challenge is a step-by-step guide to learn the Python programming language in 30 days. This challenge may take more than100 days, follow your own pace. These videos may help too: https://www.youtube.com/channel/UC7PNRuno1rzYPb1xLa4yktw', 'High performance self-hosted photo and video management solution.', 'A framework for building native applications using React', 'Laravel is a web application framework with expressive, elegant syntax. We’ve already laid the foundation for your next big idea — freeing you to create without sweating the small things.', 'Fast, secure, efficient backup program', 'The React Framework', 'the official Rust and C implementations of the BLAKE3 cryptographic hash function'] ['77', '1', '5', '', '231', '44', '', '192', '325', '168', '43', '2,577', '18'] ['Jupyter Notebook\\n83.7%\\nPython\\n12.1%\\nTypeScript\\n2.3%\\nJavaScript\\n1.1%\\nOther\\n0.8%', 'Python\\n96.7%\\nJupyter Notebook\\n2.2%\\nNunjucks\\n0.6%\\nJinja\\n0.2%\\nCSS\\n0.1%\\nJavaScript\\n0.1%\\nShell\\n0.1%', 'Python\\n94.8%\\nBatchfile\\n3.7%\\nOther\\n1.5%', 'TypeScript\\n98.4%\\nCSS\\n1.3%\\nJavaScript\\n0.3%', 'Python\\n99.8%\\nOther\\n0.2%', 'Lua\\n83.2%\\nVim Script\\n11.5%\\nShell\\n3.5%\\nJavaScript\\n1.1%\\nC\\n0.7%', 'Python\\n94.7%\\nCSS\\n2.7%\\nHTML\\n2.6%', 'immich-machine-learning\\nimmich-server\\nimmich-web', 'C++\\n29.0%\\nJava\\n19.8%\\nJavaScript\\n16.6%\\nObjective-C++\\n11.8%\\nObjective-C\\n9.1%\\nKotlin\\n8.7%\\nOther\\n5.0%', 'PHP\\n58.1%\\nBlade\\n41.6%\\nJavaScript\\n0.3%', 'Go\\n99.8%\\nOther\\n0.2%', 'JavaScript\\n72.7%\\nTypeScript\\n22.6%\\nRust\\n3.5%\\nMDX\\n0.6%\\nCSS\\n0.6%\\nShell\\n0.0%', 'Assembly\\n59.5%\\nRust\\n27.6%\\nC\\n12.1%\\nOther\\n0.8%']\n"
     ]
    }
   ],
   "source": [
    "print(len(Repository_title),len(Repository_description),len(Contributors),len(Language))\n",
    "print((Repository_title),(Repository_description),(Contributors),(Language))"
   ]
  },
  {
   "cell_type": "code",
   "execution_count": 64,
   "id": "62ca99be-2d7f-4b02-b54b-2ce1ba2dfc9d",
   "metadata": {},
   "outputs": [
    {
     "data": {
      "text/html": [
       "<div>\n",
       "<style scoped>\n",
       "    .dataframe tbody tr th:only-of-type {\n",
       "        vertical-align: middle;\n",
       "    }\n",
       "\n",
       "    .dataframe tbody tr th {\n",
       "        vertical-align: top;\n",
       "    }\n",
       "\n",
       "    .dataframe thead th {\n",
       "        text-align: right;\n",
       "    }\n",
       "</style>\n",
       "<table border=\"1\" class=\"dataframe\">\n",
       "  <thead>\n",
       "    <tr style=\"text-align: right;\">\n",
       "      <th></th>\n",
       "      <th>Repository_title</th>\n",
       "      <th>Repository_description</th>\n",
       "      <th>Contributors)</th>\n",
       "      <th>Language</th>\n",
       "    </tr>\n",
       "  </thead>\n",
       "  <tbody>\n",
       "    <tr>\n",
       "      <th>0</th>\n",
       "      <td>generative-ai-for-beginners</td>\n",
       "      <td>18 Lessons, Get Started Building with Generati...</td>\n",
       "      <td>77</td>\n",
       "      <td>Jupyter Notebook\\n83.7%\\nPython\\n12.1%\\nTypeSc...</td>\n",
       "    </tr>\n",
       "    <tr>\n",
       "      <th>1</th>\n",
       "      <td>graphrag</td>\n",
       "      <td>A modular graph-based Retrieval-Augmented Gene...</td>\n",
       "      <td>1</td>\n",
       "      <td>Python\\n96.7%\\nJupyter Notebook\\n2.2%\\nNunjuck...</td>\n",
       "    </tr>\n",
       "    <tr>\n",
       "      <th>2</th>\n",
       "      <td>fish-speech</td>\n",
       "      <td>Brand new TTS solution</td>\n",
       "      <td>5</td>\n",
       "      <td>Python\\n94.8%\\nBatchfile\\n3.7%\\nOther\\n1.5%</td>\n",
       "    </tr>\n",
       "    <tr>\n",
       "      <th>3</th>\n",
       "      <td>digitalhippo</td>\n",
       "      <td>A Modern Fullstack E-Commerce Marketplace for ...</td>\n",
       "      <td></td>\n",
       "      <td>TypeScript\\n98.4%\\nCSS\\n1.3%\\nJavaScript\\n0.3%</td>\n",
       "    </tr>\n",
       "    <tr>\n",
       "      <th>4</th>\n",
       "      <td>mindsdb</td>\n",
       "      <td>The platform for building AI from enterprise data</td>\n",
       "      <td>231</td>\n",
       "      <td>Python\\n99.8%\\nOther\\n0.2%</td>\n",
       "    </tr>\n",
       "    <tr>\n",
       "      <th>5</th>\n",
       "      <td>tokyonight.nvim</td>\n",
       "      <td>🏙 A clean, dark Neovim theme written in Lua, w...</td>\n",
       "      <td>44</td>\n",
       "      <td>Lua\\n83.2%\\nVim Script\\n11.5%\\nShell\\n3.5%\\nJa...</td>\n",
       "    </tr>\n",
       "    <tr>\n",
       "      <th>6</th>\n",
       "      <td>30-Days-Of-Python</td>\n",
       "      <td>30 days of Python programming challenge is a s...</td>\n",
       "      <td></td>\n",
       "      <td>Python\\n94.7%\\nCSS\\n2.7%\\nHTML\\n2.6%</td>\n",
       "    </tr>\n",
       "    <tr>\n",
       "      <th>7</th>\n",
       "      <td>immich</td>\n",
       "      <td>High performance self-hosted photo and video m...</td>\n",
       "      <td>192</td>\n",
       "      <td>immich-machine-learning\\nimmich-server\\nimmich...</td>\n",
       "    </tr>\n",
       "    <tr>\n",
       "      <th>8</th>\n",
       "      <td>react-native</td>\n",
       "      <td>A framework for building native applications u...</td>\n",
       "      <td>325</td>\n",
       "      <td>C++\\n29.0%\\nJava\\n19.8%\\nJavaScript\\n16.6%\\nOb...</td>\n",
       "    </tr>\n",
       "    <tr>\n",
       "      <th>9</th>\n",
       "      <td>laravel</td>\n",
       "      <td>Laravel is a web application framework with ex...</td>\n",
       "      <td>168</td>\n",
       "      <td>PHP\\n58.1%\\nBlade\\n41.6%\\nJavaScript\\n0.3%</td>\n",
       "    </tr>\n",
       "    <tr>\n",
       "      <th>10</th>\n",
       "      <td>restic</td>\n",
       "      <td>Fast, secure, efficient backup program</td>\n",
       "      <td>43</td>\n",
       "      <td>Go\\n99.8%\\nOther\\n0.2%</td>\n",
       "    </tr>\n",
       "    <tr>\n",
       "      <th>11</th>\n",
       "      <td>next.js</td>\n",
       "      <td>The React Framework</td>\n",
       "      <td>2,577</td>\n",
       "      <td>JavaScript\\n72.7%\\nTypeScript\\n22.6%\\nRust\\n3....</td>\n",
       "    </tr>\n",
       "    <tr>\n",
       "      <th>12</th>\n",
       "      <td>BLAKE3</td>\n",
       "      <td>the official Rust and C implementations of the...</td>\n",
       "      <td>18</td>\n",
       "      <td>Assembly\\n59.5%\\nRust\\n27.6%\\nC\\n12.1%\\nOther\\...</td>\n",
       "    </tr>\n",
       "  </tbody>\n",
       "</table>\n",
       "</div>"
      ],
      "text/plain": [
       "               Repository_title  \\\n",
       "0   generative-ai-for-beginners   \n",
       "1                      graphrag   \n",
       "2                   fish-speech   \n",
       "3                  digitalhippo   \n",
       "4                       mindsdb   \n",
       "5               tokyonight.nvim   \n",
       "6             30-Days-Of-Python   \n",
       "7                        immich   \n",
       "8                  react-native   \n",
       "9                       laravel   \n",
       "10                       restic   \n",
       "11                      next.js   \n",
       "12                       BLAKE3   \n",
       "\n",
       "                               Repository_description Contributors)  \\\n",
       "0   18 Lessons, Get Started Building with Generati...            77   \n",
       "1   A modular graph-based Retrieval-Augmented Gene...             1   \n",
       "2                              Brand new TTS solution             5   \n",
       "3   A Modern Fullstack E-Commerce Marketplace for ...                 \n",
       "4   The platform for building AI from enterprise data           231   \n",
       "5   🏙 A clean, dark Neovim theme written in Lua, w...            44   \n",
       "6   30 days of Python programming challenge is a s...                 \n",
       "7   High performance self-hosted photo and video m...           192   \n",
       "8   A framework for building native applications u...           325   \n",
       "9   Laravel is a web application framework with ex...           168   \n",
       "10             Fast, secure, efficient backup program            43   \n",
       "11                                The React Framework         2,577   \n",
       "12  the official Rust and C implementations of the...            18   \n",
       "\n",
       "                                             Language  \n",
       "0   Jupyter Notebook\\n83.7%\\nPython\\n12.1%\\nTypeSc...  \n",
       "1   Python\\n96.7%\\nJupyter Notebook\\n2.2%\\nNunjuck...  \n",
       "2         Python\\n94.8%\\nBatchfile\\n3.7%\\nOther\\n1.5%  \n",
       "3      TypeScript\\n98.4%\\nCSS\\n1.3%\\nJavaScript\\n0.3%  \n",
       "4                          Python\\n99.8%\\nOther\\n0.2%  \n",
       "5   Lua\\n83.2%\\nVim Script\\n11.5%\\nShell\\n3.5%\\nJa...  \n",
       "6                Python\\n94.7%\\nCSS\\n2.7%\\nHTML\\n2.6%  \n",
       "7   immich-machine-learning\\nimmich-server\\nimmich...  \n",
       "8   C++\\n29.0%\\nJava\\n19.8%\\nJavaScript\\n16.6%\\nOb...  \n",
       "9          PHP\\n58.1%\\nBlade\\n41.6%\\nJavaScript\\n0.3%  \n",
       "10                             Go\\n99.8%\\nOther\\n0.2%  \n",
       "11  JavaScript\\n72.7%\\nTypeScript\\n22.6%\\nRust\\n3....  \n",
       "12  Assembly\\n59.5%\\nRust\\n27.6%\\nC\\n12.1%\\nOther\\...  "
      ]
     },
     "execution_count": 64,
     "metadata": {},
     "output_type": "execute_result"
    }
   ],
   "source": [
    "import pandas as pd\n",
    "df=pd.DataFrame({'Repository_title':Repository_title,'Repository_description':Repository_description,'Contributors)':Contributors,'Language':Language})\n",
    "df"
   ]
  },
  {
   "cell_type": "code",
   "execution_count": 65,
   "id": "3079dbe5-c8e4-4658-994a-1dae435d01de",
   "metadata": {},
   "outputs": [],
   "source": [
    "driver=webdriver.Chrome()"
   ]
  },
  {
   "cell_type": "code",
   "execution_count": 66,
   "id": "9b03f713-7ea3-4f24-b9a4-c88ff2db5af0",
   "metadata": {},
   "outputs": [],
   "source": [
    "driver.get(\"https://www.billboard.com/\")"
   ]
  },
  {
   "cell_type": "code",
   "execution_count": 68,
   "id": "b046b4f6-e43a-4607-b519-5f568ea360c9",
   "metadata": {},
   "outputs": [],
   "source": [
    "charts=driver.find_element(By.XPATH,'//html/body/div[3]/header/div/div[2]/div/div/div[2]/div[2]/div/div/nav/ul/li[1]/a')\n",
    "charts.click()"
   ]
  },
  {
   "cell_type": "code",
   "execution_count": null,
   "id": "713cf357-ea14-40c2-8f57-d8f473883920",
   "metadata": {},
   "outputs": [],
   "source": [
    " Song name   \n",
    "B) Artist name   /html/body/div[3]/main/div[2]/div[1]/div[1]/div/div/div[1]/div/div[2]/span/a\n",
    "C) Last week rank   \n",
    "D) Peak rank   \n",
    "E) Weeks on board   "
   ]
  },
  {
   "cell_type": "code",
   "execution_count": 71,
   "id": "49388485-1326-4597-8279-cf6fe49253a6",
   "metadata": {},
   "outputs": [],
   "source": [
    "top_100=driver.find_element(By.XPATH,'/html/body/div[3]/main/div[2]/div[1]/div[1]/div/div/div[1]/div/div[2]/span/a')\n",
    "top_100.click()"
   ]
  },
  {
   "cell_type": "code",
   "execution_count": 79,
   "id": "18ec8b52-c248-4966-b9b1-cd7468f29a50",
   "metadata": {},
   "outputs": [],
   "source": [
    "song_name=[] \n",
    "Artist_name=[]  \n",
    "Last_week=[] \n",
    "Peak_weeK=[]   \n",
    "Week_on_board=[] \n",
    "\n",
    "try:\n",
    "    song=driver.find_elements(By.XPATH,'//div[@class=\"o-chart-results-list-row-container\"]/ul/li[4]/ul/li/h3')\n",
    "    for i in song:\n",
    "        song_name.append(i.text)\n",
    "except NoSuchElementException :\n",
    "    song_name.append(\"_\")\n",
    "try:\n",
    "    artist=driver.find_elements(By.XPATH,'//div[@class=\"o-chart-results-list-row-container\"]/ul/li[4]/ul/li[1]/span')\n",
    "    for i in artist:\n",
    "        Artist_name.append(i.text)\n",
    "except NoSucjElementException :\n",
    "    Artist_name.append(\"_\")\n",
    "try:\n",
    "    last=driver.find_elements(By.XPATH,'//div[@class=\"o-chart-results-list-row-container\"]/ul/li[4]/ul/li[4]')\n",
    "    for i in last:\n",
    "        Last_week.append(i.text)\n",
    "except NoSucjElementException :\n",
    "    Last_week.append(\"_\")\n",
    "try:\n",
    "    peak=driver.find_elements(By.XPATH,'//div[@class=\"o-chart-results-list-row-container\"]/ul/li[4]/ul/li[5]')\n",
    "    for i in peak:\n",
    "        Peak_weeK.append(i.text)\n",
    "except NoSucjElementException :\n",
    "    Peak_weeK.append(\"_\")\n",
    "try:\n",
    "    board=driver.find_elements(By.XPATH,'//div[@class=\"o-chart-results-list-row-container\"]/ul/li[4]/ul/li[6]')\n",
    "    for i in board:\n",
    "         Week_on_board.append(i.text)\n",
    "except NoSucjElementException :\n",
    "    Week_on_board.append(\"_\")"
   ]
  },
  {
   "cell_type": "code",
   "execution_count": 80,
   "id": "252af0b7-61cf-4a0e-9821-71886b284ec7",
   "metadata": {},
   "outputs": [
    {
     "name": "stdout",
     "output_type": "stream",
     "text": [
      "100 100 100 100 100\n",
      "['I Had Some Help', 'A Bar Song (Tipsy)', 'Not Like Us', 'Espresso', 'Please Please Please', 'Million Dollar Baby', 'Too Sweet', 'Beautiful Things', 'Lose Control', 'Birds Of A Feather', 'Good Luck, Babe!', 'Pour Me A Drink', 'Pink Skies', 'Like That', 'Cowgirls', 'Houdini', 'Fortnight', 'Saturn', 'Austin', 'I Remember Everything', 'Whiskey Whiskey', 'Feather', \"We Can't Be Friends (Wait For Your Love)\", 'Miles On It', 'Lunch', 'Wanna Be', 'Lovin On Me', 'High Road', 'The Boy Is Mine', 'Stick Season', 'I Am Not Okay', 'Yeah Glo!', 'Gata Only', 'Si Antes Te Hubiera Conocido', 'Devil Is A Lie', 'Us.', \"Ain't No Love In Oklahoma\", 'Hot To Go!', 'BAND4BAND', 'End Of Beginning', 'Slow It Down', 'Get It Sexyy', 'Where It Ends', 'Euphoria', 'Bulletproof', 'Red Wine Supernova', 'TGIF', 'Greedy', 'Stargazing', 'I Can Do It With A Broken Heart', 'Dirt Cheap', 'Whatever She Wants', 'You Look Like You Love Me', 'Chihiro', 'Type Shit', 'One Of Wun', 'Parking Lot', 'I Like The Way You Kiss Me', 'Illusion', 'Close To You', 'Nasty', 'We Ride', 'Girl, So Confusing', 'Sweet Dreams', \"Wind Up Missin' You\", 'Pink Pony Club', 'U My Everything', 'Down Bad', 'Reloj', 'Kehlani', 'Remember Him That Way', 'After Hours', 'Si No Quieres No', 'Scared To Start', 'Wildflower', 'Nights Like This', 'Wine Into Whiskey', 'The Door', '360', \"Think I'm In Love With You\", 'feelslikeimfallinginlove', 'Casual', 'Beautiful As You', \"L'amour De Ma Vie\", 'Let Your Boys Be Country', \"Who's Afraid Of Little Old Me?\", 'Halfway To Hell', 'Belong Together', 'Hang Tight Honey', \"Texas Hold 'Em\", 'Vino Tinto', \"We Don't Fight Anymore\", 'Hell N Back', 'Risk', 'Chevrolet', 'The Man He Sees In Me', 'Brother Stone', 'Guilty As Sin?', 'La Patrulla', 'Bandit'] ['Post Malone Featuring Morgan Wallen', 'Shaboozey', 'Kendrick Lamar', 'Sabrina Carpenter', 'Sabrina Carpenter', 'Tommy Richman', 'Hozier', 'Benson Boone', 'Teddy Swims', 'Billie Eilish', 'Chappell Roan', 'Post Malone Featuring Blake Shelton', 'Zach Bryan', 'Future, Metro Boomin & Kendrick Lamar', 'Morgan Wallen Featuring ERNEST', 'Eminem', 'Taylor Swift Featuring Post Malone', 'SZA', 'Dasha', 'Zach Bryan Featuring Kacey Musgraves', 'Moneybagg Yo Featuring Morgan Wallen', 'Sabrina Carpenter', 'Ariana Grande', 'Marshmello & Kane Brown', 'Billie Eilish', 'GloRilla & Megan Thee Stallion', 'Jack Harlow', 'Koe Wetzel & Jessie Murph', 'Ariana Grande', 'Noah Kahan', 'Jelly Roll', 'GloRilla', 'FloyyMenor X Cris Mj', 'Karol G', 'Tommy Richman', 'Gracie Abrams Featuring Taylor Swift', 'Luke Combs', 'Chappell Roan', 'Central Cee & Lil Baby', 'Djo', 'Benson Boone', 'Sexyy Red', 'Bailey Zimmerman', 'Kendrick Lamar', 'Nate Smith', 'Chappell Roan', 'GloRilla', 'Tate McRae', 'Myles Smith', 'Taylor Swift', 'Cody Johnson', 'Bryson Tiller', 'Ella Langley Featuring Riley Green', 'Billie Eilish', 'Future, Metro Boomin, Travis Scott & Playboi Carti', 'Gunna', 'Mustard & Travis Scott', 'Artemas', 'Dua Lipa', 'Gracie Abrams', 'Tinashe', 'Bryan Martin', 'Charli XCX With Lorde', 'Koe Wetzel', 'Tucker Wetmore', 'Chappell Roan', 'Sexyy Red & Drake', 'Taylor Swift', 'Peso Pluma & Ivan Cornejo', 'Jordan Adetunji', 'Luke Combs', 'Kehlani', 'Luis R Conriquez x Neton Vega', 'Michael Marcagi', 'Billie Eilish', 'The Kid LAROI', 'Tucker Wetmore', 'Teddy Swims', 'Charli XCX', 'Chris Stapleton', 'Coldplay', 'Chappell Roan', 'Thomas Rhett', 'Billie Eilish', 'Jason Aldean', 'Taylor Swift', 'Jelly Roll', 'Mark Ambor', 'Lainey Wilson', 'Beyonce', 'Peso Pluma, Natanael Cano & Gabito Ballesteros', 'Carly Pearce Featuring Chris Stapleton', 'Bakar Featuring Summer Walker', 'Gracie Abrams', 'Dustin Lynch Featuring Jelly Roll', 'Luke Combs', 'Don Toliver Featuring Kodak Black', 'Taylor Swift', 'Peso Pluma & Neton Vega', 'Don Toliver'] ['2', '3', '6', '4', '1', '5', '7', '8', '9', '10', '16', '-', '11', '14', '15', '12', '13', '17', '20', '22', '21', '23', '19', '24', '18', '25', '26', '27', '74', '28', '30', '32', '31', '-', '47', '-', '33', '55', '29', '37', '34', '38', '43', '52', '40', '54', '-', '41', '44', '45', '53', '48', '-', '36', '51', '50', '-', '46', '60', '69', '62', '63', '-', '49', '67', '90', '59', '64', '-', '-', '35', '81', '65', '72', '57', '-', '68', '76', '82', '66', '-', '-', '85', '70', '94', '83', '75', '79', '-', '77', '-', '-', '87', '-', '100', '39', '61', '88', '-', '73'] ['1', '2', '1', '3', '1', '2', '1', '2', '1', '9', '11', '12', '6', '1', '15', '2', '1', '6', '19', '1', '21', '21', '1', '21', '5', '11', '1', '27', '16', '9', '30', '28', '27', '34', '35', '36', '23', '38', '18', '11', '34', '20', '32', '3', '37', '46', '47', '3', '41', '3', '51', '19', '53', '12', '2', '26', '57', '12', '43', '49', '61', '61', '63', '35', '63', '66', '44', '2', '69', '70', '35', '72', '53', '54', '17', '76', '68', '76', '73', '49', '81', '82', '83', '22', '85', '9', '48', '74', '89', '1', '91', '67', '53', '94', '95', '39', '61', '10', '99', '38'] ['7', '11', '8', '11', '3', '9', '14', '23', '46', '6', '12', '1', '5', '14', '28', '4', '10', '18', '16', '44', '2', '30', '16', '8', '6', '12', '33', '3', '8', '39', '2', '20', '15', '1', '2', '1', '6', '4', '5', '19', '14', '15', '26', '9', '12', '4', '1', '41', '7', '10', '10', '19', '1', '6', '14', '7', '1', '14', '11', '3', '4', '12', '1', '6', '13', '2', '5', '10', '1', '1', '2', '5', '8', '19', '6', '1', '14', '4', '3', '8', '1', '1', '3', '6', '3', '10', '12', '9', '2', '20', '1', '12', '12', '1', '2', '3', '2', '10', '1', '18']\n"
     ]
    }
   ],
   "source": [
    "print(len(song_name),len(Artist_name),len(Last_week),len(Peak_weeK),len(Week_on_board))\n",
    "print((song_name),(Artist_name),(Last_week),(Peak_weeK),(Week_on_board))"
   ]
  },
  {
   "cell_type": "code",
   "execution_count": 81,
   "id": "7b55cd04-95ba-455e-818a-80a0057f3cdd",
   "metadata": {},
   "outputs": [
    {
     "data": {
      "text/html": [
       "<div>\n",
       "<style scoped>\n",
       "    .dataframe tbody tr th:only-of-type {\n",
       "        vertical-align: middle;\n",
       "    }\n",
       "\n",
       "    .dataframe tbody tr th {\n",
       "        vertical-align: top;\n",
       "    }\n",
       "\n",
       "    .dataframe thead th {\n",
       "        text-align: right;\n",
       "    }\n",
       "</style>\n",
       "<table border=\"1\" class=\"dataframe\">\n",
       "  <thead>\n",
       "    <tr style=\"text-align: right;\">\n",
       "      <th></th>\n",
       "      <th>song_name</th>\n",
       "      <th>Artist_name</th>\n",
       "      <th>Last_week</th>\n",
       "      <th>Peak_weeK</th>\n",
       "      <th>Week_on_board</th>\n",
       "    </tr>\n",
       "  </thead>\n",
       "  <tbody>\n",
       "    <tr>\n",
       "      <th>0</th>\n",
       "      <td>I Had Some Help</td>\n",
       "      <td>Post Malone Featuring Morgan Wallen</td>\n",
       "      <td>2</td>\n",
       "      <td>1</td>\n",
       "      <td>7</td>\n",
       "    </tr>\n",
       "    <tr>\n",
       "      <th>1</th>\n",
       "      <td>A Bar Song (Tipsy)</td>\n",
       "      <td>Shaboozey</td>\n",
       "      <td>3</td>\n",
       "      <td>2</td>\n",
       "      <td>11</td>\n",
       "    </tr>\n",
       "    <tr>\n",
       "      <th>2</th>\n",
       "      <td>Not Like Us</td>\n",
       "      <td>Kendrick Lamar</td>\n",
       "      <td>6</td>\n",
       "      <td>1</td>\n",
       "      <td>8</td>\n",
       "    </tr>\n",
       "    <tr>\n",
       "      <th>3</th>\n",
       "      <td>Espresso</td>\n",
       "      <td>Sabrina Carpenter</td>\n",
       "      <td>4</td>\n",
       "      <td>3</td>\n",
       "      <td>11</td>\n",
       "    </tr>\n",
       "    <tr>\n",
       "      <th>4</th>\n",
       "      <td>Please Please Please</td>\n",
       "      <td>Sabrina Carpenter</td>\n",
       "      <td>1</td>\n",
       "      <td>1</td>\n",
       "      <td>3</td>\n",
       "    </tr>\n",
       "    <tr>\n",
       "      <th>...</th>\n",
       "      <td>...</td>\n",
       "      <td>...</td>\n",
       "      <td>...</td>\n",
       "      <td>...</td>\n",
       "      <td>...</td>\n",
       "    </tr>\n",
       "    <tr>\n",
       "      <th>95</th>\n",
       "      <td>The Man He Sees In Me</td>\n",
       "      <td>Luke Combs</td>\n",
       "      <td>39</td>\n",
       "      <td>39</td>\n",
       "      <td>3</td>\n",
       "    </tr>\n",
       "    <tr>\n",
       "      <th>96</th>\n",
       "      <td>Brother Stone</td>\n",
       "      <td>Don Toliver Featuring Kodak Black</td>\n",
       "      <td>61</td>\n",
       "      <td>61</td>\n",
       "      <td>2</td>\n",
       "    </tr>\n",
       "    <tr>\n",
       "      <th>97</th>\n",
       "      <td>Guilty As Sin?</td>\n",
       "      <td>Taylor Swift</td>\n",
       "      <td>88</td>\n",
       "      <td>10</td>\n",
       "      <td>10</td>\n",
       "    </tr>\n",
       "    <tr>\n",
       "      <th>98</th>\n",
       "      <td>La Patrulla</td>\n",
       "      <td>Peso Pluma &amp; Neton Vega</td>\n",
       "      <td>-</td>\n",
       "      <td>99</td>\n",
       "      <td>1</td>\n",
       "    </tr>\n",
       "    <tr>\n",
       "      <th>99</th>\n",
       "      <td>Bandit</td>\n",
       "      <td>Don Toliver</td>\n",
       "      <td>73</td>\n",
       "      <td>38</td>\n",
       "      <td>18</td>\n",
       "    </tr>\n",
       "  </tbody>\n",
       "</table>\n",
       "<p>100 rows × 5 columns</p>\n",
       "</div>"
      ],
      "text/plain": [
       "                song_name                          Artist_name Last_week  \\\n",
       "0         I Had Some Help  Post Malone Featuring Morgan Wallen         2   \n",
       "1      A Bar Song (Tipsy)                            Shaboozey         3   \n",
       "2             Not Like Us                       Kendrick Lamar         6   \n",
       "3                Espresso                    Sabrina Carpenter         4   \n",
       "4    Please Please Please                    Sabrina Carpenter         1   \n",
       "..                    ...                                  ...       ...   \n",
       "95  The Man He Sees In Me                           Luke Combs        39   \n",
       "96          Brother Stone    Don Toliver Featuring Kodak Black        61   \n",
       "97         Guilty As Sin?                         Taylor Swift        88   \n",
       "98            La Patrulla              Peso Pluma & Neton Vega         -   \n",
       "99                 Bandit                          Don Toliver        73   \n",
       "\n",
       "   Peak_weeK Week_on_board  \n",
       "0          1             7  \n",
       "1          2            11  \n",
       "2          1             8  \n",
       "3          3            11  \n",
       "4          1             3  \n",
       "..       ...           ...  \n",
       "95        39             3  \n",
       "96        61             2  \n",
       "97        10            10  \n",
       "98        99             1  \n",
       "99        38            18  \n",
       "\n",
       "[100 rows x 5 columns]"
      ]
     },
     "execution_count": 81,
     "metadata": {},
     "output_type": "execute_result"
    }
   ],
   "source": [
    "import pandas as pd\n",
    "df=pd.DataFrame({'song_name':song_name,'Artist_name':Artist_name,'Last_week':Last_week,'Peak_weeK':Peak_weeK,'Week_on_board':Week_on_board})\n",
    "df"
   ]
  },
  {
   "cell_type": "code",
   "execution_count": 7,
   "id": "7d33f029-ff82-4efb-bc49-9133aa8fdc47",
   "metadata": {},
   "outputs": [],
   "source": [
    "driver=webdriver.Chrome()"
   ]
  },
  {
   "cell_type": "code",
   "execution_count": 8,
   "id": "18e82f47-32c8-47a5-9c56-3f44ac762de5",
   "metadata": {},
   "outputs": [],
   "source": [
    "driver.get(\"https://www.theguardian.com/news/datablog/2012/aug/09/best-selling-books-all-time-fifty-shades-grey-compare\")"
   ]
  },
  {
   "cell_type": "code",
   "execution_count": 5,
   "id": "b3a1cba8-8e15-44d9-a1ed-0b4fbaaf2bb3",
   "metadata": {},
   "outputs": [],
   "source": [
    "accept=driver.find_element(By.XPATH,'/html/body/div/div/div/div[2]/div/button[2]')\n",
    "accept.click()"
   ]
  },
  {
   "cell_type": "code",
   "execution_count": 15,
   "id": "3653b7b5-d1ba-45f6-ad8c-bf587995ec29",
   "metadata": {},
   "outputs": [],
   "source": [
    "Book_name=[] \n",
    "Author_name=[]  \n",
    "Volumes_sold=[] \n",
    "Publisher=[]   \n",
    "Genre=[]  \n",
    "try:\n",
    "    book=driver.find_elements(By.XPATH,'//div[@class=\"embed block\"]/table/tbody/tr/td[2]')\n",
    "    for i in book:\n",
    "        Book_name.append(i.text)\n",
    "except NoSuchElementException :\n",
    "    Book_name.append(\"_\")\n",
    "try:\n",
    "    author=driver.find_elements(By.XPATH,'//div[@class=\"embed block\"]/table/tbody/tr/td[3]')\n",
    "    for i in author:\n",
    "        Author_name.append(i.text)\n",
    "except NoSucjElementException :\n",
    "    Author_name.append(\"_\")\n",
    "try:\n",
    "    volume=driver.find_elements(By.XPATH,'//div[@class=\"embed block\"]/table/tbody/tr/td[4]')\n",
    "    for i in volume:\n",
    "        Volumes_sold.append(i.text)\n",
    "except NoSucjElementException :\n",
    "    Volumes_sold.append(\"_\")\n",
    "try:\n",
    "    publisher=driver.find_elements(By.XPATH,'//div[@class=\"embed block\"]/table/tbody/tr/td[5]')\n",
    "    for i in publisher:\n",
    "        Publisher.append(i.text)\n",
    "except NoSucjElementException :\n",
    "    Publisher.append(\"_\")\n",
    "try:\n",
    "    genre=driver.find_elements(By.XPATH,'//div[@class=\"embed block\"]/table/tbody/tr/td[6]')\n",
    "    for i in genre:\n",
    "         Genre.append(i.text)\n",
    "except NoSucjElementException :\n",
    "    Genre.append(\"_\")"
   ]
  },
  {
   "cell_type": "code",
   "execution_count": 16,
   "id": "12cfea0a-9d43-49b2-8b24-06b1d740a2b5",
   "metadata": {},
   "outputs": [
    {
     "name": "stdout",
     "output_type": "stream",
     "text": [
      "100 100 100 100 100\n",
      "['Da Vinci Code,The', 'Harry Potter and the Deathly Hallows', \"Harry Potter and the Philosopher's Stone\", 'Harry Potter and the Order of the Phoenix', 'Fifty Shades of Grey', 'Harry Potter and the Goblet of Fire', 'Harry Potter and the Chamber of Secrets', 'Harry Potter and the Prisoner of Azkaban', 'Angels and Demons', \"Harry Potter and the Half-blood Prince:Children's Edition\", 'Fifty Shades Darker', 'Twilight', 'Girl with the Dragon Tattoo,The:Millennium Trilogy', 'Fifty Shades Freed', 'Lost Symbol,The', 'New Moon', 'Deception Point', 'Eclipse', 'Lovely Bones,The', 'Curious Incident of the Dog in the Night-time,The', 'Digital Fortress', 'Short History of Nearly Everything,A', 'Girl Who Played with Fire,The:Millennium Trilogy', 'Breaking Dawn', 'Very Hungry Caterpillar,The:The Very Hungry Caterpillar', 'Gruffalo,The', \"Jamie's 30-Minute Meals\", 'Kite Runner,The', 'One Day', 'Thousand Splendid Suns,A', \"Girl Who Kicked the Hornets' Nest,The:Millennium Trilogy\", \"Time Traveler's Wife,The\", 'Atonement', \"Bridget Jones's Diary:A Novel\", 'World According to Clarkson,The', \"Captain Corelli's Mandolin\", 'Sound of Laughter,The', 'Life of Pi', 'Billy Connolly', 'Child Called It,A', \"Gruffalo's Child,The\", \"Angela's Ashes:A Memoir of a Childhood\", 'Birdsong', 'Northern Lights:His Dark Materials S.', 'Labyrinth', 'Harry Potter and the Half-blood Prince', 'Help,The', 'Man and Boy', 'Memoirs of a Geisha', \"No.1 Ladies' Detective Agency,The:No.1 Ladies' Detective Agency S.\", 'Island,The', 'PS, I Love You', 'You are What You Eat:The Plan That Will Change Your Life', 'Shadow of the Wind,The', 'Tales of Beedle the Bard,The', 'Broker,The', \"Dr. Atkins' New Diet Revolution:The No-hunger, Luxurious Weight Loss P\", 'Subtle Knife,The:His Dark Materials S.', 'Eats, Shoots and Leaves:The Zero Tolerance Approach to Punctuation', \"Delia's How to Cook:(Bk.1)\", 'Chocolat', 'Boy in the Striped Pyjamas,The', \"My Sister's Keeper\", 'Amber Spyglass,The:His Dark Materials S.', 'To Kill a Mockingbird', 'Men are from Mars, Women are from Venus:A Practical Guide for Improvin', 'Dear Fatty', 'Short History of Tractors in Ukrainian,A', 'Hannibal', 'Lord of the Rings,The', 'Stupid White Men:...and Other Sorry Excuses for the State of the Natio', 'Interpretation of Murder,The', 'Sharon Osbourne Extreme:My Autobiography', 'Alchemist,The:A Fable About Following Your Dream', \"At My Mother's Knee ...:and Other Low Joints\", 'Notes from a Small Island', 'Return of the Naked Chef,The', 'Bridget Jones: The Edge of Reason', \"Jamie's Italy\", 'I Can Make You Thin', 'Down Under', 'Summons,The', 'Small Island', 'Nigella Express', 'Brick Lane', \"Memory Keeper's Daughter,The\", 'Room on the Broom', 'About a Boy', 'My Booky Wook', 'God Delusion,The', '\"Beano\" Annual,The', 'White Teeth', 'House at Riverton,The', 'Book Thief,The', 'Nights of Rain and Stars', 'Ghost,The', 'Happy Days with the Naked Chef', 'Hunger Games,The:Hunger Games Trilogy', \"Lost Boy,The:A Foster Child's Search for the Love of a Family\", \"Jamie's Ministry of Food:Anyone Can Learn to Cook in 24 Hours\"] ['Brown, Dan', 'Rowling, J.K.', 'Rowling, J.K.', 'Rowling, J.K.', 'James, E. L.', 'Rowling, J.K.', 'Rowling, J.K.', 'Rowling, J.K.', 'Brown, Dan', 'Rowling, J.K.', 'James, E. L.', 'Meyer, Stephenie', 'Larsson, Stieg', 'James, E. L.', 'Brown, Dan', 'Meyer, Stephenie', 'Brown, Dan', 'Meyer, Stephenie', 'Sebold, Alice', 'Haddon, Mark', 'Brown, Dan', 'Bryson, Bill', 'Larsson, Stieg', 'Meyer, Stephenie', 'Carle, Eric', 'Donaldson, Julia', 'Oliver, Jamie', 'Hosseini, Khaled', 'Nicholls, David', 'Hosseini, Khaled', 'Larsson, Stieg', 'Niffenegger, Audrey', 'McEwan, Ian', 'Fielding, Helen', 'Clarkson, Jeremy', 'Bernieres, Louis de', 'Kay, Peter', 'Martel, Yann', 'Stephenson, Pamela', 'Pelzer, Dave', 'Donaldson, Julia', 'McCourt, Frank', 'Faulks, Sebastian', 'Pullman, Philip', 'Mosse, Kate', 'Rowling, J.K.', 'Stockett, Kathryn', 'Parsons, Tony', 'Golden, Arthur', 'McCall Smith, Alexander', 'Hislop, Victoria', 'Ahern, Cecelia', 'McKeith, Gillian', 'Zafon, Carlos Ruiz', 'Rowling, J.K.', 'Grisham, John', 'Atkins, Robert C.', 'Pullman, Philip', 'Truss, Lynne', 'Smith, Delia', 'Harris, Joanne', 'Boyne, John', 'Picoult, Jodi', 'Pullman, Philip', 'Lee, Harper', 'Gray, John', 'French, Dawn', 'Lewycka, Marina', 'Harris, Thomas', 'Tolkien, J. R. R.', 'Moore, Michael', 'Rubenfeld, Jed', 'Osbourne, Sharon', 'Coelho, Paulo', \"O'Grady, Paul\", 'Bryson, Bill', 'Oliver, Jamie', 'Fielding, Helen', 'Oliver, Jamie', 'McKenna, Paul', 'Bryson, Bill', 'Grisham, John', 'Levy, Andrea', 'Lawson, Nigella', 'Ali, Monica', 'Edwards, Kim', 'Donaldson, Julia', 'Hornby, Nick', 'Brand, Russell', 'Dawkins, Richard', '0', 'Smith, Zadie', 'Morton, Kate', 'Zusak, Markus', 'Binchy, Maeve', 'Harris, Robert', 'Oliver, Jamie', 'Collins, Suzanne', 'Pelzer, Dave', 'Oliver, Jamie'] ['5,094,805', '4,475,152', '4,200,654', '4,179,479', '3,758,936', '3,583,215', '3,484,047', '3,377,906', '3,193,946', '2,950,264', '2,479,784', '2,315,405', '2,233,570', '2,193,928', '2,183,031', '2,152,737', '2,062,145', '2,052,876', '2,005,598', '1,979,552', '1,928,900', '1,852,919', '1,814,784', '1,787,118', '1,783,535', '1,781,269', '1,743,266', '1,629,119', '1,616,068', '1,583,992', '1,555,135', '1,546,886', '1,539,428', '1,508,205', '1,489,403', '1,352,318', '1,310,207', '1,310,176', '1,231,957', '1,217,712', '1,208,711', '1,204,058', '1,184,967', '1,181,503', '1,181,093', '1,153,181', '1,132,336', '1,130,802', '1,126,337', '1,115,549', '1,108,328', '1,107,379', '1,104,403', '1,092,349', '1,090,847', '1,087,262', '1,054,196', '1,037,160', '1,023,688', '1,015,956', '1,009,873', '1,004,414', '1,003,780', '1,002,314', '998,213', '992,846', '986,753', '986,115', '970,509', '967,466', '963,353', '962,515', '959,496', '956,114', '945,640', '931,312', '925,425', '924,695', '906,968', '905,086', '890,847', '869,671', '869,659', '862,602', '856,540', '845,858', '842,535', '828,215', '820,563', '816,907', '816,585', '815,586', '814,370', '809,641', '808,900', '807,311', '794,201', '792,187', '791,507', '791,095'] ['Transworld', 'Bloomsbury', 'Bloomsbury', 'Bloomsbury', 'Random House', 'Bloomsbury', 'Bloomsbury', 'Bloomsbury', 'Transworld', 'Bloomsbury', 'Random House', 'Little, Brown Book', 'Quercus', 'Random House', 'Transworld', 'Little, Brown Book', 'Transworld', 'Little, Brown Book', 'Pan Macmillan', 'Random House', 'Transworld', 'Transworld', 'Quercus', 'Little, Brown Book', 'Penguin', 'Pan Macmillan', 'Penguin', 'Bloomsbury', 'Hodder & Stoughton', 'Bloomsbury', 'Quercus', 'Random House', 'Random House', 'Pan Macmillan', 'Penguin', 'Random House', 'Random House', 'Canongate', 'HarperCollins', 'Orion', 'Pan Macmillan', 'HarperCollins', 'Random House', 'Scholastic Ltd.', 'Orion', 'Bloomsbury', 'Penguin', 'HarperCollins', 'Random House', 'Little, Brown Book', 'Headline', 'HarperCollins', 'Penguin', 'Orion', 'Bloomsbury', 'Random House', 'Random House', 'Scholastic Ltd.', 'Profile Books Group', 'Random House', 'Transworld', 'Random House Childrens Books G', 'Hodder & Stoughton', 'Scholastic Ltd.', 'Random House', 'HarperCollins', 'Random House', 'Penguin', 'Random House', 'HarperCollins', 'Penguin', 'Headline', 'Little, Brown Book', 'HarperCollins', 'Transworld', 'Transworld', 'Penguin', 'Pan Macmillan', 'Penguin', 'Transworld', 'Transworld', 'Random House', 'Headline', 'Random House', 'Transworld', 'Penguin', 'Pan Macmillan', 'Penguin', 'Hodder & Stoughton', 'Transworld', 'D.C. Thomson', 'Penguin', 'Pan Macmillan', 'Transworld', 'Orion', 'Random House', 'Penguin', 'Scholastic Ltd.', 'Orion', 'Penguin'] ['Crime, Thriller & Adventure', \"Children's Fiction\", \"Children's Fiction\", \"Children's Fiction\", 'Romance & Sagas', \"Children's Fiction\", \"Children's Fiction\", \"Children's Fiction\", 'Crime, Thriller & Adventure', \"Children's Fiction\", 'Romance & Sagas', 'Young Adult Fiction', 'Crime, Thriller & Adventure', 'Romance & Sagas', 'Crime, Thriller & Adventure', 'Young Adult Fiction', 'Crime, Thriller & Adventure', 'Young Adult Fiction', 'General & Literary Fiction', 'General & Literary Fiction', 'Crime, Thriller & Adventure', 'Popular Science', 'Crime, Thriller & Adventure', 'Young Adult Fiction', 'Picture Books', 'Picture Books', 'Food & Drink: General', 'General & Literary Fiction', 'General & Literary Fiction', 'General & Literary Fiction', 'Crime, Thriller & Adventure', 'General & Literary Fiction', 'General & Literary Fiction', 'General & Literary Fiction', 'Humour: Collections & General', 'General & Literary Fiction', 'Autobiography: General', 'General & Literary Fiction', 'Biography: The Arts', 'Autobiography: General', 'Picture Books', 'Autobiography: General', 'General & Literary Fiction', 'Young Adult Fiction', 'General & Literary Fiction', 'Science Fiction & Fantasy', 'General & Literary Fiction', 'General & Literary Fiction', 'General & Literary Fiction', 'Crime, Thriller & Adventure', 'General & Literary Fiction', 'General & Literary Fiction', 'Fitness & Diet', 'General & Literary Fiction', \"Children's Fiction\", 'Crime, Thriller & Adventure', 'Fitness & Diet', 'Young Adult Fiction', 'Usage & Writing Guides', 'Food & Drink: General', 'General & Literary Fiction', 'Young Adult Fiction', 'General & Literary Fiction', 'Young Adult Fiction', 'General & Literary Fiction', 'Popular Culture & Media: General Interest', 'Autobiography: The Arts', 'General & Literary Fiction', 'Crime, Thriller & Adventure', 'Science Fiction & Fantasy', 'Current Affairs & Issues', 'Crime, Thriller & Adventure', 'Autobiography: The Arts', 'General & Literary Fiction', 'Autobiography: The Arts', 'Travel Writing', 'Food & Drink: General', 'General & Literary Fiction', 'National & Regional Cuisine', 'Fitness & Diet', 'Travel Writing', 'Crime, Thriller & Adventure', 'General & Literary Fiction', 'Food & Drink: General', 'General & Literary Fiction', 'General & Literary Fiction', 'Picture Books', 'General & Literary Fiction', 'Autobiography: The Arts', 'Popular Science', \"Children's Annuals\", 'General & Literary Fiction', 'General & Literary Fiction', 'General & Literary Fiction', 'General & Literary Fiction', 'General & Literary Fiction', 'Food & Drink: General', 'Young Adult Fiction', 'Biography: General', 'Food & Drink: General']\n"
     ]
    }
   ],
   "source": [
    "print(len(Book_name),len(Author_name),len(Volumes_sold ),len(Publisher),len(Genre))\n",
    "print((Book_name),(Author_name),(Volumes_sold ),(Publisher),(Genre))"
   ]
  },
  {
   "cell_type": "code",
   "execution_count": 17,
   "id": "22995288-81bc-4fa4-9345-577e21101953",
   "metadata": {},
   "outputs": [
    {
     "name": "stdout",
     "output_type": "stream",
     "text": [
      "                                            Book_name       Author_name  \\\n",
      "0                                   Da Vinci Code,The        Brown, Dan   \n",
      "1                Harry Potter and the Deathly Hallows     Rowling, J.K.   \n",
      "2            Harry Potter and the Philosopher's Stone     Rowling, J.K.   \n",
      "3           Harry Potter and the Order of the Phoenix     Rowling, J.K.   \n",
      "4                                Fifty Shades of Grey      James, E. L.   \n",
      "..                                                ...               ...   \n",
      "95                                          Ghost,The    Harris, Robert   \n",
      "96                     Happy Days with the Naked Chef     Oliver, Jamie   \n",
      "97              Hunger Games,The:Hunger Games Trilogy  Collins, Suzanne   \n",
      "98  Lost Boy,The:A Foster Child's Search for the L...      Pelzer, Dave   \n",
      "99  Jamie's Ministry of Food:Anyone Can Learn to C...     Oliver, Jamie   \n",
      "\n",
      "   Volumes_sold        Publisher                        Genre  \n",
      "0     5,094,805       Transworld  Crime, Thriller & Adventure  \n",
      "1     4,475,152       Bloomsbury           Children's Fiction  \n",
      "2     4,200,654       Bloomsbury           Children's Fiction  \n",
      "3     4,179,479       Bloomsbury           Children's Fiction  \n",
      "4     3,758,936     Random House              Romance & Sagas  \n",
      "..          ...              ...                          ...  \n",
      "95      807,311     Random House   General & Literary Fiction  \n",
      "96      794,201          Penguin        Food & Drink: General  \n",
      "97      792,187  Scholastic Ltd.          Young Adult Fiction  \n",
      "98      791,507            Orion           Biography: General  \n",
      "99      791,095          Penguin        Food & Drink: General  \n",
      "\n",
      "[100 rows x 5 columns]\n"
     ]
    }
   ],
   "source": [
    "import pandas as pd\n",
    "df=pd.DataFrame({'Book_name':Book_name,'Author_name':Author_name,'Volumes_sold':Volumes_sold,'Publisher':Publisher,'Genre':Genre})\n",
    "print(df)"
   ]
  },
  {
   "cell_type": "code",
   "execution_count": 49,
   "id": "60c57507-ba32-4bc3-b3b0-918ff1543440",
   "metadata": {},
   "outputs": [],
   "source": [
    "driver=webdriver.Chrome()"
   ]
  },
  {
   "cell_type": "code",
   "execution_count": 52,
   "id": "b066a5a4-4b4d-4db3-9d79-7962033f01ea",
   "metadata": {},
   "outputs": [],
   "source": [
    "driver.get(\"https://www.imdb.com/chart/tvmeter/?ref_=nv_tvv_mptv \")\n"
   ]
  },
  {
   "cell_type": "code",
   "execution_count": 54,
   "id": "6c82838d-f3aa-4538-ba24-7a444dd5745f",
   "metadata": {},
   "outputs": [
    {
     "ename": "IndentationError",
     "evalue": "unindent does not match any outer indentation level (<string>, line 25)",
     "output_type": "error",
     "traceback": [
      "\u001b[1;36m  File \u001b[1;32m<string>:25\u001b[1;36m\u001b[0m\n\u001b[1;33m    try:\u001b[0m\n\u001b[1;37m        ^\u001b[0m\n\u001b[1;31mIndentationError\u001b[0m\u001b[1;31m:\u001b[0m unindent does not match any outer indentation level\n"
     ]
    }
   ],
   "source": [
    "Name=[]\n",
    "Year  =[]\n",
    "Genre   =[]\n",
    "Run_time =[]\n",
    "Ratings =[] \n",
    "Votes=[]\n",
    "try:\n",
    "    n=driver.find_elements(By.XPATH,'//div[@class=\"ipc-title ipc-title--base ipc-title--title ipc-title-link-no-icon ipc-title--on-textPrimary sc-b189961a-9 iALATN cli-title\"]/a/h3')\n",
    "    for i in n:\n",
    "        Name.append(i.text)\n",
    "except NoSuchElementException :\n",
    "        Name.append(\"_\")\n",
    "try:\n",
    "    year=driver.find_elements(By.XPATH,'//div[@class=\"ipc-title ipc-title--base ipc-title--title ipc-title-link-no-icon ipc-title--on-textPrimary sc-b189961a-9 iALATN cli-title\"]/a/h3')\n",
    "    for i in year:\n",
    "        Year.append(i.text)\n",
    "except NoSuchElementException :\n",
    "        Year.append(\"_\")\n",
    "try:\n",
    "    run=driver.find_elements(By.XPATH,'//div[@class=\"ipc-title ipc-title--base ipc-title--title ipc-title-link-no-icon ipc-title--on-textPrimary sc-b189961a-9 iALATN cli-title\"]/a/h3')\n",
    "    for i in run:\n",
    "        Run.append(i.text)\n",
    "except NoSuchElementException :\n",
    "        Run.append(\"_\")\n",
    "try:\n",
    "    n=driver.find_elements(By.XPATH,'//div[@class=\"ipc-title ipc-title--base ipc-title--title ipc-title-link-no-icon ipc-title--on-textPrimary sc-b189961a-9 iALATN cli-title\"]/a/h3')\n",
    "    for i in n:\n",
    "        Name.append(i.text)\n",
    "except NoSuchElementException :\n",
    "        Name.append(\"_\")\n",
    "\n",
    "try:\n",
    "    v=driver.find_elements(By.XPATH,'//div[@class=\"sc-e2dbc1a3-0 ajrIH sc-b189961a-2 fkPBP cli-ratings-container\"]/span/span')\n",
    "    for i in v:\n",
    "        Votes.append(i.text)\n",
    "except NoSuchElementException :\n",
    "        Votes.append(\"_\")\n",
    "print(len(Name),len(Votes))\n",
    "print((Name),(Votes))"
   ]
  },
  {
   "cell_type": "code",
   "execution_count": 55,
   "id": "ecc98d97-4b55-4f60-8934-307a68c76b34",
   "metadata": {},
   "outputs": [
    {
     "name": "stdout",
     "output_type": "stream",
     "text": [
      "['https://www.imdb.com/title/tt1190634/?ref_=chttvm_t_1', 'https://www.imdb.com/title/tt11198330/?ref_=chttvm_t_2', 'https://www.imdb.com/title/tt14452776/?ref_=chttvm_t_3', 'https://www.imdb.com/title/tt12262202/?ref_=chttvm_t_4', 'https://www.imdb.com/title/tt8740790/?ref_=chttvm_t_5', 'https://www.imdb.com/title/tt17677860/?ref_=chttvm_t_6', 'https://www.imdb.com/title/tt0944947/?ref_=chttvm_t_7', 'https://www.imdb.com/title/tt19231492/?ref_=chttvm_t_8', 'https://www.imdb.com/title/tt7440726/?ref_=chttvm_t_9', 'https://www.imdb.com/title/tt0773262/?ref_=chttvm_t_10', 'https://www.imdb.com/title/tt11379456/?ref_=chttvm_t_11', 'https://www.imdb.com/title/tt31433814/?ref_=chttvm_t_12', 'https://www.imdb.com/title/tt0452046/?ref_=chttvm_t_13', 'https://www.imdb.com/title/tt12637874/?ref_=chttvm_t_14', 'https://www.imdb.com/title/tt0903747/?ref_=chttvm_t_15', 'https://www.imdb.com/title/tt16283824/?ref_=chttvm_t_16', 'https://www.imdb.com/title/tt1632701/?ref_=chttvm_t_17', 'https://www.imdb.com/title/tt4574334/?ref_=chttvm_t_18', 'https://www.imdb.com/title/tt4236770/?ref_=chttvm_t_19', 'https://www.imdb.com/title/tt0413573/?ref_=chttvm_t_20', 'https://www.imdb.com/title/tt11712058/?ref_=chttvm_t_21', 'https://www.imdb.com/title/tt0141842/?ref_=chttvm_t_22', 'https://www.imdb.com/title/tt9335498/?ref_=chttvm_t_23', 'https://www.imdb.com/title/tt1520211/?ref_=chttvm_t_24', 'https://www.imdb.com/title/tt0460681/?ref_=chttvm_t_25', 'https://www.imdb.com/title/tt0436992/?ref_=chttvm_t_26', 'https://www.imdb.com/title/tt7587890/?ref_=chttvm_t_27', 'https://www.imdb.com/title/tt2788316/?ref_=chttvm_t_28', 'https://www.imdb.com/title/tt15435876/?ref_=chttvm_t_29', 'https://www.imdb.com/title/tt2861424/?ref_=chttvm_t_30', 'https://www.imdb.com/title/tt6226232/?ref_=chttvm_t_31', 'https://www.imdb.com/title/tt13159924/?ref_=chttvm_t_32', 'https://www.imdb.com/title/tt0203259/?ref_=chttvm_t_33', 'https://www.imdb.com/title/tt2356777/?ref_=chttvm_t_34', 'https://www.imdb.com/title/tt0364845/?ref_=chttvm_t_35', 'https://www.imdb.com/title/tt16283758/?ref_=chttvm_t_36', 'https://www.imdb.com/title/tt0412142/?ref_=chttvm_t_37', 'https://www.imdb.com/title/tt1586680/?ref_=chttvm_t_38', 'https://www.imdb.com/title/tt0386676/?ref_=chttvm_t_39', 'https://www.imdb.com/title/tt9055008/?ref_=chttvm_t_40', 'https://www.imdb.com/title/tt12809988/?ref_=chttvm_t_41', 'https://www.imdb.com/title/tt12074628/?ref_=chttvm_t_42', 'https://www.imdb.com/title/tt9813792/?ref_=chttvm_t_43', 'https://www.imdb.com/title/tt0898266/?ref_=chttvm_t_44', 'https://www.imdb.com/title/tt13210838/?ref_=chttvm_t_45', 'https://www.imdb.com/title/tt3032476/?ref_=chttvm_t_46', 'https://www.imdb.com/title/tt2560140/?ref_=chttvm_t_47', 'https://www.imdb.com/title/tt0491738/?ref_=chttvm_t_48', 'https://www.imdb.com/title/tt3581920/?ref_=chttvm_t_49', 'https://www.imdb.com/title/tt15591076/?ref_=chttvm_t_50', 'https://www.imdb.com/title/tt3006802/?ref_=chttvm_t_51', 'https://www.imdb.com/title/tt13016388/?ref_=chttvm_t_52', 'https://www.imdb.com/title/tt1442437/?ref_=chttvm_t_53', 'https://www.imdb.com/title/tt3960394/?ref_=chttvm_t_54', 'https://www.imdb.com/title/tt2442560/?ref_=chttvm_t_55', 'https://www.imdb.com/title/tt0108778/?ref_=chttvm_t_56', 'https://www.imdb.com/title/tt0460649/?ref_=chttvm_t_57', 'https://www.imdb.com/title/tt11280740/?ref_=chttvm_t_58', 'https://www.imdb.com/title/tt7235466/?ref_=chttvm_t_59', 'https://www.imdb.com/title/tt10016724/?ref_=chttvm_t_60', 'https://www.imdb.com/title/tt1640719/?ref_=chttvm_t_61', 'https://www.imdb.com/title/tt0118401/?ref_=chttvm_t_62', 'https://www.imdb.com/title/tt7767422/?ref_=chttvm_t_63', 'https://www.imdb.com/title/tt11815682/?ref_=chttvm_t_64', 'https://www.imdb.com/title/tt7660850/?ref_=chttvm_t_65', 'https://www.imdb.com/title/tt2085059/?ref_=chttvm_t_66', 'https://www.imdb.com/title/tt2306299/?ref_=chttvm_t_67', 'https://www.imdb.com/title/tt0388629/?ref_=chttvm_t_68', 'https://www.imdb.com/title/tt10986410/?ref_=chttvm_t_69', 'https://www.imdb.com/title/tt0312172/?ref_=chttvm_t_70', 'https://www.imdb.com/title/tt2802850/?ref_=chttvm_t_71', 'https://www.imdb.com/title/tt0411008/?ref_=chttvm_t_72', 'https://www.imdb.com/title/tt1844624/?ref_=chttvm_t_73', 'https://www.imdb.com/title/tt0460627/?ref_=chttvm_t_74', 'https://www.imdb.com/title/tt8772296/?ref_=chttvm_t_75', 'https://www.imdb.com/title/tt1358522/?ref_=chttvm_t_76', 'https://www.imdb.com/title/tt9471404/?ref_=chttvm_t_77', 'https://www.imdb.com/title/tt13649112/?ref_=chttvm_t_78', 'https://www.imdb.com/title/tt2467372/?ref_=chttvm_t_79', 'https://www.imdb.com/title/tt27843828/?ref_=chttvm_t_80', 'https://www.imdb.com/title/tt18249282/?ref_=chttvm_t_81', 'https://www.imdb.com/title/tt4786824/?ref_=chttvm_t_82', 'https://www.imdb.com/title/tt0472954/?ref_=chttvm_t_83', 'https://www.imdb.com/title/tt0306414/?ref_=chttvm_t_84', 'https://www.imdb.com/title/tt14681596/?ref_=chttvm_t_85', 'https://www.imdb.com/title/tt14661396/?ref_=chttvm_t_86', 'https://www.imdb.com/title/tt7631058/?ref_=chttvm_t_87', 'https://www.imdb.com/title/tt13406094/?ref_=chttvm_t_88', 'https://www.imdb.com/title/tt13875494/?ref_=chttvm_t_89', 'https://www.imdb.com/title/tt9288030/?ref_=chttvm_t_90', 'https://www.imdb.com/title/tt6470478/?ref_=chttvm_t_91', 'https://www.imdb.com/title/tt8690918/?ref_=chttvm_t_92', 'https://www.imdb.com/title/tt0185906/?ref_=chttvm_t_93', 'https://www.imdb.com/title/tt1124373/?ref_=chttvm_t_94', 'https://www.imdb.com/title/tt21622048/?ref_=chttvm_t_95', 'https://www.imdb.com/title/tt0106179/?ref_=chttvm_t_96', 'https://www.imdb.com/title/tt10732104/?ref_=chttvm_t_97', 'https://www.imdb.com/title/tt16358384/?ref_=chttvm_t_98', 'https://www.imdb.com/title/tt21975436/?ref_=chttvm_t_99', 'https://www.imdb.com/title/tt5180504/?ref_=chttvm_t_100']\n"
     ]
    }
   ],
   "source": [
    "urls=[]\n",
    "url=driver.find_elements(By.XPATH,'//div[@class=\"ipc-metadata-list-summary-item__tc\"]/div/div[2]/a')\n",
    "for i in url:\n",
    "    urls.append(i.get_attribute(\"href\"))\n",
    "    \n",
    "print(urls)\n",
    "    "
   ]
  },
  {
   "cell_type": "code",
   "execution_count": 67,
   "id": "20cc59ac-67a9-41dd-aab3-8ed8a33e81e4",
   "metadata": {},
   "outputs": [],
   "source": [
    "Name=[]\n",
    "Year  =[]\n",
    "Genre   =[]\n",
    "Run_time =[]\n",
    "Ratings =[]  \n",
    "Votes=[]\n",
    "\n",
    "for url in urls:\n",
    "    driver.get(url)\n",
    "    time.sleep(2)\n",
    "    try:\n",
    "        name=driver.find_elements(By.XPATH,'//div[@class=\"sc-1f50b7c-0 PUxFE\"]/h1/span')\n",
    "        for i in name:\n",
    "            Name.append(i.text)\n",
    "    except NoSuchElementException :\n",
    "        Name.append(\"_\")\n",
    "    try:\n",
    "        year=driver.find_elements(By.XPATH,'//div[@class=\"sc-491663c0-3 bdjVSf\"]/div/ul/li[2]/a')\n",
    "        for i in year:\n",
    "            Year.append(i.text)\n",
    "    except NoSuchElementException :\n",
    "            Year.append(\"_\")\n",
    "    try:\n",
    "        g=driver.find_elements(By.XPATH,'//div[@class=\"ipc-chip-list--baseAlt ipc-chip-list ipc-chip-list--nowrap sc-2d37a7c7-4 kEPwNU\"]/div[2]')\n",
    "        for i in g:\n",
    "            Genre.append(i.text)\n",
    "    except NoSuchElementException :\n",
    "        Genre.append(\"_\")\n",
    "    try:\n",
    "        run=driver.find_elements(By.XPATH,'//div[@class=\"sc-1f50b7c-0 PUxFE\"]/ul/li[4]')\n",
    "        for i in run:\n",
    "            Run_time.append(i.text)\n",
    "    except NoSuchElementException :\n",
    "            Run_time.append(\"_\")\n",
    "    try:\n",
    "        r=driver.find_elements(By.XPATH,'//div[@class=\"sc-491663c0-3 bdjVSf\"]/div[2]/div/div/a/span/div/div/div/span[1]')\n",
    "        for i in r:\n",
    "            Ratings.append(i.text)\n",
    "    except NoSuchElementException :\n",
    "        Ratings.append(\"_\")\n",
    "    try:\n",
    "        v=driver.find_elements(By.XPATH,'//div[@class=\"sc-491663c0-3 bdjVSf\"]/div[2]/div/div/a/span/div/div[2]/div[3]')\n",
    "        for i in v:\n",
    "            Votes.append(i.text)\n",
    "    except NoSuchElementException :\n",
    "        Votes.append(\"_\")\n"
   ]
  },
  {
   "cell_type": "code",
   "execution_count": 68,
   "id": "6df80016-8932-4da4-9a66-43892e35ee85",
   "metadata": {},
   "outputs": [
    {
     "name": "stdout",
     "output_type": "stream",
     "text": [
      "100 100 100 88 98 98\n",
      "['The Boys', 'House of the Dragon', 'The Bear', 'The Acolyte', 'Bridgerton', 'Presumed Innocent', 'Game of Thrones', 'Dark Matter', 'Your Honor', 'Dexter', 'My Lady Jane', 'Doctor Who', 'Criminal Minds', 'Fallout', 'Breaking Bad', 'Eric', 'Suits', 'Stranger Things', 'Yellowstone', \"Grey's Anatomy\", 'Mayor of Kingstown', 'The Sopranos', 'Demon Slayer: Kimetsu no Yaiba', 'The Walking Dead', 'Supernatural', 'Doctor Who', 'The Rookie', 'Shōgun', 'The Penguin', 'Rick and Morty', 'Young Sheldon', 'Gen V', 'Law & Order: Special Victims Unit', 'True Detective', 'NCIS', 'Supacell', 'House', 'Shameless', 'The Office', 'Evil', 'Sweet Tooth', 'Smiling Friends', 'From', 'The Big Bang Theory', 'The Gentlemen', 'Better Call Saul', 'Attack on Titan', 'Psych', 'The Last of Us', \"That '90s Show\", 'Outlander', '3 Body Problem', 'Modern Family', 'Interview with the Vampire', 'Peaky Blinders', 'Friends', 'How I Met Your Mother', 'Severance', '9-1-1', 'Orphan Black: Echoes', 'Under the Bridge', 'Midsomer Murders', 'Sex Education', 'Hacks', 'Succession', 'Black Mirror', 'Vikings', 'One Piece', 'Ted Lasso', 'Monk', 'Fargo', 'Lost', 'American Horror Story', 'Bones', 'Euphoria', 'White Collar', 'The Chosen', 'Baby Reindeer', 'Brooklyn Nine-Nine', 'Gangs of Galicia', 'Shoresy', 'The Crown', \"It's Always Sunny in Philadelphia\", 'The Wire', 'Batman: Caped Crusader', 'Queen Charlotte: A Bridgerton Story', 'The Lord of the Rings: The Rings of Power', 'The White Lotus', 'Tracker', 'Reacher', 'The Good Doctor', 'Resident Alien', 'Band of Brothers', 'Sons of Anarchy', 'Land of Women', 'The X-Files', 'Power Book II: Ghost', 'Tulsa King', 'Kaiju No. 8', 'The Witcher'] ['2019–', '2022–', '2022–', '2024–', '2020–', '2024', '2011–2019', '2024–', '2020–2023', '2006–2013', '2024–', '2023–', '2005–', '2024–', '2008–2013', '2024', '2011–2019', '2016–2025', '2018–', '2005–', '2021–', '1999–2007', '2019–', '2010–2022', '2005–2020', '2005–2022', '2018–', '2024–2026', '2024–', '2013–', '2017–2024', '2023–', '1999–', '2014–', '2003–', '2024–', '2004–2012', '2011–2021', '2005–2013', '2019–2024', '2021–2024', '2020–', '2022–', '2007–2019', '2024', '2015–2022', '2013–2023', '2006–2014', '2023–', '2023–', '2014–', '2024–', '2009–2020', '2022–', '2013–2022', '1994–2004', '2005–2014', '2022–', '2018–', '2023–', '2024', '1997–', '2019–2023', '2021–', '2018–2023', '2011–', '2013–2020', '1999–', '2020–2023', '2002–2009', '2014–2024', '2004–2010', '2011–', '2005–2017', '2019–', '2009–2014', '2017–', '2024', '2013–2021', '2024', '2022–', '2016–2023', '2005–', '2002–2008', '2024–', '2023', '2022–', '2021–2025', '2024–', '2022–', '2017–2024', '2021–', '2001', '2008–2014', '2024', '1993–2018', '2020–2024', '2022–', '2024–', '2019–'] ['Action\\nComedy\\nCrime', 'Action\\nAdventure\\nDrama', 'Comedy\\nDrama', 'Action\\nAdventure\\nDrama', 'Drama\\nRomance', 'Crime\\nDrama\\nMystery', 'Action\\nAdventure\\nDrama', 'Drama\\nSci-Fi\\nThriller', 'Crime\\nDrama\\nThriller', 'Crime\\nDrama\\nMystery', 'Comedy\\nFantasy\\nHistory', 'Adventure\\nDrama\\nSci-Fi', 'Crime\\nDrama\\nMystery', 'Action\\nAdventure\\nDrama', 'Crime\\nDrama\\nThriller', 'Crime\\nDrama\\nThriller', 'Comedy\\nDrama', 'Drama\\nFantasy\\nHorror', 'Drama\\nWestern', 'Drama\\nRomance', 'Crime\\nDrama\\nThriller', 'Crime\\nDrama', 'Animation\\nAction\\nAdventure', 'Drama\\nHorror\\nThriller', 'Drama\\nFantasy\\nHorror', 'Adventure\\nDrama\\nSci-Fi', 'Action\\nCrime\\nDrama', 'Adventure\\nDrama\\nHistory', 'Crime\\nDrama\\nFantasy', 'Animation\\nAdventure\\nComedy', 'Comedy', 'Action\\nAdventure\\nComedy', 'Crime\\nDrama\\nMystery', 'Crime\\nDrama\\nMystery', 'Action\\nCrime\\nDrama', 'Action\\nAdventure\\nDrama', 'Drama\\nMystery', 'Comedy\\nDrama', 'Comedy', 'Crime\\nDrama\\nHorror', 'Action\\nAdventure\\nDrama', 'Animation\\nShort\\nComedy', 'Drama\\nHorror\\nMystery', 'Comedy\\nRomance', 'Action\\nComedy\\nCrime', 'Crime\\nDrama', 'Animation\\nAction\\nAdventure', 'Comedy\\nCrime\\nMystery', 'Action\\nAdventure\\nDrama', 'Comedy\\nDrama\\nRomance', 'Adventure\\nDrama\\nFantasy', 'Adventure\\nDrama\\nFantasy', 'Comedy\\nDrama\\nRomance', 'Drama\\nFantasy\\nHorror', 'Crime\\nDrama', 'Comedy\\nRomance', 'Comedy\\nDrama\\nRomance', 'Drama\\nMystery\\nSci-Fi', 'Action\\nDrama\\nThriller', 'Drama\\nMystery\\nSci-Fi', 'Biography\\nCrime\\nDrama', 'Crime\\nDrama\\nMystery', 'Comedy\\nDrama\\nRomance', 'Comedy\\nDrama', 'Comedy\\nDrama', 'Crime\\nDrama\\nMystery', 'Action\\nAdventure\\nDrama', 'Animation\\nAction\\nAdventure', 'Comedy\\nDrama\\nSport', 'Comedy\\nCrime\\nDrama', 'Crime\\nDrama\\nThriller', 'Adventure\\nDrama\\nFantasy', 'Drama\\nHorror\\nSci-Fi', 'Crime\\nDrama\\nMystery', 'Drama', 'Comedy\\nCrime\\nDrama', 'Drama\\nHistory', 'Biography\\nDrama', 'Comedy\\nCrime', 'Crime\\nDrama\\nThriller', 'Action\\nComedy\\nDrama', 'Biography\\nDrama\\nHistory', 'Comedy', 'Crime\\nDrama\\nThriller', 'Animation\\nAction\\nAdventure', 'Drama\\nHistory\\nRomance', 'Action\\nAdventure\\nDrama', 'Comedy\\nDrama', 'Crime\\nDrama', 'Action\\nCrime\\nDrama', 'Drama', 'Comedy\\nDrama\\nMystery', 'Drama\\nHistory\\nWar', 'Crime\\nDrama\\nThriller', 'Comedy\\nDrama', 'Crime\\nDrama\\nMystery', 'Crime\\nDrama', 'Crime\\nDrama', 'Animation\\nAction\\nAdventure', 'Action\\nAdventure\\nDrama'] ['1h', '50m', '34m', '35m', '1h', '1h', '57m', '1h', '42m', '1h', '45m', '53m', '44m', '1h', '1h', '41m', '1h', '24m', '45m', '44m', '45m', '43m', '1h', '23m', '30m', '50m', '1h', '1h', '1h', '1h', '45m', '1h', '22m', '42m', '50m', '12m', '52m', '22m', '50m', '45m', '24m', '44m', '50m', '30m', '1h', '1h', '22m', '1h', '22m', '23m', '50m', '43m', '1h 30m', '1h', '30m', '1h', '1h', '45m', '24m', '30m', '44m', '1h', '43m', '1h', '40m', '55m', '40m', '54m', '30m', '22m', '45m', '24m', '1h', '22m', '1h', '58m', '1h', '1h', '50m', '41m', '44m', '1h', '45m', '45m', '1h', '40m', '24m', '1h'] ['8.7', '8.4', '8.6', '3.5', '7.4', '7.6', '9.2', '7.8', '7.6', '8.6', '7.2', '6.1', '8.1', '8.4', '9.5', '6.9', '8.4', '8.7', '8.7', '7.6', '8.2', '9.2', '8.6', '8.1', '8.4', '8.6', '8.0', '8.7', '9.1', '7.7', '7.7', '8.1', '8.9', '7.8', '6.8', '8.7', '8.5', '9.0', '7.8', '7.7', '8.5', '7.7', '8.1', '8.1', '9.0', '9.1', '8.4', '8.7', '6.4', '8.4', '7.5', '8.5', '7.3', '8.8', '8.9', '8.3', '8.7', '7.9', '6.5', '7.2', '7.9', '8.2', '8.2', '8.8', '8.7', '8.5', '9.0', '8.8', '8.1', '8.9', '8.3', '8.0', '7.8', '8.3', '8.2', '9.2', '7.8', '8.4', '6.3', '8.5', '8.6', '8.8', '9.3', '7.5', '7.0', '8.0', '7.0', '8.1', '8.0', '8.1', '9.4', '8.6', '5.8', '8.6', '7.5', '8.0', '8.4', '8.0'] ['683K', '400K', '225K', '80K', '187K', '6.3K', '2.3M', '25K', '69K', '778K', '4.3K', '16K', '221K', '220K', '2.2M', '27K', '486K', '1.4M', '227K', '345K', '50K', '480K', '156K', '1.1M', '488K', '250K', '77K', '149K', '610K', '112K', '98K', '127K', '663K', '165K', '5.2K', '522K', '290K', '724K', '37K', '71K', '17K', '76K', '876K', '123K', '660K', '530K', '109K', '545K', '27K', '181K', '129K', '490K', '26K', '661K', '1.1M', '734K', '210K', '49K', '2.1K', '9.4K', '40K', '356K', '43K', '280K', '647K', '589K', '244K', '357K', '92K', '426K', '601K', '346K', '178K', '248K', '143K', '49K', '126K', '370K', '833', '8.7K', '259K', '254K', '382K', '61K', '359K', '213K', '10K', '218K', '117K', '64K', '534K', '326K', '588', '252K', '12K', '73K', '6K', '575K']\n"
     ]
    }
   ],
   "source": [
    "print(len (Name),len(Year),len(Genre),len(Run_time),len(Ratings),len(Votes))\n",
    "print((Name),(Year),(Genre),(Run_time),(Ratings),(Votes))"
   ]
  },
  {
   "cell_type": "code",
   "execution_count": 70,
   "id": "45fbd894-8e14-4973-b567-f0e1c19ce145",
   "metadata": {},
   "outputs": [
    {
     "ename": "ValueError",
     "evalue": "All arrays must be of the same length",
     "output_type": "error",
     "traceback": [
      "\u001b[1;31m---------------------------------------------------------------------------\u001b[0m",
      "\u001b[1;31mValueError\u001b[0m                                Traceback (most recent call last)",
      "Cell \u001b[1;32mIn[70], line 2\u001b[0m\n\u001b[0;32m      1\u001b[0m \u001b[38;5;28;01mimport\u001b[39;00m \u001b[38;5;21;01mpandas\u001b[39;00m \u001b[38;5;28;01mas\u001b[39;00m \u001b[38;5;21;01mpd\u001b[39;00m\n\u001b[1;32m----> 2\u001b[0m df\u001b[38;5;241m=\u001b[39m\u001b[43mpd\u001b[49m\u001b[38;5;241;43m.\u001b[39;49m\u001b[43mDataFrame\u001b[49m\u001b[43m(\u001b[49m\u001b[43m{\u001b[49m\u001b[38;5;124;43m'\u001b[39;49m\u001b[38;5;124;43mName\u001b[39;49m\u001b[38;5;124;43m'\u001b[39;49m\u001b[43m:\u001b[49m\u001b[43mName\u001b[49m\u001b[43m,\u001b[49m\u001b[38;5;124;43m'\u001b[39;49m\u001b[38;5;124;43mYear\u001b[39;49m\u001b[38;5;124;43m'\u001b[39;49m\u001b[43m:\u001b[49m\u001b[43mYear\u001b[49m\u001b[43m,\u001b[49m\u001b[38;5;124;43m'\u001b[39;49m\u001b[38;5;124;43mGenre\u001b[39;49m\u001b[38;5;124;43m'\u001b[39;49m\u001b[43m:\u001b[49m\u001b[43mGenre\u001b[49m\u001b[43m,\u001b[49m\u001b[38;5;124;43m'\u001b[39;49m\u001b[38;5;124;43mRun_time\u001b[39;49m\u001b[38;5;124;43m'\u001b[39;49m\u001b[43m:\u001b[49m\u001b[43mRun_time\u001b[49m\u001b[43m,\u001b[49m\u001b[38;5;124;43m'\u001b[39;49m\u001b[38;5;124;43mRatings\u001b[39;49m\u001b[38;5;124;43m'\u001b[39;49m\u001b[43m:\u001b[49m\u001b[43mRatings\u001b[49m\u001b[43m,\u001b[49m\u001b[38;5;124;43m'\u001b[39;49m\u001b[38;5;124;43mVotes\u001b[39;49m\u001b[38;5;124;43m'\u001b[39;49m\u001b[43m:\u001b[49m\u001b[43mVotes\u001b[49m\u001b[43m}\u001b[49m\u001b[43m)\u001b[49m\n\u001b[0;32m      3\u001b[0m df\n",
      "File \u001b[1;32m~\\AppData\\Local\\Programs\\Python\\Python312\\Lib\\site-packages\\pandas\\core\\frame.py:778\u001b[0m, in \u001b[0;36mDataFrame.__init__\u001b[1;34m(self, data, index, columns, dtype, copy)\u001b[0m\n\u001b[0;32m    772\u001b[0m     mgr \u001b[38;5;241m=\u001b[39m \u001b[38;5;28mself\u001b[39m\u001b[38;5;241m.\u001b[39m_init_mgr(\n\u001b[0;32m    773\u001b[0m         data, axes\u001b[38;5;241m=\u001b[39m{\u001b[38;5;124m\"\u001b[39m\u001b[38;5;124mindex\u001b[39m\u001b[38;5;124m\"\u001b[39m: index, \u001b[38;5;124m\"\u001b[39m\u001b[38;5;124mcolumns\u001b[39m\u001b[38;5;124m\"\u001b[39m: columns}, dtype\u001b[38;5;241m=\u001b[39mdtype, copy\u001b[38;5;241m=\u001b[39mcopy\n\u001b[0;32m    774\u001b[0m     )\n\u001b[0;32m    776\u001b[0m \u001b[38;5;28;01melif\u001b[39;00m \u001b[38;5;28misinstance\u001b[39m(data, \u001b[38;5;28mdict\u001b[39m):\n\u001b[0;32m    777\u001b[0m     \u001b[38;5;66;03m# GH#38939 de facto copy defaults to False only in non-dict cases\u001b[39;00m\n\u001b[1;32m--> 778\u001b[0m     mgr \u001b[38;5;241m=\u001b[39m \u001b[43mdict_to_mgr\u001b[49m\u001b[43m(\u001b[49m\u001b[43mdata\u001b[49m\u001b[43m,\u001b[49m\u001b[43m \u001b[49m\u001b[43mindex\u001b[49m\u001b[43m,\u001b[49m\u001b[43m \u001b[49m\u001b[43mcolumns\u001b[49m\u001b[43m,\u001b[49m\u001b[43m \u001b[49m\u001b[43mdtype\u001b[49m\u001b[38;5;241;43m=\u001b[39;49m\u001b[43mdtype\u001b[49m\u001b[43m,\u001b[49m\u001b[43m \u001b[49m\u001b[43mcopy\u001b[49m\u001b[38;5;241;43m=\u001b[39;49m\u001b[43mcopy\u001b[49m\u001b[43m,\u001b[49m\u001b[43m \u001b[49m\u001b[43mtyp\u001b[49m\u001b[38;5;241;43m=\u001b[39;49m\u001b[43mmanager\u001b[49m\u001b[43m)\u001b[49m\n\u001b[0;32m    779\u001b[0m \u001b[38;5;28;01melif\u001b[39;00m \u001b[38;5;28misinstance\u001b[39m(data, ma\u001b[38;5;241m.\u001b[39mMaskedArray):\n\u001b[0;32m    780\u001b[0m     \u001b[38;5;28;01mfrom\u001b[39;00m \u001b[38;5;21;01mnumpy\u001b[39;00m\u001b[38;5;21;01m.\u001b[39;00m\u001b[38;5;21;01mma\u001b[39;00m \u001b[38;5;28;01mimport\u001b[39;00m mrecords\n",
      "File \u001b[1;32m~\\AppData\\Local\\Programs\\Python\\Python312\\Lib\\site-packages\\pandas\\core\\internals\\construction.py:503\u001b[0m, in \u001b[0;36mdict_to_mgr\u001b[1;34m(data, index, columns, dtype, typ, copy)\u001b[0m\n\u001b[0;32m    499\u001b[0m     \u001b[38;5;28;01melse\u001b[39;00m:\n\u001b[0;32m    500\u001b[0m         \u001b[38;5;66;03m# dtype check to exclude e.g. range objects, scalars\u001b[39;00m\n\u001b[0;32m    501\u001b[0m         arrays \u001b[38;5;241m=\u001b[39m [x\u001b[38;5;241m.\u001b[39mcopy() \u001b[38;5;28;01mif\u001b[39;00m \u001b[38;5;28mhasattr\u001b[39m(x, \u001b[38;5;124m\"\u001b[39m\u001b[38;5;124mdtype\u001b[39m\u001b[38;5;124m\"\u001b[39m) \u001b[38;5;28;01melse\u001b[39;00m x \u001b[38;5;28;01mfor\u001b[39;00m x \u001b[38;5;129;01min\u001b[39;00m arrays]\n\u001b[1;32m--> 503\u001b[0m \u001b[38;5;28;01mreturn\u001b[39;00m \u001b[43marrays_to_mgr\u001b[49m\u001b[43m(\u001b[49m\u001b[43marrays\u001b[49m\u001b[43m,\u001b[49m\u001b[43m \u001b[49m\u001b[43mcolumns\u001b[49m\u001b[43m,\u001b[49m\u001b[43m \u001b[49m\u001b[43mindex\u001b[49m\u001b[43m,\u001b[49m\u001b[43m \u001b[49m\u001b[43mdtype\u001b[49m\u001b[38;5;241;43m=\u001b[39;49m\u001b[43mdtype\u001b[49m\u001b[43m,\u001b[49m\u001b[43m \u001b[49m\u001b[43mtyp\u001b[49m\u001b[38;5;241;43m=\u001b[39;49m\u001b[43mtyp\u001b[49m\u001b[43m,\u001b[49m\u001b[43m \u001b[49m\u001b[43mconsolidate\u001b[49m\u001b[38;5;241;43m=\u001b[39;49m\u001b[43mcopy\u001b[49m\u001b[43m)\u001b[49m\n",
      "File \u001b[1;32m~\\AppData\\Local\\Programs\\Python\\Python312\\Lib\\site-packages\\pandas\\core\\internals\\construction.py:114\u001b[0m, in \u001b[0;36marrays_to_mgr\u001b[1;34m(arrays, columns, index, dtype, verify_integrity, typ, consolidate)\u001b[0m\n\u001b[0;32m    111\u001b[0m \u001b[38;5;28;01mif\u001b[39;00m verify_integrity:\n\u001b[0;32m    112\u001b[0m     \u001b[38;5;66;03m# figure out the index, if necessary\u001b[39;00m\n\u001b[0;32m    113\u001b[0m     \u001b[38;5;28;01mif\u001b[39;00m index \u001b[38;5;129;01mis\u001b[39;00m \u001b[38;5;28;01mNone\u001b[39;00m:\n\u001b[1;32m--> 114\u001b[0m         index \u001b[38;5;241m=\u001b[39m \u001b[43m_extract_index\u001b[49m\u001b[43m(\u001b[49m\u001b[43marrays\u001b[49m\u001b[43m)\u001b[49m\n\u001b[0;32m    115\u001b[0m     \u001b[38;5;28;01melse\u001b[39;00m:\n\u001b[0;32m    116\u001b[0m         index \u001b[38;5;241m=\u001b[39m ensure_index(index)\n",
      "File \u001b[1;32m~\\AppData\\Local\\Programs\\Python\\Python312\\Lib\\site-packages\\pandas\\core\\internals\\construction.py:677\u001b[0m, in \u001b[0;36m_extract_index\u001b[1;34m(data)\u001b[0m\n\u001b[0;32m    675\u001b[0m lengths \u001b[38;5;241m=\u001b[39m \u001b[38;5;28mlist\u001b[39m(\u001b[38;5;28mset\u001b[39m(raw_lengths))\n\u001b[0;32m    676\u001b[0m \u001b[38;5;28;01mif\u001b[39;00m \u001b[38;5;28mlen\u001b[39m(lengths) \u001b[38;5;241m>\u001b[39m \u001b[38;5;241m1\u001b[39m:\n\u001b[1;32m--> 677\u001b[0m     \u001b[38;5;28;01mraise\u001b[39;00m \u001b[38;5;167;01mValueError\u001b[39;00m(\u001b[38;5;124m\"\u001b[39m\u001b[38;5;124mAll arrays must be of the same length\u001b[39m\u001b[38;5;124m\"\u001b[39m)\n\u001b[0;32m    679\u001b[0m \u001b[38;5;28;01mif\u001b[39;00m have_dicts:\n\u001b[0;32m    680\u001b[0m     \u001b[38;5;28;01mraise\u001b[39;00m \u001b[38;5;167;01mValueError\u001b[39;00m(\n\u001b[0;32m    681\u001b[0m         \u001b[38;5;124m\"\u001b[39m\u001b[38;5;124mMixing dicts with non-Series may lead to ambiguous ordering.\u001b[39m\u001b[38;5;124m\"\u001b[39m\n\u001b[0;32m    682\u001b[0m     )\n",
      "\u001b[1;31mValueError\u001b[0m: All arrays must be of the same length"
     ]
    }
   ],
   "source": [
    "import pandas as pd\n",
    "df=pd.DataFrame({'Name':Name,'Year':Year,'Genre':Genre,'Run_time':Run_time,'Ratings':Ratings,'Votes':Votes})\n",
    "df"
   ]
  },
  {
   "cell_type": "code",
   "execution_count": 112,
   "id": "823511d5-b2b5-4dee-aa44-89fbb7b9eda1",
   "metadata": {},
   "outputs": [],
   "source": [
    "# 8\n",
    "driver=webdriver.Chrome()"
   ]
  },
  {
   "cell_type": "code",
   "execution_count": 219,
   "id": "e5db2b9c-cb25-4c6b-88dd-c247c760c616",
   "metadata": {},
   "outputs": [],
   "source": [
    "driver.get(\"https://archive.ics.uci.edu/  \")"
   ]
  },
  {
   "cell_type": "code",
   "execution_count": 220,
   "id": "26df2ffc-ac4a-4ae9-9464-2b8853e3aa27",
   "metadata": {},
   "outputs": [],
   "source": [
    "view_datasets=driver.find_element(By.XPATH,'/html/body/div/div[1]/div[1]/main/div/div[1]/div/div/div/a[1]')\n",
    "view_datasets.click()"
   ]
  },
  {
   "cell_type": "code",
   "execution_count": 249,
   "id": "c64e58ea-e007-4b4b-90ee-e57991f2bb3d",
   "metadata": {},
   "outputs": [],
   "source": [
    "expand_all=driver.find_element(By.XPATH,'/html/body/div/div[1]/div[1]/main/div/div[2]/div[1]/div/label[2]/div[2]/span[2]')\n",
    "expand_all.click()"
   ]
  },
  {
   "cell_type": "code",
   "execution_count": 250,
   "id": "b502ddeb-9e39-4253-a15d-80e52839a373",
   "metadata": {},
   "outputs": [],
   "source": [
    "Names=[]\n",
    "DataType=[]\n",
    "Task=[]\n",
    "Attribute_type=[]\n",
    "No_instances=[]\n",
    "No_Attribute=[]\n",
    "Year=[]\n",
    "\n",
    "start=0\n",
    "end=10\n",
    "\n",
    "for p in range(start,end):\n",
    "    \n",
    "                        \n",
    "    try:\n",
    "        name=driver.find_elements(By.XPATH,'//div[@class=\"relative col-span-8 sm:col-span-7\"]/h2')\n",
    "        for i in name:\n",
    "            Names.append(i.text)\n",
    "    except NoSucjElementException :\n",
    "        Names.append(\"_\")\n",
    "    try:\n",
    "        data=driver.find_elements(By.XPATH,'//div[@class=\"col-span-3 flex items-center gap-2\"][2]')\n",
    "        for i in data:\n",
    "            DataType.append(i.text)\n",
    "    except NoSucjElementException :\n",
    "        DataType.append(\"_\")\n",
    "    try:\n",
    "        task=driver.find_elements(By.XPATH,'//div[@class=\"col-span-3 flex items-center gap-2\"][1]')\n",
    "        for i in task:\n",
    "            Task.append(i.text)\n",
    "    except NoSucjElementException :\n",
    "        Task.append(\"_\")\n",
    "    try:\n",
    "        attribute_type=driver.find_elements(By.XPATH,'//div[@class=\"grid grid-cols-8 overflow-x-auto\"]/table/tbody/tr/td[2]')\n",
    "        for i in attribute_type:\n",
    "            Attribute_type.append(i.text)\n",
    "    except NoSucjElementException :\n",
    "        Attribute_type.append(\"_\")\n",
    "    try:\n",
    "        no_instances=driver.find_elements(By.XPATH,'//div[@class=\"col-span-3 flex items-center gap-2\"][3]')\n",
    "        for i in no_instances:\n",
    "            No_instances.append(i.text)\n",
    "    except NoSucjElementException :\n",
    "        No_instances.append(\"_\")\n",
    "    try:\n",
    "        attribute=driver.find_elements(By.XPATH,'//div[@class=\"col-span-3 flex items-center gap-2\"][4]')\n",
    "        for i in attribute:\n",
    "            No_Attribute.append(i.text)\n",
    "    except NoSucjElementException :\n",
    "        No_Attribute.append(\"_\")\n",
    "    try:\n",
    "        year=driver.find_elements(By.XPATH,'//div[@class=\"grid grid-cols-8 overflow-x-auto\"]/table/tbody/tr/td[3]')\n",
    "        for i in year:\n",
    "            Year.append(i.text)\n",
    "    except NoSucjElementException :\n",
    "        Year.append(\"_\")\n",
    "next_button=driver.find_element(By.XPATH,'//div[@class=\"grid grid-cols-8 overflow-x-auto\"]/table/tbody/tr/td[3]')\n",
    "next_button.click()\n",
    "\n",
    "                               \n",
    "            "
   ]
  },
  {
   "cell_type": "code",
   "execution_count": 251,
   "id": "0c049d1d-b64e-443e-a8c8-27df63d78107",
   "metadata": {},
   "outputs": [
    {
     "name": "stdout",
     "output_type": "stream",
     "text": [
      "100 100 100 100 100 100 100\n"
     ]
    }
   ],
   "source": [
    "print(len(Names),len(DataType),len(Task),len(Attribute_type),len(No_instances),len(No_Attribute),len(Year))"
   ]
  },
  {
   "cell_type": "code",
   "execution_count": 252,
   "id": "0c38ecc6-46bc-4ef1-a82b-8fa584173d5c",
   "metadata": {},
   "outputs": [
    {
     "name": "stdout",
     "output_type": "stream",
     "text": [
      "['Iris', 'Dry Bean', 'Heart Disease', 'Rice (Cammeo and Osmancik)', 'Raisin', 'Adult', 'Breast Cancer Wisconsin (Diagnostic)', 'Wine', 'Wine Quality', 'Bank Marketing', 'Iris', 'Dry Bean', 'Heart Disease', 'Rice (Cammeo and Osmancik)', 'Raisin', 'Adult', 'Breast Cancer Wisconsin (Diagnostic)', 'Wine', 'Wine Quality', 'Bank Marketing', 'Iris', 'Dry Bean', 'Heart Disease', 'Rice (Cammeo and Osmancik)', 'Raisin', 'Adult', 'Breast Cancer Wisconsin (Diagnostic)', 'Wine', 'Wine Quality', 'Bank Marketing', 'Iris', 'Dry Bean', 'Heart Disease', 'Rice (Cammeo and Osmancik)', 'Raisin', 'Adult', 'Breast Cancer Wisconsin (Diagnostic)', 'Wine', 'Wine Quality', 'Bank Marketing', 'Iris', 'Dry Bean', 'Heart Disease', 'Rice (Cammeo and Osmancik)', 'Raisin', 'Adult', 'Breast Cancer Wisconsin (Diagnostic)', 'Wine', 'Wine Quality', 'Bank Marketing', 'Iris', 'Dry Bean', 'Heart Disease', 'Rice (Cammeo and Osmancik)', 'Raisin', 'Adult', 'Breast Cancer Wisconsin (Diagnostic)', 'Wine', 'Wine Quality', 'Bank Marketing', 'Iris', 'Dry Bean', 'Heart Disease', 'Rice (Cammeo and Osmancik)', 'Raisin', 'Adult', 'Breast Cancer Wisconsin (Diagnostic)', 'Wine', 'Wine Quality', 'Bank Marketing', 'Iris', 'Dry Bean', 'Heart Disease', 'Rice (Cammeo and Osmancik)', 'Raisin', 'Adult', 'Breast Cancer Wisconsin (Diagnostic)', 'Wine', 'Wine Quality', 'Bank Marketing', 'Iris', 'Dry Bean', 'Heart Disease', 'Rice (Cammeo and Osmancik)', 'Raisin', 'Adult', 'Breast Cancer Wisconsin (Diagnostic)', 'Wine', 'Wine Quality', 'Bank Marketing', 'Iris', 'Dry Bean', 'Heart Disease', 'Rice (Cammeo and Osmancik)', 'Raisin', 'Adult', 'Breast Cancer Wisconsin (Diagnostic)', 'Wine', 'Wine Quality', 'Bank Marketing'] ['Tabular', 'Multivariate', 'Multivariate', 'Multivariate', 'Multivariate', 'Multivariate', 'Multivariate', 'Tabular', 'Multivariate', 'Multivariate', 'Tabular', 'Multivariate', 'Multivariate', 'Multivariate', 'Multivariate', 'Multivariate', 'Multivariate', 'Tabular', 'Multivariate', 'Multivariate', 'Tabular', 'Multivariate', 'Multivariate', 'Multivariate', 'Multivariate', 'Multivariate', 'Multivariate', 'Tabular', 'Multivariate', 'Multivariate', 'Tabular', 'Multivariate', 'Multivariate', 'Multivariate', 'Multivariate', 'Multivariate', 'Multivariate', 'Tabular', 'Multivariate', 'Multivariate', 'Tabular', 'Multivariate', 'Multivariate', 'Multivariate', 'Multivariate', 'Multivariate', 'Multivariate', 'Tabular', 'Multivariate', 'Multivariate', 'Tabular', 'Multivariate', 'Multivariate', 'Multivariate', 'Multivariate', 'Multivariate', 'Multivariate', 'Tabular', 'Multivariate', 'Multivariate', 'Tabular', 'Multivariate', 'Multivariate', 'Multivariate', 'Multivariate', 'Multivariate', 'Multivariate', 'Tabular', 'Multivariate', 'Multivariate', 'Tabular', 'Multivariate', 'Multivariate', 'Multivariate', 'Multivariate', 'Multivariate', 'Multivariate', 'Tabular', 'Multivariate', 'Multivariate', 'Tabular', 'Multivariate', 'Multivariate', 'Multivariate', 'Multivariate', 'Multivariate', 'Multivariate', 'Tabular', 'Multivariate', 'Multivariate', 'Tabular', 'Multivariate', 'Multivariate', 'Multivariate', 'Multivariate', 'Multivariate', 'Multivariate', 'Tabular', 'Multivariate', 'Multivariate'] ['Classification', 'Classification', 'Classification', 'Classification', 'Classification', 'Classification', 'Classification', 'Classification', 'Classification, Regression', 'Classification', 'Classification', 'Classification', 'Classification', 'Classification', 'Classification', 'Classification', 'Classification', 'Classification', 'Classification, Regression', 'Classification', 'Classification', 'Classification', 'Classification', 'Classification', 'Classification', 'Classification', 'Classification', 'Classification', 'Classification, Regression', 'Classification', 'Classification', 'Classification', 'Classification', 'Classification', 'Classification', 'Classification', 'Classification', 'Classification', 'Classification, Regression', 'Classification', 'Classification', 'Classification', 'Classification', 'Classification', 'Classification', 'Classification', 'Classification', 'Classification', 'Classification, Regression', 'Classification', 'Classification', 'Classification', 'Classification', 'Classification', 'Classification', 'Classification', 'Classification', 'Classification', 'Classification, Regression', 'Classification', 'Classification', 'Classification', 'Classification', 'Classification', 'Classification', 'Classification', 'Classification', 'Classification', 'Classification, Regression', 'Classification', 'Classification', 'Classification', 'Classification', 'Classification', 'Classification', 'Classification', 'Classification', 'Classification', 'Classification, Regression', 'Classification', 'Classification', 'Classification', 'Classification', 'Classification', 'Classification', 'Classification', 'Classification', 'Classification', 'Classification, Regression', 'Classification', 'Classification', 'Classification', 'Classification', 'Classification', 'Classification', 'Classification', 'Classification', 'Classification', 'Classification, Regression', 'Classification'] ['Real', 'Integer, Real', 'Categorical, Integer, Real', 'Real', 'Real, Integer', 'Categorical, Integer', 'Real', 'Integer, Real', 'Real', 'Categorical, Integer', 'Real', 'Integer, Real', 'Categorical, Integer, Real', 'Real', 'Real, Integer', 'Categorical, Integer', 'Real', 'Integer, Real', 'Real', 'Categorical, Integer', 'Real', 'Integer, Real', 'Categorical, Integer, Real', 'Real', 'Real, Integer', 'Categorical, Integer', 'Real', 'Integer, Real', 'Real', 'Categorical, Integer', 'Real', 'Integer, Real', 'Categorical, Integer, Real', 'Real', 'Real, Integer', 'Categorical, Integer', 'Real', 'Integer, Real', 'Real', 'Categorical, Integer', 'Real', 'Integer, Real', 'Categorical, Integer, Real', 'Real', 'Real, Integer', 'Categorical, Integer', 'Real', 'Integer, Real', 'Real', 'Categorical, Integer', 'Real', 'Integer, Real', 'Categorical, Integer, Real', 'Real', 'Real, Integer', 'Categorical, Integer', 'Real', 'Integer, Real', 'Real', 'Categorical, Integer', 'Real', 'Integer, Real', 'Categorical, Integer, Real', 'Real', 'Real, Integer', 'Categorical, Integer', 'Real', 'Integer, Real', 'Real', 'Categorical, Integer', 'Real', 'Integer, Real', 'Categorical, Integer, Real', 'Real', 'Real, Integer', 'Categorical, Integer', 'Real', 'Integer, Real', 'Real', 'Categorical, Integer', 'Real', 'Integer, Real', 'Categorical, Integer, Real', 'Real', 'Real, Integer', 'Categorical, Integer', 'Real', 'Integer, Real', 'Real', 'Categorical, Integer', 'Real', 'Integer, Real', 'Categorical, Integer, Real', 'Real', 'Real, Integer', 'Categorical, Integer', 'Real', 'Integer, Real', 'Real', 'Categorical, Integer'] ['150 Instances', '13.61K Instances', '303 Instances', '3.81K Instances', '900 Instances', '48.84K Instances', '569 Instances', '178 Instances', '4.9K Instances', '45.21K Instances', '150 Instances', '13.61K Instances', '303 Instances', '3.81K Instances', '900 Instances', '48.84K Instances', '569 Instances', '178 Instances', '4.9K Instances', '45.21K Instances', '150 Instances', '13.61K Instances', '303 Instances', '3.81K Instances', '900 Instances', '48.84K Instances', '569 Instances', '178 Instances', '4.9K Instances', '45.21K Instances', '150 Instances', '13.61K Instances', '303 Instances', '3.81K Instances', '900 Instances', '48.84K Instances', '569 Instances', '178 Instances', '4.9K Instances', '45.21K Instances', '150 Instances', '13.61K Instances', '303 Instances', '3.81K Instances', '900 Instances', '48.84K Instances', '569 Instances', '178 Instances', '4.9K Instances', '45.21K Instances', '150 Instances', '13.61K Instances', '303 Instances', '3.81K Instances', '900 Instances', '48.84K Instances', '569 Instances', '178 Instances', '4.9K Instances', '45.21K Instances', '150 Instances', '13.61K Instances', '303 Instances', '3.81K Instances', '900 Instances', '48.84K Instances', '569 Instances', '178 Instances', '4.9K Instances', '45.21K Instances', '150 Instances', '13.61K Instances', '303 Instances', '3.81K Instances', '900 Instances', '48.84K Instances', '569 Instances', '178 Instances', '4.9K Instances', '45.21K Instances', '150 Instances', '13.61K Instances', '303 Instances', '3.81K Instances', '900 Instances', '48.84K Instances', '569 Instances', '178 Instances', '4.9K Instances', '45.21K Instances', '150 Instances', '13.61K Instances', '303 Instances', '3.81K Instances', '900 Instances', '48.84K Instances', '569 Instances', '178 Instances', '4.9K Instances', '45.21K Instances'] ['4 Features', '16 Features', '13 Features', '7 Features', '8 Features', '14 Features', '30 Features', '13 Features', '12 Features', '17 Features', '4 Features', '16 Features', '13 Features', '7 Features', '8 Features', '14 Features', '30 Features', '13 Features', '12 Features', '17 Features', '4 Features', '16 Features', '13 Features', '7 Features', '8 Features', '14 Features', '30 Features', '13 Features', '12 Features', '17 Features', '4 Features', '16 Features', '13 Features', '7 Features', '8 Features', '14 Features', '30 Features', '13 Features', '12 Features', '17 Features', '4 Features', '16 Features', '13 Features', '7 Features', '8 Features', '14 Features', '30 Features', '13 Features', '12 Features', '17 Features', '4 Features', '16 Features', '13 Features', '7 Features', '8 Features', '14 Features', '30 Features', '13 Features', '12 Features', '17 Features', '4 Features', '16 Features', '13 Features', '7 Features', '8 Features', '14 Features', '30 Features', '13 Features', '12 Features', '17 Features', '4 Features', '16 Features', '13 Features', '7 Features', '8 Features', '14 Features', '30 Features', '13 Features', '12 Features', '17 Features', '4 Features', '16 Features', '13 Features', '7 Features', '8 Features', '14 Features', '30 Features', '13 Features', '12 Features', '17 Features', '4 Features', '16 Features', '13 Features', '7 Features', '8 Features', '14 Features', '30 Features', '13 Features', '12 Features', '17 Features'] ['7/1/1988', '9/14/2020', '7/1/1988', '10/6/2019', '8/14/2023', '5/1/1996', '11/1/1995', '7/1/1991', '10/7/2009', '2/14/2012', '7/1/1988', '9/14/2020', '7/1/1988', '10/6/2019', '8/14/2023', '5/1/1996', '11/1/1995', '7/1/1991', '10/7/2009', '2/14/2012', '7/1/1988', '9/14/2020', '7/1/1988', '10/6/2019', '8/14/2023', '5/1/1996', '11/1/1995', '7/1/1991', '10/7/2009', '2/14/2012', '7/1/1988', '9/14/2020', '7/1/1988', '10/6/2019', '8/14/2023', '5/1/1996', '11/1/1995', '7/1/1991', '10/7/2009', '2/14/2012', '7/1/1988', '9/14/2020', '7/1/1988', '10/6/2019', '8/14/2023', '5/1/1996', '11/1/1995', '7/1/1991', '10/7/2009', '2/14/2012', '7/1/1988', '9/14/2020', '7/1/1988', '10/6/2019', '8/14/2023', '5/1/1996', '11/1/1995', '7/1/1991', '10/7/2009', '2/14/2012', '7/1/1988', '9/14/2020', '7/1/1988', '10/6/2019', '8/14/2023', '5/1/1996', '11/1/1995', '7/1/1991', '10/7/2009', '2/14/2012', '7/1/1988', '9/14/2020', '7/1/1988', '10/6/2019', '8/14/2023', '5/1/1996', '11/1/1995', '7/1/1991', '10/7/2009', '2/14/2012', '7/1/1988', '9/14/2020', '7/1/1988', '10/6/2019', '8/14/2023', '5/1/1996', '11/1/1995', '7/1/1991', '10/7/2009', '2/14/2012', '7/1/1988', '9/14/2020', '7/1/1988', '10/6/2019', '8/14/2023', '5/1/1996', '11/1/1995', '7/1/1991', '10/7/2009', '2/14/2012']\n"
     ]
    }
   ],
   "source": [
    "print((Names),(DataType),(Task),(Attribute_type),(No_instances),(No_Attribute),(Year))"
   ]
  },
  {
   "cell_type": "code",
   "execution_count": 253,
   "id": "e5cc1a13-621f-4667-bda9-0f1fb7a258f9",
   "metadata": {},
   "outputs": [
    {
     "data": {
      "text/html": [
       "<div>\n",
       "<style scoped>\n",
       "    .dataframe tbody tr th:only-of-type {\n",
       "        vertical-align: middle;\n",
       "    }\n",
       "\n",
       "    .dataframe tbody tr th {\n",
       "        vertical-align: top;\n",
       "    }\n",
       "\n",
       "    .dataframe thead th {\n",
       "        text-align: right;\n",
       "    }\n",
       "</style>\n",
       "<table border=\"1\" class=\"dataframe\">\n",
       "  <thead>\n",
       "    <tr style=\"text-align: right;\">\n",
       "      <th></th>\n",
       "      <th>Names</th>\n",
       "      <th>DataType</th>\n",
       "      <th>Task</th>\n",
       "      <th>Attribute_type</th>\n",
       "      <th>No_instances</th>\n",
       "      <th>No_Attribute</th>\n",
       "      <th>Year</th>\n",
       "    </tr>\n",
       "  </thead>\n",
       "  <tbody>\n",
       "    <tr>\n",
       "      <th>0</th>\n",
       "      <td>Iris</td>\n",
       "      <td>Tabular</td>\n",
       "      <td>Classification</td>\n",
       "      <td>Real</td>\n",
       "      <td>150 Instances</td>\n",
       "      <td>4 Features</td>\n",
       "      <td>7/1/1988</td>\n",
       "    </tr>\n",
       "    <tr>\n",
       "      <th>1</th>\n",
       "      <td>Dry Bean</td>\n",
       "      <td>Multivariate</td>\n",
       "      <td>Classification</td>\n",
       "      <td>Integer, Real</td>\n",
       "      <td>13.61K Instances</td>\n",
       "      <td>16 Features</td>\n",
       "      <td>9/14/2020</td>\n",
       "    </tr>\n",
       "    <tr>\n",
       "      <th>2</th>\n",
       "      <td>Heart Disease</td>\n",
       "      <td>Multivariate</td>\n",
       "      <td>Classification</td>\n",
       "      <td>Categorical, Integer, Real</td>\n",
       "      <td>303 Instances</td>\n",
       "      <td>13 Features</td>\n",
       "      <td>7/1/1988</td>\n",
       "    </tr>\n",
       "    <tr>\n",
       "      <th>3</th>\n",
       "      <td>Rice (Cammeo and Osmancik)</td>\n",
       "      <td>Multivariate</td>\n",
       "      <td>Classification</td>\n",
       "      <td>Real</td>\n",
       "      <td>3.81K Instances</td>\n",
       "      <td>7 Features</td>\n",
       "      <td>10/6/2019</td>\n",
       "    </tr>\n",
       "    <tr>\n",
       "      <th>4</th>\n",
       "      <td>Raisin</td>\n",
       "      <td>Multivariate</td>\n",
       "      <td>Classification</td>\n",
       "      <td>Real, Integer</td>\n",
       "      <td>900 Instances</td>\n",
       "      <td>8 Features</td>\n",
       "      <td>8/14/2023</td>\n",
       "    </tr>\n",
       "    <tr>\n",
       "      <th>...</th>\n",
       "      <td>...</td>\n",
       "      <td>...</td>\n",
       "      <td>...</td>\n",
       "      <td>...</td>\n",
       "      <td>...</td>\n",
       "      <td>...</td>\n",
       "      <td>...</td>\n",
       "    </tr>\n",
       "    <tr>\n",
       "      <th>95</th>\n",
       "      <td>Adult</td>\n",
       "      <td>Multivariate</td>\n",
       "      <td>Classification</td>\n",
       "      <td>Categorical, Integer</td>\n",
       "      <td>48.84K Instances</td>\n",
       "      <td>14 Features</td>\n",
       "      <td>5/1/1996</td>\n",
       "    </tr>\n",
       "    <tr>\n",
       "      <th>96</th>\n",
       "      <td>Breast Cancer Wisconsin (Diagnostic)</td>\n",
       "      <td>Multivariate</td>\n",
       "      <td>Classification</td>\n",
       "      <td>Real</td>\n",
       "      <td>569 Instances</td>\n",
       "      <td>30 Features</td>\n",
       "      <td>11/1/1995</td>\n",
       "    </tr>\n",
       "    <tr>\n",
       "      <th>97</th>\n",
       "      <td>Wine</td>\n",
       "      <td>Tabular</td>\n",
       "      <td>Classification</td>\n",
       "      <td>Integer, Real</td>\n",
       "      <td>178 Instances</td>\n",
       "      <td>13 Features</td>\n",
       "      <td>7/1/1991</td>\n",
       "    </tr>\n",
       "    <tr>\n",
       "      <th>98</th>\n",
       "      <td>Wine Quality</td>\n",
       "      <td>Multivariate</td>\n",
       "      <td>Classification, Regression</td>\n",
       "      <td>Real</td>\n",
       "      <td>4.9K Instances</td>\n",
       "      <td>12 Features</td>\n",
       "      <td>10/7/2009</td>\n",
       "    </tr>\n",
       "    <tr>\n",
       "      <th>99</th>\n",
       "      <td>Bank Marketing</td>\n",
       "      <td>Multivariate</td>\n",
       "      <td>Classification</td>\n",
       "      <td>Categorical, Integer</td>\n",
       "      <td>45.21K Instances</td>\n",
       "      <td>17 Features</td>\n",
       "      <td>2/14/2012</td>\n",
       "    </tr>\n",
       "  </tbody>\n",
       "</table>\n",
       "<p>100 rows × 7 columns</p>\n",
       "</div>"
      ],
      "text/plain": [
       "                                   Names      DataType  \\\n",
       "0                                   Iris       Tabular   \n",
       "1                               Dry Bean  Multivariate   \n",
       "2                          Heart Disease  Multivariate   \n",
       "3             Rice (Cammeo and Osmancik)  Multivariate   \n",
       "4                                 Raisin  Multivariate   \n",
       "..                                   ...           ...   \n",
       "95                                 Adult  Multivariate   \n",
       "96  Breast Cancer Wisconsin (Diagnostic)  Multivariate   \n",
       "97                                  Wine       Tabular   \n",
       "98                          Wine Quality  Multivariate   \n",
       "99                        Bank Marketing  Multivariate   \n",
       "\n",
       "                          Task              Attribute_type      No_instances  \\\n",
       "0               Classification                        Real     150 Instances   \n",
       "1               Classification               Integer, Real  13.61K Instances   \n",
       "2               Classification  Categorical, Integer, Real     303 Instances   \n",
       "3               Classification                        Real   3.81K Instances   \n",
       "4               Classification               Real, Integer     900 Instances   \n",
       "..                         ...                         ...               ...   \n",
       "95              Classification        Categorical, Integer  48.84K Instances   \n",
       "96              Classification                        Real     569 Instances   \n",
       "97              Classification               Integer, Real     178 Instances   \n",
       "98  Classification, Regression                        Real    4.9K Instances   \n",
       "99              Classification        Categorical, Integer  45.21K Instances   \n",
       "\n",
       "   No_Attribute       Year  \n",
       "0    4 Features   7/1/1988  \n",
       "1   16 Features  9/14/2020  \n",
       "2   13 Features   7/1/1988  \n",
       "3    7 Features  10/6/2019  \n",
       "4    8 Features  8/14/2023  \n",
       "..          ...        ...  \n",
       "95  14 Features   5/1/1996  \n",
       "96  30 Features  11/1/1995  \n",
       "97  13 Features   7/1/1991  \n",
       "98  12 Features  10/7/2009  \n",
       "99  17 Features  2/14/2012  \n",
       "\n",
       "[100 rows x 7 columns]"
      ]
     },
     "execution_count": 253,
     "metadata": {},
     "output_type": "execute_result"
    }
   ],
   "source": [
    "import pandas as pd\n",
    "df=pd.DataFrame({'Names':Names,'DataType':DataType,'Task':Task,'Attribute_type':Attribute_type,'No_instances':No_instances,'No_Attribute':No_Attribute,'Year':Year})\n",
    "df"
   ]
  },
  {
   "cell_type": "code",
   "execution_count": null,
   "id": "7810d843-bac9-4edd-85de-e7c7123e130f",
   "metadata": {},
   "outputs": [],
   "source": []
  }
 ],
 "metadata": {
  "kernelspec": {
   "display_name": "Python 3 (ipykernel)",
   "language": "python",
   "name": "python3"
  },
  "language_info": {
   "codemirror_mode": {
    "name": "ipython",
    "version": 3
   },
   "file_extension": ".py",
   "mimetype": "text/x-python",
   "name": "python",
   "nbconvert_exporter": "python",
   "pygments_lexer": "ipython3",
   "version": "3.12.3"
  }
 },
 "nbformat": 4,
 "nbformat_minor": 5
}
